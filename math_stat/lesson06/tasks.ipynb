{
 "cells": [
  {
   "cell_type": "markdown",
   "metadata": {},
   "source": [
    "# Урок 6\n",
    "## Взаимосвязь величин. Показатели корреляции. Корреляционный анализ. Проверка на нормальность\n",
    "### Домашнее задание"
   ]
  },
  {
   "cell_type": "markdown",
   "metadata": {},
   "source": [
    "#### Задача 1\n",
    "Даны значения величины заработной платы заемщиков банка (`salary`) и значения их поведенческого кредитного скоринга (`scoring`):\n",
    "\n",
    "`salary = [35, 45, 190, 200, 40, 70, 54, 150, 120, 110]\n",
    "scoring = [401, 574, 874, 919, 459, 739, 653, 902, 746, 832]`\n",
    "\n",
    "Без использования сторонних библиотек (вроде `numpy`, `pandas` и др.) найдите:\n",
    "1. ковариацию (смещённую и несмещённую) этих двух величин,\n",
    "2. коэффициент корреляции Пирсона.\n",
    "\n",
    "Можно затем посчитать те же значения с использованием библиотек, чтобы проверить себя."
   ]
  },
  {
   "cell_type": "markdown",
   "metadata": {},
   "source": [
    "#### Решение"
   ]
  },
  {
   "cell_type": "code",
   "execution_count": 12,
   "metadata": {},
   "outputs": [],
   "source": [
    "import numpy as np\n",
    "from scipy import stats"
   ]
  },
  {
   "cell_type": "code",
   "execution_count": 2,
   "metadata": {},
   "outputs": [],
   "source": [
    "salary = [35, 45, 190, 200, 40, 70, 54, 150, 120, 110]\n",
    "scoring = [401, 574, 874, 919, 459, 739, 653, 902, 746, 832]"
   ]
  },
  {
   "cell_type": "markdown",
   "metadata": {},
   "source": [
    "Формула ковариации случайных величин $X$ и $Y$:\n",
    "$$cov(X,Y)=M((X−M(X))(Y−M(Y))).$$"
   ]
  },
  {
   "cell_type": "code",
   "execution_count": 3,
   "metadata": {},
   "outputs": [
    {
     "name": "stdout",
     "output_type": "stream",
     "text": [
      "cov_biased = 9157.84\n",
      "cov = 10175.377777777778\n"
     ]
    }
   ],
   "source": [
    "salary_avg = sum(salary) / len(salary)\n",
    "scoring_avg = sum(scoring) / len(scoring)\n",
    "cov_biased = sum(map(lambda e: e[0] * e[1], zip([x - salary_avg for x in salary], [x - scoring_avg for x in scoring]))) / (len(salary))\n",
    "cov = sum(map(lambda e: e[0] * e[1], zip([x - salary_avg for x in salary], [x - scoring_avg for x in scoring]))) / (len(salary) - 1)\n",
    "print('cov_biased =', cov_biased)\n",
    "print('cov =', cov)"
   ]
  },
  {
   "cell_type": "code",
   "execution_count": 4,
   "metadata": {},
   "outputs": [
    {
     "name": "stdout",
     "output_type": "stream",
     "text": [
      "cov_numpy:\n",
      " [[ 3882.93333333 10175.37777778]\n",
      " [10175.37777778 33854.32222222]]\n"
     ]
    }
   ],
   "source": [
    "print('cov_numpy:\\n', np.cov(salary, scoring))"
   ]
  },
  {
   "cell_type": "markdown",
   "metadata": {},
   "source": [
    "Коэффициент корреляции Пирсона:\n",
    "$$r_{XY} = \\frac{cov(X,Y)}{\\sigma_X \\cdot \\sigma_Y},$$\n",
    "где $\\sigma_X$, $\\sigma_Y$ – среднее квадратическое отклонение:\n",
    "$$\\sigma_X = \\sqrt(D(X)),$$\n",
    "где $D(X)$ – дисперсия:\n",
    "$$D(X) = \\frac{1}{m}\\sum_{i=1}^m(x_i - \\overline{x})^2,$$\n",
    "где $m$ – количество степеней сводобы."
   ]
  },
  {
   "cell_type": "code",
   "execution_count": 5,
   "metadata": {},
   "outputs": [
    {
     "name": "stdout",
     "output_type": "stream",
     "text": [
      "salary_std_biased = 59.115480206118605\n",
      "scoring_std_biased = 174.55340157098058\n",
      "r_from_biased = 0.8874900920739162\n"
     ]
    }
   ],
   "source": [
    "salary_std_biased = np.sqrt(sum([(x-salary_avg)**2 for x in salary]) / len(salary))\n",
    "print('salary_std_biased =', salary_std_biased)\n",
    "\n",
    "scoring_std_biased = np.sqrt(sum([(x-scoring_avg)**2 for x in scoring]) / len(scoring))\n",
    "print('scoring_std_biased =', scoring_std_biased)\n",
    "\n",
    "r_from_biased = cov_biased / (salary_std_biased * scoring_std_biased)\n",
    "print('r_from_biased =', r_from_biased)"
   ]
  },
  {
   "cell_type": "code",
   "execution_count": 6,
   "metadata": {},
   "outputs": [
    {
     "name": "stdout",
     "output_type": "stream",
     "text": [
      "salary_std = 62.31318747531162\n",
      "scoring_std = 183.99544076477068\n",
      "r = 0.8874900920739162\n"
     ]
    }
   ],
   "source": [
    "salary_std = np.sqrt(sum([(x-salary_avg)**2 for x in salary]) / (len(salary) - 1))\n",
    "print('salary_std =', salary_std)\n",
    "\n",
    "scoring_std = np.sqrt(sum([(x-scoring_avg)**2 for x in scoring]) / (len(scoring) - 1))\n",
    "print('scoring_std =', scoring_std)\n",
    "\n",
    "r = cov / (salary_std * scoring_std)\n",
    "print('r =', r)"
   ]
  },
  {
   "cell_type": "code",
   "execution_count": 15,
   "metadata": {},
   "outputs": [
    {
     "name": "stdout",
     "output_type": "stream",
     "text": [
      "numpy_salary_std_biased = 59.115480206118605\n",
      "numpy_salary_std = 62.31318747531162\n",
      "numpy_scoring_std_biased = 174.55340157098058\n",
      "numpy_scoring_std = 183.99544076477068\n",
      "scipy_r = (0.8874900920739164, 0.0006107546587257491)\n"
     ]
    }
   ],
   "source": [
    "print('numpy_salary_std_biased =', np.std(salary))\n",
    "print('numpy_salary_std =', np.std(salary, ddof=1))\n",
    "print('numpy_scoring_std_biased =', np.std(scoring))\n",
    "print('numpy_scoring_std =', np.std(scoring, ddof=1))\n",
    "print('scipy_r =', stats.pearsonr(salary, scoring))"
   ]
  },
  {
   "cell_type": "markdown",
   "metadata": {},
   "source": [
    "#### Задача 2\n",
    "Измерены значения IQ выборки студентов, обучающихся в местных технических вузах:\n",
    "\n",
    "`131, 125, 115, 122, 131, 115, 107, 99, 125, 111`\n",
    "\n",
    "Известно, что в генеральной совокупности IQ распределен нормально. Найдите доверительный интервал для математического ожидания с надежностью $0.95$."
   ]
  },
  {
   "cell_type": "markdown",
   "metadata": {},
   "source": [
    "#### Решение"
   ]
  },
  {
   "cell_type": "code",
   "execution_count": 26,
   "metadata": {},
   "outputs": [
    {
     "name": "stdout",
     "output_type": "stream",
     "text": [
      "t = 1.959963984540054\n",
      "samples_avg = 118.1\n",
      "samples_std = 10.54566788359614\n"
     ]
    },
    {
     "data": {
      "text/plain": [
       "(111.56384743341334, 124.63615256658665)"
      ]
     },
     "execution_count": 26,
     "metadata": {},
     "output_type": "execute_result"
    }
   ],
   "source": [
    "samples = [131, 125, 115, 122, 131, 115, 107, 99, 125, 111]\n",
    "n = len(samples)\n",
    "p = 0.95\n",
    "\n",
    "alpha = 1 - p\n",
    "t = stats.norm.ppf(1 - alpha / 2)\n",
    "print('t =', t)\n",
    "\n",
    "samples_avg = np.mean(samples)\n",
    "print('samples_avg =', samples_avg)\n",
    "\n",
    "samples_std = np.std(samples, ddof=1)\n",
    "print('samples_std =', samples_std)\n",
    "\n",
    "(samples_avg - t*samples_std/np.sqrt(n), samples_avg + t*samples_std/np.sqrt(n))"
   ]
  },
  {
   "cell_type": "markdown",
   "metadata": {},
   "source": [
    "#### Задача 3\n",
    "Известно, что рост футболистов в сборной распределён нормально с известной дисперсией $25$. На выборке объёма $27$ выборочное среднее составило $174.2$. Найдите доверительный интервал для математического ожидания с надёжностью $0.95$."
   ]
  },
  {
   "cell_type": "markdown",
   "metadata": {},
   "source": [
    "#### Решение"
   ]
  },
  {
   "cell_type": "code",
   "execution_count": 27,
   "metadata": {},
   "outputs": [
    {
     "name": "stdout",
     "output_type": "stream",
     "text": [
      "t = 1.959963984540054\n",
      "std = 5.0\n"
     ]
    },
    {
     "data": {
      "text/plain": [
       "(172.3140237765397, 176.08597622346028)"
      ]
     },
     "execution_count": 27,
     "metadata": {},
     "output_type": "execute_result"
    }
   ],
   "source": [
    "D = 25\n",
    "n = 27\n",
    "avg = 174.2\n",
    "p = 0.95\n",
    "\n",
    "alpha = 1 - p\n",
    "t = stats.norm.ppf(1 - alpha / 2)\n",
    "print('t =', t)\n",
    "\n",
    "std = np.sqrt(D)\n",
    "print('std =', std)\n",
    "\n",
    "(avg - t * std / np.sqrt(n), avg + t * std / np.sqrt(n))"
   ]
  }
 ],
 "metadata": {
  "kernelspec": {
   "display_name": "Python 3",
   "language": "python",
   "name": "python3"
  },
  "language_info": {
   "codemirror_mode": {
    "name": "ipython",
    "version": 3
   },
   "file_extension": ".py",
   "mimetype": "text/x-python",
   "name": "python",
   "nbconvert_exporter": "python",
   "pygments_lexer": "ipython3",
   "version": "3.7.5"
  }
 },
 "nbformat": 4,
 "nbformat_minor": 4
}
