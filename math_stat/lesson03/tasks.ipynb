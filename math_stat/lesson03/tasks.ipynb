{
 "cells": [
  {
   "cell_type": "markdown",
   "metadata": {},
   "source": [
    "# Урок 3\n",
    "\n",
    "## Описательная статистика. Качественные и количественные характеристики популяции. Графическое представление данных"
   ]
  },
  {
   "cell_type": "markdown",
   "metadata": {},
   "source": [
    "### Задача 1\n",
    "Даны значения зарплат из выборки выпускников: \n",
    "\n",
    "`100, 80, 75, 77, 89, 33, 45, 25, 65, 17, 30, 230, 24, 57, 55, 70, 75, 65, 84, 90, 150`\n",
    "\n",
    "Своими руками (т.е. без использования статистических функций вроде mean, std, var) посчитать среднее арифметическое, смещённую и несмещённую оценки дисперсии, среднее квадратичное отклонение для данной выборки.\n",
    "Можно затем посчитать те же значения с использованием статистических функций, чтобы проверить себя."
   ]
  },
  {
   "cell_type": "code",
   "execution_count": 25,
   "metadata": {},
   "outputs": [
    {
     "name": "stdout",
     "output_type": "stream",
     "text": [
      "avg: 73.14285714285714\n",
      "numpy_avg: 73.14285714285714 \n",
      "\n",
      "var: 2135.074829931973\n",
      "numpy_var 2135.0748299319725 \n",
      "\n",
      "var_unbiased: 2241.8285714285716\n",
      "numpy_var_unbiased: 2241.828571428571 \n",
      "\n",
      "std: 46.20686994302874\n",
      "numpy_std: 46.206869943028735 \n",
      "\n",
      "std_unbiased: 47.34795213553139\n",
      "numpy_std_unbiased: 47.347952135531386 \n",
      "\n"
     ]
    }
   ],
   "source": [
    "import numpy as np\n",
    "data = [100, 80, 75, 77, 89, 33, 45, 25, 65, 17, 30, 230, 24, 57, 55, 70, 75, 65, 84, 90, 150]\n",
    "\n",
    "avg = sum(data) / len(data)\n",
    "print('avg:', avg)\n",
    "print('numpy_avg:', np.mean(data), '\\n')\n",
    "\n",
    "var = sum([(x-avg)**2 for x in data]) / len(data)\n",
    "print('var:', var)\n",
    "print('numpy_var', np.var(data), '\\n')\n",
    "\n",
    "var_unbiased = sum([(x-avg)**2 for x in data]) / (len(data) - 1)\n",
    "print('var_unbiased:', var_unbiased)\n",
    "print('numpy_var_unbiased:', np.var(data, ddof=1), '\\n')\n",
    "\n",
    "std = np.sqrt(var)\n",
    "print('std:', std)\n",
    "print('numpy_std:', np.std(data), '\\n')\n",
    "\n",
    "std_unbiased = np.sqrt(var_unbiased)\n",
    "print('std_unbiased:', std_unbiased)\n",
    "print('numpy_std_unbiased:', np.std(data, ddof=1), '\\n')"
   ]
  },
  {
   "cell_type": "markdown",
   "metadata": {},
   "source": [
    "### Задача 2\n",
    "Для выборки из задачи 1 найти (также без использования статистических функций) медиану, первый и третий квартили, интерквартильное расстояние. Найти выборсы в выборке, используя для этого \"усы\" из boxplot.\n",
    "В этой задаче неоднозначности в вычислении квантилей можно разрешать любым способом."
   ]
  },
  {
   "cell_type": "code",
   "execution_count": 34,
   "metadata": {},
   "outputs": [
    {
     "name": "stdout",
     "output_type": "stream",
     "text": [
      "median: 70\n",
      "numpy_median: 70.0 \n",
      "\n",
      "q1: 45\n",
      "numpy_q1: 45.0 \n",
      "\n",
      "q3: 84\n",
      "numpy_q3: 84.0 \n",
      "\n",
      "iqr: 39 \n",
      "\n",
      "box_min: -13.5 \n",
      "\n",
      "box_max: 142.5 \n",
      "\n",
      "outliers: [230, 150]\n"
     ]
    }
   ],
   "source": [
    "data_sorted = sorted(data)\n",
    "\n",
    "median = data_sorted[len(data) // 2]\n",
    "print('median:', median)\n",
    "print('numpy_median:', np.median(data), '\\n')\n",
    "\n",
    "q1 = data_sorted[1 * len(data) // 4]\n",
    "print('q1:', q1)\n",
    "print('numpy_q1:', np.quantile(data, 0.25), '\\n')\n",
    "\n",
    "q3 = data_sorted[3 * len(data) // 4]\n",
    "print('q3:', q3)\n",
    "print('numpy_q3:', np.quantile(data, 0.75), '\\n')\n",
    "\n",
    "iqr = q3 - q1\n",
    "print('iqr:', iqr, '\\n')\n",
    "\n",
    "box_min = q1 - 1.5*iqr\n",
    "print('box_min:', box_min, '\\n')\n",
    "\n",
    "box_max = q3 + 1.5*iqr\n",
    "print('box_max:', box_max, '\\n')\n",
    "\n",
    "outliers = list(filter(lambda x: not(box_min <= x <= box_max), data))\n",
    "print('outliers:', outliers)"
   ]
  },
  {
   "cell_type": "markdown",
   "metadata": {},
   "source": [
    "### Задача 3\n",
    "В университет на факультеты A и B поступило равное количество студентов, а на факультет C студентов поступило столько же, сколько на A и B вместе. Вероятность того, что студент факультета A сдаст первую сессию, равна 0.8. Для студента факультета B эта вероятность равна 0.7, а для студента факультета C - 0.9. Студент сдал первую сессию. Какова вероятность, что он учится: a) на факультете A? б) на факультете B? в) на факультете C?\n",
    "\n",
    "***Замечание:*** да, эта задача не на тему описательных статистик, но тема важная, и её стоит иногда освежать в памяти."
   ]
  },
  {
   "cell_type": "code",
   "execution_count": 40,
   "metadata": {},
   "outputs": [
    {
     "name": "stdout",
     "output_type": "stream",
     "text": [
      "a) 0.24242424242424246\n"
     ]
    }
   ],
   "source": [
    "p_b = 0.25*0.8 + 0.25*0.7 + 0.5*0.9  # полная вероятность сдать сессию \n",
    "p_a = 0.25  # вероятность, что студент из факультета A\n",
    "p_b_a = 0.8  # вероятность, что студент из факультета A сдаст сессию\n",
    "p_a_b = p_b_a * p_a / p_b  # вероятность, что сдавший студент является студентом факультета A\n",
    "print('a)', p_a_b)"
   ]
  },
  {
   "cell_type": "code",
   "execution_count": 41,
   "metadata": {},
   "outputs": [
    {
     "name": "stdout",
     "output_type": "stream",
     "text": [
      "б) 0.21212121212121213\n"
     ]
    }
   ],
   "source": [
    "p_b = 0.25*0.8 + 0.25*0.7 + 0.5*0.9  # полная вероятность сдать сессию \n",
    "p_a = 0.25  # вероятность, что студент из факультета B\n",
    "p_b_a = 0.7  # вероятность, что студент из факультета B сдаст сессию\n",
    "p_a_b = p_b_a * p_a / p_b  # вероятность, что сдавший студент является студентом факультета B\n",
    "print('б)', p_a_b)"
   ]
  },
  {
   "cell_type": "code",
   "execution_count": 43,
   "metadata": {},
   "outputs": [
    {
     "name": "stdout",
     "output_type": "stream",
     "text": [
      "c) 0.5454545454545455\n"
     ]
    }
   ],
   "source": [
    "p_b = 0.25*0.8 + 0.25*0.7 + 0.5*0.9  # полная вероятность сдать сессию \n",
    "p_a = 0.5  # вероятность, что студент из факультета C\n",
    "p_b_a = 0.9  # вероятность, что студент из факультета C сдаст сессию\n",
    "p_a_b = p_b_a * p_a / p_b  # вероятность, что сдавший студент является студентом факультета C\n",
    "print('c)', p_a_b)"
   ]
  }
 ],
 "metadata": {
  "kernelspec": {
   "display_name": "Python 3",
   "language": "python",
   "name": "python3"
  },
  "language_info": {
   "codemirror_mode": {
    "name": "ipython",
    "version": 3
   },
   "file_extension": ".py",
   "mimetype": "text/x-python",
   "name": "python",
   "nbconvert_exporter": "python",
   "pygments_lexer": "ipython3",
   "version": "3.7.5"
  }
 },
 "nbformat": 4,
 "nbformat_minor": 4
}
