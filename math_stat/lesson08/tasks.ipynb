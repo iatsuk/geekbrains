{
 "cells": [
  {
   "cell_type": "markdown",
   "metadata": {},
   "source": [
    "# Урок 8\n",
    "## Двухфакторный дисперсионный анализ. Факторный анализ. Логистическая регрессия\n",
    "### Домашнее задание"
   ]
  },
  {
   "cell_type": "markdown",
   "metadata": {},
   "source": [
    "#### Задача 1\n",
    "\n",
    "Объясняемая переменная `y` зависит от двух категориальных факторов `A` и `B`, причём фактор `A` имеет 3 уровня, а фактор `B` - 4 уровня. Результаты наблюдений приведены в таблице:\n",
    "\n",
    "`y = [[2.68, 3.29, 2.88, 4.45],\n",
    "     [4.12, 4.96, 5.09, 5.22],\n",
    "     [5.52, 4.50, 5.42, 5.29]]`\n",
    "     \n",
    "С помощью двухфакторного дисперсионного анализа проверьте влияние каждого из факторов на переменную `y`.\n",
    "\n",
    "**Решение**"
   ]
  },
  {
   "cell_type": "code",
   "execution_count": 47,
   "metadata": {},
   "outputs": [],
   "source": [
    "import numpy as np\n",
    "from scipy import stats"
   ]
  },
  {
   "cell_type": "code",
   "execution_count": 2,
   "metadata": {},
   "outputs": [],
   "source": [
    "y = np.array([\n",
    "    [2.68, 3.29, 2.88, 4.45],\n",
    "    [4.12, 4.96, 5.09, 5.22],\n",
    "    [5.52, 4.50, 5.42, 5.29]\n",
    "])"
   ]
  },
  {
   "cell_type": "markdown",
   "metadata": {},
   "source": [
    "Проверим нулевые гипотезы:"
   ]
  },
  {
   "cell_type": "code",
   "execution_count": 28,
   "metadata": {},
   "outputs": [
    {
     "name": "stdout",
     "output_type": "stream",
     "text": [
      "H0_A:  False\n",
      "H0_B:  False\n"
     ]
    }
   ],
   "source": [
    "print('H0_A: ', y[0, :].mean() == y[1, :].mean() == y[2, :].mean())\n",
    "print('H0_B: ', y[:, 0].mean() == y[:, 1].mean() == y[:, 2].mean() == y[:, 3].mean())"
   ]
  },
  {
   "cell_type": "markdown",
   "metadata": {},
   "source": [
    "Вычислим суммы квадратов отклонений:"
   ]
  },
  {
   "cell_type": "code",
   "execution_count": 43,
   "metadata": {},
   "outputs": [
    {
     "name": "stdout",
     "output_type": "stream",
     "text": [
      "m = 3\n",
      "k = 4\n",
      "S2_A = 7.8407166666666654\n",
      "S2_B = 1.338166666666669\n",
      "S2_res = 1.9298833333333327\n"
     ]
    }
   ],
   "source": [
    "m = y.shape[0]\n",
    "print('m =', m)\n",
    "k = y.shape[1]\n",
    "print('k =', k)\n",
    "\n",
    "S2_A = k * sum([(y[i, :].mean() - y.mean()) ** 2 for i in range(0, m)])\n",
    "print('S2_A =', S2_A)\n",
    "S2_B = m * sum([(y[:, i].mean() - y.mean()) ** 2 for i in range(0, k)])\n",
    "print('S2_B =', S2_B)\n",
    "\n",
    "S2_res = 0\n",
    "for i in range(0, m):\n",
    "    for j in range(0, k):\n",
    "        S2_res += (y[i, j] - y[i, :].mean() - y[:, j].mean() + y.mean()) ** 2\n",
    "print('S2_res =', S2_res)"
   ]
  },
  {
   "cell_type": "markdown",
   "metadata": {},
   "source": [
    "Найдём оценки дисперсий:"
   ]
  },
  {
   "cell_type": "code",
   "execution_count": 44,
   "metadata": {},
   "outputs": [
    {
     "name": "stdout",
     "output_type": "stream",
     "text": [
      "sigma2_A = 3.9203583333333327\n",
      "sigma2_B = 0.4460555555555563\n",
      "sigma2_res = 0.32164722222222214\n"
     ]
    }
   ],
   "source": [
    "sigma2_A = S2_A / (m - 1)\n",
    "print('sigma2_A =', sigma2_A)\n",
    "\n",
    "sigma2_B = S2_B / (k - 1)\n",
    "print('sigma2_B =', sigma2_B)\n",
    "\n",
    "sigma2_res = S2_res / ((k - 1)*(m - 1))\n",
    "print('sigma2_res =', sigma2_res)"
   ]
  },
  {
   "cell_type": "markdown",
   "metadata": {},
   "source": [
    "Получим статистики:"
   ]
  },
  {
   "cell_type": "code",
   "execution_count": 45,
   "metadata": {},
   "outputs": [
    {
     "name": "stdout",
     "output_type": "stream",
     "text": [
      "T_A = 12.188379262995173\n",
      "T_B = 1.386785038819275\n"
     ]
    }
   ],
   "source": [
    "T_A = sigma2_A / sigma2_res\n",
    "print('T_A =', T_A)\n",
    "\n",
    "T_B = sigma2_B / sigma2_res\n",
    "print('T_B =', T_B)"
   ]
  },
  {
   "cell_type": "markdown",
   "metadata": {},
   "source": [
    "Найдём $F_{crit}$ для факторов `A` и `B` с надёжностью $p = 0.95$:"
   ]
  },
  {
   "cell_type": "code",
   "execution_count": 48,
   "metadata": {},
   "outputs": [
    {
     "name": "stdout",
     "output_type": "stream",
     "text": [
      "F_crit_A = 4.25649472909375\n",
      "F_crit_B = 4.06618055135116\n"
     ]
    }
   ],
   "source": [
    "p = 0.95\n",
    "alpha = 1 - p\n",
    "\n",
    "F_crit_A = stats.f.ppf(1 - alpha, m - 1, k * m - m)\n",
    "print('F_crit_A =', F_crit_A)\n",
    "\n",
    "F_crit_B = stats.f.ppf(1 - alpha, k - 1, k * m - k)\n",
    "print('F_crit_B =', F_crit_B)"
   ]
  },
  {
   "cell_type": "code",
   "execution_count": 49,
   "metadata": {},
   "outputs": [
    {
     "name": "stdout",
     "output_type": "stream",
     "text": [
      "T_A > F_crit_A: True\n",
      "T_B > F_crit_B: False\n"
     ]
    }
   ],
   "source": [
    "print('T_A > F_crit_A:', T_A > F_crit_A)\n",
    "print('T_B > F_crit_B:', T_B > F_crit_B)"
   ]
  },
  {
   "cell_type": "markdown",
   "metadata": {},
   "source": [
    "Получили, что фактор `A` не является статистически важным и мы можем отвергуть гипотезу $H_{0A}$, а фактор `B` является."
   ]
  },
  {
   "cell_type": "markdown",
   "metadata": {},
   "source": [
    "#### Задача 2\n",
    "С помощью критерия Стьюдента для двух независимых выборок проверьте гипотезу о равенстве среднего роста футболистов и хоккеистов, основываясь на результатах измерений:\n",
    "\n",
    "`football_players = [173, 175, 180, 178, 177, 185, 183, 182]\n",
    "hockey_players = [177, 179, 180, 188, 177, 172, 171, 184, 180]`\n",
    "\n",
    "**Решение**"
   ]
  },
  {
   "cell_type": "code",
   "execution_count": 52,
   "metadata": {},
   "outputs": [],
   "source": [
    "football_players = np.array([173, 175, 180, 178, 177, 185, 183, 182])\n",
    "hockey_players = np.array([177, 179, 180, 188, 177, 172, 171, 184, 180])"
   ]
  },
  {
   "cell_type": "markdown",
   "metadata": {},
   "source": [
    "Рассмотрим статистику:"
   ]
  },
  {
   "cell_type": "code",
   "execution_count": 54,
   "metadata": {},
   "outputs": [
    {
     "name": "stdout",
     "output_type": "stream",
     "text": [
      "T = 0.2120406006079591\n"
     ]
    }
   ],
   "source": [
    "T = (football_players.mean() - hockey_players.mean()) / np.sqrt(football_players.var()/football_players.shape[0] + hockey_players.var()/hockey_players.shape[0])\n",
    "print('T =', T)"
   ]
  },
  {
   "cell_type": "markdown",
   "metadata": {},
   "source": [
    "Определим t-статистику Стьюдента:"
   ]
  },
  {
   "cell_type": "code",
   "execution_count": 55,
   "metadata": {},
   "outputs": [
    {
     "name": "stdout",
     "output_type": "stream",
     "text": [
      "t = 2.131449545559323\n"
     ]
    }
   ],
   "source": [
    "p = 0.95\n",
    "alpha = 1 - p\n",
    "\n",
    "t = stats.t.ppf(1 - alpha / 2, df=football_players.shape[0]+hockey_players.shape[0]-2)\n",
    "print('t =', t)"
   ]
  },
  {
   "cell_type": "markdown",
   "metadata": {},
   "source": [
    "Имеем $T < t$ следовательно соглашаемся с гипотезой $H_0$|"
   ]
  }
 ],
 "metadata": {
  "kernelspec": {
   "display_name": "Python 3",
   "language": "python",
   "name": "python3"
  },
  "language_info": {
   "codemirror_mode": {
    "name": "ipython",
    "version": 3
   },
   "file_extension": ".py",
   "mimetype": "text/x-python",
   "name": "python",
   "nbconvert_exporter": "python",
   "pygments_lexer": "ipython3",
   "version": "3.7.5"
  }
 },
 "nbformat": 4,
 "nbformat_minor": 4
}
