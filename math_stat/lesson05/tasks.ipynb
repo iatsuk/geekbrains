{
 "cells": [
  {
   "cell_type": "markdown",
   "metadata": {},
   "source": [
    "# Урок 5. Проверка статистических гипотез. P-значения. Доверительные интервалы. A/B-тестирование\n",
    "## Домашнее задание"
   ]
  },
  {
   "cell_type": "markdown",
   "metadata": {},
   "source": [
    "### Задача 1\n",
    "\n",
    "Утверждается, что шарики для подшипников, изготовленные автоматическим станком, имеют средний диаметр $17$ мм. Используя уровень значимости $0.025$ и правостороннюю критическую область, проверить данную гипотезу при условии, что в выборке из $100$ шариков средний диаметр оказался равным $17.5$ мм, а дисперсия известна и равна $4$ мм."
   ]
  },
  {
   "cell_type": "markdown",
   "metadata": {},
   "source": [
    "**Решение**\n",
    "\n",
    "Подготовим выборку"
   ]
  },
  {
   "cell_type": "code",
   "execution_count": 1,
   "metadata": {},
   "outputs": [],
   "source": [
    "import numpy as np\n",
    "from scipy import stats"
   ]
  },
  {
   "cell_type": "code",
   "execution_count": 15,
   "metadata": {},
   "outputs": [],
   "source": [
    "n = 100\n",
    "samples = np.random.normal(17, 4, size=n)"
   ]
  },
  {
   "cell_type": "markdown",
   "metadata": {},
   "source": [
    "Чтобы проверить гипотизу зададим функцию от выборки $T$:\n",
    "$$T(X) = \\frac{\\overline{X} - a}{\\sigma\\sqrt{n}} = \\frac{\\overline{X} - 17.5}{1/10} = 10 \\cdot (\\overline{X} - 17.5)$$\n",
    "\n",
    "Найдём квадратическое отклонение:\n",
    "$$\\sigma = \\sqrt{D(X)} = \\sqrt{4} = 2$$\n",
    "\n",
    "Уровень значимости $\\alpha=0.025$. По правилу трёх сигм определим критическую область:\n",
    "$$\\Omega_\\alpha = (-\\infty, -3\\sigma) \\cup (3\\sigma, +\\infty) = (-\\infty, -3\\cdot2) \\cup (3\\cdot2, +\\infty) = (-\\infty, -6) \\cup (6, +\\infty)$$\n"
   ]
  },
  {
   "cell_type": "code",
   "execution_count": 16,
   "metadata": {},
   "outputs": [
    {
     "name": "stdout",
     "output_type": "stream",
     "text": [
      "X_avg =  17.396248379188357\n"
     ]
    }
   ],
   "source": [
    "mean = samples.mean()\n",
    "print('X_avg = ', mean)"
   ]
  },
  {
   "cell_type": "code",
   "execution_count": 17,
   "metadata": {},
   "outputs": [
    {
     "name": "stdout",
     "output_type": "stream",
     "text": [
      "T(X) = -1.037516208116429\n"
     ]
    }
   ],
   "source": [
    "T = 10 * (mean - 17.5)\n",
    "print('T(X) =', T)"
   ]
  },
  {
   "cell_type": "code",
   "execution_count": 18,
   "metadata": {},
   "outputs": [
    {
     "data": {
      "text/plain": [
       "True"
      ]
     },
     "execution_count": 18,
     "metadata": {},
     "output_type": "execute_result"
    }
   ],
   "source": [
    "-6 < T < 6"
   ]
  },
  {
   "cell_type": "markdown",
   "metadata": {},
   "source": [
    "Значение не превышает пределы критической области, следовательно гипотезу $H_0$ принимаем."
   ]
  },
  {
   "cell_type": "markdown",
   "metadata": {},
   "source": [
    "### Задача 2\n",
    "\n",
    "Известно, что генеральная совокупность распределена нормально с известным средним квадратическим отклонением $16$. Найти доверительный интервал для оценки математического ожидания a с надёжностью $0.95$, если выборочное среднее равно $80$, а объём равен $256$."
   ]
  },
  {
   "cell_type": "code",
   "execution_count": 27,
   "metadata": {},
   "outputs": [
    {
     "name": "stdout",
     "output_type": "stream",
     "text": [
      "t = 1.6448536269514722\n",
      "P = (78.0306894301508, 81.9693105698492)\n"
     ]
    }
   ],
   "source": [
    "sigma = 16\n",
    "mean = 80\n",
    "p = 0.95\n",
    "n = 256\n",
    "\n",
    "alpha = 1 - p\n",
    "t = stats.t.ppf(1 - alpha / 2, df=n-1)\n",
    "print('t =', ppf)\n",
    "\n",
    "P = (mean - t * sigma / np.sqrt(n), mean + t * sigma / np.sqrt(n))\n",
    "print('P =', P)"
   ]
  },
  {
   "cell_type": "markdown",
   "metadata": {},
   "source": [
    "### Задача 3\n",
    "\n",
    "Продавец утверждает, что средний вес пачки печенья составляет $200$ г. Из партии извлечена выборка из $10$ пачек. Вес каждой пачки составляет:\n",
    "\n",
    "`202, 203, 199, 197, 195, 201, 200, 204, 194, 190`\n",
    "\n",
    "Известно, что их веса распределены нормально. Верно ли утверждение продавца, если учитывать, что уровень значимости равен $1%$?"
   ]
  },
  {
   "cell_type": "code",
   "execution_count": 3,
   "metadata": {},
   "outputs": [
    {
     "name": "stdout",
     "output_type": "stream",
     "text": [
      "n = 10\n",
      "X_avg = 198.5\n",
      "std = 4.453463071962462\n"
     ]
    }
   ],
   "source": [
    "samples = np.array([202, 203, 199, 197, 195, 201, 200, 204, 194, 190])\n",
    "n = len(samples)\n",
    "print('n =', n)\n",
    "\n",
    "mean = samples.mean()\n",
    "print('X_avg =', mean)\n",
    "\n",
    "std = samples.std(ddof=1)\n",
    "print('std =', std)"
   ]
  },
  {
   "cell_type": "markdown",
   "metadata": {},
   "source": [
    "По таблице квантилей для $\\alpha=0.1$ и $k=n-1=9$ найдём $t_{\\alpha,k} = 1.8331$. Либо воспользуемся библиотекой scipy:"
   ]
  },
  {
   "cell_type": "code",
   "execution_count": 4,
   "metadata": {},
   "outputs": [
    {
     "name": "stdout",
     "output_type": "stream",
     "text": [
      "t = 1.8331129326536335\n"
     ]
    }
   ],
   "source": [
    "alpha = 0.1\n",
    "t = stats.t.ppf(1 - alpha / 2, df=n-1)\n",
    "print('t =', t)"
   ]
  },
  {
   "cell_type": "markdown",
   "metadata": {},
   "source": [
    "Доверительный интервал:"
   ]
  },
  {
   "cell_type": "code",
   "execution_count": 28,
   "metadata": {},
   "outputs": [
    {
     "name": "stdout",
     "output_type": "stream",
     "text": [
      "P = (79.45185925624695, 80.54814074375305)\n"
     ]
    }
   ],
   "source": [
    "P = (mean - t * std / np.sqrt(n), mean + t * std / np.sqrt(n))\n",
    "print('P =', P)"
   ]
  },
  {
   "cell_type": "markdown",
   "metadata": {},
   "source": [
    "Можно согласиться с продавцом, что средний вес пачки печения составляет $200$ г, так как это значение входит в доверительный интервал $P$."
   ]
  }
 ],
 "metadata": {
  "kernelspec": {
   "display_name": "Python 3",
   "language": "python",
   "name": "python3"
  },
  "language_info": {
   "codemirror_mode": {
    "name": "ipython",
    "version": 3
   },
   "file_extension": ".py",
   "mimetype": "text/x-python",
   "name": "python",
   "nbconvert_exporter": "python",
   "pygments_lexer": "ipython3",
   "version": "3.7.5"
  }
 },
 "nbformat": 4,
 "nbformat_minor": 4
}
