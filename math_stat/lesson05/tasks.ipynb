{
 "cells": [
  {
   "cell_type": "markdown",
   "metadata": {},
   "source": [
    "# Урок 5. Проверка статистических гипотез. P-значения. Доверительные интервалы. A/B-тестирование\n",
    "## Домашнее задание"
   ]
  },
  {
   "cell_type": "markdown",
   "metadata": {},
   "source": [
    "### Задача 1\n",
    "\n",
    "Утверждается, что шарики для подшипников, изготовленные автоматическим станком, имеют средний диаметр $17$ мм. Используя уровень значимости $0.025$ и правостороннюю критическую область, проверить данную гипотезу при условии, что в выборке из $100$ шариков средний диаметр оказался равным $17.5$ мм, а дисперсия известна и равна $4$ мм."
   ]
  },
  {
   "cell_type": "markdown",
   "metadata": {},
   "source": [
    "**Решение**\n",
    "\n",
    "Подготовим выборку"
   ]
  },
  {
   "cell_type": "code",
   "execution_count": 2,
   "metadata": {},
   "outputs": [],
   "source": [
    "import numpy as np\n",
    "from scipy import stats"
   ]
  },
  {
   "cell_type": "code",
   "execution_count": 3,
   "metadata": {},
   "outputs": [],
   "source": [
    "n = 100\n",
    "samples = np.random.normal(17, 4, size=n)"
   ]
  },
  {
   "cell_type": "markdown",
   "metadata": {},
   "source": [
    "Чтобы проверить гипотизу зададим функцию от выборки $T$:\n",
    "$$T(X) = \\frac{\\overline{X} - a}{\\sigma\\sqrt{n}} = \\frac{\\overline{X} - 17.5}{1/10} = 10 \\cdot (\\overline{X} - 17.5)$$\n",
    "\n",
    "Уровень значимости $\\alpha=0.025$. По правилу трёх сигм определим критическую область:\n",
    "$$\\Omega_\\alpha = (-\\infty, -3) \\cup (3, +\\infty)$$\n"
   ]
  },
  {
   "cell_type": "code",
   "execution_count": 8,
   "metadata": {},
   "outputs": [
    {
     "name": "stdout",
     "output_type": "stream",
     "text": [
      "X_avg =  17.00529861166573\n"
     ]
    }
   ],
   "source": [
    "mean = samples.mean()\n",
    "print('X_avg = ', mean)"
   ]
  },
  {
   "cell_type": "code",
   "execution_count": 9,
   "metadata": {},
   "outputs": [
    {
     "name": "stdout",
     "output_type": "stream",
     "text": [
      "T(X) = -4.947013883342706\n"
     ]
    }
   ],
   "source": [
    "T = 10 * (mean - 17.5)\n",
    "print('T(X) =', T)"
   ]
  },
  {
   "cell_type": "code",
   "execution_count": 11,
   "metadata": {},
   "outputs": [
    {
     "name": "stdout",
     "output_type": "stream",
     "text": [
      "ppf: 2.241402727604947\n"
     ]
    }
   ],
   "source": [
    "alpha = 0.025\n",
    "ppf = stats.norm.ppf(1 - alpha / 2)\n",
    "print('ppf:', ppf)"
   ]
  },
  {
   "cell_type": "code",
   "execution_count": 12,
   "metadata": {},
   "outputs": [
    {
     "data": {
      "text/plain": [
       "True"
      ]
     },
     "execution_count": 12,
     "metadata": {},
     "output_type": "execute_result"
    }
   ],
   "source": [
    "ppf < 3"
   ]
  },
  {
   "cell_type": "markdown",
   "metadata": {},
   "source": [
    "Значение не превышает пределы критической области, следовательно гипотезу $H_0$ принимаем."
   ]
  },
  {
   "cell_type": "markdown",
   "metadata": {},
   "source": [
    "### Задача 2\n",
    "\n",
    "Известно, что генеральная совокупность распределена нормально с известным средним квадратическим отклонением $16$. Найти доверительный интервал для оценки математического ожидания a с надёжностью $0.95$, если выборочное среднее равно $80$, а объём равен $256$."
   ]
  },
  {
   "cell_type": "code",
   "execution_count": 15,
   "metadata": {},
   "outputs": [
    {
     "name": "stdout",
     "output_type": "stream",
     "text": [
      "T(X) = 1024.0\n",
      "ppf: 1.6448536269514722\n"
     ]
    }
   ],
   "source": [
    "sigma = 16\n",
    "alpha = 0.1\n",
    "mean = 80\n",
    "n = 256\n",
    "\n",
    "T = (mean - sigma) / (1/np.sqrt(n))\n",
    "print('T(X) =', T)\n",
    "\n",
    "ppf = stats.norm.ppf(1 - alpha / 2)\n",
    "print('ppf:', ppf)"
   ]
  },
  {
   "cell_type": "markdown",
   "metadata": {},
   "source": [
    "### Задача 3\n",
    "\n",
    "Продавец утверждает, что средний вес пачки печенья составляет $200$ г. Из партии извлечена выборка из $10$ пачек. Вес каждой пачки составляет:\n",
    "\n",
    "`202, 203, 199, 197, 195, 201, 200, 204, 194, 190`\n",
    "\n",
    "Известно, что их веса распределены нормально. Верно ли утверждение продавца, если учитывать, что уровень значимости равен $1%$?"
   ]
  },
  {
   "cell_type": "code",
   "execution_count": 13,
   "metadata": {},
   "outputs": [
    {
     "name": "stdout",
     "output_type": "stream",
     "text": [
      "X_avg =  198.5\n",
      "T(X) = -4.743416490252569\n",
      "ppf = 1.6448536269514722\n"
     ]
    },
    {
     "data": {
      "text/plain": [
       "False"
      ]
     },
     "execution_count": 13,
     "metadata": {},
     "output_type": "execute_result"
    }
   ],
   "source": [
    "samples = np.array([202, 203, 199, 197, 195, 201, 200, 204, 194, 190])\n",
    "n = len(samples)\n",
    "\n",
    "mean = samples.mean()\n",
    "print('X_avg = ', mean)\n",
    "\n",
    "T = np.sqrt(10) * (mean - 200)\n",
    "print('T(X) =', T)\n",
    "\n",
    "alpha = 0.1\n",
    "ppf = stats.norm.ppf(1 - alpha / 2)\n",
    "print('ppf =', ppf)\n",
    "\n",
    "ppf < 1"
   ]
  },
  {
   "cell_type": "markdown",
   "metadata": {},
   "source": [
    "Значение превышает пределы критической области, следовательно гипотезу $H_0$ отвергаем."
   ]
  }
 ],
 "metadata": {
  "kernelspec": {
   "display_name": "Python 3",
   "language": "python",
   "name": "python3"
  },
  "language_info": {
   "codemirror_mode": {
    "name": "ipython",
    "version": 3
   },
   "file_extension": ".py",
   "mimetype": "text/x-python",
   "name": "python",
   "nbconvert_exporter": "python",
   "pygments_lexer": "ipython3",
   "version": "3.7.5"
  }
 },
 "nbformat": 4,
 "nbformat_minor": 4
}
