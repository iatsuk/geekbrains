{
 "cells": [
  {
   "cell_type": "markdown",
   "metadata": {},
   "source": [
    "# Линейная алгебра\n",
    "## Урок 1. Линейное пространство"
   ]
  },
  {
   "cell_type": "markdown",
   "metadata": {},
   "source": [
    "### Часть 1"
   ]
  },
  {
   "cell_type": "markdown",
   "metadata": {},
   "source": [
    "#### Задание 1\n",
    "Исследовать на линейную зависимость:\n",
    "$$f_1(x)=e^x, f_2(x)=1, f_3(x)=x+1, f_4(x)=x-e^x.$$"
   ]
  },
  {
   "cell_type": "markdown",
   "metadata": {},
   "source": [
    "##### Решение\n",
    "Функции являются линейно-зависимыми, так как мы можем выразить одну функию, например $f_4(x)$, через другие:\n",
    "$$f_4(x) = f_3(x) - f_2(x) - f_1(x) = x+1 - 1 - e^x = x - e^x.$$"
   ]
  },
  {
   "cell_type": "markdown",
   "metadata": {},
   "source": [
    "#### Задание 2\n",
    "Исследовать на линейную зависимость:\n",
    "$$f_1(x)=2, f_2(x)=x, f_3(x)=x^2, f_4(x)=(x+1)^2.$$"
   ]
  },
  {
   "cell_type": "markdown",
   "metadata": {},
   "source": [
    "##### Решение\n",
    "Функции являются линейно-зависимыми, так как мы можем выразить одну функию, например $f_4(x)$, через другие:\n",
    "$$f_4(x) = (x+1)^2 = x^2 + 2x + 1 = f_3(x) + 2f_2(x) + \\frac{f_1(x)}{2}.$$"
   ]
  },
  {
   "cell_type": "markdown",
   "metadata": {},
   "source": [
    "#### Задание 3\n",
    "Найти координаты вектора  $x=(2,3,5)\\in\\mathbb{R}^3$  в базисе  $b_1=(0,0,10), b_2=(2,0,0), b_3=(0,1,0).$"
   ]
  },
  {
   "cell_type": "markdown",
   "metadata": {},
   "source": [
    "##### Решение\n",
    "Стандартный базис линейного пространства $\\mathbb{R}^3$ образуют векторы $e_1=(1,0,0), e_2=(0,1,0), e_3=(0,0,1)$. Выполним отображение стандартного базиса на целевой:\n",
    "$$e_1=\\frac{b_2}{2}, e_2=b_3, e_3=\\frac{b_1}{10},$$\n",
    "тогда:\n",
    "$$x = (2,3,5)_e = 2e_1+3e_2+5e_3 = 2\\frac{b_2}{2}+3b_3+5\\frac{b_1}{10} = \\frac{1}{2}b_1+b_2+3b_3 = (\\frac{1}{2},1,3)_b.$$"
   ]
  },
  {
   "cell_type": "markdown",
   "metadata": {},
   "source": [
    "#### Задание 4\n",
    "Найти координаты вектора $3x^2-2x+2\\in\\mathbb{R}^3[x]$:\n",
    "1. в базисе $1, x, x^2$;\n",
    "2. в базисе $x^2, x-1, 1$."
   ]
  },
  {
   "cell_type": "markdown",
   "metadata": {},
   "source": [
    "##### Решение\n",
    "1. $3x^2-2x+2 = 3e_3-2e_2+2e_1 = (3,-2,2)$;\n",
    "2. $3x^2-2x+2 = 3e_1-2e_2+0e_3 = (3,-2,0)$."
   ]
  },
  {
   "cell_type": "markdown",
   "metadata": {},
   "source": [
    "#### Задание 5\n",
    "Установить, является ли линейным подпространством:\n",
    "1. совокупность всех векторов трехмерного пространства, у которых по крайней мере одна из первых двух координат равна нулю;\n",
    "2. все векторы, являющиеся линейными комбинациями данных векторов ${u_1, u_2, \\dots, u_n}$."
   ]
  },
  {
   "cell_type": "markdown",
   "metadata": {},
   "source": [
    "##### Решение для (1)\n",
    "Обозначим **утверждение**:\n",
    "Подмножество $L$ линейного пространства $V$ является его подпространством тогда и только тогда, когда для любых элементов $u,v \\in L$  и любого $\\alpha\\in\\mathbb{R}$  выполняются условия:\n",
    "1. $u+v\\in L$;\n",
    "2. $\\alpha\\cdot u\\in L$.\n",
    "\n",
    "Проведём проверку по приведённому утверждению для **(1)**:\n",
    "\n",
    "$(x_1|0,x_2|0,\\dots,x_i) + (y_1|0,y_2|0,\\cdots,y_i)$ – если $x_1 \\neq 0$ и $y_2 \\neq 0$ или наоборот, то мы получим вектор, который не будет принадлежать подмножеству $L$. Следовательно, это подмножество не является линейным подпространством.\n",
    "\n",
    "##### Решение для (2)\n",
    "Обозначим **определение**:\n",
    "Возьмем в $n$-мерном линейном пространстве конечный набор векторов ${x_1,x_2,\\dots,x_k}$. Тогда совокупность всех линейных комбинаций этих векторов образует некоторое подпространство исходного линейного пространства. Она будет называться *линейной оболочкой* этого множества и обозначаться $L{x_1,x_2,\\dots,x_k}$. \n",
    "\n",
    "Согласно приведённому определению **(2)** является линейным подпростраством.\n"
   ]
  },
  {
   "cell_type": "markdown",
   "metadata": {},
   "source": [
    "### Часть 2"
   ]
  },
  {
   "cell_type": "markdown",
   "metadata": {},
   "source": [
    "#### Задание 1\n",
    "Найти скалярное произведение векторов $x,y\\in\\mathbb{R}$:\n",
    "1. $x=(0,−3,6), y=(−4,7,9)$; \n",
    "2. $x=(7,−4,0,1), y=(−3,1,11,2)$."
   ]
  },
  {
   "cell_type": "markdown",
   "metadata": {},
   "source": [
    "##### Решение\n",
    "1. $<x,y> = 0\\cdot(-4) + (-3)\\cdot7 + 6\\cdot9 = 33$\n",
    "2. $<x,y> = 7\\cdot(-3) + (-4)\\cdot1 + 0\\cdot11 + 1\\cdot2 = -23$"
   ]
  },
  {
   "cell_type": "code",
   "execution_count": 4,
   "metadata": {},
   "outputs": [
    {
     "name": "stdout",
     "output_type": "stream",
     "text": [
      "1. <x,y> = 33\n",
      "2. <x,y> = -23\n"
     ]
    }
   ],
   "source": [
    "import numpy as np\n",
    "x = np.array([0, -3, 6])\n",
    "y = np.array([-4,7,9])\n",
    "print(f'1. <x,y> = {np.dot(x, y)}')\n",
    "x = np.array([7, -4, 0, 1])\n",
    "y = np.array([-3, 1, 11, 2])\n",
    "print(f'2. <x,y> = {np.dot(x, y)}')"
   ]
  },
  {
   "cell_type": "markdown",
   "metadata": {},
   "source": [
    "#### Задание 2\n",
    "Найти нормы векторов $(4,2,4)$ и $(12,3,4)$ и угол между ними."
   ]
  },
  {
   "cell_type": "markdown",
   "metadata": {},
   "source": [
    "##### Решение\n",
    "$$|(4,2,4)| = \\sqrt{4^2+2^2+4^2} = \\sqrt{36} = 6$$\n",
    "$$|(12,3,4)| = \\sqrt{12^2+3^2+4^2} = \\sqrt{169} = 13$$\n",
    "$$<(4,2,4),(12,3,4)> = 4\\cdot12 + 2\\cdot3 + 4\\cdot4 = 70$$\n",
    "$$cos\\varphi = \\frac{<(4,2,4),(12,3,4)>}{|(4,2,4)|\\cdot|(12,3,4)|} = \\frac{70}{6\\cdot13} = \\frac{35}{39}$$"
   ]
  },
  {
   "cell_type": "code",
   "execution_count": 13,
   "metadata": {},
   "outputs": [
    {
     "name": "stdout",
     "output_type": "stream",
     "text": [
      "|(4,2,4)| = 6.0\n",
      "|(12,3,4)| = 13.0\n",
      "cos(phi) = 0.897\n",
      "phi = 0.46rad = 26.18°\n"
     ]
    }
   ],
   "source": [
    "from numpy.linalg import norm\n",
    "a = [4,2,4]\n",
    "b = [12,3,4]\n",
    "cos_phi = np.dot(a,b) / norm(a) / norm(b)\n",
    "phi = np.arccos(cos_phi)\n",
    "print(f'|(4,2,4)| = {norm(a, ord=2)}')\n",
    "print(f'|(12,3,4)| = {norm(b, ord=2)}')\n",
    "print(f'cos(phi) = {cos_phi:.3f}')\n",
    "print(f'phi = {phi:.2f}rad = {np.degrees(phi):.2f}°')"
   ]
  },
  {
   "cell_type": "markdown",
   "metadata": {},
   "source": [
    "#### Задание 3\n",
    "Будет ли линейное пространство евклидовым, если за скалярное произведение принять:\n",
    "1. произведение длин векторов;\n",
    "2. утроенное обычное скалярное произведение векторов?"
   ]
  },
  {
   "cell_type": "markdown",
   "metadata": {},
   "source": [
    "##### Решение (1)\n",
    "Проверим, удовлетворяет ли данное скалярное произведение аксиомам евклидова пространства:\n",
    "1. $(x,y)=(y,x): |x|\\cdot|y|=|y|\\cdot|x|$ – удовлетворяет\n",
    "2. $(\\lambda x,y)=\\lambda(x,y): |\\lambda x|\\cdot|y| = \\sqrt{\\sum_0^i(\\lambda x_i)^2\\cdot\\sum_0^iy^2} = \\sqrt{\\lambda^2\\sum_0^ix_i^2\\cdot\\sum_0^iy_i^2} = \\lambda\\sqrt{\\sum_0^ix_i^2\\cdot\\sum_0^iy_i^2}$ – удовлетворяет\n",
    "3. $(x_1+x_2,y)=(x_1,y)+(x_2,y):$ \n",
    "$$\\sqrt{\\sum_0^i(x_{1i} + x_{2i})^2}\\sqrt{\\sum_0^iy_i^2} = \\sqrt{\\sum_0^ix_{1i}^2}\\sqrt{\\sum_0^iy_i^2} + \\sqrt{\\sum_0^ix_{2i}^2}\\sqrt{\\sum_0^iy_i^2}$$\n",
    "$$\\sqrt{\\sum_0^i(x_{1i} + x_{2i})^2} = \\sqrt{\\sum_0^ix_{1i}^2} + \\sqrt{\\sum_0^ix_{2i}^2}$$\n",
    "не удовлетворяет\n",
    "4. $(x,x)\\geq0, (x,x)=0\\Leftrightarrow x=0: \\sqrt{\\sum_0^i2x_i^2}$ – удовлетворяет\n",
    "\n",
    "##### Решение (2)\n",
    "Проверим, удовлетворяет ли данное скалярное произведение аксиомам евклидова пространства:\n",
    "1. $(x,y)=(y,x): |x|\\cdot|y|\\cdot3cos\\alpha=|y|\\cdot|x|\\cdot3cos\\alpha$ – удовлетворяет\n",
    "2. $(\\lambda x,y)=\\lambda(x,y): |\\lambda x|\\cdot|y|\\cdot3cos\\alpha = \\sqrt{\\sum_0^i(\\lambda x_i)^2\\cdot\\sum_0^iy^2}\\cdot3cos\\alpha = \\sqrt{\\lambda^2\\sum_0^ix_i^2\\cdot\\sum_0^iy_i^2}\\cdot3cos\\alpha = \\lambda\\sqrt{\\sum_0^ix_i^2\\cdot\\sum_0^iy_i^2}\\cdot3cos\\alpha = \\lambda|x|\\cdot|y|\\cdot3cos\\alpha$ – удовлетворяет\n",
    "3. $(x_1+x_2,y)=(x_1,y)+(x_2,y)$ – ???\n",
    "4. $(x,x)\\geq0, (x,x)=0\\Leftrightarrow x=0: 3\\sqrt{\\sum_0^i2x_i^2}$ – удовлетворяет"
   ]
  },
  {
   "cell_type": "markdown",
   "metadata": {},
   "source": [
    "#### Задание 4\n",
    "Какие из нижеперечисленных векторов образуют ортонормированный базис в линейном пространстве $\\mathbb{R}^3$:\n",
    "1. $(1,0,0),(0,0,1)$;\n",
    "2. $(\\dfrac{1}{\\sqrt{2}},\\dfrac{-1}{\\sqrt{2}},0), (\\dfrac{1}{\\sqrt{2}},\\dfrac{1}{\\sqrt{2}},0), (0,0,1)$;\n",
    "3. $(\\dfrac{1}{2},\\dfrac{-1}{2},0), (0,\\dfrac{1}{2},\\dfrac{1}{2}), (0,0,1)$;\n",
    "4. $(1,0,0), (0,1,0), (0,0,1)$?"
   ]
  },
  {
   "cell_type": "markdown",
   "metadata": {},
   "source": [
    "##### Решение (1)\n",
    "нет, так как нет базиса для второй координаты\n",
    "##### Решение (2)\n",
    "да"
   ]
  },
  {
   "cell_type": "code",
   "execution_count": 18,
   "metadata": {},
   "outputs": [],
   "source": [
    "def angle(a, b):\n",
    "    return np.degrees(np.arccos(np.dot(a,b) / norm(a) / norm(b)))"
   ]
  },
  {
   "cell_type": "code",
   "execution_count": 19,
   "metadata": {},
   "outputs": [
    {
     "name": "stdout",
     "output_type": "stream",
     "text": [
      "0.9999999999999999\n",
      "0.9999999999999999\n",
      "1.0\n",
      "90.0\n",
      "90.0\n",
      "90.0\n"
     ]
    }
   ],
   "source": [
    "x = [1/np.sqrt(2), -1/np.sqrt(2), 0]\n",
    "y = [1/np.sqrt(2), 1/np.sqrt(2), 0]\n",
    "z = [0, 0, 1]\n",
    "print(norm(x))\n",
    "print(norm(y))\n",
    "print(norm(z))\n",
    "print(angle(x, y))\n",
    "print(angle(x, z))\n",
    "print(angle(y, z))"
   ]
  },
  {
   "cell_type": "markdown",
   "metadata": {},
   "source": [
    "##### Решение (3)\n",
    "нет"
   ]
  },
  {
   "cell_type": "code",
   "execution_count": 20,
   "metadata": {},
   "outputs": [
    {
     "name": "stdout",
     "output_type": "stream",
     "text": [
      "0.7071067811865476\n",
      "0.7071067811865476\n",
      "1.0\n",
      "119.99999999999999\n",
      "90.0\n",
      "45.00000000000001\n"
     ]
    }
   ],
   "source": [
    "x = [1/2, -1/2, 0]\n",
    "y = [0, 1/2, 1/2]\n",
    "z = [0, 0, 1]\n",
    "print(norm(x))\n",
    "print(norm(y))\n",
    "print(norm(z))\n",
    "print(angle(x, y))\n",
    "print(angle(x, z))\n",
    "print(angle(y, z))"
   ]
  },
  {
   "cell_type": "markdown",
   "metadata": {},
   "source": [
    "##### Решение (4)\n",
    "да"
   ]
  },
  {
   "cell_type": "code",
   "execution_count": 21,
   "metadata": {},
   "outputs": [
    {
     "name": "stdout",
     "output_type": "stream",
     "text": [
      "1.0\n",
      "1.0\n",
      "1.0\n",
      "90.0\n",
      "90.0\n",
      "90.0\n"
     ]
    }
   ],
   "source": [
    "x = [1, 0, 0]\n",
    "y = [0, 1, 0]\n",
    "z = [0, 0, 1]\n",
    "print(norm(x))\n",
    "print(norm(y))\n",
    "print(norm(z))\n",
    "print(angle(x, y))\n",
    "print(angle(x, z))\n",
    "print(angle(y, z))"
   ]
  }
 ],
 "metadata": {
  "kernelspec": {
   "display_name": "Python 3",
   "language": "python",
   "name": "python3"
  },
  "language_info": {
   "codemirror_mode": {
    "name": "ipython",
    "version": 3
   },
   "file_extension": ".py",
   "mimetype": "text/x-python",
   "name": "python",
   "nbconvert_exporter": "python",
   "pygments_lexer": "ipython3",
   "version": "3.7.6"
  }
 },
 "nbformat": 4,
 "nbformat_minor": 4
}
