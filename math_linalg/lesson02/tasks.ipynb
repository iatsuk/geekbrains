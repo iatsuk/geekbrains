{
 "cells": [
  {
   "cell_type": "markdown",
   "metadata": {},
   "source": [
    "# Линейная алгебра\n",
    "## Урок 2. Матрицы и матричные операции"
   ]
  },
  {
   "cell_type": "markdown",
   "metadata": {},
   "source": [
    "Все задания рекомендуется делать вручную, затем проверяя полученные результаты с использованием NumPy."
   ]
  },
  {
   "cell_type": "code",
   "execution_count": 1,
   "metadata": {},
   "outputs": [],
   "source": [
    "import numpy as np"
   ]
  },
  {
   "cell_type": "markdown",
   "metadata": {},
   "source": [
    "### Часть 1"
   ]
  },
  {
   "cell_type": "markdown",
   "metadata": {},
   "source": [
    "#### Задача 1\n",
    "Установить, какие произведения матриц $AB$ и $BA$ определены, и найти размерности полученных матриц:\n",
    "1. $A$ – матрица $4\\times2$, $B$ – матрица $4\\times2$;\n",
    "2. $A$ – матрица $2\\times5$, $B$ – матрица $5\\times3$;\n",
    "3. $A$ – матрица $8\\times3$, $B$ – матрица $3\\times8$;\n",
    "4. $A$ – квадратная матрица $4\\times4$, $B$ – квадратная матрица $4\\times4$.\n",
    "##### Решение"
   ]
  },
  {
   "cell_type": "markdown",
   "metadata": {},
   "source": [
    "1. $AB$ – нельзя умножать, $BA$ – нельзя умножать\n",
    "2. $AB$ – $2\\times3$, $BA$ – нельзя умножать\n",
    "3. $AB$ – $8\\times8$, $BA$ – $3\\times3$\n",
    "4. $AB$ – $4\\times4$, $BA$ – $4\\times4$"
   ]
  },
  {
   "cell_type": "code",
   "execution_count": 4,
   "metadata": {},
   "outputs": [
    {
     "name": "stdout",
     "output_type": "stream",
     "text": [
      "2. AB = (2, 3)\n",
      "3. AB = (8, 8)\n",
      "3. BA = (3, 3)\n",
      "4. AB = BA = (4, 4)\n"
     ]
    }
   ],
   "source": [
    "print('2. AB =', np.dot(np.ones((2,5)), np.ones((5,3))).shape)\n",
    "print('3. AB =', np.dot(np.ones((8,3)), np.ones((3,8))).shape)\n",
    "print('3. BA =', np.dot(np.ones((3,8)), np.ones((8,3))).shape)\n",
    "print('4. AB = BA =', np.dot(np.ones((4,4)), np.ones((4,4))).shape)"
   ]
  },
  {
   "cell_type": "markdown",
   "metadata": {},
   "source": [
    "#### Задача 2 \n",
    "Найти сумму и произведение матриц $A = \\begin{pmatrix}\n",
    "1 & -2 \\\\ \n",
    "3 & 0 \n",
    "\\end{pmatrix}$ и $B = \\begin{pmatrix}\n",
    "4 & -1 \\\\ \n",
    "0 & 5 \n",
    "\\end{pmatrix}$.\n",
    "##### Решение"
   ]
  },
  {
   "cell_type": "markdown",
   "metadata": {},
   "source": [
    "$$A + B = B + A = \\begin{pmatrix}\n",
    "1 & -2 \\\\ \n",
    "3 & 0 \n",
    "\\end{pmatrix} + \\begin{pmatrix}\n",
    "4 & -1 \\\\ \n",
    "0 & 5 \n",
    "\\end{pmatrix} = \\begin{pmatrix}\n",
    "5 & -3 \\\\ \n",
    "3 & 5 \n",
    "\\end{pmatrix}$$\n",
    "\n",
    "$$AB = \\begin{pmatrix}\n",
    "1 & -2 \\\\ \n",
    "3 & 0 \n",
    "\\end{pmatrix} \\cdot \\begin{pmatrix}\n",
    "4 & -1 \\\\ \n",
    "0 & 5 \n",
    "\\end{pmatrix} = \\begin{pmatrix}\n",
    "1\\cdot4-2\\cdot0 & 1\\cdot(-1)-2\\cdot5 \\\\ \n",
    "3\\cdot4+0\\cdot0 & 3\\cdot(-1)+0\\cdot5 \n",
    "\\end{pmatrix} = \\begin{pmatrix}\n",
    "4 & -11 \\\\ \n",
    "12 & -3 \n",
    "\\end{pmatrix}$$\n",
    "\n",
    "$$BA = \\begin{pmatrix}\n",
    "4 & -1 \\\\ \n",
    "0 & 5 \n",
    "\\end{pmatrix} \\cdot \\begin{pmatrix}\n",
    "1 & -2 \\\\ \n",
    "3 & 0 \n",
    "\\end{pmatrix} = \\begin{pmatrix}\n",
    "4\\cdot1-1\\cdot3 & 4\\cdot(-2)-1\\cdot0 \\\\ \n",
    "0\\cdot1+5\\cdot3 & 0\\cdot(-2)+5\\cdot0 \n",
    "\\end{pmatrix} = \\begin{pmatrix}\n",
    "1 & -8 \\\\ \n",
    "15 & 0 \n",
    "\\end{pmatrix}$$"
   ]
  },
  {
   "cell_type": "code",
   "execution_count": 6,
   "metadata": {},
   "outputs": [
    {
     "name": "stdout",
     "output_type": "stream",
     "text": [
      "A + B = B + A =\n",
      " [[ 5 -3]\n",
      " [ 3  5]]\n",
      "A x B =\n",
      " [[  4 -11]\n",
      " [ 12  -3]]\n",
      "B x A =\n",
      " [[ 1 -8]\n",
      " [15  0]]\n"
     ]
    }
   ],
   "source": [
    "A = np.matrix([[1, -2],\n",
    "               [3, 0]])\n",
    "B = np.matrix([[4, -1],\n",
    "               [0, 5]])\n",
    "print('A + B = B + A =\\n', A + B)\n",
    "print('A x B =\\n', np.dot(A, B))\n",
    "print('B x A =\\n', np.dot(B, A))"
   ]
  },
  {
   "cell_type": "markdown",
   "metadata": {},
   "source": [
    "#### Задача 3\n",
    "Из закономерностей сложения и умножения матриц на число можно сделать вывод, что матрицы одного размера образуют линейное пространство. Вычислить линейную комбинацию $3A-2B+4C$ для матриц $A = \\begin{pmatrix}\n",
    "1 & 7 \\\\ \n",
    "3 & -6 \n",
    "\\end{pmatrix}$, $B = \\begin{pmatrix}\n",
    "0 & 5 \\\\ \n",
    "2 & -1 \n",
    "\\end{pmatrix}$, $C = \\begin{pmatrix}\n",
    "2 & -4 \\\\ \n",
    "1 & 1 \n",
    "\\end{pmatrix}$. \n",
    "##### Решение"
   ]
  },
  {
   "cell_type": "markdown",
   "metadata": {},
   "source": [
    "$$3A - 2B + 4C = 3\\begin{pmatrix}\n",
    "1 & 7 \\\\ \n",
    "3 & -6 \n",
    "\\end{pmatrix} - 2\\begin{pmatrix}\n",
    "0 & 5 \\\\ \n",
    "2 & -1 \n",
    "\\end{pmatrix} + 4\\begin{pmatrix}\n",
    "2 & -4 \\\\ \n",
    "1 & 1 \n",
    "\\end{pmatrix} = \\begin{pmatrix}\n",
    "3 & 21 \\\\ \n",
    "9 & -18 \n",
    "\\end{pmatrix} + \\begin{pmatrix}\n",
    "0 & -10 \\\\ \n",
    "-4 & 2 \n",
    "\\end{pmatrix} + \\begin{pmatrix}\n",
    "8 & -16 \\\\ \n",
    "4 & 4 \n",
    "\\end{pmatrix} = \\begin{pmatrix}\n",
    "3-0+8 & 21-10-16 \\\\ \n",
    "9-4+4 & -18+2+4 \n",
    "\\end{pmatrix} = \\begin{pmatrix}\n",
    "11 & -5 \\\\ \n",
    "9 & -12 \n",
    "\\end{pmatrix}$$"
   ]
  },
  {
   "cell_type": "code",
   "execution_count": 8,
   "metadata": {},
   "outputs": [
    {
     "name": "stdout",
     "output_type": "stream",
     "text": [
      "3A - 2B + 4C =\n",
      " [[ 11  -5]\n",
      " [  9 -12]]\n"
     ]
    }
   ],
   "source": [
    "A = np.matrix([[1, 7],\n",
    "               [3, -6]])\n",
    "B = np.matrix([[0, 5],\n",
    "               [2, -1]])\n",
    "C = np.matrix([[2, -4],\n",
    "               [1, 1]])\n",
    "print('3A - 2B + 4C =\\n', 3*A-2*B+4*C)"
   ]
  },
  {
   "cell_type": "markdown",
   "metadata": {},
   "source": [
    "#### Задача 4\n",
    "Дана матрица $A = \\begin{pmatrix}\n",
    "4 & 1 \\\\ \n",
    "5 & -2 \\\\\n",
    "2 & 3\\end{pmatrix}$. Вычислить $AA^T$ и $A^TA$.\n",
    "##### Решение"
   ]
  },
  {
   "cell_type": "markdown",
   "metadata": {},
   "source": [
    "$$A^T = \\begin{pmatrix}\n",
    "4 & 5 & 2 \\\\ \n",
    "1 & -2 & 3\\end{pmatrix}$$\n",
    "\n",
    "$$AA^T = \\begin{pmatrix}\n",
    "4 & 1 \\\\ \n",
    "5 & -2 \\\\\n",
    "2 & 3 \n",
    "\\end{pmatrix} \\cdot \\begin{pmatrix}\n",
    "4 & 5 & 2 \\\\ \n",
    "1 & -2 & 3\n",
    "\\end{pmatrix} = \\begin{pmatrix}\n",
    "4\\cdot4+1\\cdot1 & 4\\cdot5+1\\cdot(-2) & 4\\cdot2+1\\cdot3 \\\\\n",
    "5\\cdot4-2\\cdot1 & 5\\cdot5-2\\cdot(-2) & 5\\cdot2-2\\cdot3 \\\\\n",
    "2\\cdot4+3\\cdot1 & 2\\cdot5+3\\cdot(-2) & 2\\cdot2+3\\cdot3\n",
    "\\end{pmatrix} = \\begin{pmatrix}\n",
    "17 & 18 & 11 \\\\\n",
    "18 & 29 & 4 \\\\\n",
    "11 & 4 & 13\n",
    "\\end{pmatrix}$$\n",
    "\n",
    "$$A^TA = \\begin{pmatrix}\n",
    "4 & 5 & 2 \\\\ \n",
    "1 & -2 & 3\n",
    "\\end{pmatrix} \\cdot \\begin{pmatrix}\n",
    "4 & 1 \\\\ \n",
    "5 & -2 \\\\\n",
    "2 & 3 \n",
    "\\end{pmatrix} = \\begin{pmatrix}\n",
    "4\\cdot4+5\\cdot5+2\\cdot2 & 4\\cdot1+5\\cdot(-2)+2\\cdot3 \\\\\n",
    "1\\cdot4-2\\cdot5+3\\cdot2 & 1\\cdot1-2\\cdot(-2)+3\\cdot3\n",
    "\\end{pmatrix} = \\begin{pmatrix}\n",
    "45 & 0 \\\\\n",
    "0 & 14\n",
    "\\end{pmatrix}$$"
   ]
  },
  {
   "cell_type": "code",
   "execution_count": 10,
   "metadata": {},
   "outputs": [
    {
     "name": "stdout",
     "output_type": "stream",
     "text": [
      "A.T =\n",
      " [[ 4  5  2]\n",
      " [ 1 -2  3]]\n",
      "A*A.T =\n",
      " [[17 18 11]\n",
      " [18 29  4]\n",
      " [11  4 13]]\n",
      "A.T*A =\n",
      " [[45  0]\n",
      " [ 0 14]]\n"
     ]
    }
   ],
   "source": [
    "A = np.matrix([[4, 1],\n",
    "               [5, -2],\n",
    "               [2, 3]])\n",
    "print('A.T =\\n', A.T)\n",
    "print('A*A.T =\\n', np.dot(A, A.T))\n",
    "print('A.T*A =\\n', np.dot(A.T, A))"
   ]
  },
  {
   "cell_type": "markdown",
   "metadata": {},
   "source": [
    "#### Задача 5*\n",
    "Написать на Python функцию для перемножения двух произвольных матриц, не используя NumPy.\n",
    "##### Решение"
   ]
  },
  {
   "cell_type": "code",
   "execution_count": 28,
   "metadata": {},
   "outputs": [],
   "source": [
    "def vdot(a, b):\n",
    "    return sum([x*y for (x,y) in zip(a, b)])\n",
    "\n",
    "\n",
    "def col(i, A):\n",
    "    return [x[i] for x in A]\n",
    "\n",
    "\n",
    "def T(A):\n",
    "    return [col(i, A) for i in range(len(A[0]))]\n",
    "\n",
    "\n",
    "def mdot(A, B):\n",
    "    return [[vdot(a, b) for a in A] for b in T(B)]"
   ]
  },
  {
   "cell_type": "code",
   "execution_count": 31,
   "metadata": {},
   "outputs": [
    {
     "name": "stdout",
     "output_type": "stream",
     "text": [
      "A*A.T =\n",
      "[17, 18, 11]\n",
      "[18, 29, 4]\n",
      "[11, 4, 13]\n",
      "A.T*A =\n",
      "[45, 0]\n",
      "[0, 14]\n"
     ]
    },
    {
     "data": {
      "text/plain": [
       "'done'"
      ]
     },
     "execution_count": 31,
     "metadata": {},
     "output_type": "execute_result"
    }
   ],
   "source": [
    "A = [[4, 1],\n",
    "     [5, -2],\n",
    "     [2, 3]]\n",
    "\n",
    "print('A*A.T =')\n",
    "[print(r) for r in mdot(A, T(A))]\n",
    "\n",
    "print('A.T*A =')\n",
    "[print(r) for r in mdot(T(A), A)]\n",
    "\n",
    "'done'"
   ]
  },
  {
   "cell_type": "markdown",
   "metadata": {},
   "source": [
    "### Часть 2"
   ]
  },
  {
   "cell_type": "markdown",
   "metadata": {},
   "source": [
    "#### Задача 1\n",
    "Вычислить определитель:\n",
    "1. $\\begin{vmatrix}\n",
    "sinx & -cosx \\\\\n",
    "cosx & sinx\n",
    "\\end{vmatrix}$;\n",
    "2. $\\begin{vmatrix}\n",
    "4 & 2 & 3 \\\\\n",
    "0 & 5 & 1 \\\\\n",
    "0 & 0 & 9\n",
    "\\end{vmatrix}$; \n",
    "3. $\\begin{vmatrix}\n",
    "1 & 2 & 3 \\\\\n",
    "4 & 5 & 6 \\\\\n",
    "7 & 8 & 9\n",
    "\\end{vmatrix}$.\n",
    "##### Решение"
   ]
  },
  {
   "cell_type": "markdown",
   "metadata": {},
   "source": [
    "1. $\\begin{vmatrix}\n",
    "sinx & -cosx \\\\\n",
    "cosx & sinx\n",
    "\\end{vmatrix} = {sin}^2x + {cos}^2x = 1$\n",
    "\n",
    "2. \n",
    "    1. $\\begin{vmatrix}\n",
    "4 & 2 & 3 \\\\\n",
    "0 & 5 & 1 \\\\\n",
    "0 & 0 & 9\n",
    "\\end{vmatrix} = 4\\begin{vmatrix}\n",
    "5 & 1 \\\\\n",
    "0 & 9\n",
    "\\end{vmatrix} - 0\\begin{vmatrix}\n",
    "2 & 3 \\\\\n",
    "0 & 9\n",
    "\\end{vmatrix} + 0\\begin{vmatrix}\n",
    "2 & 3 \\\\\n",
    "5 & 1\n",
    "\\end{vmatrix} = 4 \\cdot 45 = 180$\n",
    "\n",
    "    2. $\\begin{vmatrix}\n",
    "4 & 2 & 3 \\\\\n",
    "0 & 5 & 1 \\\\\n",
    "0 & 0 & 9\n",
    "\\end{vmatrix} = 2\\begin{vmatrix}\n",
    "0 & 1 \\\\\n",
    "0 & 9\n",
    "\\end{vmatrix} - 5\\begin{vmatrix}\n",
    "4 & 3 \\\\\n",
    "0 & 9\n",
    "\\end{vmatrix} + 0\\begin{vmatrix}\n",
    "4 & 3 \\\\\n",
    "0 & 1\n",
    "\\end{vmatrix} = 5 \\cdot 36 = 180$\n",
    "\n",
    "3. $\\begin{vmatrix}\n",
    "1 & 2 & 3 \\\\\n",
    "4 & 5 & 6 \\\\\n",
    "7 & 8 & 9\n",
    "\\end{vmatrix} = 7\\begin{vmatrix}\n",
    "2 & 3 \\\\\n",
    "5 & 6\n",
    "\\end{vmatrix} - 8\\begin{vmatrix}\n",
    "1 & 3 \\\\\n",
    "4 & 6\n",
    "\\end{vmatrix} + 9\\begin{vmatrix}\n",
    "1 & 2 \\\\\n",
    "4 & 5\n",
    "\\end{vmatrix} = 7 \\cdot (12 - 15) - 8 \\cdot (6 - 12) + 9 \\cdot (5 - 8) = -21 + 48 - 27 = 0$"
   ]
  },
  {
   "cell_type": "code",
   "execution_count": 15,
   "metadata": {},
   "outputs": [
    {
     "name": "stdout",
     "output_type": "stream",
     "text": [
      "det(A) = 180\n",
      "det(B) = -0\n"
     ]
    }
   ],
   "source": [
    "A = [[4, 2, 3],\n",
    "     [0, 5, 1],\n",
    "     [0, 0, 9]]\n",
    "B = [[1, 2, 3],\n",
    "     [4, 5, 6],\n",
    "     [7, 8, 9]]\n",
    "print(f'det(A) = {np.linalg.det(A):.0f}')\n",
    "print(f'det(B) = {np.linalg.det(B):.0f}')"
   ]
  },
  {
   "cell_type": "markdown",
   "metadata": {},
   "source": [
    "#### Задача 2\n",
    "Определитель матрицы $A$ равен $4$. Найти:\n",
    "1. $det(A^2)$;\n",
    "2. $det(A^T)$;\n",
    "3. $det(2A)$.\n",
    "##### Решение"
   ]
  },
  {
   "cell_type": "markdown",
   "metadata": {},
   "source": [
    "1. 4\n",
    "2. 2\n",
    "3. 4"
   ]
  },
  {
   "cell_type": "markdown",
   "metadata": {},
   "source": [
    "#### Задача 3\n",
    "Доказать, что матрица $\\begin{pmatrix}\n",
    "-2 & 7 & -3 \\\\\n",
    "4 & -14 & 6 \\\\\n",
    "-3 & 7 & 13\n",
    "\\end{pmatrix}$ вырожденная.\n",
    "##### Решение"
   ]
  },
  {
   "cell_type": "markdown",
   "metadata": {},
   "source": [
    "$$\\begin{pmatrix}\n",
    "-2 & 7 & -3 \\\\\n",
    "4 & -14 & 6 \\\\\n",
    "-3 & 7 & 13\n",
    "\\end{pmatrix} = 7\\begin{pmatrix}\n",
    "4 & 6 \\\\\n",
    "-3 & 13\n",
    "\\end{pmatrix} + 14\\begin{pmatrix}\n",
    "-2 & -3 \\\\\n",
    "-3 & 13\n",
    "\\end{pmatrix} + 7\\begin{pmatrix}\n",
    "-2 & -3 \\\\\n",
    "4 & 6\n",
    "\\end{pmatrix} = 7 \\cdot (52+18) + 14 \\cdot (-26-9) + 7 \\cdot (-12+12) = 490 - 490 = 0$$"
   ]
  },
  {
   "cell_type": "code",
   "execution_count": 16,
   "metadata": {},
   "outputs": [
    {
     "name": "stdout",
     "output_type": "stream",
     "text": [
      "det(A) = 0\n"
     ]
    }
   ],
   "source": [
    "A = [[-2, 7, -3],\n",
    "     [4, -14, 6],\n",
    "     [-3, 7, 13]]\n",
    "print(f'det(A) = {np.linalg.det(A):.0f}')"
   ]
  },
  {
   "cell_type": "markdown",
   "metadata": {},
   "source": [
    "#### Задача 4\n",
    "Найти ранг матрицы:\n",
    "1. $\\begin{pmatrix}\n",
    "1 & 2 & 3 \\\\\n",
    "1 & 1 & 1 \\\\\n",
    "2 & 3 & 4\n",
    "\\end{pmatrix}$; \n",
    "2. $\\begin{pmatrix}\n",
    "0 & 0 & 2 & 1 \\\\\n",
    "0 & 0 & 2 & 2 \\\\\n",
    "0 & 0 & 4 & 3 \\\\\n",
    "2 & 3 & 5 & 6\n",
    "\\end{pmatrix}$. \n",
    "##### Решение"
   ]
  },
  {
   "cell_type": "markdown",
   "metadata": {},
   "source": [
    "1. $\\begin{pmatrix}\n",
    "1 & 2 & 3 \\\\\n",
    "1 & 1 & 1 \\\\\n",
    "2 & 3 & 4\n",
    "\\end{pmatrix} \\Rightarrow \\begin{pmatrix}\n",
    "1 & 2 & 3 \\\\\n",
    "1 & 1 & 1\n",
    "\\end{pmatrix} \\Rightarrow \\begin{pmatrix}\n",
    "0 & 1 & 2 \\\\\n",
    "1 & 1 & 1\n",
    "\\end{pmatrix} \\Rightarrow rank = 2$\n",
    "2. $\\begin{pmatrix}\n",
    "0 & 0 & 2 & 1 \\\\\n",
    "0 & 0 & 2 & 2 \\\\\n",
    "0 & 0 & 4 & 3 \\\\\n",
    "2 & 3 & 5 & 6\n",
    "\\end{pmatrix} \\Rightarrow \\begin{pmatrix}\n",
    "0 & 0 & 0 & -1 \\\\\n",
    "0 & 0 & 2 & 2 \\\\\n",
    "0 & 0 & 0 & -1 \\\\\n",
    "2 & 3 & 5 & 6\n",
    "\\end{pmatrix} \\Rightarrow \\begin{pmatrix}\n",
    "0 & 0 & 0 & -1 \\\\\n",
    "0 & 0 & 2 & 2 \\\\\n",
    "2 & 3 & 5 & 6\n",
    "\\end{pmatrix} \\Rightarrow rank = 3$"
   ]
  },
  {
   "cell_type": "code",
   "execution_count": 17,
   "metadata": {},
   "outputs": [
    {
     "name": "stdout",
     "output_type": "stream",
     "text": [
      "det(A) = 2\n",
      "det(B) = 3\n"
     ]
    }
   ],
   "source": [
    "A = [[1, 2, 3],\n",
    "     [1, 1, 1],\n",
    "     [2, 3, 4]]\n",
    "B = [[0, 0, 2, 1],\n",
    "     [0, 0, 2, 2],\n",
    "     [0, 0, 4, 3],\n",
    "     [2, 3, 5, 6]]\n",
    "print(f'det(A) = {np.linalg.matrix_rank(A)}')\n",
    "print(f'det(B) = {np.linalg.matrix_rank(B)}')"
   ]
  }
 ],
 "metadata": {
  "kernelspec": {
   "display_name": "Python 3",
   "language": "python",
   "name": "python3"
  },
  "language_info": {
   "codemirror_mode": {
    "name": "ipython",
    "version": 3
   },
   "file_extension": ".py",
   "mimetype": "text/x-python",
   "name": "python",
   "nbconvert_exporter": "python",
   "pygments_lexer": "ipython3",
   "version": "3.7.4"
  }
 },
 "nbformat": 4,
 "nbformat_minor": 4
}
