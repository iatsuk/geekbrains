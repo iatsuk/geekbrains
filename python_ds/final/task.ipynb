{
 "cells": [
  {
   "cell_type": "markdown",
   "metadata": {},
   "source": [
    "# Курсовой проект для курса \"Python для Data Science\"\n",
    "## Задание:\n",
    "Используя данные из train.csv, построить модель для предсказания цен на недвижимость (квартиры). С помощью полученной модели предсказать цены для квартир из файла test.csv.\n",
    "\n",
    "## Целевая переменная:\n",
    "Price\n",
    "\n",
    "## Метрика:\n",
    "R2 - коэффициент детерминации (sklearn.metrics.r2_score)\n",
    "\n",
    "## Сдача проекта:\n",
    "1. Прислать в раздел Задания Урока 10 (\"Вебинар. Консультация по итоговому проекту\") ссылку на программу в github (программа должна содержаться в файле Jupyter Notebook  с расширением ipynb). (Pull request не нужен, только ссылка ведущая на сам скрипт).\n",
    "2. Приложить файл с названием по образцу SShirkin_predictions.csv с предсказанными ценами для квартир из test.csv (файл должен содержать два поля: Id, Price). В файле с предсказаниями должна быть 5001 строка (шапка + 5000 предсказаний).\n",
    "\n",
    "## Сроки и условия сдачи:\n",
    "Дедлайн: сдать проект нужно в течение 72 часов после начала Урока 10 (\"Вебинар. Консультация по итоговому проекту\").\n",
    "Для успешной сдачи должны быть все предсказания (для 5000 квартир) и R2 должен быть больше 0.6.\n",
    "При сдаче до дедлайна результат проекта может попасть в топ лучших результатов.\n",
    "Повторная сдача и проверка результатов возможны только при условии предыдущей неуспешной сдачи.\n",
    "Успешный проект нельзя пересдать в целях повышения результата.\n",
    "Проекты, сданные после дедлайна или сданные повторно, не попадают в топ лучших результатов, но можно узнать результат.\n",
    "В качестве итогового результата берется первый успешный результат, последующие успешные результаты не учитываются.\n",
    "\n",
    "## Примечания:\n",
    "Все файлы csv должны содержать названия полей (header - то есть \"шапку\"), разделитель - запятая.\n",
    "В файлах не должны содержаться индексы из датафрейма.\n",
    "Самая сложная из допустимых моделей - RandomForestRegressor из sklearn."
   ]
  },
  {
   "cell_type": "markdown",
   "metadata": {},
   "source": [
    "# Импорт данных"
   ]
  },
  {
   "cell_type": "code",
   "execution_count": 1,
   "metadata": {},
   "outputs": [],
   "source": [
    "import numpy as np\n",
    "import pandas as pd\n",
    "import matplotlib.pyplot as plt\n",
    "import seaborn as sns\n",
    "import warnings\n",
    "warnings.filterwarnings('ignore')\n",
    "%config IPCompleter.greedy=True\n",
    "%config InlineBackend.figure_format = 'jpeg'\n",
    "%matplotlib inline\n",
    "pd.options.display.max_columns = 100"
   ]
  },
  {
   "cell_type": "code",
   "execution_count": 83,
   "metadata": {},
   "outputs": [
    {
     "data": {
      "text/html": [
       "<div>\n",
       "<style scoped>\n",
       "    .dataframe tbody tr th:only-of-type {\n",
       "        vertical-align: middle;\n",
       "    }\n",
       "\n",
       "    .dataframe tbody tr th {\n",
       "        vertical-align: top;\n",
       "    }\n",
       "\n",
       "    .dataframe thead th {\n",
       "        text-align: right;\n",
       "    }\n",
       "</style>\n",
       "<table border=\"1\" class=\"dataframe\">\n",
       "  <thead>\n",
       "    <tr style=\"text-align: right;\">\n",
       "      <th></th>\n",
       "      <th>Id</th>\n",
       "      <th>DistrictId</th>\n",
       "      <th>Rooms</th>\n",
       "      <th>Square</th>\n",
       "      <th>LifeSquare</th>\n",
       "      <th>KitchenSquare</th>\n",
       "      <th>Floor</th>\n",
       "      <th>HouseFloor</th>\n",
       "      <th>HouseYear</th>\n",
       "      <th>Ecology_1</th>\n",
       "      <th>Ecology_2</th>\n",
       "      <th>Ecology_3</th>\n",
       "      <th>Social_1</th>\n",
       "      <th>Social_2</th>\n",
       "      <th>Social_3</th>\n",
       "      <th>Healthcare_1</th>\n",
       "      <th>Helthcare_2</th>\n",
       "      <th>Shops_1</th>\n",
       "      <th>Shops_2</th>\n",
       "      <th>Price</th>\n",
       "    </tr>\n",
       "  </thead>\n",
       "  <tbody>\n",
       "    <tr>\n",
       "      <th>0</th>\n",
       "      <td>14038</td>\n",
       "      <td>35</td>\n",
       "      <td>2.0</td>\n",
       "      <td>47.981561</td>\n",
       "      <td>29.442751</td>\n",
       "      <td>6.0</td>\n",
       "      <td>7</td>\n",
       "      <td>9.0</td>\n",
       "      <td>1969</td>\n",
       "      <td>0.089040</td>\n",
       "      <td>B</td>\n",
       "      <td>B</td>\n",
       "      <td>33</td>\n",
       "      <td>7976</td>\n",
       "      <td>5</td>\n",
       "      <td>NaN</td>\n",
       "      <td>0</td>\n",
       "      <td>11</td>\n",
       "      <td>B</td>\n",
       "      <td>184966.930730</td>\n",
       "    </tr>\n",
       "    <tr>\n",
       "      <th>1</th>\n",
       "      <td>15053</td>\n",
       "      <td>41</td>\n",
       "      <td>3.0</td>\n",
       "      <td>65.683640</td>\n",
       "      <td>40.049543</td>\n",
       "      <td>8.0</td>\n",
       "      <td>7</td>\n",
       "      <td>9.0</td>\n",
       "      <td>1978</td>\n",
       "      <td>0.000070</td>\n",
       "      <td>B</td>\n",
       "      <td>B</td>\n",
       "      <td>46</td>\n",
       "      <td>10309</td>\n",
       "      <td>1</td>\n",
       "      <td>240.0</td>\n",
       "      <td>1</td>\n",
       "      <td>16</td>\n",
       "      <td>B</td>\n",
       "      <td>300009.450063</td>\n",
       "    </tr>\n",
       "    <tr>\n",
       "      <th>2</th>\n",
       "      <td>4765</td>\n",
       "      <td>53</td>\n",
       "      <td>2.0</td>\n",
       "      <td>44.947953</td>\n",
       "      <td>29.197612</td>\n",
       "      <td>0.0</td>\n",
       "      <td>8</td>\n",
       "      <td>12.0</td>\n",
       "      <td>1968</td>\n",
       "      <td>0.049637</td>\n",
       "      <td>B</td>\n",
       "      <td>B</td>\n",
       "      <td>34</td>\n",
       "      <td>7759</td>\n",
       "      <td>0</td>\n",
       "      <td>229.0</td>\n",
       "      <td>1</td>\n",
       "      <td>3</td>\n",
       "      <td>B</td>\n",
       "      <td>220925.908524</td>\n",
       "    </tr>\n",
       "  </tbody>\n",
       "</table>\n",
       "</div>"
      ],
      "text/plain": [
       "      Id  DistrictId  Rooms     Square  LifeSquare  KitchenSquare  Floor  \\\n",
       "0  14038          35    2.0  47.981561   29.442751            6.0      7   \n",
       "1  15053          41    3.0  65.683640   40.049543            8.0      7   \n",
       "2   4765          53    2.0  44.947953   29.197612            0.0      8   \n",
       "\n",
       "   HouseFloor  HouseYear  Ecology_1 Ecology_2 Ecology_3  Social_1  Social_2  \\\n",
       "0         9.0       1969   0.089040         B         B        33      7976   \n",
       "1         9.0       1978   0.000070         B         B        46     10309   \n",
       "2        12.0       1968   0.049637         B         B        34      7759   \n",
       "\n",
       "   Social_3  Healthcare_1  Helthcare_2  Shops_1 Shops_2          Price  \n",
       "0         5           NaN            0       11       B  184966.930730  \n",
       "1         1         240.0            1       16       B  300009.450063  \n",
       "2         0         229.0            1        3       B  220925.908524  "
      ]
     },
     "execution_count": 83,
     "metadata": {},
     "output_type": "execute_result"
    }
   ],
   "source": [
    "data = pd.read_csv('train.csv')\n",
    "data.head(3)"
   ]
  },
  {
   "cell_type": "code",
   "execution_count": 3,
   "metadata": {},
   "outputs": [
    {
     "name": "stdout",
     "output_type": "stream",
     "text": [
      "<class 'pandas.core.frame.DataFrame'>\n",
      "RangeIndex: 10000 entries, 0 to 9999\n",
      "Data columns (total 20 columns):\n",
      "Id               10000 non-null int64\n",
      "DistrictId       10000 non-null int64\n",
      "Rooms            10000 non-null float64\n",
      "Square           10000 non-null float64\n",
      "LifeSquare       7887 non-null float64\n",
      "KitchenSquare    10000 non-null float64\n",
      "Floor            10000 non-null int64\n",
      "HouseFloor       10000 non-null float64\n",
      "HouseYear        10000 non-null int64\n",
      "Ecology_1        10000 non-null float64\n",
      "Ecology_2        10000 non-null object\n",
      "Ecology_3        10000 non-null object\n",
      "Social_1         10000 non-null int64\n",
      "Social_2         10000 non-null int64\n",
      "Social_3         10000 non-null int64\n",
      "Healthcare_1     5202 non-null float64\n",
      "Helthcare_2      10000 non-null int64\n",
      "Shops_1          10000 non-null int64\n",
      "Shops_2          10000 non-null object\n",
      "Price            10000 non-null float64\n",
      "dtypes: float64(8), int64(9), object(3)\n",
      "memory usage: 1.5+ MB\n"
     ]
    }
   ],
   "source": [
    "data.info()"
   ]
  },
  {
   "cell_type": "markdown",
   "metadata": {},
   "source": [
    "# One Hot Encoding"
   ]
  },
  {
   "cell_type": "markdown",
   "metadata": {},
   "source": [
    "Смотрим количество уникальных значений, чтобы мы не разорвались по памяти"
   ]
  },
  {
   "cell_type": "code",
   "execution_count": 4,
   "metadata": {},
   "outputs": [
    {
     "name": "stdout",
     "output_type": "stream",
     "text": [
      "Ecology_2 unique: ['B' 'A']\n",
      "Ecology_3 unique: ['B' 'A']\n",
      "Shops_2 unique: ['B' 'A']\n"
     ]
    }
   ],
   "source": [
    "print('Ecology_2 unique:', data['Ecology_2'].unique())\n",
    "print('Ecology_3 unique:', data['Ecology_3'].unique())\n",
    "print('Shops_2 unique:', data['Shops_2'].unique())"
   ]
  },
  {
   "cell_type": "code",
   "execution_count": 84,
   "metadata": {},
   "outputs": [
    {
     "data": {
      "text/html": [
       "<div>\n",
       "<style scoped>\n",
       "    .dataframe tbody tr th:only-of-type {\n",
       "        vertical-align: middle;\n",
       "    }\n",
       "\n",
       "    .dataframe tbody tr th {\n",
       "        vertical-align: top;\n",
       "    }\n",
       "\n",
       "    .dataframe thead th {\n",
       "        text-align: right;\n",
       "    }\n",
       "</style>\n",
       "<table border=\"1\" class=\"dataframe\">\n",
       "  <thead>\n",
       "    <tr style=\"text-align: right;\">\n",
       "      <th></th>\n",
       "      <th>Id</th>\n",
       "      <th>DistrictId</th>\n",
       "      <th>Rooms</th>\n",
       "      <th>Square</th>\n",
       "      <th>LifeSquare</th>\n",
       "      <th>KitchenSquare</th>\n",
       "      <th>Floor</th>\n",
       "      <th>HouseFloor</th>\n",
       "      <th>HouseYear</th>\n",
       "      <th>Ecology_1</th>\n",
       "      <th>Social_1</th>\n",
       "      <th>Social_2</th>\n",
       "      <th>Social_3</th>\n",
       "      <th>Healthcare_1</th>\n",
       "      <th>Helthcare_2</th>\n",
       "      <th>Shops_1</th>\n",
       "      <th>Price</th>\n",
       "      <th>Ecology_2_A</th>\n",
       "      <th>Ecology_2_B</th>\n",
       "      <th>Ecology_3_A</th>\n",
       "      <th>Ecology_3_B</th>\n",
       "      <th>Shops_2_A</th>\n",
       "      <th>Shops_2_B</th>\n",
       "    </tr>\n",
       "  </thead>\n",
       "  <tbody>\n",
       "    <tr>\n",
       "      <th>0</th>\n",
       "      <td>14038</td>\n",
       "      <td>35</td>\n",
       "      <td>2.0</td>\n",
       "      <td>47.981561</td>\n",
       "      <td>29.442751</td>\n",
       "      <td>6.0</td>\n",
       "      <td>7</td>\n",
       "      <td>9.0</td>\n",
       "      <td>1969</td>\n",
       "      <td>0.089040</td>\n",
       "      <td>33</td>\n",
       "      <td>7976</td>\n",
       "      <td>5</td>\n",
       "      <td>NaN</td>\n",
       "      <td>0</td>\n",
       "      <td>11</td>\n",
       "      <td>184966.930730</td>\n",
       "      <td>0</td>\n",
       "      <td>1</td>\n",
       "      <td>0</td>\n",
       "      <td>1</td>\n",
       "      <td>0</td>\n",
       "      <td>1</td>\n",
       "    </tr>\n",
       "    <tr>\n",
       "      <th>1</th>\n",
       "      <td>15053</td>\n",
       "      <td>41</td>\n",
       "      <td>3.0</td>\n",
       "      <td>65.683640</td>\n",
       "      <td>40.049543</td>\n",
       "      <td>8.0</td>\n",
       "      <td>7</td>\n",
       "      <td>9.0</td>\n",
       "      <td>1978</td>\n",
       "      <td>0.000070</td>\n",
       "      <td>46</td>\n",
       "      <td>10309</td>\n",
       "      <td>1</td>\n",
       "      <td>240.0</td>\n",
       "      <td>1</td>\n",
       "      <td>16</td>\n",
       "      <td>300009.450063</td>\n",
       "      <td>0</td>\n",
       "      <td>1</td>\n",
       "      <td>0</td>\n",
       "      <td>1</td>\n",
       "      <td>0</td>\n",
       "      <td>1</td>\n",
       "    </tr>\n",
       "    <tr>\n",
       "      <th>2</th>\n",
       "      <td>4765</td>\n",
       "      <td>53</td>\n",
       "      <td>2.0</td>\n",
       "      <td>44.947953</td>\n",
       "      <td>29.197612</td>\n",
       "      <td>0.0</td>\n",
       "      <td>8</td>\n",
       "      <td>12.0</td>\n",
       "      <td>1968</td>\n",
       "      <td>0.049637</td>\n",
       "      <td>34</td>\n",
       "      <td>7759</td>\n",
       "      <td>0</td>\n",
       "      <td>229.0</td>\n",
       "      <td>1</td>\n",
       "      <td>3</td>\n",
       "      <td>220925.908524</td>\n",
       "      <td>0</td>\n",
       "      <td>1</td>\n",
       "      <td>0</td>\n",
       "      <td>1</td>\n",
       "      <td>0</td>\n",
       "      <td>1</td>\n",
       "    </tr>\n",
       "  </tbody>\n",
       "</table>\n",
       "</div>"
      ],
      "text/plain": [
       "      Id  DistrictId  Rooms     Square  LifeSquare  KitchenSquare  Floor  \\\n",
       "0  14038          35    2.0  47.981561   29.442751            6.0      7   \n",
       "1  15053          41    3.0  65.683640   40.049543            8.0      7   \n",
       "2   4765          53    2.0  44.947953   29.197612            0.0      8   \n",
       "\n",
       "   HouseFloor  HouseYear  Ecology_1  Social_1  Social_2  Social_3  \\\n",
       "0         9.0       1969   0.089040        33      7976         5   \n",
       "1         9.0       1978   0.000070        46     10309         1   \n",
       "2        12.0       1968   0.049637        34      7759         0   \n",
       "\n",
       "   Healthcare_1  Helthcare_2  Shops_1          Price  Ecology_2_A  \\\n",
       "0           NaN            0       11  184966.930730            0   \n",
       "1         240.0            1       16  300009.450063            0   \n",
       "2         229.0            1        3  220925.908524            0   \n",
       "\n",
       "   Ecology_2_B  Ecology_3_A  Ecology_3_B  Shops_2_A  Shops_2_B  \n",
       "0            1            0            1          0          1  \n",
       "1            1            0            1          0          1  \n",
       "2            1            0            1          0          1  "
      ]
     },
     "execution_count": 84,
     "metadata": {},
     "output_type": "execute_result"
    }
   ],
   "source": [
    "def one_hot_encoder(adata):\n",
    "    return pd.get_dummies(adata, columns=['Ecology_2', 'Ecology_3', 'Shops_2'])\n",
    "data = one_hot_encoder(data)\n",
    "data.head(3)"
   ]
  },
  {
   "cell_type": "markdown",
   "metadata": {},
   "source": [
    "# Подготавливаем неправильно вбитые данные\n",
    "## Swap bigger 'LifeSquare' with 'Square'"
   ]
  },
  {
   "cell_type": "code",
   "execution_count": 85,
   "metadata": {},
   "outputs": [
    {
     "name": "stdout",
     "output_type": "stream",
     "text": [
      "Before LifeSquare⇔Square swap:  482\n",
      "After LifeSquare⇔Square swap:  0\n"
     ]
    }
   ],
   "source": [
    "def swap_lifesquare_with_square(adata):\n",
    "    tmp_filter_col = lambda df: (df['LifeSquare'].notna()) & (df['LifeSquare'] > df['Square'])\n",
    "    adata['tmp_filter_col'] = tmp_filter_col(adata)\n",
    "    print('Before LifeSquare⇔Square swap: ', adata.loc[tmp_filter_col, 'Id'].count())\n",
    "    adata.loc[adata['tmp_filter_col'], 'LifeSquare'], adata.loc[adata['tmp_filter_col'], 'Square'] = adata.loc[adata['tmp_filter_col'], 'Square'], adata.loc[adata['tmp_filter_col'], 'LifeSquare']\n",
    "    print('After LifeSquare⇔Square swap: ', adata.loc[tmp_filter_col, 'Id'].count())\n",
    "    adata.drop(columns=['tmp_filter_col'], inplace=True)\n",
    "    return adata\n",
    "data = swap_lifesquare_with_square(data.copy())"
   ]
  },
  {
   "cell_type": "markdown",
   "metadata": {},
   "source": [
    "## Swap bigger 'Floor' with 'HouseFloor'"
   ]
  },
  {
   "cell_type": "code",
   "execution_count": 86,
   "metadata": {},
   "outputs": [
    {
     "name": "stdout",
     "output_type": "stream",
     "text": [
      "Before Floor⇔HouseFloor swap:  1556\n",
      "After Floor⇔HouseFloor swap:  0\n"
     ]
    }
   ],
   "source": [
    "def swap_floor_with_housefloor(adata):\n",
    "    tmp_filter_col = lambda df: (df['HouseFloor'] > 0) & (df['Floor'] > df['HouseFloor'])\n",
    "    adata['tmp_filter_col'] = tmp_filter_col(adata)\n",
    "    print('Before Floor⇔HouseFloor swap: ', adata.loc[tmp_filter_col, 'Id'].count())\n",
    "    adata.loc[adata['tmp_filter_col'], 'Floor'], adata.loc[adata['tmp_filter_col'], 'HouseFloor'] = adata.loc[adata['tmp_filter_col'], 'HouseFloor'], adata.loc[adata['tmp_filter_col'], 'Floor']\n",
    "    print('After Floor⇔HouseFloor swap: ', adata.loc[tmp_filter_col, 'Id'].count())\n",
    "    adata.drop(columns=['tmp_filter_col'], inplace=True)\n",
    "    return adata\n",
    "data = swap_floor_with_housefloor(data.copy())"
   ]
  },
  {
   "cell_type": "code",
   "execution_count": 8,
   "metadata": {},
   "outputs": [
    {
     "data": {
      "text/html": [
       "<div>\n",
       "<style scoped>\n",
       "    .dataframe tbody tr th:only-of-type {\n",
       "        vertical-align: middle;\n",
       "    }\n",
       "\n",
       "    .dataframe tbody tr th {\n",
       "        vertical-align: top;\n",
       "    }\n",
       "\n",
       "    .dataframe thead th {\n",
       "        text-align: right;\n",
       "    }\n",
       "</style>\n",
       "<table border=\"1\" class=\"dataframe\">\n",
       "  <thead>\n",
       "    <tr style=\"text-align: right;\">\n",
       "      <th></th>\n",
       "      <th>Id</th>\n",
       "      <th>DistrictId</th>\n",
       "      <th>Rooms</th>\n",
       "      <th>Square</th>\n",
       "      <th>LifeSquare</th>\n",
       "      <th>KitchenSquare</th>\n",
       "      <th>Floor</th>\n",
       "      <th>HouseFloor</th>\n",
       "      <th>HouseYear</th>\n",
       "      <th>Ecology_1</th>\n",
       "      <th>Social_1</th>\n",
       "      <th>Social_2</th>\n",
       "      <th>Social_3</th>\n",
       "      <th>Healthcare_1</th>\n",
       "      <th>Helthcare_2</th>\n",
       "      <th>Shops_1</th>\n",
       "      <th>Price</th>\n",
       "      <th>Ecology_2_A</th>\n",
       "      <th>Ecology_2_B</th>\n",
       "      <th>Ecology_3_A</th>\n",
       "      <th>Ecology_3_B</th>\n",
       "      <th>Shops_2_A</th>\n",
       "      <th>Shops_2_B</th>\n",
       "    </tr>\n",
       "  </thead>\n",
       "  <tbody>\n",
       "    <tr>\n",
       "      <th>count</th>\n",
       "      <td>10000.00000</td>\n",
       "      <td>10000.000000</td>\n",
       "      <td>10000.000000</td>\n",
       "      <td>10000.000000</td>\n",
       "      <td>7887.000000</td>\n",
       "      <td>10000.000000</td>\n",
       "      <td>10000.000000</td>\n",
       "      <td>10000.000000</td>\n",
       "      <td>1.000000e+04</td>\n",
       "      <td>10000.000000</td>\n",
       "      <td>10000.000000</td>\n",
       "      <td>10000.000000</td>\n",
       "      <td>10000.000000</td>\n",
       "      <td>5202.000000</td>\n",
       "      <td>10000.000000</td>\n",
       "      <td>10000.000000</td>\n",
       "      <td>10000.000000</td>\n",
       "      <td>10000.000000</td>\n",
       "      <td>10000.000000</td>\n",
       "      <td>10000.000000</td>\n",
       "      <td>10000.000000</td>\n",
       "      <td>10000.000000</td>\n",
       "      <td>10000.000000</td>\n",
       "    </tr>\n",
       "    <tr>\n",
       "      <th>mean</th>\n",
       "      <td>8383.40770</td>\n",
       "      <td>50.400800</td>\n",
       "      <td>1.890500</td>\n",
       "      <td>57.223484</td>\n",
       "      <td>36.048753</td>\n",
       "      <td>6.273300</td>\n",
       "      <td>7.943200</td>\n",
       "      <td>13.192900</td>\n",
       "      <td>3.990166e+03</td>\n",
       "      <td>0.118858</td>\n",
       "      <td>24.687000</td>\n",
       "      <td>5352.157400</td>\n",
       "      <td>8.039200</td>\n",
       "      <td>1142.904460</td>\n",
       "      <td>1.319500</td>\n",
       "      <td>4.231300</td>\n",
       "      <td>214138.857399</td>\n",
       "      <td>0.009700</td>\n",
       "      <td>0.990300</td>\n",
       "      <td>0.027500</td>\n",
       "      <td>0.972500</td>\n",
       "      <td>0.082500</td>\n",
       "      <td>0.917500</td>\n",
       "    </tr>\n",
       "    <tr>\n",
       "      <th>std</th>\n",
       "      <td>4859.01902</td>\n",
       "      <td>43.587592</td>\n",
       "      <td>0.839512</td>\n",
       "      <td>77.309420</td>\n",
       "      <td>19.372398</td>\n",
       "      <td>28.560917</td>\n",
       "      <td>5.228127</td>\n",
       "      <td>6.372139</td>\n",
       "      <td>2.005003e+05</td>\n",
       "      <td>0.119025</td>\n",
       "      <td>17.532614</td>\n",
       "      <td>4006.799803</td>\n",
       "      <td>23.831875</td>\n",
       "      <td>1021.517264</td>\n",
       "      <td>1.493601</td>\n",
       "      <td>4.806341</td>\n",
       "      <td>92872.293865</td>\n",
       "      <td>0.098015</td>\n",
       "      <td>0.098015</td>\n",
       "      <td>0.163543</td>\n",
       "      <td>0.163543</td>\n",
       "      <td>0.275139</td>\n",
       "      <td>0.275139</td>\n",
       "    </tr>\n",
       "    <tr>\n",
       "      <th>min</th>\n",
       "      <td>0.00000</td>\n",
       "      <td>0.000000</td>\n",
       "      <td>0.000000</td>\n",
       "      <td>2.377248</td>\n",
       "      <td>0.370619</td>\n",
       "      <td>0.000000</td>\n",
       "      <td>1.000000</td>\n",
       "      <td>0.000000</td>\n",
       "      <td>1.910000e+03</td>\n",
       "      <td>0.000000</td>\n",
       "      <td>0.000000</td>\n",
       "      <td>168.000000</td>\n",
       "      <td>0.000000</td>\n",
       "      <td>0.000000</td>\n",
       "      <td>0.000000</td>\n",
       "      <td>0.000000</td>\n",
       "      <td>59174.778028</td>\n",
       "      <td>0.000000</td>\n",
       "      <td>0.000000</td>\n",
       "      <td>0.000000</td>\n",
       "      <td>0.000000</td>\n",
       "      <td>0.000000</td>\n",
       "      <td>0.000000</td>\n",
       "    </tr>\n",
       "    <tr>\n",
       "      <th>25%</th>\n",
       "      <td>4169.50000</td>\n",
       "      <td>20.000000</td>\n",
       "      <td>1.000000</td>\n",
       "      <td>41.866858</td>\n",
       "      <td>22.765174</td>\n",
       "      <td>1.000000</td>\n",
       "      <td>4.000000</td>\n",
       "      <td>9.000000</td>\n",
       "      <td>1.974000e+03</td>\n",
       "      <td>0.017647</td>\n",
       "      <td>6.000000</td>\n",
       "      <td>1564.000000</td>\n",
       "      <td>0.000000</td>\n",
       "      <td>350.000000</td>\n",
       "      <td>0.000000</td>\n",
       "      <td>1.000000</td>\n",
       "      <td>153872.633942</td>\n",
       "      <td>0.000000</td>\n",
       "      <td>1.000000</td>\n",
       "      <td>0.000000</td>\n",
       "      <td>1.000000</td>\n",
       "      <td>0.000000</td>\n",
       "      <td>1.000000</td>\n",
       "    </tr>\n",
       "    <tr>\n",
       "      <th>50%</th>\n",
       "      <td>8394.50000</td>\n",
       "      <td>36.000000</td>\n",
       "      <td>2.000000</td>\n",
       "      <td>52.633651</td>\n",
       "      <td>32.760108</td>\n",
       "      <td>6.000000</td>\n",
       "      <td>7.000000</td>\n",
       "      <td>14.000000</td>\n",
       "      <td>1.977000e+03</td>\n",
       "      <td>0.075424</td>\n",
       "      <td>25.000000</td>\n",
       "      <td>5285.000000</td>\n",
       "      <td>2.000000</td>\n",
       "      <td>900.000000</td>\n",
       "      <td>1.000000</td>\n",
       "      <td>3.000000</td>\n",
       "      <td>192269.644879</td>\n",
       "      <td>0.000000</td>\n",
       "      <td>1.000000</td>\n",
       "      <td>0.000000</td>\n",
       "      <td>1.000000</td>\n",
       "      <td>0.000000</td>\n",
       "      <td>1.000000</td>\n",
       "    </tr>\n",
       "    <tr>\n",
       "      <th>75%</th>\n",
       "      <td>12592.50000</td>\n",
       "      <td>75.000000</td>\n",
       "      <td>2.000000</td>\n",
       "      <td>66.004634</td>\n",
       "      <td>45.029599</td>\n",
       "      <td>9.000000</td>\n",
       "      <td>11.000000</td>\n",
       "      <td>17.000000</td>\n",
       "      <td>2.001000e+03</td>\n",
       "      <td>0.195781</td>\n",
       "      <td>36.000000</td>\n",
       "      <td>7227.000000</td>\n",
       "      <td>5.000000</td>\n",
       "      <td>1548.000000</td>\n",
       "      <td>2.000000</td>\n",
       "      <td>6.000000</td>\n",
       "      <td>249135.462171</td>\n",
       "      <td>0.000000</td>\n",
       "      <td>1.000000</td>\n",
       "      <td>0.000000</td>\n",
       "      <td>1.000000</td>\n",
       "      <td>0.000000</td>\n",
       "      <td>1.000000</td>\n",
       "    </tr>\n",
       "    <tr>\n",
       "      <th>max</th>\n",
       "      <td>16798.00000</td>\n",
       "      <td>209.000000</td>\n",
       "      <td>19.000000</td>\n",
       "      <td>7480.592129</td>\n",
       "      <td>638.163193</td>\n",
       "      <td>2014.000000</td>\n",
       "      <td>42.000000</td>\n",
       "      <td>117.000000</td>\n",
       "      <td>2.005201e+07</td>\n",
       "      <td>0.521867</td>\n",
       "      <td>74.000000</td>\n",
       "      <td>19083.000000</td>\n",
       "      <td>141.000000</td>\n",
       "      <td>4849.000000</td>\n",
       "      <td>6.000000</td>\n",
       "      <td>23.000000</td>\n",
       "      <td>633233.466570</td>\n",
       "      <td>1.000000</td>\n",
       "      <td>1.000000</td>\n",
       "      <td>1.000000</td>\n",
       "      <td>1.000000</td>\n",
       "      <td>1.000000</td>\n",
       "      <td>1.000000</td>\n",
       "    </tr>\n",
       "  </tbody>\n",
       "</table>\n",
       "</div>"
      ],
      "text/plain": [
       "                Id    DistrictId         Rooms        Square   LifeSquare  \\\n",
       "count  10000.00000  10000.000000  10000.000000  10000.000000  7887.000000   \n",
       "mean    8383.40770     50.400800      1.890500     57.223484    36.048753   \n",
       "std     4859.01902     43.587592      0.839512     77.309420    19.372398   \n",
       "min        0.00000      0.000000      0.000000      2.377248     0.370619   \n",
       "25%     4169.50000     20.000000      1.000000     41.866858    22.765174   \n",
       "50%     8394.50000     36.000000      2.000000     52.633651    32.760108   \n",
       "75%    12592.50000     75.000000      2.000000     66.004634    45.029599   \n",
       "max    16798.00000    209.000000     19.000000   7480.592129   638.163193   \n",
       "\n",
       "       KitchenSquare         Floor    HouseFloor     HouseYear     Ecology_1  \\\n",
       "count   10000.000000  10000.000000  10000.000000  1.000000e+04  10000.000000   \n",
       "mean        6.273300      7.943200     13.192900  3.990166e+03      0.118858   \n",
       "std        28.560917      5.228127      6.372139  2.005003e+05      0.119025   \n",
       "min         0.000000      1.000000      0.000000  1.910000e+03      0.000000   \n",
       "25%         1.000000      4.000000      9.000000  1.974000e+03      0.017647   \n",
       "50%         6.000000      7.000000     14.000000  1.977000e+03      0.075424   \n",
       "75%         9.000000     11.000000     17.000000  2.001000e+03      0.195781   \n",
       "max      2014.000000     42.000000    117.000000  2.005201e+07      0.521867   \n",
       "\n",
       "           Social_1      Social_2      Social_3  Healthcare_1   Helthcare_2  \\\n",
       "count  10000.000000  10000.000000  10000.000000   5202.000000  10000.000000   \n",
       "mean      24.687000   5352.157400      8.039200   1142.904460      1.319500   \n",
       "std       17.532614   4006.799803     23.831875   1021.517264      1.493601   \n",
       "min        0.000000    168.000000      0.000000      0.000000      0.000000   \n",
       "25%        6.000000   1564.000000      0.000000    350.000000      0.000000   \n",
       "50%       25.000000   5285.000000      2.000000    900.000000      1.000000   \n",
       "75%       36.000000   7227.000000      5.000000   1548.000000      2.000000   \n",
       "max       74.000000  19083.000000    141.000000   4849.000000      6.000000   \n",
       "\n",
       "            Shops_1          Price   Ecology_2_A   Ecology_2_B   Ecology_3_A  \\\n",
       "count  10000.000000   10000.000000  10000.000000  10000.000000  10000.000000   \n",
       "mean       4.231300  214138.857399      0.009700      0.990300      0.027500   \n",
       "std        4.806341   92872.293865      0.098015      0.098015      0.163543   \n",
       "min        0.000000   59174.778028      0.000000      0.000000      0.000000   \n",
       "25%        1.000000  153872.633942      0.000000      1.000000      0.000000   \n",
       "50%        3.000000  192269.644879      0.000000      1.000000      0.000000   \n",
       "75%        6.000000  249135.462171      0.000000      1.000000      0.000000   \n",
       "max       23.000000  633233.466570      1.000000      1.000000      1.000000   \n",
       "\n",
       "        Ecology_3_B     Shops_2_A     Shops_2_B  \n",
       "count  10000.000000  10000.000000  10000.000000  \n",
       "mean       0.972500      0.082500      0.917500  \n",
       "std        0.163543      0.275139      0.275139  \n",
       "min        0.000000      0.000000      0.000000  \n",
       "25%        1.000000      0.000000      1.000000  \n",
       "50%        1.000000      0.000000      1.000000  \n",
       "75%        1.000000      0.000000      1.000000  \n",
       "max        1.000000      1.000000      1.000000  "
      ]
     },
     "execution_count": 8,
     "metadata": {},
     "output_type": "execute_result"
    }
   ],
   "source": [
    "data.describe()"
   ]
  },
  {
   "cell_type": "markdown",
   "metadata": {},
   "source": [
    "# Корелляция"
   ]
  },
  {
   "cell_type": "code",
   "execution_count": 9,
   "metadata": {},
   "outputs": [
    {
     "data": {
      "text/html": [
       "<div>\n",
       "<style scoped>\n",
       "    .dataframe tbody tr th:only-of-type {\n",
       "        vertical-align: middle;\n",
       "    }\n",
       "\n",
       "    .dataframe tbody tr th {\n",
       "        vertical-align: top;\n",
       "    }\n",
       "\n",
       "    .dataframe thead th {\n",
       "        text-align: right;\n",
       "    }\n",
       "</style>\n",
       "<table border=\"1\" class=\"dataframe\">\n",
       "  <thead>\n",
       "    <tr style=\"text-align: right;\">\n",
       "      <th></th>\n",
       "      <th>Id</th>\n",
       "      <th>DistrictId</th>\n",
       "      <th>Rooms</th>\n",
       "      <th>Square</th>\n",
       "      <th>LifeSquare</th>\n",
       "      <th>KitchenSquare</th>\n",
       "      <th>Floor</th>\n",
       "      <th>HouseFloor</th>\n",
       "      <th>HouseYear</th>\n",
       "      <th>Ecology_1</th>\n",
       "      <th>Social_1</th>\n",
       "      <th>Social_2</th>\n",
       "      <th>Social_3</th>\n",
       "      <th>Healthcare_1</th>\n",
       "      <th>Helthcare_2</th>\n",
       "      <th>Shops_1</th>\n",
       "      <th>Price</th>\n",
       "      <th>Ecology_2_A</th>\n",
       "      <th>Ecology_2_B</th>\n",
       "      <th>Ecology_3_A</th>\n",
       "      <th>Ecology_3_B</th>\n",
       "      <th>Shops_2_A</th>\n",
       "      <th>Shops_2_B</th>\n",
       "    </tr>\n",
       "  </thead>\n",
       "  <tbody>\n",
       "    <tr>\n",
       "      <th>Id</th>\n",
       "      <td>NaN</td>\n",
       "      <td>NaN</td>\n",
       "      <td>NaN</td>\n",
       "      <td>NaN</td>\n",
       "      <td>NaN</td>\n",
       "      <td>NaN</td>\n",
       "      <td>NaN</td>\n",
       "      <td>NaN</td>\n",
       "      <td>NaN</td>\n",
       "      <td>NaN</td>\n",
       "      <td>NaN</td>\n",
       "      <td>NaN</td>\n",
       "      <td>NaN</td>\n",
       "      <td>NaN</td>\n",
       "      <td>NaN</td>\n",
       "      <td>NaN</td>\n",
       "      <td>NaN</td>\n",
       "      <td>NaN</td>\n",
       "      <td>NaN</td>\n",
       "      <td>NaN</td>\n",
       "      <td>NaN</td>\n",
       "      <td>NaN</td>\n",
       "      <td>NaN</td>\n",
       "    </tr>\n",
       "    <tr>\n",
       "      <th>DistrictId</th>\n",
       "      <td>NaN</td>\n",
       "      <td>NaN</td>\n",
       "      <td>NaN</td>\n",
       "      <td>NaN</td>\n",
       "      <td>NaN</td>\n",
       "      <td>NaN</td>\n",
       "      <td>NaN</td>\n",
       "      <td>-0.181800</td>\n",
       "      <td>NaN</td>\n",
       "      <td>NaN</td>\n",
       "      <td>0.246463</td>\n",
       "      <td>0.167479</td>\n",
       "      <td>0.136095</td>\n",
       "      <td>0.304335</td>\n",
       "      <td>0.306147</td>\n",
       "      <td>0.174214</td>\n",
       "      <td>0.265100</td>\n",
       "      <td>NaN</td>\n",
       "      <td>NaN</td>\n",
       "      <td>NaN</td>\n",
       "      <td>NaN</td>\n",
       "      <td>NaN</td>\n",
       "      <td>NaN</td>\n",
       "    </tr>\n",
       "    <tr>\n",
       "      <th>Rooms</th>\n",
       "      <td>NaN</td>\n",
       "      <td>NaN</td>\n",
       "      <td>NaN</td>\n",
       "      <td>0.193684</td>\n",
       "      <td>0.521674</td>\n",
       "      <td>NaN</td>\n",
       "      <td>NaN</td>\n",
       "      <td>NaN</td>\n",
       "      <td>NaN</td>\n",
       "      <td>NaN</td>\n",
       "      <td>NaN</td>\n",
       "      <td>NaN</td>\n",
       "      <td>NaN</td>\n",
       "      <td>NaN</td>\n",
       "      <td>NaN</td>\n",
       "      <td>NaN</td>\n",
       "      <td>0.550291</td>\n",
       "      <td>NaN</td>\n",
       "      <td>NaN</td>\n",
       "      <td>NaN</td>\n",
       "      <td>NaN</td>\n",
       "      <td>NaN</td>\n",
       "      <td>NaN</td>\n",
       "    </tr>\n",
       "    <tr>\n",
       "      <th>Square</th>\n",
       "      <td>NaN</td>\n",
       "      <td>NaN</td>\n",
       "      <td>0.193684</td>\n",
       "      <td>NaN</td>\n",
       "      <td>0.219987</td>\n",
       "      <td>NaN</td>\n",
       "      <td>NaN</td>\n",
       "      <td>NaN</td>\n",
       "      <td>NaN</td>\n",
       "      <td>NaN</td>\n",
       "      <td>NaN</td>\n",
       "      <td>NaN</td>\n",
       "      <td>NaN</td>\n",
       "      <td>NaN</td>\n",
       "      <td>NaN</td>\n",
       "      <td>NaN</td>\n",
       "      <td>0.142499</td>\n",
       "      <td>NaN</td>\n",
       "      <td>NaN</td>\n",
       "      <td>NaN</td>\n",
       "      <td>NaN</td>\n",
       "      <td>NaN</td>\n",
       "      <td>NaN</td>\n",
       "    </tr>\n",
       "    <tr>\n",
       "      <th>LifeSquare</th>\n",
       "      <td>NaN</td>\n",
       "      <td>NaN</td>\n",
       "      <td>0.521674</td>\n",
       "      <td>0.219987</td>\n",
       "      <td>NaN</td>\n",
       "      <td>NaN</td>\n",
       "      <td>NaN</td>\n",
       "      <td>0.101077</td>\n",
       "      <td>NaN</td>\n",
       "      <td>NaN</td>\n",
       "      <td>-0.133789</td>\n",
       "      <td>-0.101346</td>\n",
       "      <td>NaN</td>\n",
       "      <td>NaN</td>\n",
       "      <td>NaN</td>\n",
       "      <td>NaN</td>\n",
       "      <td>0.363570</td>\n",
       "      <td>NaN</td>\n",
       "      <td>NaN</td>\n",
       "      <td>NaN</td>\n",
       "      <td>NaN</td>\n",
       "      <td>NaN</td>\n",
       "      <td>NaN</td>\n",
       "    </tr>\n",
       "    <tr>\n",
       "      <th>KitchenSquare</th>\n",
       "      <td>NaN</td>\n",
       "      <td>NaN</td>\n",
       "      <td>NaN</td>\n",
       "      <td>NaN</td>\n",
       "      <td>NaN</td>\n",
       "      <td>NaN</td>\n",
       "      <td>NaN</td>\n",
       "      <td>NaN</td>\n",
       "      <td>NaN</td>\n",
       "      <td>NaN</td>\n",
       "      <td>NaN</td>\n",
       "      <td>NaN</td>\n",
       "      <td>NaN</td>\n",
       "      <td>NaN</td>\n",
       "      <td>NaN</td>\n",
       "      <td>NaN</td>\n",
       "      <td>NaN</td>\n",
       "      <td>NaN</td>\n",
       "      <td>NaN</td>\n",
       "      <td>NaN</td>\n",
       "      <td>NaN</td>\n",
       "      <td>NaN</td>\n",
       "      <td>NaN</td>\n",
       "    </tr>\n",
       "    <tr>\n",
       "      <th>Floor</th>\n",
       "      <td>NaN</td>\n",
       "      <td>NaN</td>\n",
       "      <td>NaN</td>\n",
       "      <td>NaN</td>\n",
       "      <td>NaN</td>\n",
       "      <td>NaN</td>\n",
       "      <td>NaN</td>\n",
       "      <td>0.528385</td>\n",
       "      <td>NaN</td>\n",
       "      <td>NaN</td>\n",
       "      <td>NaN</td>\n",
       "      <td>NaN</td>\n",
       "      <td>NaN</td>\n",
       "      <td>-0.112202</td>\n",
       "      <td>NaN</td>\n",
       "      <td>NaN</td>\n",
       "      <td>0.113605</td>\n",
       "      <td>NaN</td>\n",
       "      <td>NaN</td>\n",
       "      <td>NaN</td>\n",
       "      <td>NaN</td>\n",
       "      <td>NaN</td>\n",
       "      <td>NaN</td>\n",
       "    </tr>\n",
       "    <tr>\n",
       "      <th>HouseFloor</th>\n",
       "      <td>NaN</td>\n",
       "      <td>-0.181800</td>\n",
       "      <td>NaN</td>\n",
       "      <td>NaN</td>\n",
       "      <td>0.101077</td>\n",
       "      <td>NaN</td>\n",
       "      <td>0.528385</td>\n",
       "      <td>NaN</td>\n",
       "      <td>NaN</td>\n",
       "      <td>NaN</td>\n",
       "      <td>NaN</td>\n",
       "      <td>NaN</td>\n",
       "      <td>NaN</td>\n",
       "      <td>-0.173270</td>\n",
       "      <td>NaN</td>\n",
       "      <td>NaN</td>\n",
       "      <td>0.106535</td>\n",
       "      <td>NaN</td>\n",
       "      <td>NaN</td>\n",
       "      <td>NaN</td>\n",
       "      <td>NaN</td>\n",
       "      <td>NaN</td>\n",
       "      <td>NaN</td>\n",
       "    </tr>\n",
       "    <tr>\n",
       "      <th>HouseYear</th>\n",
       "      <td>NaN</td>\n",
       "      <td>NaN</td>\n",
       "      <td>NaN</td>\n",
       "      <td>NaN</td>\n",
       "      <td>NaN</td>\n",
       "      <td>NaN</td>\n",
       "      <td>NaN</td>\n",
       "      <td>NaN</td>\n",
       "      <td>NaN</td>\n",
       "      <td>NaN</td>\n",
       "      <td>NaN</td>\n",
       "      <td>NaN</td>\n",
       "      <td>NaN</td>\n",
       "      <td>NaN</td>\n",
       "      <td>NaN</td>\n",
       "      <td>NaN</td>\n",
       "      <td>NaN</td>\n",
       "      <td>NaN</td>\n",
       "      <td>NaN</td>\n",
       "      <td>NaN</td>\n",
       "      <td>NaN</td>\n",
       "      <td>NaN</td>\n",
       "      <td>NaN</td>\n",
       "    </tr>\n",
       "    <tr>\n",
       "      <th>Ecology_1</th>\n",
       "      <td>NaN</td>\n",
       "      <td>NaN</td>\n",
       "      <td>NaN</td>\n",
       "      <td>NaN</td>\n",
       "      <td>NaN</td>\n",
       "      <td>NaN</td>\n",
       "      <td>NaN</td>\n",
       "      <td>NaN</td>\n",
       "      <td>NaN</td>\n",
       "      <td>NaN</td>\n",
       "      <td>NaN</td>\n",
       "      <td>NaN</td>\n",
       "      <td>-0.124068</td>\n",
       "      <td>NaN</td>\n",
       "      <td>NaN</td>\n",
       "      <td>NaN</td>\n",
       "      <td>NaN</td>\n",
       "      <td>0.110725</td>\n",
       "      <td>-0.110725</td>\n",
       "      <td>0.223197</td>\n",
       "      <td>-0.223197</td>\n",
       "      <td>NaN</td>\n",
       "      <td>NaN</td>\n",
       "    </tr>\n",
       "    <tr>\n",
       "      <th>Social_1</th>\n",
       "      <td>NaN</td>\n",
       "      <td>0.246463</td>\n",
       "      <td>NaN</td>\n",
       "      <td>NaN</td>\n",
       "      <td>-0.133789</td>\n",
       "      <td>NaN</td>\n",
       "      <td>NaN</td>\n",
       "      <td>NaN</td>\n",
       "      <td>NaN</td>\n",
       "      <td>NaN</td>\n",
       "      <td>NaN</td>\n",
       "      <td>0.955988</td>\n",
       "      <td>NaN</td>\n",
       "      <td>NaN</td>\n",
       "      <td>0.524593</td>\n",
       "      <td>0.526272</td>\n",
       "      <td>0.263286</td>\n",
       "      <td>NaN</td>\n",
       "      <td>NaN</td>\n",
       "      <td>NaN</td>\n",
       "      <td>NaN</td>\n",
       "      <td>-0.144644</td>\n",
       "      <td>0.144644</td>\n",
       "    </tr>\n",
       "    <tr>\n",
       "      <th>Social_2</th>\n",
       "      <td>NaN</td>\n",
       "      <td>0.167479</td>\n",
       "      <td>NaN</td>\n",
       "      <td>NaN</td>\n",
       "      <td>-0.101346</td>\n",
       "      <td>NaN</td>\n",
       "      <td>NaN</td>\n",
       "      <td>NaN</td>\n",
       "      <td>NaN</td>\n",
       "      <td>NaN</td>\n",
       "      <td>0.955988</td>\n",
       "      <td>NaN</td>\n",
       "      <td>NaN</td>\n",
       "      <td>NaN</td>\n",
       "      <td>0.473193</td>\n",
       "      <td>0.559163</td>\n",
       "      <td>0.239226</td>\n",
       "      <td>NaN</td>\n",
       "      <td>NaN</td>\n",
       "      <td>NaN</td>\n",
       "      <td>NaN</td>\n",
       "      <td>-0.143777</td>\n",
       "      <td>0.143777</td>\n",
       "    </tr>\n",
       "    <tr>\n",
       "      <th>Social_3</th>\n",
       "      <td>NaN</td>\n",
       "      <td>0.136095</td>\n",
       "      <td>NaN</td>\n",
       "      <td>NaN</td>\n",
       "      <td>NaN</td>\n",
       "      <td>NaN</td>\n",
       "      <td>NaN</td>\n",
       "      <td>NaN</td>\n",
       "      <td>NaN</td>\n",
       "      <td>-0.124068</td>\n",
       "      <td>NaN</td>\n",
       "      <td>NaN</td>\n",
       "      <td>NaN</td>\n",
       "      <td>0.133877</td>\n",
       "      <td>0.286434</td>\n",
       "      <td>0.662113</td>\n",
       "      <td>NaN</td>\n",
       "      <td>NaN</td>\n",
       "      <td>NaN</td>\n",
       "      <td>NaN</td>\n",
       "      <td>NaN</td>\n",
       "      <td>NaN</td>\n",
       "      <td>NaN</td>\n",
       "    </tr>\n",
       "    <tr>\n",
       "      <th>Healthcare_1</th>\n",
       "      <td>NaN</td>\n",
       "      <td>0.304335</td>\n",
       "      <td>NaN</td>\n",
       "      <td>NaN</td>\n",
       "      <td>NaN</td>\n",
       "      <td>NaN</td>\n",
       "      <td>-0.112202</td>\n",
       "      <td>-0.173270</td>\n",
       "      <td>NaN</td>\n",
       "      <td>NaN</td>\n",
       "      <td>NaN</td>\n",
       "      <td>NaN</td>\n",
       "      <td>0.133877</td>\n",
       "      <td>NaN</td>\n",
       "      <td>0.203177</td>\n",
       "      <td>NaN</td>\n",
       "      <td>0.138755</td>\n",
       "      <td>NaN</td>\n",
       "      <td>NaN</td>\n",
       "      <td>0.114715</td>\n",
       "      <td>-0.114715</td>\n",
       "      <td>NaN</td>\n",
       "      <td>NaN</td>\n",
       "    </tr>\n",
       "    <tr>\n",
       "      <th>Helthcare_2</th>\n",
       "      <td>NaN</td>\n",
       "      <td>0.306147</td>\n",
       "      <td>NaN</td>\n",
       "      <td>NaN</td>\n",
       "      <td>NaN</td>\n",
       "      <td>NaN</td>\n",
       "      <td>NaN</td>\n",
       "      <td>NaN</td>\n",
       "      <td>NaN</td>\n",
       "      <td>NaN</td>\n",
       "      <td>0.524593</td>\n",
       "      <td>0.473193</td>\n",
       "      <td>0.286434</td>\n",
       "      <td>0.203177</td>\n",
       "      <td>NaN</td>\n",
       "      <td>0.474085</td>\n",
       "      <td>0.253090</td>\n",
       "      <td>NaN</td>\n",
       "      <td>NaN</td>\n",
       "      <td>0.133120</td>\n",
       "      <td>-0.133120</td>\n",
       "      <td>-0.123529</td>\n",
       "      <td>0.123529</td>\n",
       "    </tr>\n",
       "    <tr>\n",
       "      <th>Shops_1</th>\n",
       "      <td>NaN</td>\n",
       "      <td>0.174214</td>\n",
       "      <td>NaN</td>\n",
       "      <td>NaN</td>\n",
       "      <td>NaN</td>\n",
       "      <td>NaN</td>\n",
       "      <td>NaN</td>\n",
       "      <td>NaN</td>\n",
       "      <td>NaN</td>\n",
       "      <td>NaN</td>\n",
       "      <td>0.526272</td>\n",
       "      <td>0.559163</td>\n",
       "      <td>0.662113</td>\n",
       "      <td>NaN</td>\n",
       "      <td>0.474085</td>\n",
       "      <td>NaN</td>\n",
       "      <td>0.180876</td>\n",
       "      <td>NaN</td>\n",
       "      <td>NaN</td>\n",
       "      <td>NaN</td>\n",
       "      <td>NaN</td>\n",
       "      <td>-0.139065</td>\n",
       "      <td>0.139065</td>\n",
       "    </tr>\n",
       "    <tr>\n",
       "      <th>Price</th>\n",
       "      <td>NaN</td>\n",
       "      <td>0.265100</td>\n",
       "      <td>0.550291</td>\n",
       "      <td>0.142499</td>\n",
       "      <td>0.363570</td>\n",
       "      <td>NaN</td>\n",
       "      <td>0.113605</td>\n",
       "      <td>0.106535</td>\n",
       "      <td>NaN</td>\n",
       "      <td>NaN</td>\n",
       "      <td>0.263286</td>\n",
       "      <td>0.239226</td>\n",
       "      <td>NaN</td>\n",
       "      <td>0.138755</td>\n",
       "      <td>0.253090</td>\n",
       "      <td>0.180876</td>\n",
       "      <td>NaN</td>\n",
       "      <td>NaN</td>\n",
       "      <td>NaN</td>\n",
       "      <td>NaN</td>\n",
       "      <td>NaN</td>\n",
       "      <td>NaN</td>\n",
       "      <td>NaN</td>\n",
       "    </tr>\n",
       "    <tr>\n",
       "      <th>Ecology_2_A</th>\n",
       "      <td>NaN</td>\n",
       "      <td>NaN</td>\n",
       "      <td>NaN</td>\n",
       "      <td>NaN</td>\n",
       "      <td>NaN</td>\n",
       "      <td>NaN</td>\n",
       "      <td>NaN</td>\n",
       "      <td>NaN</td>\n",
       "      <td>NaN</td>\n",
       "      <td>0.110725</td>\n",
       "      <td>NaN</td>\n",
       "      <td>NaN</td>\n",
       "      <td>NaN</td>\n",
       "      <td>NaN</td>\n",
       "      <td>NaN</td>\n",
       "      <td>NaN</td>\n",
       "      <td>NaN</td>\n",
       "      <td>NaN</td>\n",
       "      <td>NaN</td>\n",
       "      <td>NaN</td>\n",
       "      <td>NaN</td>\n",
       "      <td>NaN</td>\n",
       "      <td>NaN</td>\n",
       "    </tr>\n",
       "    <tr>\n",
       "      <th>Ecology_2_B</th>\n",
       "      <td>NaN</td>\n",
       "      <td>NaN</td>\n",
       "      <td>NaN</td>\n",
       "      <td>NaN</td>\n",
       "      <td>NaN</td>\n",
       "      <td>NaN</td>\n",
       "      <td>NaN</td>\n",
       "      <td>NaN</td>\n",
       "      <td>NaN</td>\n",
       "      <td>-0.110725</td>\n",
       "      <td>NaN</td>\n",
       "      <td>NaN</td>\n",
       "      <td>NaN</td>\n",
       "      <td>NaN</td>\n",
       "      <td>NaN</td>\n",
       "      <td>NaN</td>\n",
       "      <td>NaN</td>\n",
       "      <td>NaN</td>\n",
       "      <td>NaN</td>\n",
       "      <td>NaN</td>\n",
       "      <td>NaN</td>\n",
       "      <td>NaN</td>\n",
       "      <td>NaN</td>\n",
       "    </tr>\n",
       "    <tr>\n",
       "      <th>Ecology_3_A</th>\n",
       "      <td>NaN</td>\n",
       "      <td>NaN</td>\n",
       "      <td>NaN</td>\n",
       "      <td>NaN</td>\n",
       "      <td>NaN</td>\n",
       "      <td>NaN</td>\n",
       "      <td>NaN</td>\n",
       "      <td>NaN</td>\n",
       "      <td>NaN</td>\n",
       "      <td>0.223197</td>\n",
       "      <td>NaN</td>\n",
       "      <td>NaN</td>\n",
       "      <td>NaN</td>\n",
       "      <td>0.114715</td>\n",
       "      <td>0.133120</td>\n",
       "      <td>NaN</td>\n",
       "      <td>NaN</td>\n",
       "      <td>NaN</td>\n",
       "      <td>NaN</td>\n",
       "      <td>NaN</td>\n",
       "      <td>NaN</td>\n",
       "      <td>NaN</td>\n",
       "      <td>NaN</td>\n",
       "    </tr>\n",
       "    <tr>\n",
       "      <th>Ecology_3_B</th>\n",
       "      <td>NaN</td>\n",
       "      <td>NaN</td>\n",
       "      <td>NaN</td>\n",
       "      <td>NaN</td>\n",
       "      <td>NaN</td>\n",
       "      <td>NaN</td>\n",
       "      <td>NaN</td>\n",
       "      <td>NaN</td>\n",
       "      <td>NaN</td>\n",
       "      <td>-0.223197</td>\n",
       "      <td>NaN</td>\n",
       "      <td>NaN</td>\n",
       "      <td>NaN</td>\n",
       "      <td>-0.114715</td>\n",
       "      <td>-0.133120</td>\n",
       "      <td>NaN</td>\n",
       "      <td>NaN</td>\n",
       "      <td>NaN</td>\n",
       "      <td>NaN</td>\n",
       "      <td>NaN</td>\n",
       "      <td>NaN</td>\n",
       "      <td>NaN</td>\n",
       "      <td>NaN</td>\n",
       "    </tr>\n",
       "    <tr>\n",
       "      <th>Shops_2_A</th>\n",
       "      <td>NaN</td>\n",
       "      <td>NaN</td>\n",
       "      <td>NaN</td>\n",
       "      <td>NaN</td>\n",
       "      <td>NaN</td>\n",
       "      <td>NaN</td>\n",
       "      <td>NaN</td>\n",
       "      <td>NaN</td>\n",
       "      <td>NaN</td>\n",
       "      <td>NaN</td>\n",
       "      <td>-0.144644</td>\n",
       "      <td>-0.143777</td>\n",
       "      <td>NaN</td>\n",
       "      <td>NaN</td>\n",
       "      <td>-0.123529</td>\n",
       "      <td>-0.139065</td>\n",
       "      <td>NaN</td>\n",
       "      <td>NaN</td>\n",
       "      <td>NaN</td>\n",
       "      <td>NaN</td>\n",
       "      <td>NaN</td>\n",
       "      <td>NaN</td>\n",
       "      <td>NaN</td>\n",
       "    </tr>\n",
       "    <tr>\n",
       "      <th>Shops_2_B</th>\n",
       "      <td>NaN</td>\n",
       "      <td>NaN</td>\n",
       "      <td>NaN</td>\n",
       "      <td>NaN</td>\n",
       "      <td>NaN</td>\n",
       "      <td>NaN</td>\n",
       "      <td>NaN</td>\n",
       "      <td>NaN</td>\n",
       "      <td>NaN</td>\n",
       "      <td>NaN</td>\n",
       "      <td>0.144644</td>\n",
       "      <td>0.143777</td>\n",
       "      <td>NaN</td>\n",
       "      <td>NaN</td>\n",
       "      <td>0.123529</td>\n",
       "      <td>0.139065</td>\n",
       "      <td>NaN</td>\n",
       "      <td>NaN</td>\n",
       "      <td>NaN</td>\n",
       "      <td>NaN</td>\n",
       "      <td>NaN</td>\n",
       "      <td>NaN</td>\n",
       "      <td>NaN</td>\n",
       "    </tr>\n",
       "  </tbody>\n",
       "</table>\n",
       "</div>"
      ],
      "text/plain": [
       "               Id  DistrictId     Rooms    Square  LifeSquare  KitchenSquare  \\\n",
       "Id            NaN         NaN       NaN       NaN         NaN            NaN   \n",
       "DistrictId    NaN         NaN       NaN       NaN         NaN            NaN   \n",
       "Rooms         NaN         NaN       NaN  0.193684    0.521674            NaN   \n",
       "Square        NaN         NaN  0.193684       NaN    0.219987            NaN   \n",
       "LifeSquare    NaN         NaN  0.521674  0.219987         NaN            NaN   \n",
       "KitchenSquare NaN         NaN       NaN       NaN         NaN            NaN   \n",
       "Floor         NaN         NaN       NaN       NaN         NaN            NaN   \n",
       "HouseFloor    NaN   -0.181800       NaN       NaN    0.101077            NaN   \n",
       "HouseYear     NaN         NaN       NaN       NaN         NaN            NaN   \n",
       "Ecology_1     NaN         NaN       NaN       NaN         NaN            NaN   \n",
       "Social_1      NaN    0.246463       NaN       NaN   -0.133789            NaN   \n",
       "Social_2      NaN    0.167479       NaN       NaN   -0.101346            NaN   \n",
       "Social_3      NaN    0.136095       NaN       NaN         NaN            NaN   \n",
       "Healthcare_1  NaN    0.304335       NaN       NaN         NaN            NaN   \n",
       "Helthcare_2   NaN    0.306147       NaN       NaN         NaN            NaN   \n",
       "Shops_1       NaN    0.174214       NaN       NaN         NaN            NaN   \n",
       "Price         NaN    0.265100  0.550291  0.142499    0.363570            NaN   \n",
       "Ecology_2_A   NaN         NaN       NaN       NaN         NaN            NaN   \n",
       "Ecology_2_B   NaN         NaN       NaN       NaN         NaN            NaN   \n",
       "Ecology_3_A   NaN         NaN       NaN       NaN         NaN            NaN   \n",
       "Ecology_3_B   NaN         NaN       NaN       NaN         NaN            NaN   \n",
       "Shops_2_A     NaN         NaN       NaN       NaN         NaN            NaN   \n",
       "Shops_2_B     NaN         NaN       NaN       NaN         NaN            NaN   \n",
       "\n",
       "                  Floor  HouseFloor  HouseYear  Ecology_1  Social_1  Social_2  \\\n",
       "Id                  NaN         NaN        NaN        NaN       NaN       NaN   \n",
       "DistrictId          NaN   -0.181800        NaN        NaN  0.246463  0.167479   \n",
       "Rooms               NaN         NaN        NaN        NaN       NaN       NaN   \n",
       "Square              NaN         NaN        NaN        NaN       NaN       NaN   \n",
       "LifeSquare          NaN    0.101077        NaN        NaN -0.133789 -0.101346   \n",
       "KitchenSquare       NaN         NaN        NaN        NaN       NaN       NaN   \n",
       "Floor               NaN    0.528385        NaN        NaN       NaN       NaN   \n",
       "HouseFloor     0.528385         NaN        NaN        NaN       NaN       NaN   \n",
       "HouseYear           NaN         NaN        NaN        NaN       NaN       NaN   \n",
       "Ecology_1           NaN         NaN        NaN        NaN       NaN       NaN   \n",
       "Social_1            NaN         NaN        NaN        NaN       NaN  0.955988   \n",
       "Social_2            NaN         NaN        NaN        NaN  0.955988       NaN   \n",
       "Social_3            NaN         NaN        NaN  -0.124068       NaN       NaN   \n",
       "Healthcare_1  -0.112202   -0.173270        NaN        NaN       NaN       NaN   \n",
       "Helthcare_2         NaN         NaN        NaN        NaN  0.524593  0.473193   \n",
       "Shops_1             NaN         NaN        NaN        NaN  0.526272  0.559163   \n",
       "Price          0.113605    0.106535        NaN        NaN  0.263286  0.239226   \n",
       "Ecology_2_A         NaN         NaN        NaN   0.110725       NaN       NaN   \n",
       "Ecology_2_B         NaN         NaN        NaN  -0.110725       NaN       NaN   \n",
       "Ecology_3_A         NaN         NaN        NaN   0.223197       NaN       NaN   \n",
       "Ecology_3_B         NaN         NaN        NaN  -0.223197       NaN       NaN   \n",
       "Shops_2_A           NaN         NaN        NaN        NaN -0.144644 -0.143777   \n",
       "Shops_2_B           NaN         NaN        NaN        NaN  0.144644  0.143777   \n",
       "\n",
       "               Social_3  Healthcare_1  Helthcare_2   Shops_1     Price  \\\n",
       "Id                  NaN           NaN          NaN       NaN       NaN   \n",
       "DistrictId     0.136095      0.304335     0.306147  0.174214  0.265100   \n",
       "Rooms               NaN           NaN          NaN       NaN  0.550291   \n",
       "Square              NaN           NaN          NaN       NaN  0.142499   \n",
       "LifeSquare          NaN           NaN          NaN       NaN  0.363570   \n",
       "KitchenSquare       NaN           NaN          NaN       NaN       NaN   \n",
       "Floor               NaN     -0.112202          NaN       NaN  0.113605   \n",
       "HouseFloor          NaN     -0.173270          NaN       NaN  0.106535   \n",
       "HouseYear           NaN           NaN          NaN       NaN       NaN   \n",
       "Ecology_1     -0.124068           NaN          NaN       NaN       NaN   \n",
       "Social_1            NaN           NaN     0.524593  0.526272  0.263286   \n",
       "Social_2            NaN           NaN     0.473193  0.559163  0.239226   \n",
       "Social_3            NaN      0.133877     0.286434  0.662113       NaN   \n",
       "Healthcare_1   0.133877           NaN     0.203177       NaN  0.138755   \n",
       "Helthcare_2    0.286434      0.203177          NaN  0.474085  0.253090   \n",
       "Shops_1        0.662113           NaN     0.474085       NaN  0.180876   \n",
       "Price               NaN      0.138755     0.253090  0.180876       NaN   \n",
       "Ecology_2_A         NaN           NaN          NaN       NaN       NaN   \n",
       "Ecology_2_B         NaN           NaN          NaN       NaN       NaN   \n",
       "Ecology_3_A         NaN      0.114715     0.133120       NaN       NaN   \n",
       "Ecology_3_B         NaN     -0.114715    -0.133120       NaN       NaN   \n",
       "Shops_2_A           NaN           NaN    -0.123529 -0.139065       NaN   \n",
       "Shops_2_B           NaN           NaN     0.123529  0.139065       NaN   \n",
       "\n",
       "               Ecology_2_A  Ecology_2_B  Ecology_3_A  Ecology_3_B  Shops_2_A  \\\n",
       "Id                     NaN          NaN          NaN          NaN        NaN   \n",
       "DistrictId             NaN          NaN          NaN          NaN        NaN   \n",
       "Rooms                  NaN          NaN          NaN          NaN        NaN   \n",
       "Square                 NaN          NaN          NaN          NaN        NaN   \n",
       "LifeSquare             NaN          NaN          NaN          NaN        NaN   \n",
       "KitchenSquare          NaN          NaN          NaN          NaN        NaN   \n",
       "Floor                  NaN          NaN          NaN          NaN        NaN   \n",
       "HouseFloor             NaN          NaN          NaN          NaN        NaN   \n",
       "HouseYear              NaN          NaN          NaN          NaN        NaN   \n",
       "Ecology_1         0.110725    -0.110725     0.223197    -0.223197        NaN   \n",
       "Social_1               NaN          NaN          NaN          NaN  -0.144644   \n",
       "Social_2               NaN          NaN          NaN          NaN  -0.143777   \n",
       "Social_3               NaN          NaN          NaN          NaN        NaN   \n",
       "Healthcare_1           NaN          NaN     0.114715    -0.114715        NaN   \n",
       "Helthcare_2            NaN          NaN     0.133120    -0.133120  -0.123529   \n",
       "Shops_1                NaN          NaN          NaN          NaN  -0.139065   \n",
       "Price                  NaN          NaN          NaN          NaN        NaN   \n",
       "Ecology_2_A            NaN          NaN          NaN          NaN        NaN   \n",
       "Ecology_2_B            NaN          NaN          NaN          NaN        NaN   \n",
       "Ecology_3_A            NaN          NaN          NaN          NaN        NaN   \n",
       "Ecology_3_B            NaN          NaN          NaN          NaN        NaN   \n",
       "Shops_2_A              NaN          NaN          NaN          NaN        NaN   \n",
       "Shops_2_B              NaN          NaN          NaN          NaN        NaN   \n",
       "\n",
       "               Shops_2_B  \n",
       "Id                   NaN  \n",
       "DistrictId           NaN  \n",
       "Rooms                NaN  \n",
       "Square               NaN  \n",
       "LifeSquare           NaN  \n",
       "KitchenSquare        NaN  \n",
       "Floor                NaN  \n",
       "HouseFloor           NaN  \n",
       "HouseYear            NaN  \n",
       "Ecology_1            NaN  \n",
       "Social_1        0.144644  \n",
       "Social_2        0.143777  \n",
       "Social_3             NaN  \n",
       "Healthcare_1         NaN  \n",
       "Helthcare_2     0.123529  \n",
       "Shops_1         0.139065  \n",
       "Price                NaN  \n",
       "Ecology_2_A          NaN  \n",
       "Ecology_2_B          NaN  \n",
       "Ecology_3_A          NaN  \n",
       "Ecology_3_B          NaN  \n",
       "Shops_2_A            NaN  \n",
       "Shops_2_B            NaN  "
      ]
     },
     "execution_count": 9,
     "metadata": {},
     "output_type": "execute_result"
    }
   ],
   "source": [
    "perceptible_corr = data.corr().where(lambda v: (np.abs(v) > 0.1) & (np.abs(v) < 1))\n",
    "perceptible_corr"
   ]
  },
  {
   "cell_type": "markdown",
   "metadata": {},
   "source": [
    "Колонки, влияющие на цену"
   ]
  },
  {
   "cell_type": "code",
   "execution_count": 10,
   "metadata": {},
   "outputs": [
    {
     "name": "stdout",
     "output_type": "stream",
     "text": [
      "['Rooms' 'LifeSquare' 'DistrictId' 'Social_1' 'Helthcare_2' 'Social_2'\n",
      " 'Shops_1' 'Square' 'Healthcare_1' 'Floor' 'HouseFloor']\n"
     ]
    },
    {
     "data": {
      "text/html": [
       "<div>\n",
       "<style scoped>\n",
       "    .dataframe tbody tr th:only-of-type {\n",
       "        vertical-align: middle;\n",
       "    }\n",
       "\n",
       "    .dataframe tbody tr th {\n",
       "        vertical-align: top;\n",
       "    }\n",
       "\n",
       "    .dataframe thead th {\n",
       "        text-align: right;\n",
       "    }\n",
       "</style>\n",
       "<table border=\"1\" class=\"dataframe\">\n",
       "  <thead>\n",
       "    <tr style=\"text-align: right;\">\n",
       "      <th></th>\n",
       "      <th>Price</th>\n",
       "    </tr>\n",
       "  </thead>\n",
       "  <tbody>\n",
       "    <tr>\n",
       "      <th>Rooms</th>\n",
       "      <td>0.550291</td>\n",
       "    </tr>\n",
       "    <tr>\n",
       "      <th>LifeSquare</th>\n",
       "      <td>0.363570</td>\n",
       "    </tr>\n",
       "    <tr>\n",
       "      <th>DistrictId</th>\n",
       "      <td>0.265100</td>\n",
       "    </tr>\n",
       "    <tr>\n",
       "      <th>Social_1</th>\n",
       "      <td>0.263286</td>\n",
       "    </tr>\n",
       "    <tr>\n",
       "      <th>Helthcare_2</th>\n",
       "      <td>0.253090</td>\n",
       "    </tr>\n",
       "    <tr>\n",
       "      <th>Social_2</th>\n",
       "      <td>0.239226</td>\n",
       "    </tr>\n",
       "    <tr>\n",
       "      <th>Shops_1</th>\n",
       "      <td>0.180876</td>\n",
       "    </tr>\n",
       "    <tr>\n",
       "      <th>Square</th>\n",
       "      <td>0.142499</td>\n",
       "    </tr>\n",
       "    <tr>\n",
       "      <th>Healthcare_1</th>\n",
       "      <td>0.138755</td>\n",
       "    </tr>\n",
       "    <tr>\n",
       "      <th>Floor</th>\n",
       "      <td>0.113605</td>\n",
       "    </tr>\n",
       "    <tr>\n",
       "      <th>HouseFloor</th>\n",
       "      <td>0.106535</td>\n",
       "    </tr>\n",
       "  </tbody>\n",
       "</table>\n",
       "</div>"
      ],
      "text/plain": [
       "                 Price\n",
       "Rooms         0.550291\n",
       "LifeSquare    0.363570\n",
       "DistrictId    0.265100\n",
       "Social_1      0.263286\n",
       "Helthcare_2   0.253090\n",
       "Social_2      0.239226\n",
       "Shops_1       0.180876\n",
       "Square        0.142499\n",
       "Healthcare_1  0.138755\n",
       "Floor         0.113605\n",
       "HouseFloor    0.106535"
      ]
     },
     "execution_count": 10,
     "metadata": {},
     "output_type": "execute_result"
    }
   ],
   "source": [
    "price_corr_columns = perceptible_corr[['Price']].dropna().sort_values('Price', ascending=False)\n",
    "print(price_corr_columns.index.values)\n",
    "price_corr_columns"
   ]
  },
  {
   "cell_type": "markdown",
   "metadata": {},
   "source": [
    "# Выбросы RSL (Rooms, Square, LifeSquare)"
   ]
  },
  {
   "cell_type": "markdown",
   "metadata": {},
   "source": [
    "Почти всегда данные имеют различные выброс и просто неверные значения, которые тем или иным способом попали в датасет. Найдём самое чистое подмножество этих данных и, на основе его значений, исправим остальные."
   ]
  },
  {
   "cell_type": "markdown",
   "metadata": {},
   "source": [
    "## Исследуем данные"
   ]
  },
  {
   "cell_type": "markdown",
   "metadata": {},
   "source": [
    "Начинаем с 'Rooms', 'Square', 'LifeSquare' как с самых сильных признаков, влияющие на колонку Price, обладающих сильной корреляцией между собой."
   ]
  },
  {
   "cell_type": "code",
   "execution_count": 93,
   "metadata": {},
   "outputs": [
    {
     "data": {
      "text/html": [
       "<div>\n",
       "<style scoped>\n",
       "    .dataframe tbody tr th:only-of-type {\n",
       "        vertical-align: middle;\n",
       "    }\n",
       "\n",
       "    .dataframe tbody tr th {\n",
       "        vertical-align: top;\n",
       "    }\n",
       "\n",
       "    .dataframe thead th {\n",
       "        text-align: right;\n",
       "    }\n",
       "</style>\n",
       "<table border=\"1\" class=\"dataframe\">\n",
       "  <thead>\n",
       "    <tr style=\"text-align: right;\">\n",
       "      <th></th>\n",
       "      <th>Rooms</th>\n",
       "      <th>Square</th>\n",
       "      <th>LifeSquare</th>\n",
       "    </tr>\n",
       "  </thead>\n",
       "  <tbody>\n",
       "    <tr>\n",
       "      <th>Rooms</th>\n",
       "      <td>1.000000</td>\n",
       "      <td>0.193684</td>\n",
       "      <td>0.521674</td>\n",
       "    </tr>\n",
       "    <tr>\n",
       "      <th>Square</th>\n",
       "      <td>0.193684</td>\n",
       "      <td>1.000000</td>\n",
       "      <td>0.219987</td>\n",
       "    </tr>\n",
       "    <tr>\n",
       "      <th>LifeSquare</th>\n",
       "      <td>0.521674</td>\n",
       "      <td>0.219987</td>\n",
       "      <td>1.000000</td>\n",
       "    </tr>\n",
       "  </tbody>\n",
       "</table>\n",
       "</div>"
      ],
      "text/plain": [
       "               Rooms    Square  LifeSquare\n",
       "Rooms       1.000000  0.193684    0.521674\n",
       "Square      0.193684  1.000000    0.219987\n",
       "LifeSquare  0.521674  0.219987    1.000000"
      ]
     },
     "execution_count": 93,
     "metadata": {},
     "output_type": "execute_result"
    }
   ],
   "source": [
    "data.loc[:, ['Rooms', 'Square', 'LifeSquare']].corr()"
   ]
  },
  {
   "cell_type": "markdown",
   "metadata": {},
   "source": [
    "### Фильтр 'Rooms'"
   ]
  },
  {
   "cell_type": "code",
   "execution_count": 11,
   "metadata": {},
   "outputs": [
    {
     "data": {
      "text/plain": [
       "2.0     3880\n",
       "1.0     3705\n",
       "3.0     2235\n",
       "4.0      150\n",
       "5.0       18\n",
       "0.0        8\n",
       "10.0       2\n",
       "19.0       1\n",
       "6.0        1\n",
       "Name: Rooms, dtype: int64"
      ]
     },
     "execution_count": 11,
     "metadata": {},
     "output_type": "execute_result"
    }
   ],
   "source": [
    "data['Rooms'].value_counts()"
   ]
  },
  {
   "cell_type": "code",
   "execution_count": 13,
   "metadata": {},
   "outputs": [
    {
     "data": {
      "text/plain": [
       "<matplotlib.axes._subplots.AxesSubplot at 0x1a1cb06198>"
      ]
     },
     "execution_count": 13,
     "metadata": {},
     "output_type": "execute_result"
    },
    {
     "data": {
      "image/jpeg": "[encoded data removed]",
      "text/plain": [
       "<Figure size 432x288 with 1 Axes>"
      ]
     },
     "metadata": {
      "needs_background": "light"
     },
     "output_type": "display_data"
    }
   ],
   "source": [
    "sns.boxplot(data['Rooms'], data['Price'])"
   ]
  },
  {
   "cell_type": "markdown",
   "metadata": {},
   "source": [
    "Из графиков видно, что самые чистые данные находятся для 1 <= Rooms <= 5 в пределах 1 и 3 квартилей. Остальные, скорее всего, были заполнены с ошибками."
   ]
  },
  {
   "cell_type": "code",
   "execution_count": 14,
   "metadata": {},
   "outputs": [
    {
     "data": {
      "text/html": [
       "<div>\n",
       "<style scoped>\n",
       "    .dataframe tbody tr th:only-of-type {\n",
       "        vertical-align: middle;\n",
       "    }\n",
       "\n",
       "    .dataframe tbody tr th {\n",
       "        vertical-align: top;\n",
       "    }\n",
       "\n",
       "    .dataframe thead th {\n",
       "        text-align: right;\n",
       "    }\n",
       "</style>\n",
       "<table border=\"1\" class=\"dataframe\">\n",
       "  <thead>\n",
       "    <tr style=\"text-align: right;\">\n",
       "      <th></th>\n",
       "      <th></th>\n",
       "      <th>Price</th>\n",
       "    </tr>\n",
       "    <tr>\n",
       "      <th>Rooms</th>\n",
       "      <th></th>\n",
       "      <th></th>\n",
       "    </tr>\n",
       "  </thead>\n",
       "  <tbody>\n",
       "    <tr>\n",
       "      <th rowspan=\"2\" valign=\"top\">1.0</th>\n",
       "      <th>0.25</th>\n",
       "      <td>128711.103732</td>\n",
       "    </tr>\n",
       "    <tr>\n",
       "      <th>0.75</th>\n",
       "      <td>182212.201038</td>\n",
       "    </tr>\n",
       "    <tr>\n",
       "      <th rowspan=\"2\" valign=\"top\">2.0</th>\n",
       "      <th>0.25</th>\n",
       "      <td>174523.257872</td>\n",
       "    </tr>\n",
       "    <tr>\n",
       "      <th>0.75</th>\n",
       "      <td>243479.876105</td>\n",
       "    </tr>\n",
       "    <tr>\n",
       "      <th rowspan=\"2\" valign=\"top\">3.0</th>\n",
       "      <th>0.25</th>\n",
       "      <td>218500.747041</td>\n",
       "    </tr>\n",
       "    <tr>\n",
       "      <th>0.75</th>\n",
       "      <td>349768.675634</td>\n",
       "    </tr>\n",
       "    <tr>\n",
       "      <th rowspan=\"2\" valign=\"top\">4.0</th>\n",
       "      <th>0.25</th>\n",
       "      <td>298885.660186</td>\n",
       "    </tr>\n",
       "    <tr>\n",
       "      <th>0.75</th>\n",
       "      <td>465934.434276</td>\n",
       "    </tr>\n",
       "    <tr>\n",
       "      <th rowspan=\"2\" valign=\"top\">5.0</th>\n",
       "      <th>0.25</th>\n",
       "      <td>310305.074733</td>\n",
       "    </tr>\n",
       "    <tr>\n",
       "      <th>0.75</th>\n",
       "      <td>496026.671162</td>\n",
       "    </tr>\n",
       "  </tbody>\n",
       "</table>\n",
       "</div>"
      ],
      "text/plain": [
       "                    Price\n",
       "Rooms                    \n",
       "1.0   0.25  128711.103732\n",
       "      0.75  182212.201038\n",
       "2.0   0.25  174523.257872\n",
       "      0.75  243479.876105\n",
       "3.0   0.25  218500.747041\n",
       "      0.75  349768.675634\n",
       "4.0   0.25  298885.660186\n",
       "      0.75  465934.434276\n",
       "5.0   0.25  310305.074733\n",
       "      0.75  496026.671162"
      ]
     },
     "execution_count": 14,
     "metadata": {},
     "output_type": "execute_result"
    }
   ],
   "source": [
    "rooms_quantiles = data.where((data['Rooms'] >= 1) & ((data['Rooms'] <= 5))) \\\n",
    ".groupby('Rooms')[['Price']] \\\n",
    ".quantile(q=[0.25, 0.75], interpolation='nearest')\n",
    "rooms_quantiles"
   ]
  },
  {
   "cell_type": "markdown",
   "metadata": {},
   "source": [
    "Составим фильтр, который выделит подмножество с идеальным отношением 'Rooms' <-> 'Price'"
   ]
  },
  {
   "cell_type": "code",
   "execution_count": 119,
   "metadata": {},
   "outputs": [
    {
     "name": "stdout",
     "output_type": "stream",
     "text": [
      "Число записей:  5012 / 10000\n"
     ]
    },
    {
     "data": {
      "text/plain": [
       "2.0    1946\n",
       "1.0    1860\n",
       "3.0    1123\n",
       "4.0      76\n",
       "5.0       7\n",
       "Name: Rooms, dtype: int64"
      ]
     },
     "execution_count": 119,
     "metadata": {},
     "output_type": "execute_result"
    }
   ],
   "source": [
    "ideal_rooms_filter = lambda df: (\n",
    "    ((df['Rooms'] == 1) & (df['Price'] >= 128600) & (df['Price'] <= 182300)) |\n",
    "    ((df['Rooms'] == 2) & (df['Price'] >= 174400) & (df['Price'] <= 243600)) |\n",
    "    ((df['Rooms'] == 3) & (df['Price'] >= 218400) & (df['Price'] <= 349900)) |\n",
    "    ((df['Rooms'] == 4) & (df['Price'] >= 298800) & (df['Price'] <= 466000)) |\n",
    "    ((df['Rooms'] == 5) & (df['Price'] >= 360000) & (df['Price'] <= 496100))\n",
    ")\n",
    "ideal_rooms_data = data.loc[ideal_rooms_filter, :]\n",
    "print('Число записей: ', ideal_rooms_data['Id'].count(), '/', data['Id'].count())\n",
    "ideal_rooms_data['Rooms'].value_counts()"
   ]
  },
  {
   "cell_type": "code",
   "execution_count": 120,
   "metadata": {},
   "outputs": [
    {
     "data": {
      "text/plain": [
       "<matplotlib.axes._subplots.AxesSubplot at 0x1a521b4e80>"
      ]
     },
     "execution_count": 120,
     "metadata": {},
     "output_type": "execute_result"
    },
    {
     "data": {
      "image/jpeg": "[encoded data removed]",
      "text/plain": [
       "<Figure size 432x288 with 1 Axes>"
      ]
     },
     "metadata": {
      "needs_background": "light"
     },
     "output_type": "display_data"
    }
   ],
   "source": [
    "sns.boxplot(ideal_rooms_data['Rooms'], ideal_rooms_data['Price'])"
   ]
  },
  {
   "cell_type": "code",
   "execution_count": 121,
   "metadata": {},
   "outputs": [
    {
     "data": {
      "text/plain": [
       "<seaborn.axisgrid.PairGrid at 0x1a5244cbe0>"
      ]
     },
     "execution_count": 121,
     "metadata": {},
     "output_type": "execute_result"
    },
    {
     "data": {
      "image/jpeg": "[encoded data removed]",
      "text/plain": [
       "<Figure size 360x360 with 6 Axes>"
      ]
     },
     "metadata": {
      "needs_background": "light"
     },
     "output_type": "display_data"
    }
   ],
   "source": [
    "sns.pairplot(ideal_rooms_data.loc[:, ['Rooms', 'Price']])"
   ]
  },
  {
   "cell_type": "markdown",
   "metadata": {},
   "source": [
    "### Фильтр 'Square'"
   ]
  },
  {
   "cell_type": "code",
   "execution_count": 122,
   "metadata": {},
   "outputs": [
    {
     "data": {
      "text/plain": [
       "<matplotlib.axes._subplots.AxesSubplot at 0x1a5285ef60>"
      ]
     },
     "execution_count": 122,
     "metadata": {},
     "output_type": "execute_result"
    },
    {
     "data": {
      "image/jpeg": "[encoded data removed]",
      "text/plain": [
       "<Figure size 432x288 with 1 Axes>"
      ]
     },
     "metadata": {
      "needs_background": "light"
     },
     "output_type": "display_data"
    }
   ],
   "source": [
    "sns.boxplot(ideal_rooms_data['Rooms'], ideal_rooms_data['Square'])"
   ]
  },
  {
   "cell_type": "code",
   "execution_count": 123,
   "metadata": {},
   "outputs": [
    {
     "data": {
      "text/html": [
       "<div>\n",
       "<style scoped>\n",
       "    .dataframe tbody tr th:only-of-type {\n",
       "        vertical-align: middle;\n",
       "    }\n",
       "\n",
       "    .dataframe tbody tr th {\n",
       "        vertical-align: top;\n",
       "    }\n",
       "\n",
       "    .dataframe thead th {\n",
       "        text-align: right;\n",
       "    }\n",
       "</style>\n",
       "<table border=\"1\" class=\"dataframe\">\n",
       "  <thead>\n",
       "    <tr style=\"text-align: right;\">\n",
       "      <th></th>\n",
       "      <th></th>\n",
       "      <th>Square</th>\n",
       "    </tr>\n",
       "    <tr>\n",
       "      <th>Rooms</th>\n",
       "      <th></th>\n",
       "      <th></th>\n",
       "    </tr>\n",
       "  </thead>\n",
       "  <tbody>\n",
       "    <tr>\n",
       "      <th rowspan=\"2\" valign=\"top\">1.0</th>\n",
       "      <th>0.25</th>\n",
       "      <td>35.784271</td>\n",
       "    </tr>\n",
       "    <tr>\n",
       "      <th>0.75</th>\n",
       "      <td>43.192992</td>\n",
       "    </tr>\n",
       "    <tr>\n",
       "      <th rowspan=\"2\" valign=\"top\">2.0</th>\n",
       "      <th>0.25</th>\n",
       "      <td>46.273040</td>\n",
       "    </tr>\n",
       "    <tr>\n",
       "      <th>0.75</th>\n",
       "      <td>63.056315</td>\n",
       "    </tr>\n",
       "    <tr>\n",
       "      <th rowspan=\"2\" valign=\"top\">3.0</th>\n",
       "      <th>0.25</th>\n",
       "      <td>63.898844</td>\n",
       "    </tr>\n",
       "    <tr>\n",
       "      <th>0.75</th>\n",
       "      <td>82.544433</td>\n",
       "    </tr>\n",
       "    <tr>\n",
       "      <th rowspan=\"2\" valign=\"top\">4.0</th>\n",
       "      <th>0.25</th>\n",
       "      <td>82.945530</td>\n",
       "    </tr>\n",
       "    <tr>\n",
       "      <th>0.75</th>\n",
       "      <td>101.978514</td>\n",
       "    </tr>\n",
       "    <tr>\n",
       "      <th rowspan=\"2\" valign=\"top\">5.0</th>\n",
       "      <th>0.25</th>\n",
       "      <td>112.135525</td>\n",
       "    </tr>\n",
       "    <tr>\n",
       "      <th>0.75</th>\n",
       "      <td>119.008007</td>\n",
       "    </tr>\n",
       "  </tbody>\n",
       "</table>\n",
       "</div>"
      ],
      "text/plain": [
       "                Square\n",
       "Rooms                 \n",
       "1.0   0.25   35.784271\n",
       "      0.75   43.192992\n",
       "2.0   0.25   46.273040\n",
       "      0.75   63.056315\n",
       "3.0   0.25   63.898844\n",
       "      0.75   82.544433\n",
       "4.0   0.25   82.945530\n",
       "      0.75  101.978514\n",
       "5.0   0.25  112.135525\n",
       "      0.75  119.008007"
      ]
     },
     "execution_count": 123,
     "metadata": {},
     "output_type": "execute_result"
    }
   ],
   "source": [
    "square_quantiles = ideal_rooms_data.groupby('Rooms')[['Square']].quantile(q=[0.25, 0.75], interpolation='nearest')\n",
    "square_quantiles"
   ]
  },
  {
   "cell_type": "code",
   "execution_count": 146,
   "metadata": {},
   "outputs": [
    {
     "name": "stdout",
     "output_type": "stream",
     "text": [
      "Число записей:  3833 / 10000\n"
     ]
    },
    {
     "data": {
      "text/plain": [
       "1.0    1531\n",
       "2.0    1353\n",
       "3.0     893\n",
       "4.0      52\n",
       "5.0       4\n",
       "Name: Rooms, dtype: int64"
      ]
     },
     "execution_count": 146,
     "metadata": {},
     "output_type": "execute_result"
    },
    {
     "data": {
      "image/jpeg": "[encoded data removed]",
      "text/plain": [
       "<Figure size 432x288 with 1 Axes>"
      ]
     },
     "metadata": {
      "needs_background": "light"
     },
     "output_type": "display_data"
    }
   ],
   "source": [
    "ideal_square_filter = lambda df: (\n",
    "    ((df['Rooms'] == 1) & (df['Square'] >= 25) & (df['Square'] <= 45)) |\n",
    "    ((df['Rooms'] == 2) & (df['Square'] >= 45) & (df['Square'] <= 66)) |\n",
    "    ((df['Rooms'] == 3) & (df['Square'] >= 60) & (df['Square'] <= 88)) |\n",
    "    ((df['Rooms'] == 4) & (df['Square'] >= 80) & (df['Square'] <= 110))|\n",
    "    ((df['Rooms'] == 5) & (df['Square'] >= 100) & (df['Square'] <= 160))\n",
    ")\n",
    "ideal_square_data = data.loc[ideal_square_filter(data) & ideal_rooms_filter(data), :]\n",
    "sns.boxplot(ideal_square_data['Rooms'], ideal_square_data['Square'])\n",
    "print('Число записей: ', ideal_square_data['Id'].count(), '/', data['Id'].count())\n",
    "ideal_square_data['Rooms'].value_counts()"
   ]
  },
  {
   "cell_type": "code",
   "execution_count": 147,
   "metadata": {},
   "outputs": [
    {
     "data": {
      "text/plain": [
       "<seaborn.axisgrid.PairGrid at 0x1a57005390>"
      ]
     },
     "execution_count": 147,
     "metadata": {},
     "output_type": "execute_result"
    },
    {
     "data": {
      "image/jpeg": "[encoded data removed]",
      "text/plain": [
       "<Figure size 540x540 with 12 Axes>"
      ]
     },
     "metadata": {
      "needs_background": "light"
     },
     "output_type": "display_data"
    }
   ],
   "source": [
    "sns.pairplot(ideal_square_data.loc[:, ['Rooms', 'Square', 'Price']])"
   ]
  },
  {
   "cell_type": "markdown",
   "metadata": {},
   "source": [
    "### Фильтр 'LifeSquare'"
   ]
  },
  {
   "cell_type": "code",
   "execution_count": 148,
   "metadata": {},
   "outputs": [
    {
     "name": "stdout",
     "output_type": "stream",
     "text": [
      "Число записей:  2892 / 10000\n"
     ]
    },
    {
     "data": {
      "text/plain": [
       "1.0    1180\n",
       "2.0     989\n",
       "3.0     682\n",
       "4.0      38\n",
       "5.0       3\n",
       "Name: Rooms, dtype: int64"
      ]
     },
     "execution_count": 148,
     "metadata": {},
     "output_type": "execute_result"
    }
   ],
   "source": [
    "ideal_lifesquare_filter = lambda df: (\n",
    "    (df['LifeSquare'].notna()) & \n",
    "    (df['LifeSquare'] < 200) & \n",
    "    (df['Square'] < 400) & \n",
    "    (df['LifeSquare'] > 10) &\n",
    "    (df['LifeSquare'] < df['Square'] * 0.9) & \n",
    "    (df['LifeSquare'] > df['Square'] * 0.3)\n",
    ")\n",
    "ideal_lifesquare_data = data.loc[ideal_square_filter(data) & ideal_rooms_filter(data) & ideal_lifesquare_filter(data), :]\n",
    "print('Число записей: ', ideal_lifesquare_data['Id'].count(), '/', data['Id'].count())\n",
    "ideal_lifesquare_data['Rooms'].value_counts()"
   ]
  },
  {
   "cell_type": "code",
   "execution_count": 157,
   "metadata": {},
   "outputs": [
    {
     "data": {
      "text/plain": [
       "<seaborn.axisgrid.PairGrid at 0x1a58d0a710>"
      ]
     },
     "execution_count": 157,
     "metadata": {},
     "output_type": "execute_result"
    },
    {
     "data": {
      "image/jpeg": "[encoded data removed]",
      "text/plain": [
       "<Figure size 720x720 with 20 Axes>"
      ]
     },
     "metadata": {
      "needs_background": "light"
     },
     "output_type": "display_data"
    }
   ],
   "source": [
    "sns.pairplot(ideal_lifesquare_data.loc[:, ['Rooms', 'Square', 'LifeSquare', 'Price']])"
   ]
  },
  {
   "cell_type": "markdown",
   "metadata": {},
   "source": [
    "### Итоговый RSL-фильтр"
   ]
  },
  {
   "cell_type": "code",
   "execution_count": 152,
   "metadata": {},
   "outputs": [],
   "source": [
    "ideal_rsl_filter = lambda df: ideal_square_filter(df) & ideal_rooms_filter(df) & ideal_lifesquare_filter(df)"
   ]
  },
  {
   "cell_type": "code",
   "execution_count": 155,
   "metadata": {},
   "outputs": [
    {
     "name": "stdout",
     "output_type": "stream",
     "text": [
      "Корреляция до фильтрации:\n"
     ]
    },
    {
     "data": {
      "text/html": [
       "<div>\n",
       "<style scoped>\n",
       "    .dataframe tbody tr th:only-of-type {\n",
       "        vertical-align: middle;\n",
       "    }\n",
       "\n",
       "    .dataframe tbody tr th {\n",
       "        vertical-align: top;\n",
       "    }\n",
       "\n",
       "    .dataframe thead th {\n",
       "        text-align: right;\n",
       "    }\n",
       "</style>\n",
       "<table border=\"1\" class=\"dataframe\">\n",
       "  <thead>\n",
       "    <tr style=\"text-align: right;\">\n",
       "      <th></th>\n",
       "      <th>Rooms</th>\n",
       "      <th>Square</th>\n",
       "      <th>LifeSquare</th>\n",
       "      <th>Price</th>\n",
       "    </tr>\n",
       "  </thead>\n",
       "  <tbody>\n",
       "    <tr>\n",
       "      <th>Rooms</th>\n",
       "      <td>1.000000</td>\n",
       "      <td>0.193684</td>\n",
       "      <td>0.521674</td>\n",
       "      <td>0.550291</td>\n",
       "    </tr>\n",
       "    <tr>\n",
       "      <th>Square</th>\n",
       "      <td>0.193684</td>\n",
       "      <td>1.000000</td>\n",
       "      <td>0.219987</td>\n",
       "      <td>0.142499</td>\n",
       "    </tr>\n",
       "    <tr>\n",
       "      <th>LifeSquare</th>\n",
       "      <td>0.521674</td>\n",
       "      <td>0.219987</td>\n",
       "      <td>1.000000</td>\n",
       "      <td>0.363570</td>\n",
       "    </tr>\n",
       "    <tr>\n",
       "      <th>Price</th>\n",
       "      <td>0.550291</td>\n",
       "      <td>0.142499</td>\n",
       "      <td>0.363570</td>\n",
       "      <td>1.000000</td>\n",
       "    </tr>\n",
       "  </tbody>\n",
       "</table>\n",
       "</div>"
      ],
      "text/plain": [
       "               Rooms    Square  LifeSquare     Price\n",
       "Rooms       1.000000  0.193684    0.521674  0.550291\n",
       "Square      0.193684  1.000000    0.219987  0.142499\n",
       "LifeSquare  0.521674  0.219987    1.000000  0.363570\n",
       "Price       0.550291  0.142499    0.363570  1.000000"
      ]
     },
     "execution_count": 155,
     "metadata": {},
     "output_type": "execute_result"
    }
   ],
   "source": [
    "print('Корреляция до фильтрации:')\n",
    "data.loc[:, ['Rooms', 'Square', 'LifeSquare', 'Price']].corr()"
   ]
  },
  {
   "cell_type": "code",
   "execution_count": 156,
   "metadata": {},
   "outputs": [
    {
     "name": "stdout",
     "output_type": "stream",
     "text": [
      "Корреляция после фильтрации:\n"
     ]
    },
    {
     "data": {
      "text/html": [
       "<div>\n",
       "<style scoped>\n",
       "    .dataframe tbody tr th:only-of-type {\n",
       "        vertical-align: middle;\n",
       "    }\n",
       "\n",
       "    .dataframe tbody tr th {\n",
       "        vertical-align: top;\n",
       "    }\n",
       "\n",
       "    .dataframe thead th {\n",
       "        text-align: right;\n",
       "    }\n",
       "</style>\n",
       "<table border=\"1\" class=\"dataframe\">\n",
       "  <thead>\n",
       "    <tr style=\"text-align: right;\">\n",
       "      <th></th>\n",
       "      <th>Rooms</th>\n",
       "      <th>Square</th>\n",
       "      <th>LifeSquare</th>\n",
       "      <th>Price</th>\n",
       "    </tr>\n",
       "  </thead>\n",
       "  <tbody>\n",
       "    <tr>\n",
       "      <th>Rooms</th>\n",
       "      <td>1.000000</td>\n",
       "      <td>0.926810</td>\n",
       "      <td>0.954742</td>\n",
       "      <td>0.900373</td>\n",
       "    </tr>\n",
       "    <tr>\n",
       "      <th>Square</th>\n",
       "      <td>0.926810</td>\n",
       "      <td>1.000000</td>\n",
       "      <td>0.944970</td>\n",
       "      <td>0.895573</td>\n",
       "    </tr>\n",
       "    <tr>\n",
       "      <th>LifeSquare</th>\n",
       "      <td>0.954742</td>\n",
       "      <td>0.944970</td>\n",
       "      <td>1.000000</td>\n",
       "      <td>0.892682</td>\n",
       "    </tr>\n",
       "    <tr>\n",
       "      <th>Price</th>\n",
       "      <td>0.900373</td>\n",
       "      <td>0.895573</td>\n",
       "      <td>0.892682</td>\n",
       "      <td>1.000000</td>\n",
       "    </tr>\n",
       "  </tbody>\n",
       "</table>\n",
       "</div>"
      ],
      "text/plain": [
       "               Rooms    Square  LifeSquare     Price\n",
       "Rooms       1.000000  0.926810    0.954742  0.900373\n",
       "Square      0.926810  1.000000    0.944970  0.895573\n",
       "LifeSquare  0.954742  0.944970    1.000000  0.892682\n",
       "Price       0.900373  0.895573    0.892682  1.000000"
      ]
     },
     "execution_count": 156,
     "metadata": {},
     "output_type": "execute_result"
    }
   ],
   "source": [
    "print('Корреляция после фильтрации:')\n",
    "data.loc[lambda df: ideal_rsl_filter(df), ['Rooms', 'Square', 'LifeSquare', 'Price']].corr()"
   ]
  },
  {
   "cell_type": "markdown",
   "metadata": {},
   "source": [
    "## Модели"
   ]
  },
  {
   "cell_type": "markdown",
   "metadata": {},
   "source": [
    "Обучим на идеальном подмножестве выборки данных модели, которые исправят выбросы в данных"
   ]
  },
  {
   "cell_type": "code",
   "execution_count": 158,
   "metadata": {},
   "outputs": [],
   "source": [
    "from sklearn.ensemble import RandomForestRegressor\n",
    "from sklearn.model_selection import GridSearchCV\n",
    "\n",
    "\n",
    "def model_fit(df_features, df_target):\n",
    "    clf = GridSearchCV(estimator=RandomForestRegressor(random_state=42),\n",
    "                       param_grid=[{'n_estimators': [100, 250, 500], 'max_depth': [5, 9, 15, 27]}],\n",
    "                       cv=5)\n",
    "    clf.fit(df_features, df_target)\n",
    "    return clf\n",
    "\n",
    "\n",
    "def show_model(clf_model):\n",
    "    print('Лучшие параметры модели:', clf_model.best_params_)\n",
    "    for mean, std, params in zip(clf_model.cv_results_['mean_test_score'], clf_model.cv_results_['std_test_score'], clf_model.cv_results_['params']):\n",
    "        print(\"%0.4f (±%0.4f) for %r\" % (mean, std * 2, params))"
   ]
  },
  {
   "cell_type": "markdown",
   "metadata": {},
   "source": [
    "### Модель для фиксов 'Rooms'"
   ]
  },
  {
   "cell_type": "code",
   "execution_count": 160,
   "metadata": {},
   "outputs": [
    {
     "name": "stdout",
     "output_type": "stream",
     "text": [
      "Лучшие параметры модели: {'max_depth': 9, 'n_estimators': 500}\n",
      "0.9932 (±0.0033) for {'max_depth': 5, 'n_estimators': 100}\n",
      "0.9933 (±0.0037) for {'max_depth': 5, 'n_estimators': 250}\n",
      "0.9933 (±0.0037) for {'max_depth': 5, 'n_estimators': 500}\n",
      "0.9936 (±0.0025) for {'max_depth': 9, 'n_estimators': 100}\n",
      "0.9936 (±0.0027) for {'max_depth': 9, 'n_estimators': 250}\n",
      "0.9937 (±0.0029) for {'max_depth': 9, 'n_estimators': 500}\n",
      "0.9934 (±0.0022) for {'max_depth': 15, 'n_estimators': 100}\n",
      "0.9934 (±0.0024) for {'max_depth': 15, 'n_estimators': 250}\n",
      "0.9934 (±0.0026) for {'max_depth': 15, 'n_estimators': 500}\n",
      "0.9934 (±0.0022) for {'max_depth': 27, 'n_estimators': 100}\n",
      "0.9934 (±0.0024) for {'max_depth': 27, 'n_estimators': 250}\n",
      "0.9934 (±0.0026) for {'max_depth': 27, 'n_estimators': 500}\n"
     ]
    }
   ],
   "source": [
    "clf_rooms = model_fit(\n",
    "    data.loc[lambda df: ideal_rsl_filter(df), ['Square', 'LifeSquare', 'Price']], \n",
    "    data.loc[lambda df: ideal_rsl_filter(df), 'Rooms']\n",
    ")\n",
    "show_model(clf_rooms)"
   ]
  },
  {
   "cell_type": "markdown",
   "metadata": {},
   "source": [
    "### Модель для фиксов 'Square'"
   ]
  },
  {
   "cell_type": "code",
   "execution_count": 161,
   "metadata": {},
   "outputs": [
    {
     "name": "stdout",
     "output_type": "stream",
     "text": [
      "Лучшие параметры модели: {'max_depth': 5, 'n_estimators': 100}\n",
      "0.9121 (±0.0110) for {'max_depth': 5, 'n_estimators': 100}\n",
      "0.9120 (±0.0108) for {'max_depth': 5, 'n_estimators': 250}\n",
      "0.9120 (±0.0109) for {'max_depth': 5, 'n_estimators': 500}\n",
      "0.9077 (±0.0132) for {'max_depth': 9, 'n_estimators': 100}\n",
      "0.9079 (±0.0136) for {'max_depth': 9, 'n_estimators': 250}\n",
      "0.9078 (±0.0139) for {'max_depth': 9, 'n_estimators': 500}\n",
      "0.9009 (±0.0147) for {'max_depth': 15, 'n_estimators': 100}\n",
      "0.9015 (±0.0143) for {'max_depth': 15, 'n_estimators': 250}\n",
      "0.9014 (±0.0147) for {'max_depth': 15, 'n_estimators': 500}\n",
      "0.8988 (±0.0145) for {'max_depth': 27, 'n_estimators': 100}\n",
      "0.8994 (±0.0142) for {'max_depth': 27, 'n_estimators': 250}\n",
      "0.8993 (±0.0146) for {'max_depth': 27, 'n_estimators': 500}\n"
     ]
    }
   ],
   "source": [
    "clf_square = model_fit(\n",
    "    data.loc[lambda df: ideal_rsl_filter(df), ['Rooms', 'LifeSquare', 'Price']], \n",
    "    data.loc[lambda df: ideal_rsl_filter(df), 'Square']\n",
    ")\n",
    "show_model(clf_square)"
   ]
  },
  {
   "cell_type": "markdown",
   "metadata": {},
   "source": [
    "### Модель для фиксов 'LifeSquare'"
   ]
  },
  {
   "cell_type": "code",
   "execution_count": 162,
   "metadata": {},
   "outputs": [
    {
     "name": "stdout",
     "output_type": "stream",
     "text": [
      "Лучшие параметры модели: {'max_depth': 5, 'n_estimators': 100}\n",
      "0.9388 (±0.0110) for {'max_depth': 5, 'n_estimators': 100}\n",
      "0.9387 (±0.0109) for {'max_depth': 5, 'n_estimators': 250}\n",
      "0.9387 (±0.0110) for {'max_depth': 5, 'n_estimators': 500}\n",
      "0.9359 (±0.0127) for {'max_depth': 9, 'n_estimators': 100}\n",
      "0.9361 (±0.0129) for {'max_depth': 9, 'n_estimators': 250}\n",
      "0.9359 (±0.0128) for {'max_depth': 9, 'n_estimators': 500}\n",
      "0.9311 (±0.0138) for {'max_depth': 15, 'n_estimators': 100}\n",
      "0.9315 (±0.0139) for {'max_depth': 15, 'n_estimators': 250}\n",
      "0.9314 (±0.0139) for {'max_depth': 15, 'n_estimators': 500}\n",
      "0.9290 (±0.0141) for {'max_depth': 27, 'n_estimators': 100}\n",
      "0.9295 (±0.0140) for {'max_depth': 27, 'n_estimators': 250}\n",
      "0.9294 (±0.0140) for {'max_depth': 27, 'n_estimators': 500}\n"
     ]
    }
   ],
   "source": [
    "clf_lifesquare = model_fit(\n",
    "    data.loc[lambda df: ideal_rsl_filter(df), ['Rooms', 'Square', 'Price']], \n",
    "    data.loc[lambda df: ideal_rsl_filter(df), 'LifeSquare']\n",
    ")\n",
    "show_model(clf_lifesquare)"
   ]
  },
  {
   "cell_type": "markdown",
   "metadata": {},
   "source": [
    "## Устранение выбросов"
   ]
  },
  {
   "cell_type": "code",
   "execution_count": 215,
   "metadata": {},
   "outputs": [],
   "source": [
    "data1 = data.copy()\n",
    "data1.loc[data['LifeSquare'].isnull(), 'LifeSquare'] = data.loc[data['LifeSquare'].isnull(), 'Square'] * 0.85"
   ]
  },
  {
   "cell_type": "code",
   "execution_count": 216,
   "metadata": {},
   "outputs": [
    {
     "name": "stdout",
     "output_type": "stream",
     "text": [
      "Корелляция LifeSquare⇔Price до фиксов 0.36356966846690975\n",
      "Корелляция LifeSquare⇔Price после фиксов 0.6259099227819707\n"
     ]
    }
   ],
   "source": [
    "def fix_lifesquare(adata, rsl_filter, model_lifesquare):\n",
    "    print('Корелляция LifeSquare⇔Price до фиксов', adata.corr()['LifeSquare']['Price'])\n",
    "    adata.loc[lambda df: ~rsl_filter(df), 'LifeSquare'] = model_lifesquare.predict(adata.loc[lambda df: ~rsl_filter(df), ['Rooms', 'Square', 'Price']])\n",
    "    print('Корелляция LifeSquare⇔Price после фиксов', adata.corr()['LifeSquare']['Price'])\n",
    "    return adata\n",
    "data1 = fix_lifesquare(data.copy(), ideal_rsl_filter, clf_lifesquare)"
   ]
  },
  {
   "cell_type": "code",
   "execution_count": 217,
   "metadata": {},
   "outputs": [
    {
     "name": "stdout",
     "output_type": "stream",
     "text": [
      "Корелляция Square⇔Price до фиксов 0.14249926312014716\n",
      "Корелляция Square⇔Price после фиксов 0.6505623743259118\n"
     ]
    }
   ],
   "source": [
    "def fix_square(adata, rsl_filter, model_square):\n",
    "    print('Корелляция Square⇔Price до фиксов', adata.corr()['Square']['Price'])\n",
    "    adata.loc[lambda df: ~rsl_filter(df), 'Square'] = model_square.predict(adata.loc[lambda d: ~rsl_filter(d), ['Rooms', 'LifeSquare', 'Price']])\n",
    "    print('Корелляция Square⇔Price после фиксов', adata.corr()['Square']['Price'])\n",
    "    return adata\n",
    "data1 = fix_square(data1.copy(), ideal_rsl_filter, clf_square)"
   ]
  },
  {
   "cell_type": "code",
   "execution_count": 218,
   "metadata": {},
   "outputs": [
    {
     "name": "stdout",
     "output_type": "stream",
     "text": [
      "Корелляция Rooms⇔Price до фиксов 0.5502907269258719\n",
      "Корелляция Rooms⇔Price после фиксов 0.7981381144770673\n"
     ]
    }
   ],
   "source": [
    "def fix_rooms(adata, rsl_filter, model_rooms):\n",
    "    print('Корелляция Rooms⇔Price до фиксов', adata.corr()['Rooms']['Price'])\n",
    "    adata.loc[lambda df: ~rsl_filter(df), 'Rooms'] = model_rooms.predict(adata.loc[lambda df: ~rsl_filter(df), ['Square', 'LifeSquare', 'Price']])\n",
    "    print('Корелляция Rooms⇔Price после фиксов', adata.corr()['Rooms']['Price'])\n",
    "    return adata\n",
    "data1 = fix_rooms(data1.copy(), ideal_rsl_filter, clf_rooms)"
   ]
  },
  {
   "cell_type": "code",
   "execution_count": 181,
   "metadata": {},
   "outputs": [
    {
     "data": {
      "text/html": [
       "<div>\n",
       "<style scoped>\n",
       "    .dataframe tbody tr th:only-of-type {\n",
       "        vertical-align: middle;\n",
       "    }\n",
       "\n",
       "    .dataframe tbody tr th {\n",
       "        vertical-align: top;\n",
       "    }\n",
       "\n",
       "    .dataframe thead th {\n",
       "        text-align: right;\n",
       "    }\n",
       "</style>\n",
       "<table border=\"1\" class=\"dataframe\">\n",
       "  <thead>\n",
       "    <tr style=\"text-align: right;\">\n",
       "      <th></th>\n",
       "      <th>Rooms</th>\n",
       "      <th>Square</th>\n",
       "      <th>LifeSquare</th>\n",
       "      <th>Price</th>\n",
       "    </tr>\n",
       "  </thead>\n",
       "  <tbody>\n",
       "    <tr>\n",
       "      <th>Rooms</th>\n",
       "      <td>1.000000</td>\n",
       "      <td>0.926810</td>\n",
       "      <td>0.954742</td>\n",
       "      <td>0.900373</td>\n",
       "    </tr>\n",
       "    <tr>\n",
       "      <th>Square</th>\n",
       "      <td>0.926810</td>\n",
       "      <td>1.000000</td>\n",
       "      <td>0.944970</td>\n",
       "      <td>0.895573</td>\n",
       "    </tr>\n",
       "    <tr>\n",
       "      <th>LifeSquare</th>\n",
       "      <td>0.954742</td>\n",
       "      <td>0.944970</td>\n",
       "      <td>1.000000</td>\n",
       "      <td>0.892682</td>\n",
       "    </tr>\n",
       "    <tr>\n",
       "      <th>Price</th>\n",
       "      <td>0.900373</td>\n",
       "      <td>0.895573</td>\n",
       "      <td>0.892682</td>\n",
       "      <td>1.000000</td>\n",
       "    </tr>\n",
       "  </tbody>\n",
       "</table>\n",
       "</div>"
      ],
      "text/plain": [
       "               Rooms    Square  LifeSquare     Price\n",
       "Rooms       1.000000  0.926810    0.954742  0.900373\n",
       "Square      0.926810  1.000000    0.944970  0.895573\n",
       "LifeSquare  0.954742  0.944970    1.000000  0.892682\n",
       "Price       0.900373  0.895573    0.892682  1.000000"
      ]
     },
     "execution_count": 181,
     "metadata": {},
     "output_type": "execute_result"
    }
   ],
   "source": [
    "data.loc[lambda df: ideal_rsl_filter(df), ['Rooms', 'Square', 'LifeSquare', 'Price']].corr()"
   ]
  },
  {
   "cell_type": "code",
   "execution_count": 219,
   "metadata": {},
   "outputs": [
    {
     "data": {
      "text/html": [
       "<div>\n",
       "<style scoped>\n",
       "    .dataframe tbody tr th:only-of-type {\n",
       "        vertical-align: middle;\n",
       "    }\n",
       "\n",
       "    .dataframe tbody tr th {\n",
       "        vertical-align: top;\n",
       "    }\n",
       "\n",
       "    .dataframe thead th {\n",
       "        text-align: right;\n",
       "    }\n",
       "</style>\n",
       "<table border=\"1\" class=\"dataframe\">\n",
       "  <thead>\n",
       "    <tr style=\"text-align: right;\">\n",
       "      <th></th>\n",
       "      <th>Rooms</th>\n",
       "      <th>Square</th>\n",
       "      <th>LifeSquare</th>\n",
       "      <th>Price</th>\n",
       "    </tr>\n",
       "  </thead>\n",
       "  <tbody>\n",
       "    <tr>\n",
       "      <th>Rooms</th>\n",
       "      <td>1.000000</td>\n",
       "      <td>0.872421</td>\n",
       "      <td>0.848479</td>\n",
       "      <td>0.798138</td>\n",
       "    </tr>\n",
       "    <tr>\n",
       "      <th>Square</th>\n",
       "      <td>0.872421</td>\n",
       "      <td>1.000000</td>\n",
       "      <td>0.961119</td>\n",
       "      <td>0.650562</td>\n",
       "    </tr>\n",
       "    <tr>\n",
       "      <th>LifeSquare</th>\n",
       "      <td>0.848479</td>\n",
       "      <td>0.961119</td>\n",
       "      <td>1.000000</td>\n",
       "      <td>0.625910</td>\n",
       "    </tr>\n",
       "    <tr>\n",
       "      <th>Price</th>\n",
       "      <td>0.798138</td>\n",
       "      <td>0.650562</td>\n",
       "      <td>0.625910</td>\n",
       "      <td>1.000000</td>\n",
       "    </tr>\n",
       "  </tbody>\n",
       "</table>\n",
       "</div>"
      ],
      "text/plain": [
       "               Rooms    Square  LifeSquare     Price\n",
       "Rooms       1.000000  0.872421    0.848479  0.798138\n",
       "Square      0.872421  1.000000    0.961119  0.650562\n",
       "LifeSquare  0.848479  0.961119    1.000000  0.625910\n",
       "Price       0.798138  0.650562    0.625910  1.000000"
      ]
     },
     "execution_count": 219,
     "metadata": {},
     "output_type": "execute_result"
    }
   ],
   "source": [
    "data1.loc[:, ['Rooms', 'Square', 'LifeSquare', 'Price']].corr()"
   ]
  },
  {
   "cell_type": "markdown",
   "metadata": {},
   "source": [
    "## 'Floor', 'HouseFloor', 'HouseYear'"
   ]
  },
  {
   "cell_type": "code",
   "execution_count": 28,
   "metadata": {},
   "outputs": [
    {
     "data": {
      "text/html": [
       "<div>\n",
       "<style scoped>\n",
       "    .dataframe tbody tr th:only-of-type {\n",
       "        vertical-align: middle;\n",
       "    }\n",
       "\n",
       "    .dataframe tbody tr th {\n",
       "        vertical-align: top;\n",
       "    }\n",
       "\n",
       "    .dataframe thead th {\n",
       "        text-align: right;\n",
       "    }\n",
       "</style>\n",
       "<table border=\"1\" class=\"dataframe\">\n",
       "  <thead>\n",
       "    <tr style=\"text-align: right;\">\n",
       "      <th></th>\n",
       "      <th>Floor</th>\n",
       "      <th>HouseFloor</th>\n",
       "      <th>HouseYear</th>\n",
       "    </tr>\n",
       "  </thead>\n",
       "  <tbody>\n",
       "    <tr>\n",
       "      <th>count</th>\n",
       "      <td>10000.000000</td>\n",
       "      <td>10000.000000</td>\n",
       "      <td>1.000000e+04</td>\n",
       "    </tr>\n",
       "    <tr>\n",
       "      <th>mean</th>\n",
       "      <td>7.943200</td>\n",
       "      <td>13.192900</td>\n",
       "      <td>3.990166e+03</td>\n",
       "    </tr>\n",
       "    <tr>\n",
       "      <th>std</th>\n",
       "      <td>5.228127</td>\n",
       "      <td>6.372139</td>\n",
       "      <td>2.005003e+05</td>\n",
       "    </tr>\n",
       "    <tr>\n",
       "      <th>min</th>\n",
       "      <td>1.000000</td>\n",
       "      <td>0.000000</td>\n",
       "      <td>1.910000e+03</td>\n",
       "    </tr>\n",
       "    <tr>\n",
       "      <th>25%</th>\n",
       "      <td>4.000000</td>\n",
       "      <td>9.000000</td>\n",
       "      <td>1.974000e+03</td>\n",
       "    </tr>\n",
       "    <tr>\n",
       "      <th>50%</th>\n",
       "      <td>7.000000</td>\n",
       "      <td>14.000000</td>\n",
       "      <td>1.977000e+03</td>\n",
       "    </tr>\n",
       "    <tr>\n",
       "      <th>75%</th>\n",
       "      <td>11.000000</td>\n",
       "      <td>17.000000</td>\n",
       "      <td>2.001000e+03</td>\n",
       "    </tr>\n",
       "    <tr>\n",
       "      <th>max</th>\n",
       "      <td>42.000000</td>\n",
       "      <td>117.000000</td>\n",
       "      <td>2.005201e+07</td>\n",
       "    </tr>\n",
       "  </tbody>\n",
       "</table>\n",
       "</div>"
      ],
      "text/plain": [
       "              Floor    HouseFloor     HouseYear\n",
       "count  10000.000000  10000.000000  1.000000e+04\n",
       "mean       7.943200     13.192900  3.990166e+03\n",
       "std        5.228127      6.372139  2.005003e+05\n",
       "min        1.000000      0.000000  1.910000e+03\n",
       "25%        4.000000      9.000000  1.974000e+03\n",
       "50%        7.000000     14.000000  1.977000e+03\n",
       "75%       11.000000     17.000000  2.001000e+03\n",
       "max       42.000000    117.000000  2.005201e+07"
      ]
     },
     "execution_count": 28,
     "metadata": {},
     "output_type": "execute_result"
    }
   ],
   "source": [
    "data.loc[:, ['Floor', 'HouseFloor', 'HouseYear']].describe()"
   ]
  },
  {
   "cell_type": "code",
   "execution_count": 30,
   "metadata": {},
   "outputs": [
    {
     "data": {
      "text/html": [
       "<div>\n",
       "<style scoped>\n",
       "    .dataframe tbody tr th:only-of-type {\n",
       "        vertical-align: middle;\n",
       "    }\n",
       "\n",
       "    .dataframe tbody tr th {\n",
       "        vertical-align: top;\n",
       "    }\n",
       "\n",
       "    .dataframe thead th {\n",
       "        text-align: right;\n",
       "    }\n",
       "</style>\n",
       "<table border=\"1\" class=\"dataframe\">\n",
       "  <thead>\n",
       "    <tr style=\"text-align: right;\">\n",
       "      <th></th>\n",
       "      <th>HouseYear</th>\n",
       "    </tr>\n",
       "  </thead>\n",
       "  <tbody>\n",
       "    <tr>\n",
       "      <th>count</th>\n",
       "      <td>10000.000000</td>\n",
       "    </tr>\n",
       "    <tr>\n",
       "      <th>mean</th>\n",
       "      <td>1984.863800</td>\n",
       "    </tr>\n",
       "    <tr>\n",
       "      <th>std</th>\n",
       "      <td>18.409979</td>\n",
       "    </tr>\n",
       "    <tr>\n",
       "      <th>min</th>\n",
       "      <td>1910.000000</td>\n",
       "    </tr>\n",
       "    <tr>\n",
       "      <th>25%</th>\n",
       "      <td>1974.000000</td>\n",
       "    </tr>\n",
       "    <tr>\n",
       "      <th>50%</th>\n",
       "      <td>1977.000000</td>\n",
       "    </tr>\n",
       "    <tr>\n",
       "      <th>75%</th>\n",
       "      <td>2001.000000</td>\n",
       "    </tr>\n",
       "    <tr>\n",
       "      <th>max</th>\n",
       "      <td>2020.000000</td>\n",
       "    </tr>\n",
       "  </tbody>\n",
       "</table>\n",
       "</div>"
      ],
      "text/plain": [
       "          HouseYear\n",
       "count  10000.000000\n",
       "mean    1984.863800\n",
       "std       18.409979\n",
       "min     1910.000000\n",
       "25%     1974.000000\n",
       "50%     1977.000000\n",
       "75%     2001.000000\n",
       "max     2020.000000"
      ]
     },
     "execution_count": 30,
     "metadata": {},
     "output_type": "execute_result"
    }
   ],
   "source": [
    "invalid_hy_filter = lambda df: ((df['HouseYear'] < 1900) | (df['HouseYear'] > 2030))\n",
    "data.loc[invalid_hy_filter, 'HouseYear'] = data['HouseYear'].median()\n",
    "data.loc[:, ['HouseYear']].describe()"
   ]
  },
  {
   "cell_type": "code",
   "execution_count": 31,
   "metadata": {},
   "outputs": [
    {
     "data": {
      "text/plain": [
       "array([ 9. ,  8. ,  8. ,  6. ,  6. ,  5. ,  5. ,  5. ,  7. ,  6. ,  5. ,\n",
       "        5. ,  6. ,  5. ,  7. ,  6. ,  5. ,  8. ,  6.5,  7. ,  7.5,  5. ,\n",
       "        8. ,  9. ,  5. ,  6. ,  5. ,  5. ,  6. ,  6. ,  8. ,  6. ,  5. ,\n",
       "        5. ,  5. ,  5. ,  5. ,  5. ,  5. ,  6. ,  7. ,  9. ,  9. ,  9. ,\n",
       "        9. ,  9. ,  9. ,  9. , 10. , 12. , 12. , 17. , 12. , 12. , 12. ,\n",
       "       12. , 12. , 14. , 16. , 16. , 17. , 17. , 17. , 17. , 17. , 17. ,\n",
       "       17. , 17. , 17. , 14.5, 14. , 14. , 14. , 17. , 17. , 17. , 17. ,\n",
       "       17. , 17. , 17. , 17. , 17. , 17. , 17. , 17. , 17. , 19. , 17. ,\n",
       "       17. , 17. , 17. , 17. , 17. , 17. , 22. ])"
      ]
     },
     "execution_count": 31,
     "metadata": {},
     "output_type": "execute_result"
    }
   ],
   "source": [
    "hf_basedon_year = data.groupby('HouseYear')['HouseFloor'].median()\n",
    "hf_basedon_year.values"
   ]
  },
  {
   "cell_type": "code",
   "execution_count": 32,
   "metadata": {},
   "outputs": [
    {
     "data": {
      "text/html": [
       "<div>\n",
       "<style scoped>\n",
       "    .dataframe tbody tr th:only-of-type {\n",
       "        vertical-align: middle;\n",
       "    }\n",
       "\n",
       "    .dataframe tbody tr th {\n",
       "        vertical-align: top;\n",
       "    }\n",
       "\n",
       "    .dataframe thead th {\n",
       "        text-align: right;\n",
       "    }\n",
       "</style>\n",
       "<table border=\"1\" class=\"dataframe\">\n",
       "  <thead>\n",
       "    <tr style=\"text-align: right;\">\n",
       "      <th></th>\n",
       "      <th>Floor</th>\n",
       "      <th>HouseFloor</th>\n",
       "      <th>HouseYear</th>\n",
       "    </tr>\n",
       "  </thead>\n",
       "  <tbody>\n",
       "    <tr>\n",
       "      <th>count</th>\n",
       "      <td>10000.000000</td>\n",
       "      <td>10000.000000</td>\n",
       "      <td>10000.000000</td>\n",
       "    </tr>\n",
       "    <tr>\n",
       "      <th>mean</th>\n",
       "      <td>7.943200</td>\n",
       "      <td>13.623800</td>\n",
       "      <td>1984.863800</td>\n",
       "    </tr>\n",
       "    <tr>\n",
       "      <th>std</th>\n",
       "      <td>5.228127</td>\n",
       "      <td>5.794811</td>\n",
       "      <td>18.409979</td>\n",
       "    </tr>\n",
       "    <tr>\n",
       "      <th>min</th>\n",
       "      <td>1.000000</td>\n",
       "      <td>1.000000</td>\n",
       "      <td>1910.000000</td>\n",
       "    </tr>\n",
       "    <tr>\n",
       "      <th>25%</th>\n",
       "      <td>4.000000</td>\n",
       "      <td>9.000000</td>\n",
       "      <td>1974.000000</td>\n",
       "    </tr>\n",
       "    <tr>\n",
       "      <th>50%</th>\n",
       "      <td>7.000000</td>\n",
       "      <td>14.000000</td>\n",
       "      <td>1977.000000</td>\n",
       "    </tr>\n",
       "    <tr>\n",
       "      <th>75%</th>\n",
       "      <td>11.000000</td>\n",
       "      <td>17.000000</td>\n",
       "      <td>2001.000000</td>\n",
       "    </tr>\n",
       "    <tr>\n",
       "      <th>max</th>\n",
       "      <td>42.000000</td>\n",
       "      <td>48.000000</td>\n",
       "      <td>2020.000000</td>\n",
       "    </tr>\n",
       "  </tbody>\n",
       "</table>\n",
       "</div>"
      ],
      "text/plain": [
       "              Floor    HouseFloor     HouseYear\n",
       "count  10000.000000  10000.000000  10000.000000\n",
       "mean       7.943200     13.623800   1984.863800\n",
       "std        5.228127      5.794811     18.409979\n",
       "min        1.000000      1.000000   1910.000000\n",
       "25%        4.000000      9.000000   1974.000000\n",
       "50%        7.000000     14.000000   1977.000000\n",
       "75%       11.000000     17.000000   2001.000000\n",
       "max       42.000000     48.000000   2020.000000"
      ]
     },
     "execution_count": 32,
     "metadata": {},
     "output_type": "execute_result"
    }
   ],
   "source": [
    "invalid_hf_filter = lambda df: ((df['HouseFloor'] == 0) | (df['HouseFloor'] > 50))\n",
    "fixed_hf = data.loc[invalid_hf_filter, 'HouseYear'].map(hf_basedon_year.get)\n",
    "data.loc[invalid_hf_filter, 'HouseFloor'] = fixed_hf\n",
    "data.loc[:, ['Floor', 'HouseFloor', 'HouseYear']].describe()"
   ]
  },
  {
   "cell_type": "code",
   "execution_count": 33,
   "metadata": {},
   "outputs": [
    {
     "name": "stdout",
     "output_type": "stream",
     "text": [
      "Корреляция до:\n"
     ]
    },
    {
     "data": {
      "text/html": [
       "<div>\n",
       "<style scoped>\n",
       "    .dataframe tbody tr th:only-of-type {\n",
       "        vertical-align: middle;\n",
       "    }\n",
       "\n",
       "    .dataframe tbody tr th {\n",
       "        vertical-align: top;\n",
       "    }\n",
       "\n",
       "    .dataframe thead th {\n",
       "        text-align: right;\n",
       "    }\n",
       "</style>\n",
       "<table border=\"1\" class=\"dataframe\">\n",
       "  <thead>\n",
       "    <tr style=\"text-align: right;\">\n",
       "      <th></th>\n",
       "      <th>HouseFloor</th>\n",
       "    </tr>\n",
       "  </thead>\n",
       "  <tbody>\n",
       "    <tr>\n",
       "      <th>DistrictId</th>\n",
       "      <td>-0.181800</td>\n",
       "    </tr>\n",
       "    <tr>\n",
       "      <th>LifeSquare</th>\n",
       "      <td>0.101077</td>\n",
       "    </tr>\n",
       "    <tr>\n",
       "      <th>Floor</th>\n",
       "      <td>0.528385</td>\n",
       "    </tr>\n",
       "    <tr>\n",
       "      <th>Healthcare_1</th>\n",
       "      <td>-0.173270</td>\n",
       "    </tr>\n",
       "    <tr>\n",
       "      <th>Price</th>\n",
       "      <td>0.106535</td>\n",
       "    </tr>\n",
       "  </tbody>\n",
       "</table>\n",
       "</div>"
      ],
      "text/plain": [
       "              HouseFloor\n",
       "DistrictId     -0.181800\n",
       "LifeSquare      0.101077\n",
       "Floor           0.528385\n",
       "Healthcare_1   -0.173270\n",
       "Price           0.106535"
      ]
     },
     "execution_count": 33,
     "metadata": {},
     "output_type": "execute_result"
    }
   ],
   "source": [
    "print('Корреляция до:')\n",
    "perceptible_corr.loc[:, ['HouseFloor']].dropna(how='all')"
   ]
  },
  {
   "cell_type": "code",
   "execution_count": 38,
   "metadata": {},
   "outputs": [
    {
     "name": "stdout",
     "output_type": "stream",
     "text": [
      "Корреляция после:\n"
     ]
    },
    {
     "data": {
      "text/html": [
       "<div>\n",
       "<style scoped>\n",
       "    .dataframe tbody tr th:only-of-type {\n",
       "        vertical-align: middle;\n",
       "    }\n",
       "\n",
       "    .dataframe tbody tr th {\n",
       "        vertical-align: top;\n",
       "    }\n",
       "\n",
       "    .dataframe thead th {\n",
       "        text-align: right;\n",
       "    }\n",
       "</style>\n",
       "<table border=\"1\" class=\"dataframe\">\n",
       "  <thead>\n",
       "    <tr style=\"text-align: right;\">\n",
       "      <th></th>\n",
       "      <th>HouseFloor</th>\n",
       "    </tr>\n",
       "  </thead>\n",
       "  <tbody>\n",
       "    <tr>\n",
       "      <th>DistrictId</th>\n",
       "      <td>-0.219881</td>\n",
       "    </tr>\n",
       "    <tr>\n",
       "      <th>LifeSquare</th>\n",
       "      <td>0.115982</td>\n",
       "    </tr>\n",
       "    <tr>\n",
       "      <th>Floor</th>\n",
       "      <td>0.598678</td>\n",
       "    </tr>\n",
       "    <tr>\n",
       "      <th>HouseYear</th>\n",
       "      <td>0.461408</td>\n",
       "    </tr>\n",
       "    <tr>\n",
       "      <th>Social_1</th>\n",
       "      <td>-0.106483</td>\n",
       "    </tr>\n",
       "    <tr>\n",
       "      <th>Healthcare_1</th>\n",
       "      <td>-0.191400</td>\n",
       "    </tr>\n",
       "    <tr>\n",
       "      <th>Helthcare_2</th>\n",
       "      <td>-0.140463</td>\n",
       "    </tr>\n",
       "    <tr>\n",
       "      <th>Price</th>\n",
       "      <td>0.107305</td>\n",
       "    </tr>\n",
       "  </tbody>\n",
       "</table>\n",
       "</div>"
      ],
      "text/plain": [
       "              HouseFloor\n",
       "DistrictId     -0.219881\n",
       "LifeSquare      0.115982\n",
       "Floor           0.598678\n",
       "HouseYear       0.461408\n",
       "Social_1       -0.106483\n",
       "Healthcare_1   -0.191400\n",
       "Helthcare_2    -0.140463\n",
       "Price           0.107305"
      ]
     },
     "execution_count": 38,
     "metadata": {},
     "output_type": "execute_result"
    }
   ],
   "source": [
    "print('Корреляция после:')\n",
    "data.corr().where(lambda df: (np.abs(df) > 0.1) & (np.abs(df) < 1)).loc[:, ['HouseFloor']].dropna(how='all')"
   ]
  },
  {
   "cell_type": "markdown",
   "metadata": {},
   "source": [
    "## Healthcare_1"
   ]
  },
  {
   "cell_type": "code",
   "execution_count": 39,
   "metadata": {},
   "outputs": [
    {
     "ename": "NameError",
     "evalue": "name 'data_final' is not defined",
     "output_type": "error",
     "traceback": [
      "\u001b[0;31m---------------------------------------------------------------------------\u001b[0m",
      "\u001b[0;31mNameError\u001b[0m                                 Traceback (most recent call last)",
      "\u001b[0;32m<ipython-input-39-fc8a826a3ac6>\u001b[0m in \u001b[0;36m<module>\u001b[0;34m\u001b[0m\n\u001b[0;32m----> 1\u001b[0;31m \u001b[0mhealthcare_corr\u001b[0m \u001b[0;34m=\u001b[0m \u001b[0mdata_final\u001b[0m\u001b[0;34m.\u001b[0m\u001b[0mloc\u001b[0m\u001b[0;34m[\u001b[0m\u001b[0mdata_final\u001b[0m\u001b[0;34m[\u001b[0m\u001b[0;34m'Healthcare_1'\u001b[0m\u001b[0;34m]\u001b[0m\u001b[0;34m.\u001b[0m\u001b[0mnotnull\u001b[0m\u001b[0;34m(\u001b[0m\u001b[0;34m)\u001b[0m\u001b[0;34m,\u001b[0m \u001b[0;34m:\u001b[0m\u001b[0;34m]\u001b[0m\u001b[0;34m.\u001b[0m\u001b[0mcorr\u001b[0m\u001b[0;34m(\u001b[0m\u001b[0;34m)\u001b[0m\u001b[0;34m.\u001b[0m\u001b[0mloc\u001b[0m\u001b[0;34m[\u001b[0m\u001b[0;32mlambda\u001b[0m \u001b[0mdf\u001b[0m\u001b[0;34m:\u001b[0m \u001b[0;34m(\u001b[0m\u001b[0mnp\u001b[0m\u001b[0;34m.\u001b[0m\u001b[0mabs\u001b[0m\u001b[0;34m(\u001b[0m\u001b[0mdf\u001b[0m\u001b[0;34m[\u001b[0m\u001b[0;34m'Healthcare_1'\u001b[0m\u001b[0;34m]\u001b[0m\u001b[0;34m)\u001b[0m \u001b[0;34m>\u001b[0m \u001b[0;36m0.1\u001b[0m\u001b[0;34m)\u001b[0m \u001b[0;34m&\u001b[0m \u001b[0;34m(\u001b[0m\u001b[0mnp\u001b[0m\u001b[0;34m.\u001b[0m\u001b[0mabs\u001b[0m\u001b[0;34m(\u001b[0m\u001b[0mdf\u001b[0m\u001b[0;34m[\u001b[0m\u001b[0;34m'Healthcare_1'\u001b[0m\u001b[0;34m]\u001b[0m\u001b[0;34m)\u001b[0m \u001b[0;34m<\u001b[0m \u001b[0;36m1\u001b[0m\u001b[0;34m)\u001b[0m\u001b[0;34m,\u001b[0m \u001b[0;34m[\u001b[0m\u001b[0;34m'Healthcare_1'\u001b[0m\u001b[0;34m]\u001b[0m\u001b[0;34m]\u001b[0m\u001b[0;34m\u001b[0m\u001b[0;34m\u001b[0m\u001b[0m\n\u001b[0m\u001b[1;32m      2\u001b[0m \u001b[0mhealthcare_corr\u001b[0m\u001b[0;34m\u001b[0m\u001b[0;34m\u001b[0m\u001b[0m\n",
      "\u001b[0;31mNameError\u001b[0m: name 'data_final' is not defined"
     ]
    }
   ],
   "source": [
    "healthcare_corr = data_final.loc[data_final['Healthcare_1'].notnull(), :].corr().loc[lambda df: (np.abs(df['Healthcare_1']) > 0.1) & (np.abs(df['Healthcare_1']) < 1), ['Healthcare_1']]\n",
    "healthcare_corr"
   ]
  },
  {
   "cell_type": "code",
   "execution_count": 36,
   "metadata": {},
   "outputs": [
    {
     "ename": "NameError",
     "evalue": "name 'data_final' is not defined",
     "output_type": "error",
     "traceback": [
      "\u001b[0;31m---------------------------------------------------------------------------\u001b[0m",
      "\u001b[0;31mNameError\u001b[0m                                 Traceback (most recent call last)",
      "\u001b[0;32m<ipython-input-36-b7c3ef149d00>\u001b[0m in \u001b[0;36m<module>\u001b[0;34m\u001b[0m\n\u001b[1;32m      1\u001b[0m \u001b[0;32mfrom\u001b[0m \u001b[0msklearn\u001b[0m\u001b[0;34m.\u001b[0m\u001b[0mensemble\u001b[0m \u001b[0;32mimport\u001b[0m \u001b[0mRandomForestRegressor\u001b[0m\u001b[0;34m\u001b[0m\u001b[0;34m\u001b[0m\u001b[0m\n\u001b[1;32m      2\u001b[0m \u001b[0;32mfrom\u001b[0m \u001b[0msklearn\u001b[0m\u001b[0;34m.\u001b[0m\u001b[0mmodel_selection\u001b[0m \u001b[0;32mimport\u001b[0m \u001b[0mGridSearchCV\u001b[0m\u001b[0;34m\u001b[0m\u001b[0;34m\u001b[0m\u001b[0m\n\u001b[0;32m----> 3\u001b[0;31m \u001b[0mtrain_set\u001b[0m \u001b[0;34m=\u001b[0m \u001b[0mdata_final\u001b[0m\u001b[0;34m.\u001b[0m\u001b[0mloc\u001b[0m\u001b[0;34m[\u001b[0m\u001b[0mdata_final\u001b[0m\u001b[0;34m[\u001b[0m\u001b[0;34m'Healthcare_1'\u001b[0m\u001b[0;34m]\u001b[0m\u001b[0;34m.\u001b[0m\u001b[0mnotnull\u001b[0m\u001b[0;34m(\u001b[0m\u001b[0;34m)\u001b[0m\u001b[0;34m,\u001b[0m \u001b[0;34m:\u001b[0m\u001b[0;34m]\u001b[0m\u001b[0;34m\u001b[0m\u001b[0;34m\u001b[0m\u001b[0m\n\u001b[0m\u001b[1;32m      4\u001b[0m clf_healthcare = GridSearchCV(estimator=RandomForestRegressor(random_state=42), \n\u001b[1;32m      5\u001b[0m                           \u001b[0mparam_grid\u001b[0m\u001b[0;34m=\u001b[0m\u001b[0;34m[\u001b[0m\u001b[0;34m{\u001b[0m\u001b[0;34m'n_estimators'\u001b[0m\u001b[0;34m:\u001b[0m \u001b[0;34m[\u001b[0m\u001b[0;36m200\u001b[0m\u001b[0;34m,\u001b[0m \u001b[0;36m250\u001b[0m\u001b[0;34m,\u001b[0m \u001b[0;36m300\u001b[0m\u001b[0;34m]\u001b[0m\u001b[0;34m,\u001b[0m \u001b[0;34m'max_depth'\u001b[0m\u001b[0;34m:\u001b[0m \u001b[0;34m[\u001b[0m\u001b[0;36m3\u001b[0m\u001b[0;34m,\u001b[0m \u001b[0;36m5\u001b[0m\u001b[0;34m,\u001b[0m \u001b[0;36m7\u001b[0m\u001b[0;34m,\u001b[0m \u001b[0;36m9\u001b[0m\u001b[0;34m]\u001b[0m\u001b[0;34m}\u001b[0m\u001b[0;34m]\u001b[0m\u001b[0;34m,\u001b[0m\u001b[0;34m\u001b[0m\u001b[0;34m\u001b[0m\u001b[0m\n",
      "\u001b[0;31mNameError\u001b[0m: name 'data_final' is not defined"
     ]
    }
   ],
   "source": [
    "from sklearn.ensemble import RandomForestRegressor\n",
    "from sklearn.model_selection import GridSearchCV\n",
    "train_set = data_final.loc[data_final['Healthcare_1'].notnull(), :]\n",
    "clf_healthcare = GridSearchCV(estimator=RandomForestRegressor(random_state=42), \n",
    "                          param_grid=[{'n_estimators': [200, 250, 300], 'max_depth': [3, 5, 7, 9]}],\n",
    "                          cv=5)\n",
    "clf_healthcare.fit(\n",
    "    train_set.loc[:, train_set.columns.isin(healthcare_corr.index.values)], \n",
    "    train_set.loc[:, train_set.columns == 'Healthcare_1'].values.ravel(), \n",
    ")\n",
    "clf_healthcare.best_params_"
   ]
  },
  {
   "cell_type": "code",
   "execution_count": 37,
   "metadata": {},
   "outputs": [
    {
     "ename": "NameError",
     "evalue": "name 'clf_healthcare' is not defined",
     "output_type": "error",
     "traceback": [
      "\u001b[0;31m---------------------------------------------------------------------------\u001b[0m",
      "\u001b[0;31mNameError\u001b[0m                                 Traceback (most recent call last)",
      "\u001b[0;32m<ipython-input-37-15e8484485ba>\u001b[0m in \u001b[0;36m<module>\u001b[0;34m\u001b[0m\n\u001b[0;32m----> 1\u001b[0;31m \u001b[0;32mfor\u001b[0m \u001b[0mmean\u001b[0m\u001b[0;34m,\u001b[0m \u001b[0mstd\u001b[0m\u001b[0;34m,\u001b[0m \u001b[0mparams\u001b[0m \u001b[0;32min\u001b[0m \u001b[0mzip\u001b[0m\u001b[0;34m(\u001b[0m\u001b[0mclf_healthcare\u001b[0m\u001b[0;34m.\u001b[0m\u001b[0mcv_results_\u001b[0m\u001b[0;34m[\u001b[0m\u001b[0;34m'mean_test_score'\u001b[0m\u001b[0;34m]\u001b[0m\u001b[0;34m,\u001b[0m \u001b[0mclf_healthcare\u001b[0m\u001b[0;34m.\u001b[0m\u001b[0mcv_results_\u001b[0m\u001b[0;34m[\u001b[0m\u001b[0;34m'std_test_score'\u001b[0m\u001b[0;34m]\u001b[0m\u001b[0;34m,\u001b[0m \u001b[0mclf_healthcare\u001b[0m\u001b[0;34m.\u001b[0m\u001b[0mcv_results_\u001b[0m\u001b[0;34m[\u001b[0m\u001b[0;34m'params'\u001b[0m\u001b[0;34m]\u001b[0m\u001b[0;34m)\u001b[0m\u001b[0;34m:\u001b[0m\u001b[0;34m\u001b[0m\u001b[0;34m\u001b[0m\u001b[0m\n\u001b[0m\u001b[1;32m      2\u001b[0m     \u001b[0mprint\u001b[0m\u001b[0;34m(\u001b[0m\u001b[0;34m\"%0.4f (±%0.4f) for %r\"\u001b[0m \u001b[0;34m%\u001b[0m \u001b[0;34m(\u001b[0m\u001b[0mmean\u001b[0m\u001b[0;34m,\u001b[0m \u001b[0mstd\u001b[0m \u001b[0;34m*\u001b[0m \u001b[0;36m2\u001b[0m\u001b[0;34m,\u001b[0m \u001b[0mparams\u001b[0m\u001b[0;34m)\u001b[0m\u001b[0;34m)\u001b[0m\u001b[0;34m\u001b[0m\u001b[0;34m\u001b[0m\u001b[0m\n",
      "\u001b[0;31mNameError\u001b[0m: name 'clf_healthcare' is not defined"
     ]
    }
   ],
   "source": [
    "for mean, std, params in zip(clf_healthcare.cv_results_['mean_test_score'], clf_healthcare.cv_results_['std_test_score'], clf_healthcare.cv_results_['params']):\n",
    "    print(\"%0.4f (±%0.4f) for %r\" % (mean, std * 2, params))"
   ]
  },
  {
   "cell_type": "code",
   "execution_count": null,
   "metadata": {},
   "outputs": [],
   "source": [
    "data_final.loc[data_final['Healthcare_1'].isnull(), 'Healthcare_1'] = clf_healthcare.predict(data_final.loc[data_final['Healthcare_1'].isnull(), healthcare_corr.index.values])"
   ]
  },
  {
   "cell_type": "markdown",
   "metadata": {},
   "source": [
    "# Собираем итоговый датафрейм"
   ]
  },
  {
   "cell_type": "code",
   "execution_count": 221,
   "metadata": {},
   "outputs": [
    {
     "name": "stdout",
     "output_type": "stream",
     "text": [
      "Before LifeSquare⇔Square swap:  482\n",
      "After LifeSquare⇔Square swap:  0\n",
      "Before Floor⇔HouseFloor swap:  1556\n",
      "After Floor⇔HouseFloor swap:  0\n",
      "Корелляция LifeSquare⇔Price до фиксов 0.36356966846690975\n",
      "Корелляция LifeSquare⇔Price после фиксов 0.6259099227819707\n",
      "Корелляция Square⇔Price до фиксов 0.14249926312014716\n",
      "Корелляция Square⇔Price после фиксов 0.6505623743259118\n",
      "Корелляция Rooms⇔Price до фиксов 0.5502907269258719\n",
      "Корелляция Rooms⇔Price после фиксов 0.7981381144770673\n"
     ]
    }
   ],
   "source": [
    "def preprocessData(df, \n",
    "                   filter_rsl,         model_rooms, model_square, model_lifesquare,\n",
    "                   filter_house_floor, df_house_floor_by_year,\n",
    "                   filter_house_year\n",
    "                  ):\n",
    "    # 'Ecology_2', 'Ecology_3', 'Shops_2'\n",
    "    df = one_hot_encoder(df)\n",
    "    # подготавливаем 'LifeSquare', 'Square'\n",
    "    df = swap_lifesquare_with_square(df.copy())\n",
    "    # подготавливаем 'Floor', 'HouseFloor'\n",
    "    df = swap_floor_with_housefloor(df.copy())\n",
    "    # исправляем LifeSquare\n",
    "    df = fix_lifesquare(df.copy(), filter_rsl, model_lifesquare)\n",
    "    # исправляем Square\n",
    "    df = fix_square(df.copy(), filter_rsl, model_square)\n",
    "    # исправляем Rooms\n",
    "    df = fix_rooms(df.copy(), filter_rsl, model_rooms)\n",
    "    # исправляем HouseYear\n",
    "    df.loc[filter_house_year, 'HouseYear'] = df['HouseYear'].median()\n",
    "    # исправляем HouseFloor\n",
    "    df.loc[filter_house_floor, 'HouseFloor'] = df.loc[filter_house_floor, 'HouseYear'].map(df_house_floor_by_year.get)\n",
    "    # исправляем Healthcare_1\n",
    "    df['Healthcare_1'] = df['Healthcare_1'].fillna(-999)\n",
    "    return df\n",
    "\n",
    "data_final = preprocessData(pd.read_csv('train.csv'),\n",
    "                            ideal_rsl_filter, clf_rooms, clf_square, clf_lifesquare,\n",
    "                            invalid_hf_filter, hf_basedon_year,\n",
    "                            invalid_hy_filter\n",
    "                           )"
   ]
  },
  {
   "cell_type": "markdown",
   "metadata": {},
   "source": [
    "# Масштабируем признаки"
   ]
  },
  {
   "cell_type": "code",
   "execution_count": 222,
   "metadata": {},
   "outputs": [
    {
     "data": {
      "text/html": [
       "<div>\n",
       "<style scoped>\n",
       "    .dataframe tbody tr th:only-of-type {\n",
       "        vertical-align: middle;\n",
       "    }\n",
       "\n",
       "    .dataframe tbody tr th {\n",
       "        vertical-align: top;\n",
       "    }\n",
       "\n",
       "    .dataframe thead th {\n",
       "        text-align: right;\n",
       "    }\n",
       "</style>\n",
       "<table border=\"1\" class=\"dataframe\">\n",
       "  <thead>\n",
       "    <tr style=\"text-align: right;\">\n",
       "      <th></th>\n",
       "      <th>DistrictId</th>\n",
       "      <th>Rooms</th>\n",
       "      <th>Square</th>\n",
       "      <th>LifeSquare</th>\n",
       "      <th>KitchenSquare</th>\n",
       "      <th>Floor</th>\n",
       "      <th>HouseFloor</th>\n",
       "      <th>HouseYear</th>\n",
       "      <th>Ecology_1</th>\n",
       "      <th>Social_1</th>\n",
       "      <th>Social_2</th>\n",
       "      <th>Social_3</th>\n",
       "      <th>Healthcare_1</th>\n",
       "      <th>Helthcare_2</th>\n",
       "      <th>Shops_1</th>\n",
       "      <th>Ecology_2_A</th>\n",
       "      <th>Ecology_2_B</th>\n",
       "      <th>Ecology_3_A</th>\n",
       "      <th>Ecology_3_B</th>\n",
       "      <th>Shops_2_A</th>\n",
       "      <th>Shops_2_B</th>\n",
       "    </tr>\n",
       "  </thead>\n",
       "  <tbody>\n",
       "    <tr>\n",
       "      <th>0</th>\n",
       "      <td>-0.353348</td>\n",
       "      <td>0.020567</td>\n",
       "      <td>-0.360280</td>\n",
       "      <td>-0.342945</td>\n",
       "      <td>-0.009569</td>\n",
       "      <td>-0.180418</td>\n",
       "      <td>-0.797961</td>\n",
       "      <td>-0.861739</td>\n",
       "      <td>-0.250529</td>\n",
       "      <td>0.474169</td>\n",
       "      <td>0.654880</td>\n",
       "      <td>-0.127533</td>\n",
       "      <td>-0.857652</td>\n",
       "      <td>-0.883480</td>\n",
       "      <td>1.408356</td>\n",
       "      <td>-0.09897</td>\n",
       "      <td>0.09897</td>\n",
       "      <td>-0.16816</td>\n",
       "      <td>0.16816</td>\n",
       "      <td>-0.299864</td>\n",
       "      <td>0.299864</td>\n",
       "    </tr>\n",
       "    <tr>\n",
       "      <th>1</th>\n",
       "      <td>-0.215687</td>\n",
       "      <td>1.094075</td>\n",
       "      <td>0.774047</td>\n",
       "      <td>0.582501</td>\n",
       "      <td>0.060460</td>\n",
       "      <td>-0.180418</td>\n",
       "      <td>-0.797961</td>\n",
       "      <td>-0.372849</td>\n",
       "      <td>-0.998053</td>\n",
       "      <td>1.215681</td>\n",
       "      <td>1.237169</td>\n",
       "      <td>-0.295384</td>\n",
       "      <td>0.096048</td>\n",
       "      <td>-0.213923</td>\n",
       "      <td>2.448700</td>\n",
       "      <td>-0.09897</td>\n",
       "      <td>0.09897</td>\n",
       "      <td>-0.16816</td>\n",
       "      <td>0.16816</td>\n",
       "      <td>-0.299864</td>\n",
       "      <td>0.299864</td>\n",
       "    </tr>\n",
       "    <tr>\n",
       "      <th>2</th>\n",
       "      <td>0.059635</td>\n",
       "      <td>0.020567</td>\n",
       "      <td>-0.374596</td>\n",
       "      <td>-0.451857</td>\n",
       "      <td>-0.219657</td>\n",
       "      <td>0.010865</td>\n",
       "      <td>-0.280230</td>\n",
       "      <td>-0.916060</td>\n",
       "      <td>-0.581588</td>\n",
       "      <td>0.531208</td>\n",
       "      <td>0.600720</td>\n",
       "      <td>-0.337347</td>\n",
       "      <td>0.087581</td>\n",
       "      <td>-0.213923</td>\n",
       "      <td>-0.256195</td>\n",
       "      <td>-0.09897</td>\n",
       "      <td>0.09897</td>\n",
       "      <td>-0.16816</td>\n",
       "      <td>0.16816</td>\n",
       "      <td>-0.299864</td>\n",
       "      <td>0.299864</td>\n",
       "    </tr>\n",
       "  </tbody>\n",
       "</table>\n",
       "</div>"
      ],
      "text/plain": [
       "   DistrictId     Rooms    Square  LifeSquare  KitchenSquare     Floor  \\\n",
       "0   -0.353348  0.020567 -0.360280   -0.342945      -0.009569 -0.180418   \n",
       "1   -0.215687  1.094075  0.774047    0.582501       0.060460 -0.180418   \n",
       "2    0.059635  0.020567 -0.374596   -0.451857      -0.219657  0.010865   \n",
       "\n",
       "   HouseFloor  HouseYear  Ecology_1  Social_1  Social_2  Social_3  \\\n",
       "0   -0.797961  -0.861739  -0.250529  0.474169  0.654880 -0.127533   \n",
       "1   -0.797961  -0.372849  -0.998053  1.215681  1.237169 -0.295384   \n",
       "2   -0.280230  -0.916060  -0.581588  0.531208  0.600720 -0.337347   \n",
       "\n",
       "   Healthcare_1  Helthcare_2   Shops_1  Ecology_2_A  Ecology_2_B  Ecology_3_A  \\\n",
       "0     -0.857652    -0.883480  1.408356     -0.09897      0.09897     -0.16816   \n",
       "1      0.096048    -0.213923  2.448700     -0.09897      0.09897     -0.16816   \n",
       "2      0.087581    -0.213923 -0.256195     -0.09897      0.09897     -0.16816   \n",
       "\n",
       "   Ecology_3_B  Shops_2_A  Shops_2_B  \n",
       "0      0.16816  -0.299864   0.299864  \n",
       "1      0.16816  -0.299864   0.299864  \n",
       "2      0.16816  -0.299864   0.299864  "
      ]
     },
     "execution_count": 222,
     "metadata": {},
     "output_type": "execute_result"
    }
   ],
   "source": [
    "from sklearn.preprocessing import StandardScaler\n",
    "train_columns = data_final.columns.copy().drop(['Id', 'Price'])\n",
    "df_train = data_final.loc[:, train_columns]\n",
    "df_test = data_final.loc[:, data_final.columns == 'Price']\n",
    "\n",
    "scaler = StandardScaler()\n",
    "df_train_scaled = scaler.fit_transform(df_train)\n",
    "df_train_scaled = pd.DataFrame(df_train_scaled, columns=train_columns)\n",
    "df_train_scaled.head(3)"
   ]
  },
  {
   "cell_type": "markdown",
   "metadata": {},
   "source": [
    "# Предсказание\n",
    "Наблюдаем за изменением главной метрики"
   ]
  },
  {
   "cell_type": "code",
   "execution_count": 223,
   "metadata": {},
   "outputs": [],
   "source": [
    "from sklearn.model_selection import train_test_split\n",
    "from sklearn.metrics import r2_score\n",
    "x_train, x_test, y_train, y_test = train_test_split(\n",
    "    df_train_scaled, \n",
    "    df_test, \n",
    "    test_size=0.25, \n",
    "    random_state=42\n",
    ")"
   ]
  },
  {
   "cell_type": "markdown",
   "metadata": {},
   "source": [
    "## LinearRegression"
   ]
  },
  {
   "cell_type": "code",
   "execution_count": 224,
   "metadata": {},
   "outputs": [
    {
     "name": "stdout",
     "output_type": "stream",
     "text": [
      "Начальное значение: 0.45173783173008786\n"
     ]
    },
    {
     "data": {
      "text/plain": [
       "0.6889036066775029"
      ]
     },
     "execution_count": 224,
     "metadata": {},
     "output_type": "execute_result"
    }
   ],
   "source": [
    "from sklearn.linear_model import LinearRegression\n",
    "lr = LinearRegression()\n",
    "lr.fit(x_train, y_train)\n",
    "y_pred = lr.predict(x_test)\n",
    "print('Начальное значение:', 0.45173783173008786)\n",
    "r2_score(y_test, y_pred)"
   ]
  },
  {
   "cell_type": "markdown",
   "metadata": {},
   "source": [
    "## DecisionTreeRegressor"
   ]
  },
  {
   "cell_type": "code",
   "execution_count": 225,
   "metadata": {},
   "outputs": [
    {
     "name": "stdout",
     "output_type": "stream",
     "text": [
      "Начальное значение: 0.6353812140583176\n"
     ]
    },
    {
     "data": {
      "text/plain": [
       "0.8872402734137114"
      ]
     },
     "execution_count": 225,
     "metadata": {},
     "output_type": "execute_result"
    }
   ],
   "source": [
    "from sklearn.tree import DecisionTreeRegressor\n",
    "dtr = DecisionTreeRegressor(random_state=42, max_depth=9)\n",
    "dtr.fit(x_train, y_train)\n",
    "y_pred = dtr.predict(x_test)\n",
    "print('Начальное значение:', 0.6353812140583176)\n",
    "r2_score(y_test, y_pred)"
   ]
  },
  {
   "cell_type": "markdown",
   "metadata": {},
   "source": [
    "## RandomForestRegressor с обучением на фолдах"
   ]
  },
  {
   "cell_type": "code",
   "execution_count": 226,
   "metadata": {},
   "outputs": [
    {
     "data": {
      "text/plain": [
       "{'max_depth': 27, 'max_features': 15, 'n_estimators': 500}"
      ]
     },
     "execution_count": 226,
     "metadata": {},
     "output_type": "execute_result"
    }
   ],
   "source": [
    "from sklearn.ensemble import RandomForestRegressor\n",
    "from sklearn.model_selection import GridSearchCV\n",
    "clf_final = GridSearchCV(\n",
    "    estimator=RandomForestRegressor(random_state=42), \n",
    "    param_grid=[{'n_estimators': [500], \n",
    "                 'max_depth': [27],\n",
    "                 'max_features': [15]}],\n",
    "    cv=5\n",
    ")\n",
    "clf_final.fit(df_train_scaled, df_test.values.ravel())\n",
    "clf_final.best_params_"
   ]
  },
  {
   "cell_type": "code",
   "execution_count": 227,
   "metadata": {},
   "outputs": [
    {
     "name": "stdout",
     "output_type": "stream",
     "text": [
      "0.9378 (±0.0146) for {'max_depth': 27, 'max_features': 15, 'n_estimators': 500}\n"
     ]
    }
   ],
   "source": [
    "for mean, std, params in zip(clf_final.cv_results_['mean_test_score'], clf_final.cv_results_['std_test_score'], clf_final.cv_results_['params']):\n",
    "    print(\"%0.4f (±%0.4f) for %r\" % (mean, std * 2, params))"
   ]
  },
  {
   "cell_type": "code",
   "execution_count": 229,
   "metadata": {},
   "outputs": [
    {
     "data": {
      "text/plain": [
       "0.9909484021161874"
      ]
     },
     "execution_count": 229,
     "metadata": {},
     "output_type": "execute_result"
    }
   ],
   "source": [
    "y_pred = clf_final.predict(x_test)\n",
    "r2_score(y_test, y_pred)"
   ]
  }
 ],
 "metadata": {
  "kernelspec": {
   "display_name": "Python 3",
   "language": "python",
   "name": "python3"
  },
  "language_info": {
   "codemirror_mode": {
    "name": "ipython",
    "version": 3
   },
   "file_extension": ".py",
   "mimetype": "text/x-python",
   "name": "python",
   "nbconvert_exporter": "python",
   "pygments_lexer": "ipython3",
   "version": "3.7.3"
  }
 },
 "nbformat": 4,
 "nbformat_minor": 2
}
