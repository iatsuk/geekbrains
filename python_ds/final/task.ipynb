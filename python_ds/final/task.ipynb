{
 "cells": [
  {
   "cell_type": "markdown",
   "metadata": {},
   "source": [
    "# Курсовой проект для курса \"Python для Data Science\"\n",
    "## Задание:\n",
    "Используя данные из train.csv, построить модель для предсказания цен на недвижимость (квартиры). С помощью полученной модели предсказать цены для квартир из файла test.csv.\n",
    "\n",
    "## Целевая переменная:\n",
    "Price\n",
    "\n",
    "## Метрика:\n",
    "R2 - коэффициент детерминации (sklearn.metrics.r2_score)\n",
    "\n",
    "## Сдача проекта:\n",
    "1. Прислать в раздел Задания Урока 10 (\"Вебинар. Консультация по итоговому проекту\") ссылку на программу в github (программа должна содержаться в файле Jupyter Notebook  с расширением ipynb). (Pull request не нужен, только ссылка ведущая на сам скрипт).\n",
    "2. Приложить файл с названием по образцу SShirkin_predictions.csv с предсказанными ценами для квартир из test.csv (файл должен содержать два поля: Id, Price). В файле с предсказаниями должна быть 5001 строка (шапка + 5000 предсказаний).\n",
    "\n",
    "## Сроки и условия сдачи:\n",
    "Дедлайн: сдать проект нужно в течение 72 часов после начала Урока 10 (\"Вебинар. Консультация по итоговому проекту\").\n",
    "Для успешной сдачи должны быть все предсказания (для 5000 квартир) и R2 должен быть больше 0.6.\n",
    "При сдаче до дедлайна результат проекта может попасть в топ лучших результатов.\n",
    "Повторная сдача и проверка результатов возможны только при условии предыдущей неуспешной сдачи.\n",
    "Успешный проект нельзя пересдать в целях повышения результата.\n",
    "Проекты, сданные после дедлайна или сданные повторно, не попадают в топ лучших результатов, но можно узнать результат.\n",
    "В качестве итогового результата берется первый успешный результат, последующие успешные результаты не учитываются.\n",
    "\n",
    "## Примечания:\n",
    "Все файлы csv должны содержать названия полей (header - то есть \"шапку\"), разделитель - запятая.\n",
    "В файлах не должны содержаться индексы из датафрейма.\n",
    "Самая сложная из допустимых моделей - RandomForestRegressor из sklearn."
   ]
  },
  {
   "cell_type": "markdown",
   "metadata": {},
   "source": [
    "# Импорт данных"
   ]
  },
  {
   "cell_type": "code",
   "execution_count": 939,
   "metadata": {},
   "outputs": [],
   "source": [
    "import numpy as np\n",
    "import pandas as pd\n",
    "import matplotlib.pyplot as plt\n",
    "import seaborn as sns\n",
    "import warnings\n",
    "warnings.filterwarnings('ignore')\n",
    "%config IPCompleter.greedy=True\n",
    "%config InlineBackend.figure_format = 'jpeg'\n",
    "%matplotlib inline\n",
    "pd.options.display.max_columns = 100"
   ]
  },
  {
   "cell_type": "code",
   "execution_count": 940,
   "metadata": {},
   "outputs": [
    {
     "data": {
      "text/html": [
       "<div>\n",
       "<style scoped>\n",
       "    .dataframe tbody tr th:only-of-type {\n",
       "        vertical-align: middle;\n",
       "    }\n",
       "\n",
       "    .dataframe tbody tr th {\n",
       "        vertical-align: top;\n",
       "    }\n",
       "\n",
       "    .dataframe thead th {\n",
       "        text-align: right;\n",
       "    }\n",
       "</style>\n",
       "<table border=\"1\" class=\"dataframe\">\n",
       "  <thead>\n",
       "    <tr style=\"text-align: right;\">\n",
       "      <th></th>\n",
       "      <th>Id</th>\n",
       "      <th>DistrictId</th>\n",
       "      <th>Rooms</th>\n",
       "      <th>Square</th>\n",
       "      <th>LifeSquare</th>\n",
       "      <th>KitchenSquare</th>\n",
       "      <th>Floor</th>\n",
       "      <th>HouseFloor</th>\n",
       "      <th>HouseYear</th>\n",
       "      <th>Ecology_1</th>\n",
       "      <th>Ecology_2</th>\n",
       "      <th>Ecology_3</th>\n",
       "      <th>Social_1</th>\n",
       "      <th>Social_2</th>\n",
       "      <th>Social_3</th>\n",
       "      <th>Healthcare_1</th>\n",
       "      <th>Helthcare_2</th>\n",
       "      <th>Shops_1</th>\n",
       "      <th>Shops_2</th>\n",
       "      <th>Price</th>\n",
       "    </tr>\n",
       "  </thead>\n",
       "  <tbody>\n",
       "    <tr>\n",
       "      <th>0</th>\n",
       "      <td>14038</td>\n",
       "      <td>35</td>\n",
       "      <td>2.0</td>\n",
       "      <td>47.981561</td>\n",
       "      <td>29.442751</td>\n",
       "      <td>6.0</td>\n",
       "      <td>7</td>\n",
       "      <td>9.0</td>\n",
       "      <td>1969</td>\n",
       "      <td>0.089040</td>\n",
       "      <td>B</td>\n",
       "      <td>B</td>\n",
       "      <td>33</td>\n",
       "      <td>7976</td>\n",
       "      <td>5</td>\n",
       "      <td>NaN</td>\n",
       "      <td>0</td>\n",
       "      <td>11</td>\n",
       "      <td>B</td>\n",
       "      <td>184966.930730</td>\n",
       "    </tr>\n",
       "    <tr>\n",
       "      <th>1</th>\n",
       "      <td>15053</td>\n",
       "      <td>41</td>\n",
       "      <td>3.0</td>\n",
       "      <td>65.683640</td>\n",
       "      <td>40.049543</td>\n",
       "      <td>8.0</td>\n",
       "      <td>7</td>\n",
       "      <td>9.0</td>\n",
       "      <td>1978</td>\n",
       "      <td>0.000070</td>\n",
       "      <td>B</td>\n",
       "      <td>B</td>\n",
       "      <td>46</td>\n",
       "      <td>10309</td>\n",
       "      <td>1</td>\n",
       "      <td>240.0</td>\n",
       "      <td>1</td>\n",
       "      <td>16</td>\n",
       "      <td>B</td>\n",
       "      <td>300009.450063</td>\n",
       "    </tr>\n",
       "    <tr>\n",
       "      <th>2</th>\n",
       "      <td>4765</td>\n",
       "      <td>53</td>\n",
       "      <td>2.0</td>\n",
       "      <td>44.947953</td>\n",
       "      <td>29.197612</td>\n",
       "      <td>0.0</td>\n",
       "      <td>8</td>\n",
       "      <td>12.0</td>\n",
       "      <td>1968</td>\n",
       "      <td>0.049637</td>\n",
       "      <td>B</td>\n",
       "      <td>B</td>\n",
       "      <td>34</td>\n",
       "      <td>7759</td>\n",
       "      <td>0</td>\n",
       "      <td>229.0</td>\n",
       "      <td>1</td>\n",
       "      <td>3</td>\n",
       "      <td>B</td>\n",
       "      <td>220925.908524</td>\n",
       "    </tr>\n",
       "  </tbody>\n",
       "</table>\n",
       "</div>"
      ],
      "text/plain": [
       "      Id  DistrictId  Rooms     Square  LifeSquare  KitchenSquare  Floor  \\\n",
       "0  14038          35    2.0  47.981561   29.442751            6.0      7   \n",
       "1  15053          41    3.0  65.683640   40.049543            8.0      7   \n",
       "2   4765          53    2.0  44.947953   29.197612            0.0      8   \n",
       "\n",
       "   HouseFloor  HouseYear  Ecology_1 Ecology_2 Ecology_3  Social_1  Social_2  \\\n",
       "0         9.0       1969   0.089040         B         B        33      7976   \n",
       "1         9.0       1978   0.000070         B         B        46     10309   \n",
       "2        12.0       1968   0.049637         B         B        34      7759   \n",
       "\n",
       "   Social_3  Healthcare_1  Helthcare_2  Shops_1 Shops_2          Price  \n",
       "0         5           NaN            0       11       B  184966.930730  \n",
       "1         1         240.0            1       16       B  300009.450063  \n",
       "2         0         229.0            1        3       B  220925.908524  "
      ]
     },
     "execution_count": 940,
     "metadata": {},
     "output_type": "execute_result"
    }
   ],
   "source": [
    "data = pd.read_csv('train.csv')\n",
    "data.head(3)"
   ]
  },
  {
   "cell_type": "code",
   "execution_count": 941,
   "metadata": {},
   "outputs": [
    {
     "name": "stdout",
     "output_type": "stream",
     "text": [
      "<class 'pandas.core.frame.DataFrame'>\n",
      "RangeIndex: 10000 entries, 0 to 9999\n",
      "Data columns (total 20 columns):\n",
      "Id               10000 non-null int64\n",
      "DistrictId       10000 non-null int64\n",
      "Rooms            10000 non-null float64\n",
      "Square           10000 non-null float64\n",
      "LifeSquare       7887 non-null float64\n",
      "KitchenSquare    10000 non-null float64\n",
      "Floor            10000 non-null int64\n",
      "HouseFloor       10000 non-null float64\n",
      "HouseYear        10000 non-null int64\n",
      "Ecology_1        10000 non-null float64\n",
      "Ecology_2        10000 non-null object\n",
      "Ecology_3        10000 non-null object\n",
      "Social_1         10000 non-null int64\n",
      "Social_2         10000 non-null int64\n",
      "Social_3         10000 non-null int64\n",
      "Healthcare_1     5202 non-null float64\n",
      "Helthcare_2      10000 non-null int64\n",
      "Shops_1          10000 non-null int64\n",
      "Shops_2          10000 non-null object\n",
      "Price            10000 non-null float64\n",
      "dtypes: float64(8), int64(9), object(3)\n",
      "memory usage: 1.5+ MB\n"
     ]
    }
   ],
   "source": [
    "data.info()"
   ]
  },
  {
   "cell_type": "markdown",
   "metadata": {},
   "source": [
    "# One Hot Encoding"
   ]
  },
  {
   "cell_type": "markdown",
   "metadata": {},
   "source": [
    "Смотрим количество уникальных значений, чтобы мы не разорвались по памяти"
   ]
  },
  {
   "cell_type": "code",
   "execution_count": 942,
   "metadata": {},
   "outputs": [
    {
     "name": "stdout",
     "output_type": "stream",
     "text": [
      "Ecology_2 unique: ['B' 'A']\n",
      "Ecology_3 unique: ['B' 'A']\n",
      "Shops_2 unique: ['B' 'A']\n"
     ]
    }
   ],
   "source": [
    "print('Ecology_2 unique:', data['Ecology_2'].unique())\n",
    "print('Ecology_3 unique:', data['Ecology_3'].unique())\n",
    "print('Shops_2 unique:', data['Shops_2'].unique())"
   ]
  },
  {
   "cell_type": "code",
   "execution_count": 943,
   "metadata": {},
   "outputs": [
    {
     "data": {
      "text/html": [
       "<div>\n",
       "<style scoped>\n",
       "    .dataframe tbody tr th:only-of-type {\n",
       "        vertical-align: middle;\n",
       "    }\n",
       "\n",
       "    .dataframe tbody tr th {\n",
       "        vertical-align: top;\n",
       "    }\n",
       "\n",
       "    .dataframe thead th {\n",
       "        text-align: right;\n",
       "    }\n",
       "</style>\n",
       "<table border=\"1\" class=\"dataframe\">\n",
       "  <thead>\n",
       "    <tr style=\"text-align: right;\">\n",
       "      <th></th>\n",
       "      <th>Id</th>\n",
       "      <th>DistrictId</th>\n",
       "      <th>Rooms</th>\n",
       "      <th>Square</th>\n",
       "      <th>LifeSquare</th>\n",
       "      <th>KitchenSquare</th>\n",
       "      <th>Floor</th>\n",
       "      <th>HouseFloor</th>\n",
       "      <th>HouseYear</th>\n",
       "      <th>Ecology_1</th>\n",
       "      <th>Social_1</th>\n",
       "      <th>Social_2</th>\n",
       "      <th>Social_3</th>\n",
       "      <th>Healthcare_1</th>\n",
       "      <th>Helthcare_2</th>\n",
       "      <th>Shops_1</th>\n",
       "      <th>Price</th>\n",
       "      <th>Ecology_2</th>\n",
       "      <th>Ecology_3</th>\n",
       "      <th>Shops_2</th>\n",
       "    </tr>\n",
       "  </thead>\n",
       "  <tbody>\n",
       "    <tr>\n",
       "      <th>0</th>\n",
       "      <td>14038</td>\n",
       "      <td>35</td>\n",
       "      <td>2.0</td>\n",
       "      <td>47.981561</td>\n",
       "      <td>29.442751</td>\n",
       "      <td>6.0</td>\n",
       "      <td>7</td>\n",
       "      <td>9.0</td>\n",
       "      <td>1969</td>\n",
       "      <td>0.089040</td>\n",
       "      <td>33</td>\n",
       "      <td>7976</td>\n",
       "      <td>5</td>\n",
       "      <td>NaN</td>\n",
       "      <td>0</td>\n",
       "      <td>11</td>\n",
       "      <td>184966.930730</td>\n",
       "      <td>1</td>\n",
       "      <td>1</td>\n",
       "      <td>1</td>\n",
       "    </tr>\n",
       "    <tr>\n",
       "      <th>1</th>\n",
       "      <td>15053</td>\n",
       "      <td>41</td>\n",
       "      <td>3.0</td>\n",
       "      <td>65.683640</td>\n",
       "      <td>40.049543</td>\n",
       "      <td>8.0</td>\n",
       "      <td>7</td>\n",
       "      <td>9.0</td>\n",
       "      <td>1978</td>\n",
       "      <td>0.000070</td>\n",
       "      <td>46</td>\n",
       "      <td>10309</td>\n",
       "      <td>1</td>\n",
       "      <td>240.0</td>\n",
       "      <td>1</td>\n",
       "      <td>16</td>\n",
       "      <td>300009.450063</td>\n",
       "      <td>1</td>\n",
       "      <td>1</td>\n",
       "      <td>1</td>\n",
       "    </tr>\n",
       "    <tr>\n",
       "      <th>2</th>\n",
       "      <td>4765</td>\n",
       "      <td>53</td>\n",
       "      <td>2.0</td>\n",
       "      <td>44.947953</td>\n",
       "      <td>29.197612</td>\n",
       "      <td>0.0</td>\n",
       "      <td>8</td>\n",
       "      <td>12.0</td>\n",
       "      <td>1968</td>\n",
       "      <td>0.049637</td>\n",
       "      <td>34</td>\n",
       "      <td>7759</td>\n",
       "      <td>0</td>\n",
       "      <td>229.0</td>\n",
       "      <td>1</td>\n",
       "      <td>3</td>\n",
       "      <td>220925.908524</td>\n",
       "      <td>1</td>\n",
       "      <td>1</td>\n",
       "      <td>1</td>\n",
       "    </tr>\n",
       "  </tbody>\n",
       "</table>\n",
       "</div>"
      ],
      "text/plain": [
       "      Id  DistrictId  Rooms     Square  LifeSquare  KitchenSquare  Floor  \\\n",
       "0  14038          35    2.0  47.981561   29.442751            6.0      7   \n",
       "1  15053          41    3.0  65.683640   40.049543            8.0      7   \n",
       "2   4765          53    2.0  44.947953   29.197612            0.0      8   \n",
       "\n",
       "   HouseFloor  HouseYear  Ecology_1  Social_1  Social_2  Social_3  \\\n",
       "0         9.0       1969   0.089040        33      7976         5   \n",
       "1         9.0       1978   0.000070        46     10309         1   \n",
       "2        12.0       1968   0.049637        34      7759         0   \n",
       "\n",
       "   Healthcare_1  Helthcare_2  Shops_1          Price  Ecology_2  Ecology_3  \\\n",
       "0           NaN            0       11  184966.930730          1          1   \n",
       "1         240.0            1       16  300009.450063          1          1   \n",
       "2         229.0            1        3  220925.908524          1          1   \n",
       "\n",
       "   Shops_2  \n",
       "0        1  \n",
       "1        1  \n",
       "2        1  "
      ]
     },
     "execution_count": 943,
     "metadata": {},
     "output_type": "execute_result"
    }
   ],
   "source": [
    "def one_hot_encoder(adata):\n",
    "    adata = pd.get_dummies(adata, columns=['Ecology_2', 'Ecology_3', 'Shops_2'])\n",
    "    adata.drop(columns=['Ecology_2_A', 'Ecology_3_A', 'Shops_2_A'], inplace=True)\n",
    "    adata.rename(columns={'Ecology_2_B': 'Ecology_2', 'Ecology_3_B': 'Ecology_3', 'Shops_2_B': 'Shops_2'}, inplace=True)\n",
    "    return adata\n",
    "\n",
    "\n",
    "data = one_hot_encoder(data.copy())\n",
    "data.head(3)"
   ]
  },
  {
   "cell_type": "markdown",
   "metadata": {},
   "source": [
    "# Модели"
   ]
  },
  {
   "cell_type": "markdown",
   "metadata": {},
   "source": [
    "Обучим на идеальном подмножестве выборки данных модели, которые исправят выбросы в данных"
   ]
  },
  {
   "cell_type": "code",
   "execution_count": 944,
   "metadata": {},
   "outputs": [],
   "source": [
    "from sklearn.ensemble import RandomForestRegressor\n",
    "from sklearn.model_selection import GridSearchCV\n",
    "from sklearn.metrics import r2_score\n",
    "\n",
    "\n",
    "def model_fit(x_train, x_test, y_train, y_test):\n",
    "    clf = GridSearchCV(estimator=RandomForestRegressor(random_state=42),\n",
    "                       param_grid=[{'n_estimators': [100], 'max_depth': [3, 5, 9, 15, 27]}],\n",
    "                       cv=5)\n",
    "    clf.fit(x_train, y_train)\n",
    "    print('r2:', r2_score(y_test, clf.predict(x_test)))\n",
    "    return clf\n",
    "\n",
    "\n",
    "def show_model(clf_model):\n",
    "    print('Лучшие параметры модели:', clf_model.best_params_)\n",
    "    for mean, std, params in zip(clf_model.cv_results_['mean_test_score'], clf_model.cv_results_['std_test_score'], clf_model.cv_results_['params']):\n",
    "        print(\"%0.4f (±%0.4f) for %r\" % (mean, std * 2, params))"
   ]
  },
  {
   "cell_type": "markdown",
   "metadata": {},
   "source": [
    "# Подготавливаем неправильно вбитые данные\n",
    "## Swap bigger 'LifeSquare' with 'Square'"
   ]
  },
  {
   "cell_type": "code",
   "execution_count": 945,
   "metadata": {},
   "outputs": [
    {
     "name": "stdout",
     "output_type": "stream",
     "text": [
      "Before LifeSquare⇔Square swap:  482\n",
      "After LifeSquare⇔Square swap:  0\n"
     ]
    }
   ],
   "source": [
    "def swap_lifesquare_with_square(adata):\n",
    "    tmp_filter_col = lambda df: (df['LifeSquare'].notna()) & (df['LifeSquare'] > df['Square'])\n",
    "    adata['tmp_filter_col'] = tmp_filter_col(adata)\n",
    "    print('Before LifeSquare⇔Square swap: ', adata.loc[tmp_filter_col, 'Id'].count())\n",
    "    adata.loc[adata['tmp_filter_col'], 'LifeSquare'], adata.loc[adata['tmp_filter_col'], 'Square'] = adata.loc[adata['tmp_filter_col'], 'Square'], adata.loc[adata['tmp_filter_col'], 'LifeSquare']\n",
    "    print('After LifeSquare⇔Square swap: ', adata.loc[tmp_filter_col, 'Id'].count())\n",
    "    adata.drop(columns=['tmp_filter_col'], inplace=True)\n",
    "    return adata\n",
    "data = swap_lifesquare_with_square(data.copy())"
   ]
  },
  {
   "cell_type": "markdown",
   "metadata": {},
   "source": [
    "## Swap bigger 'Floor' with 'HouseFloor'"
   ]
  },
  {
   "cell_type": "code",
   "execution_count": 946,
   "metadata": {},
   "outputs": [
    {
     "name": "stdout",
     "output_type": "stream",
     "text": [
      "Before Floor⇔HouseFloor swap:  1556\n",
      "After Floor⇔HouseFloor swap:  0\n"
     ]
    }
   ],
   "source": [
    "def swap_floor_with_housefloor(adata):\n",
    "    tmp_filter_col = lambda df: (df['HouseFloor'] > 0) & (df['Floor'] > df['HouseFloor'])\n",
    "    adata['tmp_filter_col'] = tmp_filter_col(adata)\n",
    "    print('Before Floor⇔HouseFloor swap: ', adata.loc[tmp_filter_col, 'Id'].count())\n",
    "    adata.loc[adata['tmp_filter_col'], 'Floor'], adata.loc[adata['tmp_filter_col'], 'HouseFloor'] = adata.loc[adata['tmp_filter_col'], 'HouseFloor'], adata.loc[adata['tmp_filter_col'], 'Floor']\n",
    "    print('After Floor⇔HouseFloor swap: ', adata.loc[tmp_filter_col, 'Id'].count())\n",
    "    adata.drop(columns=['tmp_filter_col'], inplace=True)\n",
    "    return adata\n",
    "data = swap_floor_with_housefloor(data.copy())"
   ]
  },
  {
   "cell_type": "code",
   "execution_count": 947,
   "metadata": {},
   "outputs": [
    {
     "data": {
      "text/html": [
       "<div>\n",
       "<style scoped>\n",
       "    .dataframe tbody tr th:only-of-type {\n",
       "        vertical-align: middle;\n",
       "    }\n",
       "\n",
       "    .dataframe tbody tr th {\n",
       "        vertical-align: top;\n",
       "    }\n",
       "\n",
       "    .dataframe thead th {\n",
       "        text-align: right;\n",
       "    }\n",
       "</style>\n",
       "<table border=\"1\" class=\"dataframe\">\n",
       "  <thead>\n",
       "    <tr style=\"text-align: right;\">\n",
       "      <th></th>\n",
       "      <th>Id</th>\n",
       "      <th>DistrictId</th>\n",
       "      <th>Rooms</th>\n",
       "      <th>Square</th>\n",
       "      <th>LifeSquare</th>\n",
       "      <th>KitchenSquare</th>\n",
       "      <th>Floor</th>\n",
       "      <th>HouseFloor</th>\n",
       "      <th>HouseYear</th>\n",
       "      <th>Ecology_1</th>\n",
       "      <th>Social_1</th>\n",
       "      <th>Social_2</th>\n",
       "      <th>Social_3</th>\n",
       "      <th>Healthcare_1</th>\n",
       "      <th>Helthcare_2</th>\n",
       "      <th>Shops_1</th>\n",
       "      <th>Price</th>\n",
       "      <th>Ecology_2</th>\n",
       "      <th>Ecology_3</th>\n",
       "      <th>Shops_2</th>\n",
       "    </tr>\n",
       "  </thead>\n",
       "  <tbody>\n",
       "    <tr>\n",
       "      <th>count</th>\n",
       "      <td>10000.00000</td>\n",
       "      <td>10000.000000</td>\n",
       "      <td>10000.000000</td>\n",
       "      <td>10000.000000</td>\n",
       "      <td>7887.000000</td>\n",
       "      <td>10000.000000</td>\n",
       "      <td>10000.000000</td>\n",
       "      <td>10000.000000</td>\n",
       "      <td>1.000000e+04</td>\n",
       "      <td>10000.000000</td>\n",
       "      <td>10000.000000</td>\n",
       "      <td>10000.000000</td>\n",
       "      <td>10000.000000</td>\n",
       "      <td>5202.000000</td>\n",
       "      <td>10000.000000</td>\n",
       "      <td>10000.000000</td>\n",
       "      <td>10000.000000</td>\n",
       "      <td>10000.000000</td>\n",
       "      <td>10000.000000</td>\n",
       "      <td>10000.000000</td>\n",
       "    </tr>\n",
       "    <tr>\n",
       "      <th>mean</th>\n",
       "      <td>8383.40770</td>\n",
       "      <td>50.400800</td>\n",
       "      <td>1.890500</td>\n",
       "      <td>57.223484</td>\n",
       "      <td>36.048753</td>\n",
       "      <td>6.273300</td>\n",
       "      <td>7.943200</td>\n",
       "      <td>13.192900</td>\n",
       "      <td>3.990166e+03</td>\n",
       "      <td>0.118858</td>\n",
       "      <td>24.687000</td>\n",
       "      <td>5352.157400</td>\n",
       "      <td>8.039200</td>\n",
       "      <td>1142.904460</td>\n",
       "      <td>1.319500</td>\n",
       "      <td>4.231300</td>\n",
       "      <td>214138.857399</td>\n",
       "      <td>0.990300</td>\n",
       "      <td>0.972500</td>\n",
       "      <td>0.917500</td>\n",
       "    </tr>\n",
       "    <tr>\n",
       "      <th>std</th>\n",
       "      <td>4859.01902</td>\n",
       "      <td>43.587592</td>\n",
       "      <td>0.839512</td>\n",
       "      <td>77.309420</td>\n",
       "      <td>19.372398</td>\n",
       "      <td>28.560917</td>\n",
       "      <td>5.228127</td>\n",
       "      <td>6.372139</td>\n",
       "      <td>2.005003e+05</td>\n",
       "      <td>0.119025</td>\n",
       "      <td>17.532614</td>\n",
       "      <td>4006.799803</td>\n",
       "      <td>23.831875</td>\n",
       "      <td>1021.517264</td>\n",
       "      <td>1.493601</td>\n",
       "      <td>4.806341</td>\n",
       "      <td>92872.293865</td>\n",
       "      <td>0.098015</td>\n",
       "      <td>0.163543</td>\n",
       "      <td>0.275139</td>\n",
       "    </tr>\n",
       "    <tr>\n",
       "      <th>min</th>\n",
       "      <td>0.00000</td>\n",
       "      <td>0.000000</td>\n",
       "      <td>0.000000</td>\n",
       "      <td>2.377248</td>\n",
       "      <td>0.370619</td>\n",
       "      <td>0.000000</td>\n",
       "      <td>1.000000</td>\n",
       "      <td>0.000000</td>\n",
       "      <td>1.910000e+03</td>\n",
       "      <td>0.000000</td>\n",
       "      <td>0.000000</td>\n",
       "      <td>168.000000</td>\n",
       "      <td>0.000000</td>\n",
       "      <td>0.000000</td>\n",
       "      <td>0.000000</td>\n",
       "      <td>0.000000</td>\n",
       "      <td>59174.778028</td>\n",
       "      <td>0.000000</td>\n",
       "      <td>0.000000</td>\n",
       "      <td>0.000000</td>\n",
       "    </tr>\n",
       "    <tr>\n",
       "      <th>25%</th>\n",
       "      <td>4169.50000</td>\n",
       "      <td>20.000000</td>\n",
       "      <td>1.000000</td>\n",
       "      <td>41.866858</td>\n",
       "      <td>22.765174</td>\n",
       "      <td>1.000000</td>\n",
       "      <td>4.000000</td>\n",
       "      <td>9.000000</td>\n",
       "      <td>1.974000e+03</td>\n",
       "      <td>0.017647</td>\n",
       "      <td>6.000000</td>\n",
       "      <td>1564.000000</td>\n",
       "      <td>0.000000</td>\n",
       "      <td>350.000000</td>\n",
       "      <td>0.000000</td>\n",
       "      <td>1.000000</td>\n",
       "      <td>153872.633942</td>\n",
       "      <td>1.000000</td>\n",
       "      <td>1.000000</td>\n",
       "      <td>1.000000</td>\n",
       "    </tr>\n",
       "    <tr>\n",
       "      <th>50%</th>\n",
       "      <td>8394.50000</td>\n",
       "      <td>36.000000</td>\n",
       "      <td>2.000000</td>\n",
       "      <td>52.633651</td>\n",
       "      <td>32.760108</td>\n",
       "      <td>6.000000</td>\n",
       "      <td>7.000000</td>\n",
       "      <td>14.000000</td>\n",
       "      <td>1.977000e+03</td>\n",
       "      <td>0.075424</td>\n",
       "      <td>25.000000</td>\n",
       "      <td>5285.000000</td>\n",
       "      <td>2.000000</td>\n",
       "      <td>900.000000</td>\n",
       "      <td>1.000000</td>\n",
       "      <td>3.000000</td>\n",
       "      <td>192269.644879</td>\n",
       "      <td>1.000000</td>\n",
       "      <td>1.000000</td>\n",
       "      <td>1.000000</td>\n",
       "    </tr>\n",
       "    <tr>\n",
       "      <th>75%</th>\n",
       "      <td>12592.50000</td>\n",
       "      <td>75.000000</td>\n",
       "      <td>2.000000</td>\n",
       "      <td>66.004634</td>\n",
       "      <td>45.029599</td>\n",
       "      <td>9.000000</td>\n",
       "      <td>11.000000</td>\n",
       "      <td>17.000000</td>\n",
       "      <td>2.001000e+03</td>\n",
       "      <td>0.195781</td>\n",
       "      <td>36.000000</td>\n",
       "      <td>7227.000000</td>\n",
       "      <td>5.000000</td>\n",
       "      <td>1548.000000</td>\n",
       "      <td>2.000000</td>\n",
       "      <td>6.000000</td>\n",
       "      <td>249135.462171</td>\n",
       "      <td>1.000000</td>\n",
       "      <td>1.000000</td>\n",
       "      <td>1.000000</td>\n",
       "    </tr>\n",
       "    <tr>\n",
       "      <th>max</th>\n",
       "      <td>16798.00000</td>\n",
       "      <td>209.000000</td>\n",
       "      <td>19.000000</td>\n",
       "      <td>7480.592129</td>\n",
       "      <td>638.163193</td>\n",
       "      <td>2014.000000</td>\n",
       "      <td>42.000000</td>\n",
       "      <td>117.000000</td>\n",
       "      <td>2.005201e+07</td>\n",
       "      <td>0.521867</td>\n",
       "      <td>74.000000</td>\n",
       "      <td>19083.000000</td>\n",
       "      <td>141.000000</td>\n",
       "      <td>4849.000000</td>\n",
       "      <td>6.000000</td>\n",
       "      <td>23.000000</td>\n",
       "      <td>633233.466570</td>\n",
       "      <td>1.000000</td>\n",
       "      <td>1.000000</td>\n",
       "      <td>1.000000</td>\n",
       "    </tr>\n",
       "  </tbody>\n",
       "</table>\n",
       "</div>"
      ],
      "text/plain": [
       "                Id    DistrictId         Rooms        Square   LifeSquare  \\\n",
       "count  10000.00000  10000.000000  10000.000000  10000.000000  7887.000000   \n",
       "mean    8383.40770     50.400800      1.890500     57.223484    36.048753   \n",
       "std     4859.01902     43.587592      0.839512     77.309420    19.372398   \n",
       "min        0.00000      0.000000      0.000000      2.377248     0.370619   \n",
       "25%     4169.50000     20.000000      1.000000     41.866858    22.765174   \n",
       "50%     8394.50000     36.000000      2.000000     52.633651    32.760108   \n",
       "75%    12592.50000     75.000000      2.000000     66.004634    45.029599   \n",
       "max    16798.00000    209.000000     19.000000   7480.592129   638.163193   \n",
       "\n",
       "       KitchenSquare         Floor    HouseFloor     HouseYear     Ecology_1  \\\n",
       "count   10000.000000  10000.000000  10000.000000  1.000000e+04  10000.000000   \n",
       "mean        6.273300      7.943200     13.192900  3.990166e+03      0.118858   \n",
       "std        28.560917      5.228127      6.372139  2.005003e+05      0.119025   \n",
       "min         0.000000      1.000000      0.000000  1.910000e+03      0.000000   \n",
       "25%         1.000000      4.000000      9.000000  1.974000e+03      0.017647   \n",
       "50%         6.000000      7.000000     14.000000  1.977000e+03      0.075424   \n",
       "75%         9.000000     11.000000     17.000000  2.001000e+03      0.195781   \n",
       "max      2014.000000     42.000000    117.000000  2.005201e+07      0.521867   \n",
       "\n",
       "           Social_1      Social_2      Social_3  Healthcare_1   Helthcare_2  \\\n",
       "count  10000.000000  10000.000000  10000.000000   5202.000000  10000.000000   \n",
       "mean      24.687000   5352.157400      8.039200   1142.904460      1.319500   \n",
       "std       17.532614   4006.799803     23.831875   1021.517264      1.493601   \n",
       "min        0.000000    168.000000      0.000000      0.000000      0.000000   \n",
       "25%        6.000000   1564.000000      0.000000    350.000000      0.000000   \n",
       "50%       25.000000   5285.000000      2.000000    900.000000      1.000000   \n",
       "75%       36.000000   7227.000000      5.000000   1548.000000      2.000000   \n",
       "max       74.000000  19083.000000    141.000000   4849.000000      6.000000   \n",
       "\n",
       "            Shops_1          Price     Ecology_2     Ecology_3       Shops_2  \n",
       "count  10000.000000   10000.000000  10000.000000  10000.000000  10000.000000  \n",
       "mean       4.231300  214138.857399      0.990300      0.972500      0.917500  \n",
       "std        4.806341   92872.293865      0.098015      0.163543      0.275139  \n",
       "min        0.000000   59174.778028      0.000000      0.000000      0.000000  \n",
       "25%        1.000000  153872.633942      1.000000      1.000000      1.000000  \n",
       "50%        3.000000  192269.644879      1.000000      1.000000      1.000000  \n",
       "75%        6.000000  249135.462171      1.000000      1.000000      1.000000  \n",
       "max       23.000000  633233.466570      1.000000      1.000000      1.000000  "
      ]
     },
     "execution_count": 947,
     "metadata": {},
     "output_type": "execute_result"
    }
   ],
   "source": [
    "data.describe()"
   ]
  },
  {
   "cell_type": "markdown",
   "metadata": {},
   "source": [
    "# Выбросы HouseYear"
   ]
  },
  {
   "cell_type": "code",
   "execution_count": 948,
   "metadata": {},
   "outputs": [],
   "source": [
    "def fix_houseyear(adata, hy_median):\n",
    "    invalid_hy_filter = lambda df: ((df['HouseYear'] < 1900) | (df['HouseYear'] > 2030))\n",
    "    adata.loc[lambda df: invalid_hy_filter(df), 'HouseYear'] = hy_median\n",
    "    return adata"
   ]
  },
  {
   "cell_type": "code",
   "execution_count": 949,
   "metadata": {},
   "outputs": [
    {
     "data": {
      "text/html": [
       "<div>\n",
       "<style scoped>\n",
       "    .dataframe tbody tr th:only-of-type {\n",
       "        vertical-align: middle;\n",
       "    }\n",
       "\n",
       "    .dataframe tbody tr th {\n",
       "        vertical-align: top;\n",
       "    }\n",
       "\n",
       "    .dataframe thead th {\n",
       "        text-align: right;\n",
       "    }\n",
       "</style>\n",
       "<table border=\"1\" class=\"dataframe\">\n",
       "  <thead>\n",
       "    <tr style=\"text-align: right;\">\n",
       "      <th></th>\n",
       "      <th>HouseYear</th>\n",
       "    </tr>\n",
       "  </thead>\n",
       "  <tbody>\n",
       "    <tr>\n",
       "      <th>count</th>\n",
       "      <td>10000.000000</td>\n",
       "    </tr>\n",
       "    <tr>\n",
       "      <th>mean</th>\n",
       "      <td>1984.863800</td>\n",
       "    </tr>\n",
       "    <tr>\n",
       "      <th>std</th>\n",
       "      <td>18.409979</td>\n",
       "    </tr>\n",
       "    <tr>\n",
       "      <th>min</th>\n",
       "      <td>1910.000000</td>\n",
       "    </tr>\n",
       "    <tr>\n",
       "      <th>25%</th>\n",
       "      <td>1974.000000</td>\n",
       "    </tr>\n",
       "    <tr>\n",
       "      <th>50%</th>\n",
       "      <td>1977.000000</td>\n",
       "    </tr>\n",
       "    <tr>\n",
       "      <th>75%</th>\n",
       "      <td>2001.000000</td>\n",
       "    </tr>\n",
       "    <tr>\n",
       "      <th>max</th>\n",
       "      <td>2020.000000</td>\n",
       "    </tr>\n",
       "  </tbody>\n",
       "</table>\n",
       "</div>"
      ],
      "text/plain": [
       "          HouseYear\n",
       "count  10000.000000\n",
       "mean    1984.863800\n",
       "std       18.409979\n",
       "min     1910.000000\n",
       "25%     1974.000000\n",
       "50%     1977.000000\n",
       "75%     2001.000000\n",
       "max     2020.000000"
      ]
     },
     "execution_count": 949,
     "metadata": {},
     "output_type": "execute_result"
    }
   ],
   "source": [
    "hy_median = data['HouseYear'].median()\n",
    "data = fix_houseyear(data.copy(), hy_median)\n",
    "data.loc[:, ['HouseYear']].describe()"
   ]
  },
  {
   "cell_type": "markdown",
   "metadata": {},
   "source": [
    "# Выбросы HouseFloor"
   ]
  },
  {
   "cell_type": "code",
   "execution_count": 950,
   "metadata": {},
   "outputs": [],
   "source": [
    "def fix_housefloor(adata, hf_basedon_year, hf_median):\n",
    "    invalid_hf_filter = lambda df: ((df['HouseFloor'] < 1) | (df['HouseFloor'] > 50))\n",
    "    fixed_hf = adata.loc[lambda df: invalid_hf_filter(df), 'HouseYear'].map(lambda yr: hf_basedon_year.get(yr, default=hf_median))\n",
    "    adata.loc[lambda df: invalid_hf_filter(df), 'HouseFloor'] = fixed_hf\n",
    "    return adata"
   ]
  },
  {
   "cell_type": "code",
   "execution_count": 951,
   "metadata": {},
   "outputs": [
    {
     "data": {
      "text/html": [
       "<div>\n",
       "<style scoped>\n",
       "    .dataframe tbody tr th:only-of-type {\n",
       "        vertical-align: middle;\n",
       "    }\n",
       "\n",
       "    .dataframe tbody tr th {\n",
       "        vertical-align: top;\n",
       "    }\n",
       "\n",
       "    .dataframe thead th {\n",
       "        text-align: right;\n",
       "    }\n",
       "</style>\n",
       "<table border=\"1\" class=\"dataframe\">\n",
       "  <thead>\n",
       "    <tr style=\"text-align: right;\">\n",
       "      <th></th>\n",
       "      <th>HouseFloor</th>\n",
       "    </tr>\n",
       "  </thead>\n",
       "  <tbody>\n",
       "    <tr>\n",
       "      <th>count</th>\n",
       "      <td>10000.000000</td>\n",
       "    </tr>\n",
       "    <tr>\n",
       "      <th>mean</th>\n",
       "      <td>13.623800</td>\n",
       "    </tr>\n",
       "    <tr>\n",
       "      <th>std</th>\n",
       "      <td>5.794811</td>\n",
       "    </tr>\n",
       "    <tr>\n",
       "      <th>min</th>\n",
       "      <td>1.000000</td>\n",
       "    </tr>\n",
       "    <tr>\n",
       "      <th>25%</th>\n",
       "      <td>9.000000</td>\n",
       "    </tr>\n",
       "    <tr>\n",
       "      <th>50%</th>\n",
       "      <td>14.000000</td>\n",
       "    </tr>\n",
       "    <tr>\n",
       "      <th>75%</th>\n",
       "      <td>17.000000</td>\n",
       "    </tr>\n",
       "    <tr>\n",
       "      <th>max</th>\n",
       "      <td>48.000000</td>\n",
       "    </tr>\n",
       "  </tbody>\n",
       "</table>\n",
       "</div>"
      ],
      "text/plain": [
       "         HouseFloor\n",
       "count  10000.000000\n",
       "mean      13.623800\n",
       "std        5.794811\n",
       "min        1.000000\n",
       "25%        9.000000\n",
       "50%       14.000000\n",
       "75%       17.000000\n",
       "max       48.000000"
      ]
     },
     "execution_count": 951,
     "metadata": {},
     "output_type": "execute_result"
    }
   ],
   "source": [
    "hf_basedon_year = data.groupby('HouseYear')['HouseFloor'].median()\n",
    "hf_median = data['HouseYear'].median()\n",
    "data = fix_housefloor(data.copy(), hf_basedon_year,  hf_median)\n",
    "data.loc[:, ['HouseFloor']].describe()"
   ]
  },
  {
   "cell_type": "markdown",
   "metadata": {},
   "source": [
    "# Отсутствующие значения Healthcare_1"
   ]
  },
  {
   "cell_type": "code",
   "execution_count": 952,
   "metadata": {},
   "outputs": [
    {
     "data": {
      "text/html": [
       "<div>\n",
       "<style scoped>\n",
       "    .dataframe tbody tr th:only-of-type {\n",
       "        vertical-align: middle;\n",
       "    }\n",
       "\n",
       "    .dataframe tbody tr th {\n",
       "        vertical-align: top;\n",
       "    }\n",
       "\n",
       "    .dataframe thead th {\n",
       "        text-align: right;\n",
       "    }\n",
       "</style>\n",
       "<table border=\"1\" class=\"dataframe\">\n",
       "  <thead>\n",
       "    <tr style=\"text-align: right;\">\n",
       "      <th></th>\n",
       "      <th>Healthcare_1</th>\n",
       "    </tr>\n",
       "  </thead>\n",
       "  <tbody>\n",
       "    <tr>\n",
       "      <th>DistrictId</th>\n",
       "      <td>0.304335</td>\n",
       "    </tr>\n",
       "    <tr>\n",
       "      <th>Floor</th>\n",
       "      <td>-0.112202</td>\n",
       "    </tr>\n",
       "    <tr>\n",
       "      <th>HouseFloor</th>\n",
       "      <td>-0.191400</td>\n",
       "    </tr>\n",
       "    <tr>\n",
       "      <th>HouseYear</th>\n",
       "      <td>-0.205125</td>\n",
       "    </tr>\n",
       "    <tr>\n",
       "      <th>Social_3</th>\n",
       "      <td>0.133877</td>\n",
       "    </tr>\n",
       "    <tr>\n",
       "      <th>Helthcare_2</th>\n",
       "      <td>0.203177</td>\n",
       "    </tr>\n",
       "    <tr>\n",
       "      <th>Price</th>\n",
       "      <td>0.138755</td>\n",
       "    </tr>\n",
       "    <tr>\n",
       "      <th>Ecology_3</th>\n",
       "      <td>-0.114715</td>\n",
       "    </tr>\n",
       "  </tbody>\n",
       "</table>\n",
       "</div>"
      ],
      "text/plain": [
       "             Healthcare_1\n",
       "DistrictId       0.304335\n",
       "Floor           -0.112202\n",
       "HouseFloor      -0.191400\n",
       "HouseYear       -0.205125\n",
       "Social_3         0.133877\n",
       "Helthcare_2      0.203177\n",
       "Price            0.138755\n",
       "Ecology_3       -0.114715"
      ]
     },
     "execution_count": 952,
     "metadata": {},
     "output_type": "execute_result"
    }
   ],
   "source": [
    "healthcare_corr = data.loc[data_final['Healthcare_1'].notnull(), :].corr().loc[lambda df: (np.abs(df['Healthcare_1']) > 0.1) & (np.abs(df['Healthcare_1']) < 1), ['Healthcare_1']]\n",
    "healthcare_corr"
   ]
  },
  {
   "cell_type": "code",
   "execution_count": 953,
   "metadata": {},
   "outputs": [
    {
     "name": "stdout",
     "output_type": "stream",
     "text": [
      "r2: 0.9858626888672526\n",
      "Лучшие параметры модели: {'max_depth': 27, 'n_estimators': 100}\n",
      "0.3687 (±0.0399) for {'max_depth': 3, 'n_estimators': 100}\n",
      "0.6467 (±0.0514) for {'max_depth': 5, 'n_estimators': 100}\n",
      "0.9303 (±0.0332) for {'max_depth': 9, 'n_estimators': 100}\n",
      "0.9689 (±0.0225) for {'max_depth': 15, 'n_estimators': 100}\n",
      "0.9692 (±0.0224) for {'max_depth': 27, 'n_estimators': 100}\n"
     ]
    }
   ],
   "source": [
    "x_train, x_test, y_train, y_test = train_test_split(\n",
    "    data.loc[lambda df: df['Healthcare_1'].notnull(), ['DistrictId', 'Floor', 'HouseFloor', 'HouseYear', 'Social_3', 'Helthcare_2', 'Ecology_3']],\n",
    "    data.loc[lambda df: df['Healthcare_1'].notnull(), 'Healthcare_1'],\n",
    "    test_size=0.25,\n",
    "    random_state=42\n",
    ")\n",
    "clf_healthcare = model_fit(x_train, x_test, y_train, y_test)\n",
    "show_model(clf_healthcare)"
   ]
  },
  {
   "cell_type": "code",
   "execution_count": 954,
   "metadata": {},
   "outputs": [],
   "source": [
    "def fix_healthcare1(adata, model):\n",
    "    hc1_filter = lambda df: df['Healthcare_1'].isnull()\n",
    "    features = adata.loc[lambda df: hc1_filter(df), ['DistrictId', 'Floor', 'HouseFloor', 'HouseYear', 'Social_3', 'Helthcare_2', 'Ecology_3']]\n",
    "    adata.loc[lambda df: hc1_filter(df), 'Healthcare_1'] = model.predict(features)\n",
    "    return adata\n",
    "\n",
    "\n",
    "data = fix_healthcare1(data.copy(), clf_healthcare)"
   ]
  },
  {
   "cell_type": "markdown",
   "metadata": {},
   "source": [
    "# Выбросы Rooms"
   ]
  },
  {
   "cell_type": "code",
   "execution_count": 955,
   "metadata": {},
   "outputs": [
    {
     "data": {
      "text/plain": [
       "2.0     3880\n",
       "1.0     3705\n",
       "3.0     2235\n",
       "4.0      150\n",
       "5.0       18\n",
       "0.0        8\n",
       "10.0       2\n",
       "19.0       1\n",
       "6.0        1\n",
       "Name: Rooms, dtype: int64"
      ]
     },
     "execution_count": 955,
     "metadata": {},
     "output_type": "execute_result"
    }
   ],
   "source": [
    "data['Rooms'].value_counts()"
   ]
  },
  {
   "cell_type": "code",
   "execution_count": 956,
   "metadata": {},
   "outputs": [
    {
     "name": "stdout",
     "output_type": "stream",
     "text": [
      "Отфильтровано: 17 из 10000\n"
     ]
    },
    {
     "data": {
      "text/plain": [
       "<matplotlib.axes._subplots.AxesSubplot at 0x1a5e4154a8>"
      ]
     },
     "execution_count": 956,
     "metadata": {},
     "output_type": "execute_result"
    },
    {
     "data": {
      "image/jpeg": "[encoded data removed]",
      "text/plain": [
       "<Figure size 432x288 with 1 Axes>"
      ]
     },
     "metadata": {
      "needs_background": "light"
     },
     "output_type": "display_data"
    }
   ],
   "source": [
    "rooms_filter = lambda df: (df['Rooms'] >= 1) & (df['Rooms'] <= 5) & (df['Square'] <= 400)\n",
    "print('Отфильтровано:', len(data.loc[lambda df: ~rooms_filter(df), 'Rooms']), 'из', len(data['Rooms']))\n",
    "sns.boxplot(data.loc[lambda df: rooms_filter(df), 'Rooms'], data.loc[lambda df: rooms_filter(df), 'Square'])"
   ]
  },
  {
   "cell_type": "code",
   "execution_count": 957,
   "metadata": {},
   "outputs": [
    {
     "data": {
      "text/html": [
       "<div>\n",
       "<style scoped>\n",
       "    .dataframe tbody tr th:only-of-type {\n",
       "        vertical-align: middle;\n",
       "    }\n",
       "\n",
       "    .dataframe tbody tr th {\n",
       "        vertical-align: top;\n",
       "    }\n",
       "\n",
       "    .dataframe thead th {\n",
       "        text-align: right;\n",
       "    }\n",
       "</style>\n",
       "<table border=\"1\" class=\"dataframe\">\n",
       "  <thead>\n",
       "    <tr style=\"text-align: right;\">\n",
       "      <th></th>\n",
       "      <th></th>\n",
       "      <th>Square</th>\n",
       "    </tr>\n",
       "    <tr>\n",
       "      <th>Rooms</th>\n",
       "      <th></th>\n",
       "      <th></th>\n",
       "    </tr>\n",
       "  </thead>\n",
       "  <tbody>\n",
       "    <tr>\n",
       "      <th rowspan=\"3\" valign=\"top\">1.0</th>\n",
       "      <th>0.25</th>\n",
       "      <td>36.730798</td>\n",
       "    </tr>\n",
       "    <tr>\n",
       "      <th>0.50</th>\n",
       "      <td>40.504282</td>\n",
       "    </tr>\n",
       "    <tr>\n",
       "      <th>0.75</th>\n",
       "      <td>43.656886</td>\n",
       "    </tr>\n",
       "    <tr>\n",
       "      <th rowspan=\"3\" valign=\"top\">2.0</th>\n",
       "      <th>0.25</th>\n",
       "      <td>47.885352</td>\n",
       "    </tr>\n",
       "    <tr>\n",
       "      <th>0.50</th>\n",
       "      <td>55.896394</td>\n",
       "    </tr>\n",
       "    <tr>\n",
       "      <th>0.75</th>\n",
       "      <td>63.456181</td>\n",
       "    </tr>\n",
       "    <tr>\n",
       "      <th rowspan=\"3\" valign=\"top\">3.0</th>\n",
       "      <th>0.25</th>\n",
       "      <td>66.033045</td>\n",
       "    </tr>\n",
       "    <tr>\n",
       "      <th>0.50</th>\n",
       "      <td>77.466387</td>\n",
       "    </tr>\n",
       "    <tr>\n",
       "      <th>0.75</th>\n",
       "      <td>83.268318</td>\n",
       "    </tr>\n",
       "    <tr>\n",
       "      <th rowspan=\"3\" valign=\"top\">4.0</th>\n",
       "      <th>0.25</th>\n",
       "      <td>83.833387</td>\n",
       "    </tr>\n",
       "    <tr>\n",
       "      <th>0.50</th>\n",
       "      <td>98.686703</td>\n",
       "    </tr>\n",
       "    <tr>\n",
       "      <th>0.75</th>\n",
       "      <td>104.769022</td>\n",
       "    </tr>\n",
       "    <tr>\n",
       "      <th rowspan=\"3\" valign=\"top\">5.0</th>\n",
       "      <th>0.25</th>\n",
       "      <td>95.617533</td>\n",
       "    </tr>\n",
       "    <tr>\n",
       "      <th>0.50</th>\n",
       "      <td>114.313752</td>\n",
       "    </tr>\n",
       "    <tr>\n",
       "      <th>0.75</th>\n",
       "      <td>124.933289</td>\n",
       "    </tr>\n",
       "  </tbody>\n",
       "</table>\n",
       "</div>"
      ],
      "text/plain": [
       "                Square\n",
       "Rooms                 \n",
       "1.0   0.25   36.730798\n",
       "      0.50   40.504282\n",
       "      0.75   43.656886\n",
       "2.0   0.25   47.885352\n",
       "      0.50   55.896394\n",
       "      0.75   63.456181\n",
       "3.0   0.25   66.033045\n",
       "      0.50   77.466387\n",
       "      0.75   83.268318\n",
       "4.0   0.25   83.833387\n",
       "      0.50   98.686703\n",
       "      0.75  104.769022\n",
       "5.0   0.25   95.617533\n",
       "      0.50  114.313752\n",
       "      0.75  124.933289"
      ]
     },
     "execution_count": 957,
     "metadata": {},
     "output_type": "execute_result"
    }
   ],
   "source": [
    "square_quantiles = data.loc[lambda df: rooms_filter(df), :].groupby('Rooms')[['Square']].quantile(q=[0.25, 0.5, 0.75], interpolation='nearest')\n",
    "square_quantiles"
   ]
  },
  {
   "cell_type": "code",
   "execution_count": 958,
   "metadata": {},
   "outputs": [
    {
     "data": {
      "text/html": [
       "<div>\n",
       "<style scoped>\n",
       "    .dataframe tbody tr th:only-of-type {\n",
       "        vertical-align: middle;\n",
       "    }\n",
       "\n",
       "    .dataframe tbody tr th {\n",
       "        vertical-align: top;\n",
       "    }\n",
       "\n",
       "    .dataframe thead th {\n",
       "        text-align: right;\n",
       "    }\n",
       "</style>\n",
       "<table border=\"1\" class=\"dataframe\">\n",
       "  <thead>\n",
       "    <tr style=\"text-align: right;\">\n",
       "      <th></th>\n",
       "      <th>Rooms</th>\n",
       "    </tr>\n",
       "  </thead>\n",
       "  <tbody>\n",
       "    <tr>\n",
       "      <th>LifeSquare</th>\n",
       "      <td>0.685835</td>\n",
       "    </tr>\n",
       "    <tr>\n",
       "      <th>Price</th>\n",
       "      <td>0.564593</td>\n",
       "    </tr>\n",
       "    <tr>\n",
       "      <th>Square</th>\n",
       "      <td>0.268729</td>\n",
       "    </tr>\n",
       "    <tr>\n",
       "      <th>HouseYear</th>\n",
       "      <td>0.155315</td>\n",
       "    </tr>\n",
       "    <tr>\n",
       "      <th>HouseFloor</th>\n",
       "      <td>0.120555</td>\n",
       "    </tr>\n",
       "  </tbody>\n",
       "</table>\n",
       "</div>"
      ],
      "text/plain": [
       "               Rooms\n",
       "LifeSquare  0.685835\n",
       "Price       0.564593\n",
       "Square      0.268729\n",
       "HouseYear   0.155315\n",
       "HouseFloor  0.120555"
      ]
     },
     "execution_count": 958,
     "metadata": {},
     "output_type": "execute_result"
    }
   ],
   "source": [
    "def fix_rooms(adata):\n",
    "    adata.loc[lambda df: df['Square'] < 45, 'Rooms'] = 1.0\n",
    "    adata.loc[lambda df: (df['Square'] >= 45) & (df['Square'] < 65), 'Rooms'] = 2.0\n",
    "    adata.loc[lambda df: (df['Square'] >= 65) & (df['Square'] < 85), 'Rooms'] = 3.0\n",
    "    adata.loc[lambda df: (df['Square'] >= 85) & (df['Square'] < 100), 'Rooms'] = 4.0\n",
    "    adata.loc[lambda df: df['Square'] > 100, 'Rooms'] = 5.0\n",
    "    return adata\n",
    "\n",
    "\n",
    "fix_rooms(data.copy()).corr().where(lambda v: (np.abs(v) > 0.1) & (np.abs(v) < 1))[['Rooms']].dropna().sort_values('Rooms', ascending=False)"
   ]
  },
  {
   "cell_type": "code",
   "execution_count": 959,
   "metadata": {},
   "outputs": [],
   "source": [
    "data = fix_rooms(data.copy())"
   ]
  },
  {
   "cell_type": "markdown",
   "metadata": {},
   "source": [
    "# Выбросы KitchenSquare"
   ]
  },
  {
   "cell_type": "code",
   "execution_count": 936,
   "metadata": {},
   "outputs": [
    {
     "name": "stdout",
     "output_type": "stream",
     "text": [
      "Отфильтровано: 3198 из 10000\n"
     ]
    },
    {
     "data": {
      "text/plain": [
       "<matplotlib.axes._subplots.AxesSubplot at 0x1a5dea6e80>"
      ]
     },
     "execution_count": 936,
     "metadata": {},
     "output_type": "execute_result"
    },
    {
     "data": {
      "image/jpeg": "[encoded data removed]",
      "text/plain": [
       "<Figure size 432x288 with 1 Axes>"
      ]
     },
     "metadata": {
      "needs_background": "light"
     },
     "output_type": "display_data"
    }
   ],
   "source": [
    "ks_filter = lambda df: (df['KitchenSquare'] >= 2) & (df['KitchenSquare'] <= 25)\n",
    "print('Отфильтровано:', len(data.loc[lambda df: ~ks_filter(df), 'KitchenSquare']), 'из', len(data['KitchenSquare']))\n",
    "data.loc[lambda df: ks_filter(df), 'KitchenSquare'].hist(bins=23)"
   ]
  },
  {
   "cell_type": "code",
   "execution_count": 937,
   "metadata": {},
   "outputs": [
    {
     "data": {
      "text/html": [
       "<div>\n",
       "<style scoped>\n",
       "    .dataframe tbody tr th:only-of-type {\n",
       "        vertical-align: middle;\n",
       "    }\n",
       "\n",
       "    .dataframe tbody tr th {\n",
       "        vertical-align: top;\n",
       "    }\n",
       "\n",
       "    .dataframe thead th {\n",
       "        text-align: right;\n",
       "    }\n",
       "</style>\n",
       "<table border=\"1\" class=\"dataframe\">\n",
       "  <thead>\n",
       "    <tr style=\"text-align: right;\">\n",
       "      <th></th>\n",
       "      <th>KitchenSquare</th>\n",
       "    </tr>\n",
       "  </thead>\n",
       "  <tbody>\n",
       "    <tr>\n",
       "      <th>HouseYear</th>\n",
       "      <td>0.576003</td>\n",
       "    </tr>\n",
       "    <tr>\n",
       "      <th>HouseFloor</th>\n",
       "      <td>0.554335</td>\n",
       "    </tr>\n",
       "    <tr>\n",
       "      <th>Square</th>\n",
       "      <td>0.464337</td>\n",
       "    </tr>\n",
       "    <tr>\n",
       "      <th>Rooms</th>\n",
       "      <td>0.449953</td>\n",
       "    </tr>\n",
       "    <tr>\n",
       "      <th>Floor</th>\n",
       "      <td>0.327625</td>\n",
       "    </tr>\n",
       "    <tr>\n",
       "      <th>LifeSquare</th>\n",
       "      <td>0.308310</td>\n",
       "    </tr>\n",
       "    <tr>\n",
       "      <th>Price</th>\n",
       "      <td>0.286691</td>\n",
       "    </tr>\n",
       "    <tr>\n",
       "      <th>DistrictId</th>\n",
       "      <td>-0.109553</td>\n",
       "    </tr>\n",
       "    <tr>\n",
       "      <th>Healthcare_1</th>\n",
       "      <td>-0.118158</td>\n",
       "    </tr>\n",
       "    <tr>\n",
       "      <th>Helthcare_2</th>\n",
       "      <td>-0.120802</td>\n",
       "    </tr>\n",
       "    <tr>\n",
       "      <th>Social_1</th>\n",
       "      <td>-0.125783</td>\n",
       "    </tr>\n",
       "  </tbody>\n",
       "</table>\n",
       "</div>"
      ],
      "text/plain": [
       "              KitchenSquare\n",
       "HouseYear          0.576003\n",
       "HouseFloor         0.554335\n",
       "Square             0.464337\n",
       "Rooms              0.449953\n",
       "Floor              0.327625\n",
       "LifeSquare         0.308310\n",
       "Price              0.286691\n",
       "DistrictId        -0.109553\n",
       "Healthcare_1      -0.118158\n",
       "Helthcare_2       -0.120802\n",
       "Social_1          -0.125783"
      ]
     },
     "execution_count": 937,
     "metadata": {},
     "output_type": "execute_result"
    }
   ],
   "source": [
    "data.loc[lambda df: ks_filter(df), :].corr().where(lambda v: (np.abs(v) > 0.1) & (np.abs(v) < 1))[['KitchenSquare']].dropna().sort_values('KitchenSquare', ascending=False)"
   ]
  },
  {
   "cell_type": "code",
   "execution_count": 938,
   "metadata": {},
   "outputs": [
    {
     "name": "stdout",
     "output_type": "stream",
     "text": [
      "r2: 0.609289303883703\n",
      "Лучшие параметры модели: {'max_depth': 9, 'n_estimators': 100}\n",
      "0.5378 (±0.0380) for {'max_depth': 3, 'n_estimators': 100}\n",
      "0.6075 (±0.0504) for {'max_depth': 5, 'n_estimators': 100}\n",
      "0.6318 (±0.0595) for {'max_depth': 9, 'n_estimators': 100}\n",
      "0.6228 (±0.0577) for {'max_depth': 15, 'n_estimators': 100}\n",
      "0.6201 (±0.0595) for {'max_depth': 27, 'n_estimators': 100}\n"
     ]
    }
   ],
   "source": [
    "x_train, x_test, y_train, y_test = train_test_split(\n",
    "    data.loc[lambda df: ks_filter(df), ['HouseYear', 'HouseFloor', 'DistrictId', 'Floor', 'Healthcare_1', 'Helthcare_2', 'Social_1', 'Rooms']],\n",
    "    data.loc[lambda df: ks_filter(df), 'KitchenSquare'],\n",
    "    test_size=0.25,\n",
    "    random_state=42\n",
    ")\n",
    "clf_kitchen = model_fit(x_train, x_test, y_train, y_test)\n",
    "show_model(clf_kitchen)"
   ]
  },
  {
   "cell_type": "markdown",
   "metadata": {},
   "source": [
    "# Корелляция"
   ]
  },
  {
   "cell_type": "code",
   "execution_count": 831,
   "metadata": {},
   "outputs": [
    {
     "data": {
      "text/html": [
       "<div>\n",
       "<style scoped>\n",
       "    .dataframe tbody tr th:only-of-type {\n",
       "        vertical-align: middle;\n",
       "    }\n",
       "\n",
       "    .dataframe tbody tr th {\n",
       "        vertical-align: top;\n",
       "    }\n",
       "\n",
       "    .dataframe thead th {\n",
       "        text-align: right;\n",
       "    }\n",
       "</style>\n",
       "<table border=\"1\" class=\"dataframe\">\n",
       "  <thead>\n",
       "    <tr style=\"text-align: right;\">\n",
       "      <th></th>\n",
       "      <th>DistrictId</th>\n",
       "      <th>Rooms</th>\n",
       "      <th>Square</th>\n",
       "      <th>LifeSquare</th>\n",
       "      <th>KitchenSquare</th>\n",
       "      <th>Floor</th>\n",
       "      <th>HouseFloor</th>\n",
       "      <th>HouseYear</th>\n",
       "      <th>Ecology_1</th>\n",
       "      <th>Social_1</th>\n",
       "      <th>Social_2</th>\n",
       "      <th>Social_3</th>\n",
       "      <th>Healthcare_1</th>\n",
       "      <th>Helthcare_2</th>\n",
       "      <th>Shops_1</th>\n",
       "      <th>Price</th>\n",
       "      <th>Ecology_2_A</th>\n",
       "      <th>Ecology_2_B</th>\n",
       "      <th>Ecology_3_A</th>\n",
       "      <th>Ecology_3_B</th>\n",
       "      <th>Shops_2_A</th>\n",
       "      <th>Shops_2_B</th>\n",
       "    </tr>\n",
       "  </thead>\n",
       "  <tbody>\n",
       "    <tr>\n",
       "      <th>DistrictId</th>\n",
       "      <td>NaN</td>\n",
       "      <td>NaN</td>\n",
       "      <td>NaN</td>\n",
       "      <td>NaN</td>\n",
       "      <td>NaN</td>\n",
       "      <td>NaN</td>\n",
       "      <td>-0.219881</td>\n",
       "      <td>-0.201194</td>\n",
       "      <td>NaN</td>\n",
       "      <td>0.246463</td>\n",
       "      <td>0.167479</td>\n",
       "      <td>0.136095</td>\n",
       "      <td>0.325897</td>\n",
       "      <td>0.306147</td>\n",
       "      <td>0.174214</td>\n",
       "      <td>0.265100</td>\n",
       "      <td>NaN</td>\n",
       "      <td>NaN</td>\n",
       "      <td>NaN</td>\n",
       "      <td>NaN</td>\n",
       "      <td>NaN</td>\n",
       "      <td>NaN</td>\n",
       "    </tr>\n",
       "    <tr>\n",
       "      <th>Rooms</th>\n",
       "      <td>NaN</td>\n",
       "      <td>NaN</td>\n",
       "      <td>0.193684</td>\n",
       "      <td>0.568671</td>\n",
       "      <td>NaN</td>\n",
       "      <td>NaN</td>\n",
       "      <td>NaN</td>\n",
       "      <td>NaN</td>\n",
       "      <td>NaN</td>\n",
       "      <td>NaN</td>\n",
       "      <td>NaN</td>\n",
       "      <td>NaN</td>\n",
       "      <td>NaN</td>\n",
       "      <td>NaN</td>\n",
       "      <td>NaN</td>\n",
       "      <td>0.550291</td>\n",
       "      <td>NaN</td>\n",
       "      <td>NaN</td>\n",
       "      <td>NaN</td>\n",
       "      <td>NaN</td>\n",
       "      <td>NaN</td>\n",
       "      <td>NaN</td>\n",
       "    </tr>\n",
       "    <tr>\n",
       "      <th>Square</th>\n",
       "      <td>NaN</td>\n",
       "      <td>0.193684</td>\n",
       "      <td>NaN</td>\n",
       "      <td>0.241954</td>\n",
       "      <td>NaN</td>\n",
       "      <td>NaN</td>\n",
       "      <td>NaN</td>\n",
       "      <td>NaN</td>\n",
       "      <td>NaN</td>\n",
       "      <td>NaN</td>\n",
       "      <td>NaN</td>\n",
       "      <td>NaN</td>\n",
       "      <td>NaN</td>\n",
       "      <td>NaN</td>\n",
       "      <td>NaN</td>\n",
       "      <td>0.142499</td>\n",
       "      <td>NaN</td>\n",
       "      <td>NaN</td>\n",
       "      <td>NaN</td>\n",
       "      <td>NaN</td>\n",
       "      <td>NaN</td>\n",
       "      <td>NaN</td>\n",
       "    </tr>\n",
       "    <tr>\n",
       "      <th>LifeSquare</th>\n",
       "      <td>NaN</td>\n",
       "      <td>0.568671</td>\n",
       "      <td>0.241954</td>\n",
       "      <td>NaN</td>\n",
       "      <td>NaN</td>\n",
       "      <td>NaN</td>\n",
       "      <td>NaN</td>\n",
       "      <td>0.170046</td>\n",
       "      <td>NaN</td>\n",
       "      <td>NaN</td>\n",
       "      <td>NaN</td>\n",
       "      <td>NaN</td>\n",
       "      <td>NaN</td>\n",
       "      <td>NaN</td>\n",
       "      <td>NaN</td>\n",
       "      <td>0.401445</td>\n",
       "      <td>NaN</td>\n",
       "      <td>NaN</td>\n",
       "      <td>NaN</td>\n",
       "      <td>NaN</td>\n",
       "      <td>NaN</td>\n",
       "      <td>NaN</td>\n",
       "    </tr>\n",
       "    <tr>\n",
       "      <th>KitchenSquare</th>\n",
       "      <td>NaN</td>\n",
       "      <td>NaN</td>\n",
       "      <td>NaN</td>\n",
       "      <td>NaN</td>\n",
       "      <td>NaN</td>\n",
       "      <td>NaN</td>\n",
       "      <td>NaN</td>\n",
       "      <td>NaN</td>\n",
       "      <td>NaN</td>\n",
       "      <td>NaN</td>\n",
       "      <td>NaN</td>\n",
       "      <td>NaN</td>\n",
       "      <td>NaN</td>\n",
       "      <td>NaN</td>\n",
       "      <td>NaN</td>\n",
       "      <td>NaN</td>\n",
       "      <td>NaN</td>\n",
       "      <td>NaN</td>\n",
       "      <td>NaN</td>\n",
       "      <td>NaN</td>\n",
       "      <td>NaN</td>\n",
       "      <td>NaN</td>\n",
       "    </tr>\n",
       "    <tr>\n",
       "      <th>Floor</th>\n",
       "      <td>NaN</td>\n",
       "      <td>NaN</td>\n",
       "      <td>NaN</td>\n",
       "      <td>NaN</td>\n",
       "      <td>NaN</td>\n",
       "      <td>NaN</td>\n",
       "      <td>0.598678</td>\n",
       "      <td>0.258989</td>\n",
       "      <td>NaN</td>\n",
       "      <td>NaN</td>\n",
       "      <td>NaN</td>\n",
       "      <td>NaN</td>\n",
       "      <td>NaN</td>\n",
       "      <td>NaN</td>\n",
       "      <td>NaN</td>\n",
       "      <td>0.113605</td>\n",
       "      <td>NaN</td>\n",
       "      <td>NaN</td>\n",
       "      <td>NaN</td>\n",
       "      <td>NaN</td>\n",
       "      <td>NaN</td>\n",
       "      <td>NaN</td>\n",
       "    </tr>\n",
       "    <tr>\n",
       "      <th>HouseFloor</th>\n",
       "      <td>-0.219881</td>\n",
       "      <td>NaN</td>\n",
       "      <td>NaN</td>\n",
       "      <td>NaN</td>\n",
       "      <td>NaN</td>\n",
       "      <td>0.598678</td>\n",
       "      <td>NaN</td>\n",
       "      <td>0.461408</td>\n",
       "      <td>NaN</td>\n",
       "      <td>-0.106483</td>\n",
       "      <td>NaN</td>\n",
       "      <td>NaN</td>\n",
       "      <td>-0.159753</td>\n",
       "      <td>-0.140463</td>\n",
       "      <td>NaN</td>\n",
       "      <td>0.107305</td>\n",
       "      <td>NaN</td>\n",
       "      <td>NaN</td>\n",
       "      <td>NaN</td>\n",
       "      <td>NaN</td>\n",
       "      <td>NaN</td>\n",
       "      <td>NaN</td>\n",
       "    </tr>\n",
       "    <tr>\n",
       "      <th>HouseYear</th>\n",
       "      <td>-0.201194</td>\n",
       "      <td>NaN</td>\n",
       "      <td>NaN</td>\n",
       "      <td>0.170046</td>\n",
       "      <td>NaN</td>\n",
       "      <td>0.258989</td>\n",
       "      <td>0.461408</td>\n",
       "      <td>NaN</td>\n",
       "      <td>NaN</td>\n",
       "      <td>NaN</td>\n",
       "      <td>NaN</td>\n",
       "      <td>NaN</td>\n",
       "      <td>-0.193445</td>\n",
       "      <td>-0.116430</td>\n",
       "      <td>NaN</td>\n",
       "      <td>NaN</td>\n",
       "      <td>NaN</td>\n",
       "      <td>NaN</td>\n",
       "      <td>NaN</td>\n",
       "      <td>NaN</td>\n",
       "      <td>NaN</td>\n",
       "      <td>NaN</td>\n",
       "    </tr>\n",
       "    <tr>\n",
       "      <th>Ecology_1</th>\n",
       "      <td>NaN</td>\n",
       "      <td>NaN</td>\n",
       "      <td>NaN</td>\n",
       "      <td>NaN</td>\n",
       "      <td>NaN</td>\n",
       "      <td>NaN</td>\n",
       "      <td>NaN</td>\n",
       "      <td>NaN</td>\n",
       "      <td>NaN</td>\n",
       "      <td>NaN</td>\n",
       "      <td>NaN</td>\n",
       "      <td>-0.124068</td>\n",
       "      <td>NaN</td>\n",
       "      <td>NaN</td>\n",
       "      <td>NaN</td>\n",
       "      <td>NaN</td>\n",
       "      <td>0.110725</td>\n",
       "      <td>-0.110725</td>\n",
       "      <td>0.223197</td>\n",
       "      <td>-0.223197</td>\n",
       "      <td>NaN</td>\n",
       "      <td>NaN</td>\n",
       "    </tr>\n",
       "    <tr>\n",
       "      <th>Social_1</th>\n",
       "      <td>0.246463</td>\n",
       "      <td>NaN</td>\n",
       "      <td>NaN</td>\n",
       "      <td>NaN</td>\n",
       "      <td>NaN</td>\n",
       "      <td>NaN</td>\n",
       "      <td>-0.106483</td>\n",
       "      <td>NaN</td>\n",
       "      <td>NaN</td>\n",
       "      <td>NaN</td>\n",
       "      <td>0.955988</td>\n",
       "      <td>NaN</td>\n",
       "      <td>0.158952</td>\n",
       "      <td>0.524593</td>\n",
       "      <td>0.526272</td>\n",
       "      <td>0.263286</td>\n",
       "      <td>NaN</td>\n",
       "      <td>NaN</td>\n",
       "      <td>NaN</td>\n",
       "      <td>NaN</td>\n",
       "      <td>-0.144644</td>\n",
       "      <td>0.144644</td>\n",
       "    </tr>\n",
       "    <tr>\n",
       "      <th>Social_2</th>\n",
       "      <td>0.167479</td>\n",
       "      <td>NaN</td>\n",
       "      <td>NaN</td>\n",
       "      <td>NaN</td>\n",
       "      <td>NaN</td>\n",
       "      <td>NaN</td>\n",
       "      <td>NaN</td>\n",
       "      <td>NaN</td>\n",
       "      <td>NaN</td>\n",
       "      <td>0.955988</td>\n",
       "      <td>NaN</td>\n",
       "      <td>NaN</td>\n",
       "      <td>0.112463</td>\n",
       "      <td>0.473193</td>\n",
       "      <td>0.559163</td>\n",
       "      <td>0.239226</td>\n",
       "      <td>NaN</td>\n",
       "      <td>NaN</td>\n",
       "      <td>NaN</td>\n",
       "      <td>NaN</td>\n",
       "      <td>-0.143777</td>\n",
       "      <td>0.143777</td>\n",
       "    </tr>\n",
       "    <tr>\n",
       "      <th>Social_3</th>\n",
       "      <td>0.136095</td>\n",
       "      <td>NaN</td>\n",
       "      <td>NaN</td>\n",
       "      <td>NaN</td>\n",
       "      <td>NaN</td>\n",
       "      <td>NaN</td>\n",
       "      <td>NaN</td>\n",
       "      <td>NaN</td>\n",
       "      <td>-0.124068</td>\n",
       "      <td>NaN</td>\n",
       "      <td>NaN</td>\n",
       "      <td>NaN</td>\n",
       "      <td>0.171378</td>\n",
       "      <td>0.286434</td>\n",
       "      <td>0.662113</td>\n",
       "      <td>NaN</td>\n",
       "      <td>NaN</td>\n",
       "      <td>NaN</td>\n",
       "      <td>NaN</td>\n",
       "      <td>NaN</td>\n",
       "      <td>NaN</td>\n",
       "      <td>NaN</td>\n",
       "    </tr>\n",
       "    <tr>\n",
       "      <th>Healthcare_1</th>\n",
       "      <td>0.325897</td>\n",
       "      <td>NaN</td>\n",
       "      <td>NaN</td>\n",
       "      <td>NaN</td>\n",
       "      <td>NaN</td>\n",
       "      <td>NaN</td>\n",
       "      <td>-0.159753</td>\n",
       "      <td>-0.193445</td>\n",
       "      <td>NaN</td>\n",
       "      <td>0.158952</td>\n",
       "      <td>0.112463</td>\n",
       "      <td>0.171378</td>\n",
       "      <td>NaN</td>\n",
       "      <td>0.271526</td>\n",
       "      <td>0.149186</td>\n",
       "      <td>0.181519</td>\n",
       "      <td>NaN</td>\n",
       "      <td>NaN</td>\n",
       "      <td>0.122467</td>\n",
       "      <td>-0.122467</td>\n",
       "      <td>NaN</td>\n",
       "      <td>NaN</td>\n",
       "    </tr>\n",
       "    <tr>\n",
       "      <th>Helthcare_2</th>\n",
       "      <td>0.306147</td>\n",
       "      <td>NaN</td>\n",
       "      <td>NaN</td>\n",
       "      <td>NaN</td>\n",
       "      <td>NaN</td>\n",
       "      <td>NaN</td>\n",
       "      <td>-0.140463</td>\n",
       "      <td>-0.116430</td>\n",
       "      <td>NaN</td>\n",
       "      <td>0.524593</td>\n",
       "      <td>0.473193</td>\n",
       "      <td>0.286434</td>\n",
       "      <td>0.271526</td>\n",
       "      <td>NaN</td>\n",
       "      <td>0.474085</td>\n",
       "      <td>0.253090</td>\n",
       "      <td>NaN</td>\n",
       "      <td>NaN</td>\n",
       "      <td>0.133120</td>\n",
       "      <td>-0.133120</td>\n",
       "      <td>-0.123529</td>\n",
       "      <td>0.123529</td>\n",
       "    </tr>\n",
       "    <tr>\n",
       "      <th>Shops_1</th>\n",
       "      <td>0.174214</td>\n",
       "      <td>NaN</td>\n",
       "      <td>NaN</td>\n",
       "      <td>NaN</td>\n",
       "      <td>NaN</td>\n",
       "      <td>NaN</td>\n",
       "      <td>NaN</td>\n",
       "      <td>NaN</td>\n",
       "      <td>NaN</td>\n",
       "      <td>0.526272</td>\n",
       "      <td>0.559163</td>\n",
       "      <td>0.662113</td>\n",
       "      <td>0.149186</td>\n",
       "      <td>0.474085</td>\n",
       "      <td>NaN</td>\n",
       "      <td>0.180876</td>\n",
       "      <td>NaN</td>\n",
       "      <td>NaN</td>\n",
       "      <td>NaN</td>\n",
       "      <td>NaN</td>\n",
       "      <td>-0.139065</td>\n",
       "      <td>0.139065</td>\n",
       "    </tr>\n",
       "    <tr>\n",
       "      <th>Price</th>\n",
       "      <td>0.265100</td>\n",
       "      <td>0.550291</td>\n",
       "      <td>0.142499</td>\n",
       "      <td>0.401445</td>\n",
       "      <td>NaN</td>\n",
       "      <td>0.113605</td>\n",
       "      <td>0.107305</td>\n",
       "      <td>NaN</td>\n",
       "      <td>NaN</td>\n",
       "      <td>0.263286</td>\n",
       "      <td>0.239226</td>\n",
       "      <td>NaN</td>\n",
       "      <td>0.181519</td>\n",
       "      <td>0.253090</td>\n",
       "      <td>0.180876</td>\n",
       "      <td>NaN</td>\n",
       "      <td>NaN</td>\n",
       "      <td>NaN</td>\n",
       "      <td>NaN</td>\n",
       "      <td>NaN</td>\n",
       "      <td>NaN</td>\n",
       "      <td>NaN</td>\n",
       "    </tr>\n",
       "    <tr>\n",
       "      <th>Ecology_2_A</th>\n",
       "      <td>NaN</td>\n",
       "      <td>NaN</td>\n",
       "      <td>NaN</td>\n",
       "      <td>NaN</td>\n",
       "      <td>NaN</td>\n",
       "      <td>NaN</td>\n",
       "      <td>NaN</td>\n",
       "      <td>NaN</td>\n",
       "      <td>0.110725</td>\n",
       "      <td>NaN</td>\n",
       "      <td>NaN</td>\n",
       "      <td>NaN</td>\n",
       "      <td>NaN</td>\n",
       "      <td>NaN</td>\n",
       "      <td>NaN</td>\n",
       "      <td>NaN</td>\n",
       "      <td>NaN</td>\n",
       "      <td>NaN</td>\n",
       "      <td>NaN</td>\n",
       "      <td>NaN</td>\n",
       "      <td>NaN</td>\n",
       "      <td>NaN</td>\n",
       "    </tr>\n",
       "    <tr>\n",
       "      <th>Ecology_2_B</th>\n",
       "      <td>NaN</td>\n",
       "      <td>NaN</td>\n",
       "      <td>NaN</td>\n",
       "      <td>NaN</td>\n",
       "      <td>NaN</td>\n",
       "      <td>NaN</td>\n",
       "      <td>NaN</td>\n",
       "      <td>NaN</td>\n",
       "      <td>-0.110725</td>\n",
       "      <td>NaN</td>\n",
       "      <td>NaN</td>\n",
       "      <td>NaN</td>\n",
       "      <td>NaN</td>\n",
       "      <td>NaN</td>\n",
       "      <td>NaN</td>\n",
       "      <td>NaN</td>\n",
       "      <td>NaN</td>\n",
       "      <td>NaN</td>\n",
       "      <td>NaN</td>\n",
       "      <td>NaN</td>\n",
       "      <td>NaN</td>\n",
       "      <td>NaN</td>\n",
       "    </tr>\n",
       "    <tr>\n",
       "      <th>Ecology_3_A</th>\n",
       "      <td>NaN</td>\n",
       "      <td>NaN</td>\n",
       "      <td>NaN</td>\n",
       "      <td>NaN</td>\n",
       "      <td>NaN</td>\n",
       "      <td>NaN</td>\n",
       "      <td>NaN</td>\n",
       "      <td>NaN</td>\n",
       "      <td>0.223197</td>\n",
       "      <td>NaN</td>\n",
       "      <td>NaN</td>\n",
       "      <td>NaN</td>\n",
       "      <td>0.122467</td>\n",
       "      <td>0.133120</td>\n",
       "      <td>NaN</td>\n",
       "      <td>NaN</td>\n",
       "      <td>NaN</td>\n",
       "      <td>NaN</td>\n",
       "      <td>NaN</td>\n",
       "      <td>NaN</td>\n",
       "      <td>NaN</td>\n",
       "      <td>NaN</td>\n",
       "    </tr>\n",
       "    <tr>\n",
       "      <th>Ecology_3_B</th>\n",
       "      <td>NaN</td>\n",
       "      <td>NaN</td>\n",
       "      <td>NaN</td>\n",
       "      <td>NaN</td>\n",
       "      <td>NaN</td>\n",
       "      <td>NaN</td>\n",
       "      <td>NaN</td>\n",
       "      <td>NaN</td>\n",
       "      <td>-0.223197</td>\n",
       "      <td>NaN</td>\n",
       "      <td>NaN</td>\n",
       "      <td>NaN</td>\n",
       "      <td>-0.122467</td>\n",
       "      <td>-0.133120</td>\n",
       "      <td>NaN</td>\n",
       "      <td>NaN</td>\n",
       "      <td>NaN</td>\n",
       "      <td>NaN</td>\n",
       "      <td>NaN</td>\n",
       "      <td>NaN</td>\n",
       "      <td>NaN</td>\n",
       "      <td>NaN</td>\n",
       "    </tr>\n",
       "    <tr>\n",
       "      <th>Shops_2_A</th>\n",
       "      <td>NaN</td>\n",
       "      <td>NaN</td>\n",
       "      <td>NaN</td>\n",
       "      <td>NaN</td>\n",
       "      <td>NaN</td>\n",
       "      <td>NaN</td>\n",
       "      <td>NaN</td>\n",
       "      <td>NaN</td>\n",
       "      <td>NaN</td>\n",
       "      <td>-0.144644</td>\n",
       "      <td>-0.143777</td>\n",
       "      <td>NaN</td>\n",
       "      <td>NaN</td>\n",
       "      <td>-0.123529</td>\n",
       "      <td>-0.139065</td>\n",
       "      <td>NaN</td>\n",
       "      <td>NaN</td>\n",
       "      <td>NaN</td>\n",
       "      <td>NaN</td>\n",
       "      <td>NaN</td>\n",
       "      <td>NaN</td>\n",
       "      <td>NaN</td>\n",
       "    </tr>\n",
       "    <tr>\n",
       "      <th>Shops_2_B</th>\n",
       "      <td>NaN</td>\n",
       "      <td>NaN</td>\n",
       "      <td>NaN</td>\n",
       "      <td>NaN</td>\n",
       "      <td>NaN</td>\n",
       "      <td>NaN</td>\n",
       "      <td>NaN</td>\n",
       "      <td>NaN</td>\n",
       "      <td>NaN</td>\n",
       "      <td>0.144644</td>\n",
       "      <td>0.143777</td>\n",
       "      <td>NaN</td>\n",
       "      <td>NaN</td>\n",
       "      <td>0.123529</td>\n",
       "      <td>0.139065</td>\n",
       "      <td>NaN</td>\n",
       "      <td>NaN</td>\n",
       "      <td>NaN</td>\n",
       "      <td>NaN</td>\n",
       "      <td>NaN</td>\n",
       "      <td>NaN</td>\n",
       "      <td>NaN</td>\n",
       "    </tr>\n",
       "  </tbody>\n",
       "</table>\n",
       "</div>"
      ],
      "text/plain": [
       "               DistrictId     Rooms    Square  LifeSquare  KitchenSquare  \\\n",
       "DistrictId            NaN       NaN       NaN         NaN            NaN   \n",
       "Rooms                 NaN       NaN  0.193684    0.568671            NaN   \n",
       "Square                NaN  0.193684       NaN    0.241954            NaN   \n",
       "LifeSquare            NaN  0.568671  0.241954         NaN            NaN   \n",
       "KitchenSquare         NaN       NaN       NaN         NaN            NaN   \n",
       "Floor                 NaN       NaN       NaN         NaN            NaN   \n",
       "HouseFloor      -0.219881       NaN       NaN         NaN            NaN   \n",
       "HouseYear       -0.201194       NaN       NaN    0.170046            NaN   \n",
       "Ecology_1             NaN       NaN       NaN         NaN            NaN   \n",
       "Social_1         0.246463       NaN       NaN         NaN            NaN   \n",
       "Social_2         0.167479       NaN       NaN         NaN            NaN   \n",
       "Social_3         0.136095       NaN       NaN         NaN            NaN   \n",
       "Healthcare_1     0.325897       NaN       NaN         NaN            NaN   \n",
       "Helthcare_2      0.306147       NaN       NaN         NaN            NaN   \n",
       "Shops_1          0.174214       NaN       NaN         NaN            NaN   \n",
       "Price            0.265100  0.550291  0.142499    0.401445            NaN   \n",
       "Ecology_2_A           NaN       NaN       NaN         NaN            NaN   \n",
       "Ecology_2_B           NaN       NaN       NaN         NaN            NaN   \n",
       "Ecology_3_A           NaN       NaN       NaN         NaN            NaN   \n",
       "Ecology_3_B           NaN       NaN       NaN         NaN            NaN   \n",
       "Shops_2_A             NaN       NaN       NaN         NaN            NaN   \n",
       "Shops_2_B             NaN       NaN       NaN         NaN            NaN   \n",
       "\n",
       "                  Floor  HouseFloor  HouseYear  Ecology_1  Social_1  Social_2  \\\n",
       "DistrictId          NaN   -0.219881  -0.201194        NaN  0.246463  0.167479   \n",
       "Rooms               NaN         NaN        NaN        NaN       NaN       NaN   \n",
       "Square              NaN         NaN        NaN        NaN       NaN       NaN   \n",
       "LifeSquare          NaN         NaN   0.170046        NaN       NaN       NaN   \n",
       "KitchenSquare       NaN         NaN        NaN        NaN       NaN       NaN   \n",
       "Floor               NaN    0.598678   0.258989        NaN       NaN       NaN   \n",
       "HouseFloor     0.598678         NaN   0.461408        NaN -0.106483       NaN   \n",
       "HouseYear      0.258989    0.461408        NaN        NaN       NaN       NaN   \n",
       "Ecology_1           NaN         NaN        NaN        NaN       NaN       NaN   \n",
       "Social_1            NaN   -0.106483        NaN        NaN       NaN  0.955988   \n",
       "Social_2            NaN         NaN        NaN        NaN  0.955988       NaN   \n",
       "Social_3            NaN         NaN        NaN  -0.124068       NaN       NaN   \n",
       "Healthcare_1        NaN   -0.159753  -0.193445        NaN  0.158952  0.112463   \n",
       "Helthcare_2         NaN   -0.140463  -0.116430        NaN  0.524593  0.473193   \n",
       "Shops_1             NaN         NaN        NaN        NaN  0.526272  0.559163   \n",
       "Price          0.113605    0.107305        NaN        NaN  0.263286  0.239226   \n",
       "Ecology_2_A         NaN         NaN        NaN   0.110725       NaN       NaN   \n",
       "Ecology_2_B         NaN         NaN        NaN  -0.110725       NaN       NaN   \n",
       "Ecology_3_A         NaN         NaN        NaN   0.223197       NaN       NaN   \n",
       "Ecology_3_B         NaN         NaN        NaN  -0.223197       NaN       NaN   \n",
       "Shops_2_A           NaN         NaN        NaN        NaN -0.144644 -0.143777   \n",
       "Shops_2_B           NaN         NaN        NaN        NaN  0.144644  0.143777   \n",
       "\n",
       "               Social_3  Healthcare_1  Helthcare_2   Shops_1     Price  \\\n",
       "DistrictId     0.136095      0.325897     0.306147  0.174214  0.265100   \n",
       "Rooms               NaN           NaN          NaN       NaN  0.550291   \n",
       "Square              NaN           NaN          NaN       NaN  0.142499   \n",
       "LifeSquare          NaN           NaN          NaN       NaN  0.401445   \n",
       "KitchenSquare       NaN           NaN          NaN       NaN       NaN   \n",
       "Floor               NaN           NaN          NaN       NaN  0.113605   \n",
       "HouseFloor          NaN     -0.159753    -0.140463       NaN  0.107305   \n",
       "HouseYear           NaN     -0.193445    -0.116430       NaN       NaN   \n",
       "Ecology_1     -0.124068           NaN          NaN       NaN       NaN   \n",
       "Social_1            NaN      0.158952     0.524593  0.526272  0.263286   \n",
       "Social_2            NaN      0.112463     0.473193  0.559163  0.239226   \n",
       "Social_3            NaN      0.171378     0.286434  0.662113       NaN   \n",
       "Healthcare_1   0.171378           NaN     0.271526  0.149186  0.181519   \n",
       "Helthcare_2    0.286434      0.271526          NaN  0.474085  0.253090   \n",
       "Shops_1        0.662113      0.149186     0.474085       NaN  0.180876   \n",
       "Price               NaN      0.181519     0.253090  0.180876       NaN   \n",
       "Ecology_2_A         NaN           NaN          NaN       NaN       NaN   \n",
       "Ecology_2_B         NaN           NaN          NaN       NaN       NaN   \n",
       "Ecology_3_A         NaN      0.122467     0.133120       NaN       NaN   \n",
       "Ecology_3_B         NaN     -0.122467    -0.133120       NaN       NaN   \n",
       "Shops_2_A           NaN           NaN    -0.123529 -0.139065       NaN   \n",
       "Shops_2_B           NaN           NaN     0.123529  0.139065       NaN   \n",
       "\n",
       "               Ecology_2_A  Ecology_2_B  Ecology_3_A  Ecology_3_B  Shops_2_A  \\\n",
       "DistrictId             NaN          NaN          NaN          NaN        NaN   \n",
       "Rooms                  NaN          NaN          NaN          NaN        NaN   \n",
       "Square                 NaN          NaN          NaN          NaN        NaN   \n",
       "LifeSquare             NaN          NaN          NaN          NaN        NaN   \n",
       "KitchenSquare          NaN          NaN          NaN          NaN        NaN   \n",
       "Floor                  NaN          NaN          NaN          NaN        NaN   \n",
       "HouseFloor             NaN          NaN          NaN          NaN        NaN   \n",
       "HouseYear              NaN          NaN          NaN          NaN        NaN   \n",
       "Ecology_1         0.110725    -0.110725     0.223197    -0.223197        NaN   \n",
       "Social_1               NaN          NaN          NaN          NaN  -0.144644   \n",
       "Social_2               NaN          NaN          NaN          NaN  -0.143777   \n",
       "Social_3               NaN          NaN          NaN          NaN        NaN   \n",
       "Healthcare_1           NaN          NaN     0.122467    -0.122467        NaN   \n",
       "Helthcare_2            NaN          NaN     0.133120    -0.133120  -0.123529   \n",
       "Shops_1                NaN          NaN          NaN          NaN  -0.139065   \n",
       "Price                  NaN          NaN          NaN          NaN        NaN   \n",
       "Ecology_2_A            NaN          NaN          NaN          NaN        NaN   \n",
       "Ecology_2_B            NaN          NaN          NaN          NaN        NaN   \n",
       "Ecology_3_A            NaN          NaN          NaN          NaN        NaN   \n",
       "Ecology_3_B            NaN          NaN          NaN          NaN        NaN   \n",
       "Shops_2_A              NaN          NaN          NaN          NaN        NaN   \n",
       "Shops_2_B              NaN          NaN          NaN          NaN        NaN   \n",
       "\n",
       "               Shops_2_B  \n",
       "DistrictId           NaN  \n",
       "Rooms                NaN  \n",
       "Square               NaN  \n",
       "LifeSquare           NaN  \n",
       "KitchenSquare        NaN  \n",
       "Floor                NaN  \n",
       "HouseFloor           NaN  \n",
       "HouseYear            NaN  \n",
       "Ecology_1            NaN  \n",
       "Social_1        0.144644  \n",
       "Social_2        0.143777  \n",
       "Social_3             NaN  \n",
       "Healthcare_1         NaN  \n",
       "Helthcare_2     0.123529  \n",
       "Shops_1         0.139065  \n",
       "Price                NaN  \n",
       "Ecology_2_A          NaN  \n",
       "Ecology_2_B          NaN  \n",
       "Ecology_3_A          NaN  \n",
       "Ecology_3_B          NaN  \n",
       "Shops_2_A            NaN  \n",
       "Shops_2_B            NaN  "
      ]
     },
     "execution_count": 831,
     "metadata": {},
     "output_type": "execute_result"
    }
   ],
   "source": [
    "perceptible_corr = data.drop(columns='Id').corr().where(lambda v: (np.abs(v) > 0.1) & (np.abs(v) < 1))\n",
    "perceptible_corr"
   ]
  },
  {
   "cell_type": "markdown",
   "metadata": {},
   "source": [
    "Колонки, влияющие на цену"
   ]
  },
  {
   "cell_type": "code",
   "execution_count": 832,
   "metadata": {},
   "outputs": [
    {
     "name": "stdout",
     "output_type": "stream",
     "text": [
      "['Rooms' 'LifeSquare' 'DistrictId' 'Social_1' 'Helthcare_2' 'Social_2'\n",
      " 'Healthcare_1' 'Shops_1' 'Square' 'Floor' 'HouseFloor']\n"
     ]
    },
    {
     "data": {
      "text/html": [
       "<div>\n",
       "<style scoped>\n",
       "    .dataframe tbody tr th:only-of-type {\n",
       "        vertical-align: middle;\n",
       "    }\n",
       "\n",
       "    .dataframe tbody tr th {\n",
       "        vertical-align: top;\n",
       "    }\n",
       "\n",
       "    .dataframe thead th {\n",
       "        text-align: right;\n",
       "    }\n",
       "</style>\n",
       "<table border=\"1\" class=\"dataframe\">\n",
       "  <thead>\n",
       "    <tr style=\"text-align: right;\">\n",
       "      <th></th>\n",
       "      <th>Price</th>\n",
       "    </tr>\n",
       "  </thead>\n",
       "  <tbody>\n",
       "    <tr>\n",
       "      <th>Rooms</th>\n",
       "      <td>0.550291</td>\n",
       "    </tr>\n",
       "    <tr>\n",
       "      <th>LifeSquare</th>\n",
       "      <td>0.401445</td>\n",
       "    </tr>\n",
       "    <tr>\n",
       "      <th>DistrictId</th>\n",
       "      <td>0.265100</td>\n",
       "    </tr>\n",
       "    <tr>\n",
       "      <th>Social_1</th>\n",
       "      <td>0.263286</td>\n",
       "    </tr>\n",
       "    <tr>\n",
       "      <th>Helthcare_2</th>\n",
       "      <td>0.253090</td>\n",
       "    </tr>\n",
       "    <tr>\n",
       "      <th>Social_2</th>\n",
       "      <td>0.239226</td>\n",
       "    </tr>\n",
       "    <tr>\n",
       "      <th>Healthcare_1</th>\n",
       "      <td>0.181519</td>\n",
       "    </tr>\n",
       "    <tr>\n",
       "      <th>Shops_1</th>\n",
       "      <td>0.180876</td>\n",
       "    </tr>\n",
       "    <tr>\n",
       "      <th>Square</th>\n",
       "      <td>0.142499</td>\n",
       "    </tr>\n",
       "    <tr>\n",
       "      <th>Floor</th>\n",
       "      <td>0.113605</td>\n",
       "    </tr>\n",
       "    <tr>\n",
       "      <th>HouseFloor</th>\n",
       "      <td>0.107305</td>\n",
       "    </tr>\n",
       "  </tbody>\n",
       "</table>\n",
       "</div>"
      ],
      "text/plain": [
       "                 Price\n",
       "Rooms         0.550291\n",
       "LifeSquare    0.401445\n",
       "DistrictId    0.265100\n",
       "Social_1      0.263286\n",
       "Helthcare_2   0.253090\n",
       "Social_2      0.239226\n",
       "Healthcare_1  0.181519\n",
       "Shops_1       0.180876\n",
       "Square        0.142499\n",
       "Floor         0.113605\n",
       "HouseFloor    0.107305"
      ]
     },
     "execution_count": 832,
     "metadata": {},
     "output_type": "execute_result"
    }
   ],
   "source": [
    "price_corr_columns = perceptible_corr[['Price']].dropna().sort_values('Price', ascending=False)\n",
    "print(price_corr_columns.index.values)\n",
    "price_corr_columns"
   ]
  },
  {
   "cell_type": "markdown",
   "metadata": {},
   "source": [
    "# Выбросы RSL (Rooms, Square, LifeSquare)"
   ]
  },
  {
   "cell_type": "markdown",
   "metadata": {},
   "source": [
    "Почти всегда данные имеют различные выброс и просто неверные значения, которые тем или иным способом попали в датасет. Найдём самое чистое подмножество этих данных и, на основе его значений, исправим остальные."
   ]
  },
  {
   "cell_type": "markdown",
   "metadata": {},
   "source": [
    "## Исследуем данные"
   ]
  },
  {
   "cell_type": "markdown",
   "metadata": {},
   "source": [
    "Начинаем с 'Rooms', 'Square', 'LifeSquare' как с самых сильных признаков, влияющие на колонку Price, обладающих сильной корреляцией между собой."
   ]
  },
  {
   "cell_type": "code",
   "execution_count": 740,
   "metadata": {},
   "outputs": [
    {
     "data": {
      "text/html": [
       "<div>\n",
       "<style scoped>\n",
       "    .dataframe tbody tr th:only-of-type {\n",
       "        vertical-align: middle;\n",
       "    }\n",
       "\n",
       "    .dataframe tbody tr th {\n",
       "        vertical-align: top;\n",
       "    }\n",
       "\n",
       "    .dataframe thead th {\n",
       "        text-align: right;\n",
       "    }\n",
       "</style>\n",
       "<table border=\"1\" class=\"dataframe\">\n",
       "  <thead>\n",
       "    <tr style=\"text-align: right;\">\n",
       "      <th></th>\n",
       "      <th>Rooms</th>\n",
       "      <th>Square</th>\n",
       "      <th>LifeSquare</th>\n",
       "    </tr>\n",
       "  </thead>\n",
       "  <tbody>\n",
       "    <tr>\n",
       "      <th>Rooms</th>\n",
       "      <td>1.000000</td>\n",
       "      <td>0.193684</td>\n",
       "      <td>0.521674</td>\n",
       "    </tr>\n",
       "    <tr>\n",
       "      <th>Square</th>\n",
       "      <td>0.193684</td>\n",
       "      <td>1.000000</td>\n",
       "      <td>0.219987</td>\n",
       "    </tr>\n",
       "    <tr>\n",
       "      <th>LifeSquare</th>\n",
       "      <td>0.521674</td>\n",
       "      <td>0.219987</td>\n",
       "      <td>1.000000</td>\n",
       "    </tr>\n",
       "    <tr>\n",
       "      <th>HouseFloor</th>\n",
       "      <td>NaN</td>\n",
       "      <td>NaN</td>\n",
       "      <td>0.104025</td>\n",
       "    </tr>\n",
       "    <tr>\n",
       "      <th>HouseYear</th>\n",
       "      <td>NaN</td>\n",
       "      <td>NaN</td>\n",
       "      <td>0.180189</td>\n",
       "    </tr>\n",
       "    <tr>\n",
       "      <th>Social_1</th>\n",
       "      <td>NaN</td>\n",
       "      <td>NaN</td>\n",
       "      <td>-0.133789</td>\n",
       "    </tr>\n",
       "    <tr>\n",
       "      <th>Social_2</th>\n",
       "      <td>NaN</td>\n",
       "      <td>NaN</td>\n",
       "      <td>-0.101346</td>\n",
       "    </tr>\n",
       "    <tr>\n",
       "      <th>Price</th>\n",
       "      <td>0.550291</td>\n",
       "      <td>0.142499</td>\n",
       "      <td>0.363570</td>\n",
       "    </tr>\n",
       "  </tbody>\n",
       "</table>\n",
       "</div>"
      ],
      "text/plain": [
       "               Rooms    Square  LifeSquare\n",
       "Rooms       1.000000  0.193684    0.521674\n",
       "Square      0.193684  1.000000    0.219987\n",
       "LifeSquare  0.521674  0.219987    1.000000\n",
       "HouseFloor       NaN       NaN    0.104025\n",
       "HouseYear        NaN       NaN    0.180189\n",
       "Social_1         NaN       NaN   -0.133789\n",
       "Social_2         NaN       NaN   -0.101346\n",
       "Price       0.550291  0.142499    0.363570"
      ]
     },
     "execution_count": 740,
     "metadata": {},
     "output_type": "execute_result"
    }
   ],
   "source": [
    "data.corr().loc[:, ['Rooms', 'Square', 'LifeSquare']].where(lambda df: np.abs(df) > 0.1).dropna(how='all')"
   ]
  },
  {
   "cell_type": "markdown",
   "metadata": {},
   "source": [
    "### Фильтр 'Rooms'"
   ]
  },
  {
   "cell_type": "code",
   "execution_count": 741,
   "metadata": {},
   "outputs": [
    {
     "data": {
      "text/html": [
       "<div>\n",
       "<style scoped>\n",
       "    .dataframe tbody tr th:only-of-type {\n",
       "        vertical-align: middle;\n",
       "    }\n",
       "\n",
       "    .dataframe tbody tr th {\n",
       "        vertical-align: top;\n",
       "    }\n",
       "\n",
       "    .dataframe thead th {\n",
       "        text-align: right;\n",
       "    }\n",
       "</style>\n",
       "<table border=\"1\" class=\"dataframe\">\n",
       "  <thead>\n",
       "    <tr style=\"text-align: right;\">\n",
       "      <th></th>\n",
       "      <th>Rooms</th>\n",
       "    </tr>\n",
       "  </thead>\n",
       "  <tbody>\n",
       "    <tr>\n",
       "      <th>Rooms</th>\n",
       "      <td>1.000000</td>\n",
       "    </tr>\n",
       "    <tr>\n",
       "      <th>Price</th>\n",
       "      <td>0.550291</td>\n",
       "    </tr>\n",
       "    <tr>\n",
       "      <th>LifeSquare</th>\n",
       "      <td>0.521674</td>\n",
       "    </tr>\n",
       "    <tr>\n",
       "      <th>Square</th>\n",
       "      <td>0.193684</td>\n",
       "    </tr>\n",
       "  </tbody>\n",
       "</table>\n",
       "</div>"
      ],
      "text/plain": [
       "               Rooms\n",
       "Rooms       1.000000\n",
       "Price       0.550291\n",
       "LifeSquare  0.521674\n",
       "Square      0.193684"
      ]
     },
     "execution_count": 741,
     "metadata": {},
     "output_type": "execute_result"
    }
   ],
   "source": [
    "data.corr().loc[lambda df: np.abs(df['Rooms']) > 0.1, ['Rooms']].sort_values('Rooms', ascending=False)"
   ]
  },
  {
   "cell_type": "code",
   "execution_count": 742,
   "metadata": {},
   "outputs": [
    {
     "data": {
      "text/plain": [
       "2.0     3880\n",
       "1.0     3705\n",
       "3.0     2235\n",
       "4.0      150\n",
       "5.0       18\n",
       "0.0        8\n",
       "10.0       2\n",
       "19.0       1\n",
       "6.0        1\n",
       "Name: Rooms, dtype: int64"
      ]
     },
     "execution_count": 742,
     "metadata": {},
     "output_type": "execute_result"
    }
   ],
   "source": [
    "data['Rooms'].value_counts()"
   ]
  },
  {
   "cell_type": "code",
   "execution_count": 743,
   "metadata": {},
   "outputs": [
    {
     "data": {
      "text/plain": [
       "<matplotlib.axes._subplots.AxesSubplot at 0x1a3fef29b0>"
      ]
     },
     "execution_count": 743,
     "metadata": {},
     "output_type": "execute_result"
    },
    {
     "data": {
      "image/jpeg": "[encoded data removed]",
      "text/plain": [
       "<Figure size 432x288 with 1 Axes>"
      ]
     },
     "metadata": {
      "needs_background": "light"
     },
     "output_type": "display_data"
    }
   ],
   "source": [
    "sns.boxplot(data['Rooms'], data['Price'])"
   ]
  },
  {
   "cell_type": "markdown",
   "metadata": {},
   "source": [
    "Из графиков видно, что самые чистые данные находятся для 1 <= Rooms <= 5 в пределах 1 и 3 квартилей. Остальные, скорее всего, были заполнены с ошибками."
   ]
  },
  {
   "cell_type": "markdown",
   "metadata": {},
   "source": [
    "Составим фильтр, который выделит подмножество с идеальным отношением Rooms ∝ Square ∧ LifeSquare"
   ]
  },
  {
   "cell_type": "code",
   "execution_count": 744,
   "metadata": {},
   "outputs": [
    {
     "name": "stdout",
     "output_type": "stream",
     "text": [
      "Число записей:  9988 / 10000\n"
     ]
    },
    {
     "data": {
      "text/plain": [
       "2.0    3880\n",
       "1.0    3705\n",
       "3.0    2235\n",
       "4.0     150\n",
       "5.0      18\n",
       "Name: Rooms, dtype: int64"
      ]
     },
     "execution_count": 744,
     "metadata": {},
     "output_type": "execute_result"
    }
   ],
   "source": [
    "ideal_rooms_filter = lambda df: df['Rooms'].isin([1, 2, 3, 4, 5])\n",
    "ideal_rooms_data = data.loc[lambda df: ideal_rooms_filter(df), :]\n",
    "print('Число записей: ', ideal_rooms_data['Id'].count(), '/', data['Id'].count())\n",
    "ideal_rooms_data['Rooms'].value_counts()"
   ]
  },
  {
   "cell_type": "markdown",
   "metadata": {},
   "source": [
    "### Фильтр 'LifeSquare'"
   ]
  },
  {
   "cell_type": "code",
   "execution_count": 745,
   "metadata": {},
   "outputs": [
    {
     "data": {
      "text/html": [
       "<div>\n",
       "<style scoped>\n",
       "    .dataframe tbody tr th:only-of-type {\n",
       "        vertical-align: middle;\n",
       "    }\n",
       "\n",
       "    .dataframe tbody tr th {\n",
       "        vertical-align: top;\n",
       "    }\n",
       "\n",
       "    .dataframe thead th {\n",
       "        text-align: right;\n",
       "    }\n",
       "</style>\n",
       "<table border=\"1\" class=\"dataframe\">\n",
       "  <thead>\n",
       "    <tr style=\"text-align: right;\">\n",
       "      <th></th>\n",
       "      <th></th>\n",
       "      <th>LifeSquare</th>\n",
       "    </tr>\n",
       "    <tr>\n",
       "      <th>Rooms</th>\n",
       "      <th></th>\n",
       "      <th></th>\n",
       "    </tr>\n",
       "  </thead>\n",
       "  <tbody>\n",
       "    <tr>\n",
       "      <th rowspan=\"2\" valign=\"top\">1.0</th>\n",
       "      <th>0.25</th>\n",
       "      <td>19.677872</td>\n",
       "    </tr>\n",
       "    <tr>\n",
       "      <th>0.75</th>\n",
       "      <td>24.224435</td>\n",
       "    </tr>\n",
       "    <tr>\n",
       "      <th rowspan=\"2\" valign=\"top\">2.0</th>\n",
       "      <th>0.25</th>\n",
       "      <td>29.914386</td>\n",
       "    </tr>\n",
       "    <tr>\n",
       "      <th>0.75</th>\n",
       "      <td>36.005792</td>\n",
       "    </tr>\n",
       "    <tr>\n",
       "      <th rowspan=\"2\" valign=\"top\">3.0</th>\n",
       "      <th>0.25</th>\n",
       "      <td>43.669819</td>\n",
       "    </tr>\n",
       "    <tr>\n",
       "      <th>0.75</th>\n",
       "      <td>51.661600</td>\n",
       "    </tr>\n",
       "    <tr>\n",
       "      <th rowspan=\"2\" valign=\"top\">4.0</th>\n",
       "      <th>0.25</th>\n",
       "      <td>53.804087</td>\n",
       "    </tr>\n",
       "    <tr>\n",
       "      <th>0.75</th>\n",
       "      <td>72.482796</td>\n",
       "    </tr>\n",
       "    <tr>\n",
       "      <th rowspan=\"2\" valign=\"top\">5.0</th>\n",
       "      <th>0.25</th>\n",
       "      <td>69.033727</td>\n",
       "    </tr>\n",
       "    <tr>\n",
       "      <th>0.75</th>\n",
       "      <td>88.492650</td>\n",
       "    </tr>\n",
       "  </tbody>\n",
       "</table>\n",
       "</div>"
      ],
      "text/plain": [
       "            LifeSquare\n",
       "Rooms                 \n",
       "1.0   0.25   19.677872\n",
       "      0.75   24.224435\n",
       "2.0   0.25   29.914386\n",
       "      0.75   36.005792\n",
       "3.0   0.25   43.669819\n",
       "      0.75   51.661600\n",
       "4.0   0.25   53.804087\n",
       "      0.75   72.482796\n",
       "5.0   0.25   69.033727\n",
       "      0.75   88.492650"
      ]
     },
     "execution_count": 745,
     "metadata": {},
     "output_type": "execute_result"
    }
   ],
   "source": [
    "lifesquare_quantiles = ideal_rooms_data.groupby('Rooms')[['LifeSquare']].quantile(q=[0.25, 0.75], interpolation='nearest')\n",
    "lifesquare_quantiles"
   ]
  },
  {
   "cell_type": "code",
   "execution_count": 746,
   "metadata": {},
   "outputs": [
    {
     "name": "stdout",
     "output_type": "stream",
     "text": [
      "Число записей:  5899 / 10000\n"
     ]
    },
    {
     "data": {
      "text/plain": [
       "<matplotlib.axes._subplots.AxesSubplot at 0x1a40895ef0>"
      ]
     },
     "execution_count": 746,
     "metadata": {},
     "output_type": "execute_result"
    },
    {
     "data": {
      "image/jpeg": "[encoded data removed]",
      "text/plain": [
       "<Figure size 432x288 with 1 Axes>"
      ]
     },
     "metadata": {
      "needs_background": "light"
     },
     "output_type": "display_data"
    }
   ],
   "source": [
    "ideal_lifesquare_filter = lambda df: (\n",
    "    (df['LifeSquare'].notna()) &\n",
    "    (df['Square'] < 200) &\n",
    "    (df['LifeSquare'] > 10) &\n",
    "    (df['LifeSquare'] < 150) &\n",
    "    (df['LifeSquare'] < df['Square'] * 0.9) &\n",
    "    (df['LifeSquare'] > df['Square'] * 0.3) &\n",
    "    ((df['Rooms'] == 1) & (df['LifeSquare'] >= 15) & (df['LifeSquare'] <= 30)) |\n",
    "    ((df['Rooms'] == 2) & (df['LifeSquare'] >= 25) & (df['LifeSquare'] <= 40)) |\n",
    "    ((df['Rooms'] == 3) & (df['LifeSquare'] >= 40) & (df['LifeSquare'] <= 60)) |\n",
    "    ((df['Rooms'] == 4) & (df['LifeSquare'] >= 50) & (df['LifeSquare'] <= 80)) |\n",
    "    ((df['Rooms'] == 5) & (df['LifeSquare'] >= 60) & (df['LifeSquare'] <= 100))\n",
    ")\n",
    "ideal_lifesquare_data = data.loc[lambda df: ideal_rooms_filter(df) & ideal_lifesquare_filter(df), :]\n",
    "print('Число записей: ', ideal_lifesquare_data['Id'].count(), '/', data['Id'].count())\n",
    "ideal_lifesquare_data['Rooms'].value_counts()\n",
    "sns.boxplot(ideal_lifesquare_data['Rooms'], ideal_lifesquare_data['LifeSquare'])"
   ]
  },
  {
   "cell_type": "code",
   "execution_count": 747,
   "metadata": {},
   "outputs": [
    {
     "data": {
      "text/plain": [
       "<seaborn.axisgrid.PairGrid at 0x1a3fffbf60>"
      ]
     },
     "execution_count": 747,
     "metadata": {},
     "output_type": "execute_result"
    },
    {
     "data": {
      "image/jpeg": "[encoded data removed]",
      "text/plain": [
       "<Figure size 720x720 with 20 Axes>"
      ]
     },
     "metadata": {
      "needs_background": "light"
     },
     "output_type": "display_data"
    }
   ],
   "source": [
    "sns.pairplot(ideal_lifesquare_data.loc[:, ['Rooms', 'Square', 'LifeSquare', 'Price']])"
   ]
  },
  {
   "cell_type": "markdown",
   "metadata": {},
   "source": [
    "### Фильтр 'Square'"
   ]
  },
  {
   "cell_type": "code",
   "execution_count": 748,
   "metadata": {},
   "outputs": [
    {
     "data": {
      "text/plain": [
       "<matplotlib.axes._subplots.AxesSubplot at 0x1a3c66a358>"
      ]
     },
     "execution_count": 748,
     "metadata": {},
     "output_type": "execute_result"
    },
    {
     "data": {
      "image/jpeg": "[encoded data removed]",
      "text/plain": [
       "<Figure size 432x288 with 1 Axes>"
      ]
     },
     "metadata": {
      "needs_background": "light"
     },
     "output_type": "display_data"
    }
   ],
   "source": [
    "sns.boxplot(ideal_lifesquare_data['Rooms'], ideal_lifesquare_data['Square'])"
   ]
  },
  {
   "cell_type": "code",
   "execution_count": 749,
   "metadata": {},
   "outputs": [
    {
     "data": {
      "text/html": [
       "<div>\n",
       "<style scoped>\n",
       "    .dataframe tbody tr th:only-of-type {\n",
       "        vertical-align: middle;\n",
       "    }\n",
       "\n",
       "    .dataframe tbody tr th {\n",
       "        vertical-align: top;\n",
       "    }\n",
       "\n",
       "    .dataframe thead th {\n",
       "        text-align: right;\n",
       "    }\n",
       "</style>\n",
       "<table border=\"1\" class=\"dataframe\">\n",
       "  <thead>\n",
       "    <tr style=\"text-align: right;\">\n",
       "      <th></th>\n",
       "      <th></th>\n",
       "      <th>Square</th>\n",
       "    </tr>\n",
       "    <tr>\n",
       "      <th>Rooms</th>\n",
       "      <th></th>\n",
       "      <th></th>\n",
       "    </tr>\n",
       "  </thead>\n",
       "  <tbody>\n",
       "    <tr>\n",
       "      <th rowspan=\"2\" valign=\"top\">1.0</th>\n",
       "      <th>0.25</th>\n",
       "      <td>35.424208</td>\n",
       "    </tr>\n",
       "    <tr>\n",
       "      <th>0.75</th>\n",
       "      <td>41.627859</td>\n",
       "    </tr>\n",
       "    <tr>\n",
       "      <th rowspan=\"2\" valign=\"top\">2.0</th>\n",
       "      <th>0.25</th>\n",
       "      <td>46.357721</td>\n",
       "    </tr>\n",
       "    <tr>\n",
       "      <th>0.75</th>\n",
       "      <td>57.088702</td>\n",
       "    </tr>\n",
       "    <tr>\n",
       "      <th rowspan=\"2\" valign=\"top\">3.0</th>\n",
       "      <th>0.25</th>\n",
       "      <td>65.540129</td>\n",
       "    </tr>\n",
       "    <tr>\n",
       "      <th>0.75</th>\n",
       "      <td>80.202766</td>\n",
       "    </tr>\n",
       "    <tr>\n",
       "      <th rowspan=\"2\" valign=\"top\">4.0</th>\n",
       "      <th>0.25</th>\n",
       "      <td>86.482556</td>\n",
       "    </tr>\n",
       "    <tr>\n",
       "      <th>0.75</th>\n",
       "      <td>102.929692</td>\n",
       "    </tr>\n",
       "    <tr>\n",
       "      <th rowspan=\"2\" valign=\"top\">5.0</th>\n",
       "      <th>0.25</th>\n",
       "      <td>108.057398</td>\n",
       "    </tr>\n",
       "    <tr>\n",
       "      <th>0.75</th>\n",
       "      <td>118.871952</td>\n",
       "    </tr>\n",
       "  </tbody>\n",
       "</table>\n",
       "</div>"
      ],
      "text/plain": [
       "                Square\n",
       "Rooms                 \n",
       "1.0   0.25   35.424208\n",
       "      0.75   41.627859\n",
       "2.0   0.25   46.357721\n",
       "      0.75   57.088702\n",
       "3.0   0.25   65.540129\n",
       "      0.75   80.202766\n",
       "4.0   0.25   86.482556\n",
       "      0.75  102.929692\n",
       "5.0   0.25  108.057398\n",
       "      0.75  118.871952"
      ]
     },
     "execution_count": 749,
     "metadata": {},
     "output_type": "execute_result"
    }
   ],
   "source": [
    "square_quantiles = ideal_lifesquare_data.groupby('Rooms')[['Square']].quantile(q=[0.25, 0.75], interpolation='nearest')\n",
    "square_quantiles"
   ]
  },
  {
   "cell_type": "code",
   "execution_count": 751,
   "metadata": {},
   "outputs": [
    {
     "name": "stdout",
     "output_type": "stream",
     "text": [
      "Число записей:  5349 / 10000\n"
     ]
    },
    {
     "data": {
      "text/plain": [
       "2.0    2136\n",
       "1.0    1945\n",
       "3.0    1180\n",
       "4.0      78\n",
       "5.0      10\n",
       "Name: Rooms, dtype: int64"
      ]
     },
     "execution_count": 751,
     "metadata": {},
     "output_type": "execute_result"
    },
    {
     "data": {
      "image/jpeg": "[encoded data removed]",
      "text/plain": [
       "<Figure size 432x288 with 1 Axes>"
      ]
     },
     "metadata": {
      "needs_background": "light"
     },
     "output_type": "display_data"
    }
   ],
   "source": [
    "ideal_square_filter = lambda df: (\n",
    "    ((df['Rooms'] == 1) & (df['Square'] >= 25) & (df['Square'] <= 45)) |\n",
    "    ((df['Rooms'] == 2) & (df['Square'] >= 40) & (df['Square'] <= 65)) |\n",
    "    ((df['Rooms'] == 3) & (df['Square'] >= 60) & (df['Square'] <= 90)) |\n",
    "    ((df['Rooms'] == 4) & (df['Square'] >= 75) & (df['Square'] <= 110))|\n",
    "    ((df['Rooms'] == 5) & (df['Square'] >= 90) & (df['Square'] <= 130))\n",
    ")\n",
    "ideal_square_data = data.loc[lambda df: ideal_square_filter(df) & ideal_rooms_filter(df) & ideal_lifesquare_filter(df), :]\n",
    "sns.boxplot(ideal_square_data['Rooms'], ideal_square_data['Square'])\n",
    "print('Число записей: ', ideal_square_data['Id'].count(), '/', data['Id'].count())\n",
    "ideal_square_data['Rooms'].value_counts()"
   ]
  },
  {
   "cell_type": "code",
   "execution_count": 752,
   "metadata": {},
   "outputs": [
    {
     "data": {
      "text/plain": [
       "<seaborn.axisgrid.PairGrid at 0x1a3c40ad30>"
      ]
     },
     "execution_count": 752,
     "metadata": {},
     "output_type": "execute_result"
    },
    {
     "data": {
      "image/jpeg": "[encoded data removed]",
      "text/plain": [
       "<Figure size 720x720 with 20 Axes>"
      ]
     },
     "metadata": {
      "needs_background": "light"
     },
     "output_type": "display_data"
    }
   ],
   "source": [
    "sns.pairplot(ideal_square_data.loc[:, ['Rooms', 'Square', 'LifeSquare', 'Price']])"
   ]
  },
  {
   "cell_type": "markdown",
   "metadata": {},
   "source": [
    "### Итоговый RSL-фильтр"
   ]
  },
  {
   "cell_type": "code",
   "execution_count": 758,
   "metadata": {},
   "outputs": [],
   "source": [
    "ideal_rsl_filter = lambda df: ideal_square_filter(df) & ideal_rooms_filter(df) & ideal_lifesquare_filter(df)"
   ]
  },
  {
   "cell_type": "code",
   "execution_count": 821,
   "metadata": {},
   "outputs": [
    {
     "name": "stdout",
     "output_type": "stream",
     "text": [
      "Корреляция до фильтрации:\n"
     ]
    },
    {
     "data": {
      "text/html": [
       "<div>\n",
       "<style scoped>\n",
       "    .dataframe tbody tr th:only-of-type {\n",
       "        vertical-align: middle;\n",
       "    }\n",
       "\n",
       "    .dataframe tbody tr th {\n",
       "        vertical-align: top;\n",
       "    }\n",
       "\n",
       "    .dataframe thead th {\n",
       "        text-align: right;\n",
       "    }\n",
       "</style>\n",
       "<table border=\"1\" class=\"dataframe\">\n",
       "  <thead>\n",
       "    <tr style=\"text-align: right;\">\n",
       "      <th></th>\n",
       "      <th>Rooms</th>\n",
       "      <th>Square</th>\n",
       "      <th>LifeSquare</th>\n",
       "    </tr>\n",
       "  </thead>\n",
       "  <tbody>\n",
       "    <tr>\n",
       "      <th>Rooms</th>\n",
       "      <td>1.000000</td>\n",
       "      <td>0.193684</td>\n",
       "      <td>0.568671</td>\n",
       "    </tr>\n",
       "    <tr>\n",
       "      <th>Square</th>\n",
       "      <td>0.193684</td>\n",
       "      <td>1.000000</td>\n",
       "      <td>0.241954</td>\n",
       "    </tr>\n",
       "    <tr>\n",
       "      <th>LifeSquare</th>\n",
       "      <td>0.568671</td>\n",
       "      <td>0.241954</td>\n",
       "      <td>1.000000</td>\n",
       "    </tr>\n",
       "    <tr>\n",
       "      <th>HouseYear</th>\n",
       "      <td>NaN</td>\n",
       "      <td>NaN</td>\n",
       "      <td>0.170046</td>\n",
       "    </tr>\n",
       "    <tr>\n",
       "      <th>Price</th>\n",
       "      <td>0.550291</td>\n",
       "      <td>0.142499</td>\n",
       "      <td>0.401445</td>\n",
       "    </tr>\n",
       "  </tbody>\n",
       "</table>\n",
       "</div>"
      ],
      "text/plain": [
       "               Rooms    Square  LifeSquare\n",
       "Rooms       1.000000  0.193684    0.568671\n",
       "Square      0.193684  1.000000    0.241954\n",
       "LifeSquare  0.568671  0.241954    1.000000\n",
       "HouseYear        NaN       NaN    0.170046\n",
       "Price       0.550291  0.142499    0.401445"
      ]
     },
     "execution_count": 821,
     "metadata": {},
     "output_type": "execute_result"
    }
   ],
   "source": [
    "print('Корреляция до фильтрации:')\n",
    "data.corr().loc[:, ['Rooms', 'Square', 'LifeSquare']].where(lambda df: np.abs(df) > 0.1).dropna(how='all')"
   ]
  },
  {
   "cell_type": "code",
   "execution_count": 822,
   "metadata": {},
   "outputs": [
    {
     "name": "stdout",
     "output_type": "stream",
     "text": [
      "Корреляция после фильтрации:\n"
     ]
    },
    {
     "data": {
      "text/html": [
       "<div>\n",
       "<style scoped>\n",
       "    .dataframe tbody tr th:only-of-type {\n",
       "        vertical-align: middle;\n",
       "    }\n",
       "\n",
       "    .dataframe tbody tr th {\n",
       "        vertical-align: top;\n",
       "    }\n",
       "\n",
       "    .dataframe thead th {\n",
       "        text-align: right;\n",
       "    }\n",
       "</style>\n",
       "<table border=\"1\" class=\"dataframe\">\n",
       "  <thead>\n",
       "    <tr style=\"text-align: right;\">\n",
       "      <th></th>\n",
       "      <th>Rooms</th>\n",
       "      <th>Square</th>\n",
       "      <th>LifeSquare</th>\n",
       "    </tr>\n",
       "  </thead>\n",
       "  <tbody>\n",
       "    <tr>\n",
       "      <th>Rooms</th>\n",
       "      <td>1.000000</td>\n",
       "      <td>0.916155</td>\n",
       "      <td>0.964956</td>\n",
       "    </tr>\n",
       "    <tr>\n",
       "      <th>Square</th>\n",
       "      <td>0.916155</td>\n",
       "      <td>1.000000</td>\n",
       "      <td>0.942727</td>\n",
       "    </tr>\n",
       "    <tr>\n",
       "      <th>LifeSquare</th>\n",
       "      <td>0.964956</td>\n",
       "      <td>0.942727</td>\n",
       "      <td>1.000000</td>\n",
       "    </tr>\n",
       "    <tr>\n",
       "      <th>Floor</th>\n",
       "      <td>NaN</td>\n",
       "      <td>0.141491</td>\n",
       "      <td>NaN</td>\n",
       "    </tr>\n",
       "    <tr>\n",
       "      <th>HouseFloor</th>\n",
       "      <td>NaN</td>\n",
       "      <td>0.221204</td>\n",
       "      <td>NaN</td>\n",
       "    </tr>\n",
       "    <tr>\n",
       "      <th>HouseYear</th>\n",
       "      <td>NaN</td>\n",
       "      <td>0.166833</td>\n",
       "      <td>NaN</td>\n",
       "    </tr>\n",
       "    <tr>\n",
       "      <th>Price</th>\n",
       "      <td>0.631897</td>\n",
       "      <td>0.639687</td>\n",
       "      <td>0.659991</td>\n",
       "    </tr>\n",
       "  </tbody>\n",
       "</table>\n",
       "</div>"
      ],
      "text/plain": [
       "               Rooms    Square  LifeSquare\n",
       "Rooms       1.000000  0.916155    0.964956\n",
       "Square      0.916155  1.000000    0.942727\n",
       "LifeSquare  0.964956  0.942727    1.000000\n",
       "Floor            NaN  0.141491         NaN\n",
       "HouseFloor       NaN  0.221204         NaN\n",
       "HouseYear        NaN  0.166833         NaN\n",
       "Price       0.631897  0.639687    0.659991"
      ]
     },
     "execution_count": 822,
     "metadata": {},
     "output_type": "execute_result"
    }
   ],
   "source": [
    "print('Корреляция после фильтрации:')\n",
    "data.loc[lambda df: ideal_rsl_filter(df), :].corr().loc[:, ['Rooms', 'Square', 'LifeSquare']].where(lambda df: np.abs(df) > 0.1).dropna(how='all')"
   ]
  },
  {
   "cell_type": "markdown",
   "metadata": {},
   "source": [
    "## Отсутствующие значения LifeSquare"
   ]
  },
  {
   "cell_type": "markdown",
   "metadata": {},
   "source": [
    "Определим коэффициент зависимости LifeSquare от Square, используя линейную регрессию"
   ]
  },
  {
   "cell_type": "code",
   "execution_count": 960,
   "metadata": {},
   "outputs": [
    {
     "name": "stdout",
     "output_type": "stream",
     "text": [
      "Для колонок: ['Rooms']\n",
      "r2: 0.5458014453316389\n",
      "weights: [14.10802468]\n",
      "intercept: 8.350971477427873\n",
      "\n",
      "Для колонок: ['Square']\n",
      "r2: 0.06775725276865241\n",
      "weights: [0.04189597]\n",
      "intercept: 33.81700989545388\n",
      "\n",
      "Для колонок: ['Rooms', 'Square']\n",
      "r2: 0.5481927547348449\n",
      "weights: [1.38443484e+01 1.12402818e-02]\n",
      "intercept: 8.231608115489276\n",
      "\n",
      "Для колонок: ['Rooms', 'Square', 'Floor', 'HouseFloor', 'HouseYear']\n",
      "r2: 0.5503762700759064\n",
      "weights: [ 1.36941989e+01  1.10171679e-02  1.45000039e-01 -2.22161336e-01\n",
      "  6.71169792e-02]\n",
      "intercept: -122.98077971780573\n",
      "\n"
     ]
    }
   ],
   "source": [
    "from sklearn.linear_model import LinearRegression\n",
    "from sklearn.model_selection import train_test_split\n",
    "from sklearn.metrics import r2_score\n",
    "\n",
    "for cols in [['Rooms'], ['Square'], ['Rooms', 'Square'], ['Rooms', 'Square', 'Floor', 'HouseFloor', 'HouseYear']]:\n",
    "    # обучающая выборка\n",
    "    x_train, x_test, y_train, y_test = train_test_split(\n",
    "        data.loc[lambda df: df['LifeSquare'].notnull(), cols], \n",
    "        data.loc[lambda df: df['LifeSquare'].notnull(), 'LifeSquare'], \n",
    "        test_size=0.25, \n",
    "        random_state=42\n",
    "    )\n",
    "    # тренировка модели\n",
    "    lr = LinearRegression()\n",
    "    lr.fit(x_train, y_train)\n",
    "    # результаты\n",
    "    print('Для колонок:', cols)\n",
    "    print('r2:', r2_score(y_test, lr.predict(x_test)))\n",
    "    print('weights:', lr.coef_)\n",
    "    print('intercept:', lr.intercept_)\n",
    "    print()"
   ]
  },
  {
   "cell_type": "code",
   "execution_count": 823,
   "metadata": {},
   "outputs": [
    {
     "data": {
      "text/html": [
       "<div>\n",
       "<style scoped>\n",
       "    .dataframe tbody tr th:only-of-type {\n",
       "        vertical-align: middle;\n",
       "    }\n",
       "\n",
       "    .dataframe tbody tr th {\n",
       "        vertical-align: top;\n",
       "    }\n",
       "\n",
       "    .dataframe thead th {\n",
       "        text-align: right;\n",
       "    }\n",
       "</style>\n",
       "<table border=\"1\" class=\"dataframe\">\n",
       "  <thead>\n",
       "    <tr style=\"text-align: right;\">\n",
       "      <th></th>\n",
       "      <th>LifeSquare</th>\n",
       "    </tr>\n",
       "  </thead>\n",
       "  <tbody>\n",
       "    <tr>\n",
       "      <th>Rooms</th>\n",
       "      <td>0.568671</td>\n",
       "    </tr>\n",
       "    <tr>\n",
       "      <th>Square</th>\n",
       "      <td>0.241954</td>\n",
       "    </tr>\n",
       "    <tr>\n",
       "      <th>HouseYear</th>\n",
       "      <td>0.170046</td>\n",
       "    </tr>\n",
       "    <tr>\n",
       "      <th>Price</th>\n",
       "      <td>0.401445</td>\n",
       "    </tr>\n",
       "  </tbody>\n",
       "</table>\n",
       "</div>"
      ],
      "text/plain": [
       "           LifeSquare\n",
       "Rooms        0.568671\n",
       "Square       0.241954\n",
       "HouseYear    0.170046\n",
       "Price        0.401445"
      ]
     },
     "execution_count": 823,
     "metadata": {},
     "output_type": "execute_result"
    }
   ],
   "source": [
    "def fix_lifesquare_na(adata):\n",
    "    rooms_vals = adata.loc[lambda df: df['LifeSquare'].isnull(), 'Rooms']\n",
    "    square_vals = adata.loc[lambda df: df['LifeSquare'].isnull(), 'Square']\n",
    "    adata.loc[lambda df: df['LifeSquare'].isnull(), 'LifeSquare'] = 8.70500632 * rooms_vals  + 0.24948347 * square_vals\n",
    "    return adata\n",
    "\n",
    "\n",
    "data = fix_lifesquare_na(data.copy())\n",
    "data.corr().loc[:, ['LifeSquare']].where(lambda df: (np.abs(df) > 0.1) & (np.abs(df) < 1)).dropna(how='all')"
   ]
  },
  {
   "cell_type": "markdown",
   "metadata": {},
   "source": [
    "## Модели RSL"
   ]
  },
  {
   "cell_type": "markdown",
   "metadata": {},
   "source": [
    "### Модель для фиксов 'Rooms'"
   ]
  },
  {
   "cell_type": "code",
   "execution_count": 791,
   "metadata": {},
   "outputs": [
    {
     "name": "stdout",
     "output_type": "stream",
     "text": [
      "r2: -0.3504489503745225\n",
      "Лучшие параметры модели: {'max_depth': 5, 'n_estimators': 100}\n",
      "0.9060 (±0.0135) for {'max_depth': 5, 'n_estimators': 100}\n",
      "0.9059 (±0.0136) for {'max_depth': 5, 'n_estimators': 250}\n",
      "0.9059 (±0.0136) for {'max_depth': 5, 'n_estimators': 500}\n",
      "0.8997 (±0.0137) for {'max_depth': 9, 'n_estimators': 100}\n",
      "0.8996 (±0.0141) for {'max_depth': 9, 'n_estimators': 250}\n",
      "0.8996 (±0.0141) for {'max_depth': 9, 'n_estimators': 500}\n",
      "0.8830 (±0.0158) for {'max_depth': 15, 'n_estimators': 100}\n",
      "0.8828 (±0.0169) for {'max_depth': 15, 'n_estimators': 250}\n",
      "0.8828 (±0.0169) for {'max_depth': 15, 'n_estimators': 500}\n",
      "0.8648 (±0.0189) for {'max_depth': 27, 'n_estimators': 100}\n",
      "0.8646 (±0.0202) for {'max_depth': 27, 'n_estimators': 250}\n",
      "0.8646 (±0.0196) for {'max_depth': 27, 'n_estimators': 500}\n"
     ]
    }
   ],
   "source": [
    "x_train, x_test, y_train, y_test = (\n",
    "    data.loc[lambda df: ideal_rsl_filter(df), ['Square']], \n",
    "    data.loc[lambda df: ~ideal_rsl_filter(df), ['Square']], \n",
    "    data.loc[lambda df: ideal_rsl_filter(df), 'Rooms'],\n",
    "    data.loc[lambda df: ~ideal_rsl_filter(df), 'Rooms']\n",
    ")\n",
    "clf_rooms = model_fit(x_train, x_test, y_train, y_test)\n",
    "show_model(clf_rooms)"
   ]
  },
  {
   "cell_type": "markdown",
   "metadata": {},
   "source": [
    "### Модель для фиксов 'Square'"
   ]
  },
  {
   "cell_type": "code",
   "execution_count": 796,
   "metadata": {},
   "outputs": [
    {
     "name": "stdout",
     "output_type": "stream",
     "text": [
      "r2: 0.01457469560317648\n",
      "Лучшие параметры модели: {'max_depth': 9, 'n_estimators': 250}\n",
      "0.9303 (±0.0027) for {'max_depth': 5, 'n_estimators': 100}\n",
      "0.9307 (±0.0027) for {'max_depth': 5, 'n_estimators': 250}\n",
      "0.9366 (±0.0020) for {'max_depth': 9, 'n_estimators': 100}\n",
      "0.9368 (±0.0018) for {'max_depth': 9, 'n_estimators': 250}\n",
      "0.9292 (±0.0032) for {'max_depth': 15, 'n_estimators': 100}\n",
      "0.9295 (±0.0030) for {'max_depth': 15, 'n_estimators': 250}\n",
      "0.9267 (±0.0047) for {'max_depth': 27, 'n_estimators': 100}\n",
      "0.9271 (±0.0041) for {'max_depth': 27, 'n_estimators': 250}\n"
     ]
    }
   ],
   "source": [
    "x_train, x_test, y_train, y_test = (\n",
    "    data.loc[lambda df: ideal_rsl_filter(df), ['Rooms', 'Floor', 'HouseFloor', 'HouseYear']], \n",
    "    data.loc[lambda df: ~ideal_rsl_filter(df), ['Rooms', 'Floor', 'HouseFloor', 'HouseYear']], \n",
    "    data.loc[lambda df: ideal_rsl_filter(df), 'Square'], \n",
    "    data.loc[lambda df: ~ideal_rsl_filter(df), 'Square']\n",
    ")\n",
    "clf_square = model_fit(x_train, x_test, y_train, y_test)\n",
    "show_model(clf_square)"
   ]
  },
  {
   "cell_type": "code",
   "execution_count": 357,
   "metadata": {},
   "outputs": [],
   "source": [
    "def fix_square(adata, rsl_filter, model_square, debug=True):\n",
    "    if debug:\n",
    "        print('Корелляция Square⇔Price до фиксов', adata.corr()['Square']['Price'])\n",
    "    adata.loc[lambda df: ~rsl_filter(df), 'Square'] = model_square.predict(adata.loc[lambda d: ~rsl_filter(d), ['Rooms', 'LifeSquare']])\n",
    "    if debug:\n",
    "        print('Корелляция Square⇔Price после фиксов', adata.corr()['Square']['Price'])\n",
    "    return adata"
   ]
  },
  {
   "cell_type": "code",
   "execution_count": 358,
   "metadata": {},
   "outputs": [],
   "source": [
    "def fix_rooms(adata, rsl_filter, model_rooms, debug=True):\n",
    "    if debug:\n",
    "        print('Корелляция Rooms⇔Price до фиксов', adata.corr()['Rooms']['Price'])\n",
    "    adata.loc[lambda df: ~rsl_filter(df), 'Rooms'] = model_rooms.predict(adata.loc[lambda df: ~rsl_filter(df), ['Square', 'LifeSquare']])\n",
    "    if debug:\n",
    "        print('Корелляция Rooms⇔Price после фиксов', adata.corr()['Rooms']['Price'])\n",
    "    return adata"
   ]
  },
  {
   "cell_type": "code",
   "execution_count": 362,
   "metadata": {},
   "outputs": [
    {
     "name": "stdout",
     "output_type": "stream",
     "text": [
      "Корелляция LifeSquare⇔Price до фиксов 0.36356966846690975\n",
      "Корелляция LifeSquare⇔Price после фиксов 0.5988531384962051\n",
      "Корелляция Rooms⇔Price до фиксов 0.5502907269258719\n",
      "Корелляция Rooms⇔Price после фиксов 0.5856898800295063\n",
      "Корелляция Square⇔Price до фиксов 0.14249926312014716\n",
      "Корелляция Square⇔Price после фиксов 0.5882434338142329\n"
     ]
    },
    {
     "data": {
      "text/html": [
       "<div>\n",
       "<style scoped>\n",
       "    .dataframe tbody tr th:only-of-type {\n",
       "        vertical-align: middle;\n",
       "    }\n",
       "\n",
       "    .dataframe tbody tr th {\n",
       "        vertical-align: top;\n",
       "    }\n",
       "\n",
       "    .dataframe thead th {\n",
       "        text-align: right;\n",
       "    }\n",
       "</style>\n",
       "<table border=\"1\" class=\"dataframe\">\n",
       "  <thead>\n",
       "    <tr style=\"text-align: right;\">\n",
       "      <th></th>\n",
       "      <th>Rooms</th>\n",
       "      <th>Square</th>\n",
       "      <th>LifeSquare</th>\n",
       "      <th>Price</th>\n",
       "    </tr>\n",
       "  </thead>\n",
       "  <tbody>\n",
       "    <tr>\n",
       "      <th>Rooms</th>\n",
       "      <td>1.000000</td>\n",
       "      <td>0.930319</td>\n",
       "      <td>0.968063</td>\n",
       "      <td>0.585690</td>\n",
       "    </tr>\n",
       "    <tr>\n",
       "      <th>Square</th>\n",
       "      <td>0.930319</td>\n",
       "      <td>1.000000</td>\n",
       "      <td>0.960420</td>\n",
       "      <td>0.588243</td>\n",
       "    </tr>\n",
       "    <tr>\n",
       "      <th>LifeSquare</th>\n",
       "      <td>0.968063</td>\n",
       "      <td>0.960420</td>\n",
       "      <td>1.000000</td>\n",
       "      <td>0.598853</td>\n",
       "    </tr>\n",
       "    <tr>\n",
       "      <th>Price</th>\n",
       "      <td>0.585690</td>\n",
       "      <td>0.588243</td>\n",
       "      <td>0.598853</td>\n",
       "      <td>1.000000</td>\n",
       "    </tr>\n",
       "  </tbody>\n",
       "</table>\n",
       "</div>"
      ],
      "text/plain": [
       "               Rooms    Square  LifeSquare     Price\n",
       "Rooms       1.000000  0.930319    0.968063  0.585690\n",
       "Square      0.930319  1.000000    0.960420  0.588243\n",
       "LifeSquare  0.968063  0.960420    1.000000  0.598853\n",
       "Price       0.585690  0.588243    0.598853  1.000000"
      ]
     },
     "execution_count": 362,
     "metadata": {},
     "output_type": "execute_result"
    }
   ],
   "source": [
    "data = fix_lifesquare(data, ideal_rsl_filter, clf_lifesquare)\n",
    "data = fix_rooms(data, ideal_rsl_filter, clf_rooms)\n",
    "data = fix_square(data, ideal_rsl_filter, clf_square)\n",
    "data.loc[:, ['Rooms', 'Square', 'LifeSquare', 'Price']].corr()"
   ]
  },
  {
   "cell_type": "markdown",
   "metadata": {},
   "source": [
    "# Собираем итоговый датафрейм"
   ]
  },
  {
   "cell_type": "code",
   "execution_count": 961,
   "metadata": {},
   "outputs": [
    {
     "name": "stdout",
     "output_type": "stream",
     "text": [
      "Before LifeSquare⇔Square swap:  482\n",
      "After LifeSquare⇔Square swap:  0\n",
      "Before Floor⇔HouseFloor swap:  1556\n",
      "After Floor⇔HouseFloor swap:  0\n"
     ]
    }
   ],
   "source": [
    "def preprocessData(df,\n",
    "                   houseyear_median, housefloor_basedon_year, housefloor_median, healthcare_model\n",
    "#                    ,filter_rsl,         model_rooms, model_square, model_lifesquare,\n",
    "                  ):\n",
    "    df = one_hot_encoder(df)  # 'Ecology_2', 'Ecology_3', 'Shops_2'\n",
    "    df = swap_lifesquare_with_square(df.copy())  # подготавливаем 'LifeSquare', 'Square'\n",
    "    df = swap_floor_with_housefloor(df.copy())  # подготавливаем 'Floor', 'HouseFloor'\n",
    "    df = fix_houseyear(df.copy(), houseyear_median)  # исправляем HouseYear\n",
    "    df = fix_housefloor(df.copy(), housefloor_basedon_year, housefloor_median)  # исправляем HouseFloor\n",
    "    df = fix_healthcare1(df.copy(), healthcare_model)  # исправляем Healthcare_1\n",
    "    df = fix_rooms(df.copy())  # исправляем Rooms\n",
    "    df = fix_lifesquare_na(df.copy())  # заполняем пустые значения LifeSquare\n",
    "#     df = fix_lifesquare(df.copy(), filter_rsl, model_lifesquare)  # исправляем LifeSquare\n",
    "#     df = fix_square(df.copy(), filter_rsl, model_square)  # исправляем Square\n",
    "    return df\n",
    "\n",
    "data_final = preprocessData(pd.read_csv('train.csv'),\n",
    "                            hy_median, hf_basedon_year, hf_median, clf_healthcare\n",
    "#                             ,ideal_rsl_filter, clf_rooms, clf_square, clf_lifesquare\n",
    "                           )"
   ]
  },
  {
   "cell_type": "markdown",
   "metadata": {},
   "source": [
    "# Масштабируем признаки"
   ]
  },
  {
   "cell_type": "code",
   "execution_count": 962,
   "metadata": {},
   "outputs": [
    {
     "name": "stdout",
     "output_type": "stream",
     "text": [
      "total features: 18\n"
     ]
    },
    {
     "data": {
      "text/html": [
       "<div>\n",
       "<style scoped>\n",
       "    .dataframe tbody tr th:only-of-type {\n",
       "        vertical-align: middle;\n",
       "    }\n",
       "\n",
       "    .dataframe tbody tr th {\n",
       "        vertical-align: top;\n",
       "    }\n",
       "\n",
       "    .dataframe thead th {\n",
       "        text-align: right;\n",
       "    }\n",
       "</style>\n",
       "<table border=\"1\" class=\"dataframe\">\n",
       "  <thead>\n",
       "    <tr style=\"text-align: right;\">\n",
       "      <th></th>\n",
       "      <th>DistrictId</th>\n",
       "      <th>Rooms</th>\n",
       "      <th>Square</th>\n",
       "      <th>LifeSquare</th>\n",
       "      <th>KitchenSquare</th>\n",
       "      <th>Floor</th>\n",
       "      <th>HouseFloor</th>\n",
       "      <th>HouseYear</th>\n",
       "      <th>Ecology_1</th>\n",
       "      <th>Social_1</th>\n",
       "      <th>Social_2</th>\n",
       "      <th>Social_3</th>\n",
       "      <th>Healthcare_1</th>\n",
       "      <th>Helthcare_2</th>\n",
       "      <th>Shops_1</th>\n",
       "      <th>Ecology_2</th>\n",
       "      <th>Ecology_3</th>\n",
       "      <th>Shops_2</th>\n",
       "    </tr>\n",
       "  </thead>\n",
       "  <tbody>\n",
       "    <tr>\n",
       "      <th>0</th>\n",
       "      <td>-0.353348</td>\n",
       "      <td>-0.012591</td>\n",
       "      <td>-0.119551</td>\n",
       "      <td>-0.335775</td>\n",
       "      <td>-0.009569</td>\n",
       "      <td>-0.180418</td>\n",
       "      <td>-0.797961</td>\n",
       "      <td>-0.861739</td>\n",
       "      <td>-0.250529</td>\n",
       "      <td>0.474169</td>\n",
       "      <td>0.654880</td>\n",
       "      <td>-0.127533</td>\n",
       "      <td>-0.653717</td>\n",
       "      <td>-0.883480</td>\n",
       "      <td>1.408356</td>\n",
       "      <td>0.09897</td>\n",
       "      <td>0.16816</td>\n",
       "      <td>0.299864</td>\n",
       "    </tr>\n",
       "    <tr>\n",
       "      <th>1</th>\n",
       "      <td>-0.215687</td>\n",
       "      <td>1.011047</td>\n",
       "      <td>0.109438</td>\n",
       "      <td>0.241253</td>\n",
       "      <td>0.060460</td>\n",
       "      <td>-0.180418</td>\n",
       "      <td>-0.797961</td>\n",
       "      <td>-0.372849</td>\n",
       "      <td>-0.998053</td>\n",
       "      <td>1.215681</td>\n",
       "      <td>1.237169</td>\n",
       "      <td>-0.295384</td>\n",
       "      <td>-0.895595</td>\n",
       "      <td>-0.213923</td>\n",
       "      <td>2.448700</td>\n",
       "      <td>0.09897</td>\n",
       "      <td>0.16816</td>\n",
       "      <td>0.299864</td>\n",
       "    </tr>\n",
       "    <tr>\n",
       "      <th>2</th>\n",
       "      <td>0.059635</td>\n",
       "      <td>-1.036229</td>\n",
       "      <td>-0.158792</td>\n",
       "      <td>-0.349111</td>\n",
       "      <td>-0.219657</td>\n",
       "      <td>0.010865</td>\n",
       "      <td>-0.280230</td>\n",
       "      <td>-0.916060</td>\n",
       "      <td>-0.581588</td>\n",
       "      <td>0.531208</td>\n",
       "      <td>0.600720</td>\n",
       "      <td>-0.337347</td>\n",
       "      <td>-0.908365</td>\n",
       "      <td>-0.213923</td>\n",
       "      <td>-0.256195</td>\n",
       "      <td>0.09897</td>\n",
       "      <td>0.16816</td>\n",
       "      <td>0.299864</td>\n",
       "    </tr>\n",
       "  </tbody>\n",
       "</table>\n",
       "</div>"
      ],
      "text/plain": [
       "   DistrictId     Rooms    Square  LifeSquare  KitchenSquare     Floor  \\\n",
       "0   -0.353348 -0.012591 -0.119551   -0.335775      -0.009569 -0.180418   \n",
       "1   -0.215687  1.011047  0.109438    0.241253       0.060460 -0.180418   \n",
       "2    0.059635 -1.036229 -0.158792   -0.349111      -0.219657  0.010865   \n",
       "\n",
       "   HouseFloor  HouseYear  Ecology_1  Social_1  Social_2  Social_3  \\\n",
       "0   -0.797961  -0.861739  -0.250529  0.474169  0.654880 -0.127533   \n",
       "1   -0.797961  -0.372849  -0.998053  1.215681  1.237169 -0.295384   \n",
       "2   -0.280230  -0.916060  -0.581588  0.531208  0.600720 -0.337347   \n",
       "\n",
       "   Healthcare_1  Helthcare_2   Shops_1  Ecology_2  Ecology_3   Shops_2  \n",
       "0     -0.653717    -0.883480  1.408356    0.09897    0.16816  0.299864  \n",
       "1     -0.895595    -0.213923  2.448700    0.09897    0.16816  0.299864  \n",
       "2     -0.908365    -0.213923 -0.256195    0.09897    0.16816  0.299864  "
      ]
     },
     "execution_count": 962,
     "metadata": {},
     "output_type": "execute_result"
    }
   ],
   "source": [
    "from sklearn.preprocessing import StandardScaler\n",
    "train_columns = data_final.columns.copy().drop(['Id', 'Price'])\n",
    "print('total features:', len(train_columns))\n",
    "df_train = data_final.loc[:, train_columns]\n",
    "df_test = data_final.loc[:, data_final.columns == 'Price']\n",
    "\n",
    "scaler = StandardScaler()\n",
    "df_train_scaled = scaler.fit_transform(df_train)\n",
    "df_train_scaled = pd.DataFrame(df_train_scaled, columns=train_columns)\n",
    "df_train_scaled.head(3)"
   ]
  },
  {
   "cell_type": "markdown",
   "metadata": {},
   "source": [
    "# Предсказание\n",
    "Наблюдаем за изменением главной метрики"
   ]
  },
  {
   "cell_type": "code",
   "execution_count": 963,
   "metadata": {},
   "outputs": [],
   "source": [
    "from sklearn.model_selection import train_test_split\n",
    "from sklearn.metrics import r2_score\n",
    "x_train, x_test, y_train, y_test = train_test_split(\n",
    "    df_train_scaled, \n",
    "    df_test, \n",
    "    test_size=0.25, \n",
    "    random_state=42\n",
    ")"
   ]
  },
  {
   "cell_type": "markdown",
   "metadata": {},
   "source": [
    "## LinearRegression"
   ]
  },
  {
   "cell_type": "code",
   "execution_count": 964,
   "metadata": {},
   "outputs": [
    {
     "name": "stdout",
     "output_type": "stream",
     "text": [
      "Начальное значение: 0.4520388943512419\n"
     ]
    },
    {
     "data": {
      "text/plain": [
       "0.4861734790782791"
      ]
     },
     "execution_count": 964,
     "metadata": {},
     "output_type": "execute_result"
    }
   ],
   "source": [
    "from sklearn.linear_model import LinearRegression\n",
    "lr = LinearRegression()\n",
    "lr.fit(x_train, y_train)\n",
    "y_pred = lr.predict(x_test)\n",
    "print('Начальное значение:', 0.4520388943512419)\n",
    "r2_score(y_test, y_pred)"
   ]
  },
  {
   "cell_type": "markdown",
   "metadata": {},
   "source": [
    "## DecisionTreeRegressor"
   ]
  },
  {
   "cell_type": "code",
   "execution_count": 965,
   "metadata": {},
   "outputs": [
    {
     "name": "stdout",
     "output_type": "stream",
     "text": [
      "Начальное значение: 0.624564658797478\n"
     ]
    },
    {
     "data": {
      "text/plain": [
       "0.6314322895459333"
      ]
     },
     "execution_count": 965,
     "metadata": {},
     "output_type": "execute_result"
    }
   ],
   "source": [
    "from sklearn.tree import DecisionTreeRegressor\n",
    "dtr = DecisionTreeRegressor(random_state=42, max_depth=9)\n",
    "dtr.fit(x_train, y_train)\n",
    "y_pred = dtr.predict(x_test)\n",
    "print('Начальное значение:', 0.624564658797478)\n",
    "r2_score(y_test, y_pred)"
   ]
  },
  {
   "cell_type": "markdown",
   "metadata": {},
   "source": [
    "## RandomForestRegressor с обучением на фолдах"
   ]
  },
  {
   "cell_type": "code",
   "execution_count": 966,
   "metadata": {},
   "outputs": [
    {
     "name": "stdout",
     "output_type": "stream",
     "text": [
      "0.7123 (±0.0365) for {'max_depth': 17, 'max_features': 9, 'n_estimators': 10}\n",
      "r2 0.6952359278623574\n"
     ]
    }
   ],
   "source": [
    "from sklearn.ensemble import RandomForestRegressor\n",
    "from sklearn.model_selection import GridSearchCV\n",
    "clf_final = GridSearchCV(\n",
    "    estimator=RandomForestRegressor(random_state=42), \n",
    "    param_grid=[{'n_estimators': [10],  \n",
    "                 'max_depth': [17],\n",
    "                 'max_features': [9]}],\n",
    "    cv=5\n",
    ")\n",
    "clf_final.fit(x_train, y_train)\n",
    "#  {'max_depth': [9, 15, 17, 19, 27], 'max_features': [9, 15, 21], 'n_estimators': 10}\n",
    "cell_index = clf_final.cv_results_['params'].index(clf_final.best_params_)\n",
    "mean = clf_final.cv_results_['mean_test_score'][cell_index]\n",
    "std = clf_final.cv_results_['std_test_score'][cell_index]\n",
    "print(\"%0.4f (±%0.4f) for %r\" % (mean, std * 2, clf_final.best_params_))\n",
    "print('r2', r2_score(y_test, clf_final.predict(x_test)))"
   ]
  },
  {
   "cell_type": "code",
   "execution_count": 967,
   "metadata": {},
   "outputs": [
    {
     "data": {
      "text/plain": [
       "Square           0.265601\n",
       "Rooms            0.131950\n",
       "Social_1         0.111565\n",
       "Social_2         0.078115\n",
       "LifeSquare       0.068908\n",
       "Social_3         0.059451\n",
       "DistrictId       0.044598\n",
       "Ecology_1        0.043374\n",
       "Healthcare_1     0.037473\n",
       "HouseYear        0.034302\n",
       "KitchenSquare    0.030556\n",
       "HouseFloor       0.028479\n",
       "Helthcare_2      0.022838\n",
       "Floor            0.021307\n",
       "Shops_1          0.018847\n",
       "Shops_2          0.001141\n",
       "Ecology_3        0.000954\n",
       "Ecology_2        0.000541\n",
       "dtype: float64"
      ]
     },
     "execution_count": 967,
     "metadata": {},
     "output_type": "execute_result"
    }
   ],
   "source": [
    "pd.Series(clf_final.best_estimator_.feature_importances_, index=train_columns).sort_values(ascending=False)"
   ]
  },
  {
   "cell_type": "code",
   "execution_count": null,
   "metadata": {},
   "outputs": [],
   "source": []
  },
  {
   "cell_type": "code",
   "execution_count": null,
   "metadata": {},
   "outputs": [],
   "source": []
  }
 ],
 "metadata": {
  "kernelspec": {
   "display_name": "Python 3",
   "language": "python",
   "name": "python3"
  },
  "language_info": {
   "codemirror_mode": {
    "name": "ipython",
    "version": 3
   },
   "file_extension": ".py",
   "mimetype": "text/x-python",
   "name": "python",
   "nbconvert_exporter": "python",
   "pygments_lexer": "ipython3",
   "version": "3.7.3"
  }
 },
 "nbformat": 4,
 "nbformat_minor": 2
}
