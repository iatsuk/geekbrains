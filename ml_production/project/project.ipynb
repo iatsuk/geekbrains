{
 "cells": [
  {
   "cell_type": "markdown",
   "metadata": {},
   "source": [
    "# Системы машинного обучения в Production"
   ]
  },
  {
   "cell_type": "markdown",
   "metadata": {},
   "source": [
    "- - -\n",
    "## Содержание<a class=\"anchor\" id=\"toc\"></a>\n",
    "* [Содержание](#toc)\n",
    "* [Введение в проект](#intro)\n",
    "    * [Постановка задачи](#intro_task)\n",
    "    * [Описание сырых данных](#intro_description)\n",
    "    * [Подключение библиотек и скриптов](#intro_imports)\n",
    "    * [Путь к директориям и файлам](#intro_paths)\n",
    "    * [Инициализация пайплайна](#intro_pipeline)\n",
    "* [Составление тренировочного датасета](#compose)\n",
    "    * [Обзор данных](#compose_overview)\n",
    "    * [Объединение в единый датасет](#compose_join)\n",
    "    * [Приведение типов](#compose_cast)\n",
    "* [Препроцессинг](#preprocess)\n",
    "    * [Обаботка категориальных признаков](#preprocess_categories)\n",
    "    * [Обработка выбросов](#preprocess_outliers)\n",
    "    * [Обработка пропусков](#preprocess_gaps)\n",
    "* [Анализ данных](#analysis)\n",
    "    * [Анализ целевой переменной](#analysis_target)\n",
    "    * [Анализ признакового пространства](#analysis_corr)\n",
    "* [Обучение на данных](#ml)\n",
    "    * [Отбор признаков](#ml_feature_selection)\n",
    "    * [Нормализация](#ml_normalize)\n",
    "    * [Разбиение на train и test](#ml_split)\n",
    "    * [Балансировка классов](#ml_balancing)\n",
    "    * [Подбор моделей, получение бейзлана](#ml_model_selection)\n",
    "    * [Выбор наилучшей модели, настройка гиперпараметров](#ml_hyper)\n",
    "    * [Проверка качества, борьба с переобучением](#ml_overfittig)\n",
    "    * [Сохранение модели](#ml_persist)\n",
    "* [Экспорт результатов](#export)\n",
    "    * [Загрузка private выборки](#export_load)\n",
    "    * [Трансформация датасета](#export_transformation)\n",
    "    * [Предсказание результатов](#export_prediction)\n",
    "    * [Сохранение результатов](#export_predicted)\n",
    "* [Интерпретация результатов](#interpretation)"
   ]
  },
  {
   "cell_type": "markdown",
   "metadata": {},
   "source": [
    "- - -\n",
    "## Введение в проект<a class=\"anchor\" id=\"intro\"></a>"
   ]
  },
  {
   "cell_type": "markdown",
   "metadata": {},
   "source": [
    "### Постановка задачи<a class=\"anchor\" id=\"task\"></a>\n",
    "\n",
    "**Задача**\n",
    "1. Необходимо, используя сырые данные игровых логов, собрать датасет, предобработать его и обучить модель, предсказывающую уход игрока из проекта.\n",
    "2. Аналогичным с обучающей выборкой образом нужно сформировать признаковое описание игроков для тестовой выборки и сделать прогноз для игроков из тестового датасета.\n",
    "3. Проект оформить в виде *.py модулей и скриптов проекта в PyCharm, где функционал и все этапы решения задачи разнесены по модулям.\n",
    "\n",
    "**Наименование файлов с данными**\n",
    "* train/\\*.csv — файлы для обучающего датасета\n",
    "* test/\\*.csv — файлы для тестового датасета\n",
    "\n",
    "**Целевая переменная**\n",
    "**is_churned** - уход игрока из проекта\n",
    "\n",
    "**Метрика качества**\n",
    "F1-score\n",
    "\n",
    "**Требования к решению**\n",
    "* F1 > 0.4\n",
    "* Метрика оценивается по качеству прогноза для главного класса (1 - уход из игры)\n",
    "* Jupyter Notebook с кодом решения\n",
    "* CSV-файл с прогнозами (два столбца: user_id | is_churned)\n",
    "* Ход решения должен быть последовательным, сопровождаться комментариями\n",
    "\n",
    "**Сроки сдачи**\n",
    "Cдать проект нужно в течение 5 дней после окончания последнего вебинара. Оценки работ, сданных до дедлайна, будут представлены в виде рейтинга, ранжированного по заданной метрике качества. Проекты, сданные после дедлайна или сданные повторно, не попадают в рейтинг, но можно будет узнать результат."
   ]
  },
  {
   "cell_type": "markdown",
   "metadata": {},
   "source": [
    "### Описание сырых данных<a class=\"anchor\" id=\"description\"></a>\n",
    "\n",
    "**profiles** — профили\n",
    "* user_id — идентификатор игрока (во всех остальных файлах имеет тот же смысл)\n",
    "* age — возраст (получен из даты рождения, что указана в БД)\n",
    "* gender — пол (M – Male, F – Female)\n",
    "* days_between_reg_fl — дней между регистрацией и первым входом\n",
    "* days_between_fl_df — дней между первым входом и первым платежом\n",
    "* has_return_date — есть дата возврата (игрок когда-то уходил и возвращался)\n",
    "* has_phone_number — есть привязка номера телефона к аккаунту\n",
    "\n",
    "**payments** — платежи\n",
    "* log_dt — дата события (во всех остальных файлах имеет тот же смысл)\n",
    "* pay_amt — размер внесенных средств (сумма платежей за данную дату)\n",
    "* trans_amt — кол-во транзакций за данную даты\n",
    "\n",
    "**reports** — жалобы игрока на других пользователей\n",
    "* reports_amt — кол-во жалоб (на читы/оскорбления)\n",
    "\n",
    "**abusers** — сессии с нарушителями\n",
    "* sess_with_abusers_amt — кол-во сессий с теми, на кого жаловались другие игроки\n",
    "\n",
    "**logins** — входы\n",
    "* disconnect_amt — кол-во завершений игры из-за технической проблемы\n",
    "* session_amt — кол-во сессий (от входа в клиент игры до выхода)\n",
    "\n",
    "**pings** — пинг до серверов (чем меньше, тем лучше интернет соединение и игра меньше \"глючит\")\n",
    "* avg_min_ping — средний за данную дату пинг до ближайшего сервера\n",
    "\n",
    "**sessions** — информация о сессиях (матчах)\n",
    "* kd — Kills/Deaths — отношение убийств к смертям, то есть насколько успешно играл пользователь\n",
    "* win_rate — Wins/Matches — отношение кол-во матчей, закончившихся победой, к общему числу матчей, тоже мера успешности\n",
    "* leavings_rate — Leavings/Matches — отношение кол-во матчей, покинутых игроком, к общему числу матчей\n",
    "* session_player — суммарное время в матчах за данную дату (в секундах)\n",
    "\n",
    "**shop** — активность в магазине\n",
    "* silver_spent — траты серебра\n",
    "* gold_spent — траты золота"
   ]
  },
  {
   "cell_type": "markdown",
   "metadata": {},
   "source": [
    "### Подключение библиотек и скриптов<a class=\"anchor\" id=\"intro_imports\"></a>"
   ]
  },
  {
   "cell_type": "markdown",
   "metadata": {},
   "source": [
    "Напишем magic функцию, которая будет одновременно выполнять код ячейки и экспортировать его в файл, так как встроенная функция `%%writefile` такой функциональности не поддерживает"
   ]
  },
  {
   "cell_type": "code",
   "execution_count": 1,
   "metadata": {},
   "outputs": [],
   "source": [
    "from IPython.core.magic import register_cell_magic\n",
    "\n",
    "\n",
    "@register_cell_magic\n",
    "def write_and_run(line, cell):\n",
    "    argz = line.split()\n",
    "    file = argz[-1]\n",
    "    mode = 'w'\n",
    "    if len(argz) == 2 and argz[0] == '-a':\n",
    "        mode = 'a'\n",
    "    with open(file, mode) as f:\n",
    "        f.write(cell + '\\n\\n')\n",
    "    get_ipython().run_cell(cell)"
   ]
  },
  {
   "cell_type": "markdown",
   "metadata": {},
   "source": [
    "Импортируем библиотеки, которые понадобятся одновременно и в скрипте и в ноутбуке"
   ]
  },
  {
   "cell_type": "code",
   "execution_count": 2,
   "metadata": {},
   "outputs": [],
   "source": [
    "%%write_and_run main.py\n",
    "import numpy as np\n",
    "import pandas as pd\n",
    "from sklearn.decomposition import PCA\n",
    "from sklearn.preprocessing import StandardScaler, MinMaxScaler\n",
    "from sklearn.ensemble import RandomForestRegressor\n",
    "from sklearn.model_selection import KFold, GridSearchCV, RandomizedSearchCV\n",
    "from sklearn.model_selection import train_test_split, learning_curve\n",
    "from sklearn.metrics import classification_report, precision_score, recall_score, f1_score\n",
    "from sklearn.linear_model import LogisticRegression\n",
    "from sklearn.neighbors import KNeighborsClassifier\n",
    "import catboost as catb"
   ]
  },
  {
   "cell_type": "markdown",
   "metadata": {},
   "source": [
    "Импортируем библиотеки для ноутбука"
   ]
  },
  {
   "cell_type": "code",
   "execution_count": 3,
   "metadata": {},
   "outputs": [],
   "source": [
    "import seaborn as sns\n",
    "import matplotlib.pyplot as plt\n",
    "import warnings\n",
    "warnings.simplefilter('ignore')\n",
    "%config IPCompleter.greedy=True\n",
    "%config InlineBackend.figure_format = 'png'\n",
    "%matplotlib inline\n",
    "pd.options.display.max_columns = 100"
   ]
  },
  {
   "cell_type": "markdown",
   "metadata": {},
   "source": [
    "### Путь к директориям и файлам<a class=\"anchor\" id=\"intro_paths\"></a>"
   ]
  },
  {
   "cell_type": "markdown",
   "metadata": {},
   "source": [
    "Пути, которые будем использовать в ноутбуке"
   ]
  },
  {
   "cell_type": "code",
   "execution_count": 4,
   "metadata": {},
   "outputs": [],
   "source": [
    "ABUSERS_PATH = 'train/abusers.csv'\n",
    "LOGINS_PATH = 'train/logins.csv'\n",
    "NUCLEAR_PATH = 'train/nuclear.csv'\n",
    "PAYMENTS_PATH = 'train/payments.csv'\n",
    "PINGS_PATH = 'train/pings.csv'\n",
    "PROFILES_PATH = 'train/profiles.csv'\n",
    "REPORTS_PATH = 'train/reports.csv'\n",
    "SAMPLE_PATH = 'train/sample.csv'\n",
    "SESSIONS_PATH = 'train/sessions.csv'\n",
    "SHOP_PATH = 'train/shop.csv'"
   ]
  },
  {
   "cell_type": "markdown",
   "metadata": {},
   "source": [
    "Пути, которые будем использовать в скрипте"
   ]
  },
  {
   "cell_type": "code",
   "execution_count": 5,
   "metadata": {},
   "outputs": [
    {
     "name": "stdout",
     "output_type": "stream",
     "text": [
      "Appending to main.py\n"
     ]
    }
   ],
   "source": [
    "%%writefile -a main.py\n",
    "############################## PATHS ##############################\n",
    "ABUSERS_PATH = 'test/abusers.csv'\n",
    "LOGINS_PATH = 'test/logins.csv'\n",
    "NUCLEAR_PATH = 'test/nuclear.csv'\n",
    "PAYMENTS_PATH = 'test/payments.csv'\n",
    "PINGS_PATH = 'test/pings.csv'\n",
    "PROFILES_PATH = 'test/profiles.csv'\n",
    "REPORTS_PATH = 'test/reports.csv'\n",
    "SAMPLE_PATH = 'test/sample.csv'\n",
    "SESSIONS_PATH = 'test/sessions.csv'\n",
    "SHOP_PATH = 'test/shop.csv'\n",
    "\n",
    "\n"
   ]
  },
  {
   "cell_type": "markdown",
   "metadata": {},
   "source": [
    "### Инициализация пайплайна<a class=\"anchor\" id=\"intro_pipeline\"></a>"
   ]
  },
  {
   "cell_type": "markdown",
   "metadata": {},
   "source": [
    "Все функции с преобразованиями будем помечать аннотацией `@pipeline_step`, чтобы потом одним вызовом их всех применить на тренировочном датасете"
   ]
  },
  {
   "cell_type": "code",
   "execution_count": 6,
   "metadata": {},
   "outputs": [
    {
     "name": "stdout",
     "output_type": "stream",
     "text": [
      "Appending to main.py\n"
     ]
    }
   ],
   "source": [
    "%%writefile -a main.py\n",
    "############################## PIPELINE ##############################"
   ]
  },
  {
   "cell_type": "code",
   "execution_count": 7,
   "metadata": {},
   "outputs": [],
   "source": [
    "%%write_and_run -a main.py\n",
    "pipeline = []"
   ]
  },
  {
   "cell_type": "code",
   "execution_count": 8,
   "metadata": {},
   "outputs": [],
   "source": [
    "%%write_and_run -a main.py\n",
    "def pipeline_step(func):\n",
    "    def wrap(a):\n",
    "        pipeline.append(func)\n",
    "        return func(a)\n",
    "    return wrap"
   ]
  },
  {
   "cell_type": "code",
   "execution_count": 9,
   "metadata": {},
   "outputs": [],
   "source": [
    "%%write_and_run -a main.py\n",
    "def run_pipeline(df: pd.DataFrame) -> pd.DataFrame:\n",
    "    result = df.copy()\n",
    "    for step in pipeline:\n",
    "        result = step(result)\n",
    "    return result"
   ]
  },
  {
   "cell_type": "markdown",
   "metadata": {},
   "source": [
    "- - -\n",
    "## Составление тренировочного датасета<a class=\"anchor\" id=\"compose\"></a>"
   ]
  },
  {
   "cell_type": "markdown",
   "metadata": {},
   "source": [
    "### Обзор данных<a class=\"anchor\" id=\"compose_overview\"></a>"
   ]
  },
  {
   "cell_type": "code",
   "execution_count": null,
   "metadata": {},
   "outputs": [],
   "source": []
  }
 ],
 "metadata": {
  "kernelspec": {
   "display_name": "Python 3",
   "language": "python",
   "name": "python3"
  },
  "language_info": {
   "codemirror_mode": {
    "name": "ipython",
    "version": 3
   },
   "file_extension": ".py",
   "mimetype": "text/x-python",
   "name": "python",
   "nbconvert_exporter": "python",
   "pygments_lexer": "ipython3",
   "version": "3.7.6"
  }
 },
 "nbformat": 4,
 "nbformat_minor": 4
}
