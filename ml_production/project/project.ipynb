{
 "cells": [
  {
   "cell_type": "markdown",
   "metadata": {},
   "source": [
    "# Системы машинного обучения в Production"
   ]
  },
  {
   "cell_type": "markdown",
   "metadata": {},
   "source": [
    "- - -\n",
    "## Содержание<a class=\"anchor\" id=\"toc\"></a>\n",
    "* [Содержание](#toc)\n",
    "* [Введение в проект](#intro)\n",
    "    * [Постановка задачи](#intro_task)\n",
    "    * [Описание сырых данных](#intro_description)\n",
    "    * [Подключение библиотек и скриптов](#intro_imports)\n",
    "    * [Путь к директориям и файлам](#intro_paths)\n",
    "    * [Инициализация пайплайна](#intro_pipeline)\n",
    "* [Составление тренировочного датасета](#compose)\n",
    "    * [Подготовка данных](#compose_prepare)\n",
    "    * [Объединение в единый датасет](#compose_join)\n",
    "* [Препроцессинг](#preprocess)\n",
    "    * [Обаботка категориальных признаков](#preprocess_categories)\n",
    "    * [Обработка выбросов](#preprocess_outliers)\n",
    "    * [Обработка пропусков](#preprocess_gaps)\n",
    "* [Анализ данных](#analysis)\n",
    "    * [Анализ целевой переменной](#analysis_target)\n",
    "    * [Анализ признакового пространства](#analysis_corr)\n",
    "* [Обучение на данных](#ml)\n",
    "    * [Отбор признаков](#ml_feature_selection)\n",
    "    * [Нормализация](#ml_normalize)\n",
    "    * [Разбиение на train и test](#ml_split)\n",
    "    * [Балансировка классов](#ml_balancing)\n",
    "    * [Подбор моделей](#ml_model_selection)\n",
    "    * [Подбор гиперпараметров](#ml_hyper)\n",
    "    * [Проверка качества, борьба с переобучением](#ml_overfittig)\n",
    "    * [Сохранение модели](#ml_persist)\n",
    "* [Экспорт результатов](#export)\n",
    "    * [Загрузка private выборки](#export_load)\n",
    "    * [Трансформация датасета](#export_transformation)\n",
    "    * [Предсказание результатов](#export_prediction)\n",
    "    * [Сохранение результатов](#export_predicted)\n",
    "* [Интерпретация результатов](#interpretation)"
   ]
  },
  {
   "cell_type": "markdown",
   "metadata": {},
   "source": [
    "- - -\n",
    "## Введение в проект<a class=\"anchor\" id=\"intro\"></a>"
   ]
  },
  {
   "cell_type": "markdown",
   "metadata": {},
   "source": [
    "### Постановка задачи<a class=\"anchor\" id=\"task\"></a>\n",
    "\n",
    "**Задача**\n",
    "1. Необходимо, используя сырые данные игровых логов, собрать датасет, предобработать его и обучить модель, предсказывающую уход игрока из проекта.\n",
    "2. Аналогичным с обучающей выборкой образом нужно сформировать признаковое описание игроков для тестовой выборки и сделать прогноз для игроков из тестового датасета.\n",
    "3. Проект оформить в виде *.py модулей и скриптов проекта в PyCharm, где функционал и все этапы решения задачи разнесены по модулям.\n",
    "\n",
    "**Наименование файлов с данными**\n",
    "* train/\\*.csv — файлы для обучающего датасета\n",
    "* test/\\*.csv — файлы для тестового датасета\n",
    "\n",
    "**Целевая переменная**\n",
    "**is_churned** - уход игрока из проекта\n",
    "\n",
    "**Метрика качества**\n",
    "F1-score\n",
    "\n",
    "**Требования к решению**\n",
    "* F1 > 0.4\n",
    "* Метрика оценивается по качеству прогноза для главного класса (1 - уход из игры)\n",
    "* Jupyter Notebook с кодом решения\n",
    "* CSV-файл с прогнозами (два столбца: user_id | is_churned)\n",
    "* Ход решения должен быть последовательным, сопровождаться комментариями\n",
    "\n",
    "**Сроки сдачи**\n",
    "Cдать проект нужно в течение 5 дней после окончания последнего вебинара. Оценки работ, сданных до дедлайна, будут представлены в виде рейтинга, ранжированного по заданной метрике качества. Проекты, сданные после дедлайна или сданные повторно, не попадают в рейтинг, но можно будет узнать результат."
   ]
  },
  {
   "cell_type": "markdown",
   "metadata": {},
   "source": [
    "### Описание сырых данных<a class=\"anchor\" id=\"description\"></a>\n",
    "\n",
    "**profiles** — профили\n",
    "* user_id — идентификатор игрока (во всех остальных файлах имеет тот же смысл)\n",
    "* age — возраст (получен из даты рождения, что указана в БД)\n",
    "* gender — пол (M – Male, F – Female)\n",
    "* days_between_reg_fl — дней между регистрацией и первым входом\n",
    "* days_between_fl_df — дней между первым входом и первым платежом\n",
    "* has_return_date — есть дата возврата (игрок когда-то уходил и возвращался)\n",
    "* has_phone_number — есть привязка номера телефона к аккаунту\n",
    "\n",
    "**payments** — платежи\n",
    "* log_dt — дата события (во всех остальных файлах имеет тот же смысл)\n",
    "* pay_amt — размер внесенных средств (сумма платежей за данную дату)\n",
    "* trans_amt — кол-во транзакций за данную даты\n",
    "\n",
    "**reports** — жалобы игрока на других пользователей\n",
    "* reports_amt — кол-во жалоб (на читы/оскорбления)\n",
    "\n",
    "**abusers** — сессии с нарушителями\n",
    "* sess_with_abusers_amt — кол-во сессий с теми, на кого жаловались другие игроки\n",
    "\n",
    "**logins** — входы\n",
    "* disconnect_amt — кол-во завершений игры из-за технической проблемы\n",
    "* session_amt — кол-во сессий (от входа в клиент игры до выхода)\n",
    "\n",
    "**pings** — пинг до серверов (чем меньше, тем лучше интернет соединение и игра меньше \"глючит\")\n",
    "* avg_min_ping — средний за данную дату пинг до ближайшего сервера\n",
    "\n",
    "**sessions** — информация о сессиях (матчах)\n",
    "* kd — Kills/Deaths — отношение убийств к смертям, то есть насколько успешно играл пользователь\n",
    "* win_rate — Wins/Matches — отношение кол-во матчей, закончившихся победой, к общему числу матчей, тоже мера успешности\n",
    "* leavings_rate — Leavings/Matches — отношение кол-во матчей, покинутых игроком, к общему числу матчей\n",
    "* session_player — суммарное время в матчах за данную дату (в секундах)\n",
    "\n",
    "**shop** — активность в магазине\n",
    "* silver_spent — траты серебра\n",
    "* gold_spent — траты золота"
   ]
  },
  {
   "cell_type": "markdown",
   "metadata": {},
   "source": [
    "### Подключение библиотек и скриптов<a class=\"anchor\" id=\"intro_imports\"></a>"
   ]
  },
  {
   "cell_type": "markdown",
   "metadata": {},
   "source": [
    "Напишем magic функцию, которая будет одновременно выполнять код ячейки и экспортировать его в файл, так как встроенная функция `%%writefile` такой функциональности не поддерживает"
   ]
  },
  {
   "cell_type": "code",
   "execution_count": 1,
   "metadata": {},
   "outputs": [],
   "source": [
    "from IPython.core.magic import register_cell_magic\n",
    "\n",
    "\n",
    "@register_cell_magic\n",
    "def write_and_run(line, cell):\n",
    "    argz = line.split()\n",
    "    file = argz[-1]\n",
    "    mode = 'w'\n",
    "    if len(argz) == 2 and argz[0] == '-a':\n",
    "        mode = 'a'\n",
    "    with open(file, mode) as f:\n",
    "        f.write(cell + '\\n\\n')\n",
    "    get_ipython().run_cell(cell)"
   ]
  },
  {
   "cell_type": "markdown",
   "metadata": {},
   "source": [
    "Импортируем библиотеки, которые понадобятся одновременно и в скрипте и в ноутбуке"
   ]
  },
  {
   "cell_type": "code",
   "execution_count": 2,
   "metadata": {},
   "outputs": [
    {
     "name": "stderr",
     "output_type": "stream",
     "text": [
      "/Users/a.iatsuk/anaconda3/lib/python3.7/site-packages/sklearn/externals/joblib/__init__.py:15: FutureWarning: sklearn.externals.joblib is deprecated in 0.21 and will be removed in 0.23. Please import this functionality directly from joblib, which can be installed with: pip install joblib. If this warning is raised when loading pickled models, you may need to re-serialize those models with scikit-learn 0.21+.\n",
      "  warnings.warn(msg, category=FutureWarning)\n"
     ]
    }
   ],
   "source": [
    "%%write_and_run main.py\n",
    "import numpy as np\n",
    "import pandas as pd\n",
    "from sklearn.decomposition import PCA\n",
    "from sklearn.preprocessing import StandardScaler, MinMaxScaler\n",
    "from sklearn.ensemble import RandomForestRegressor\n",
    "from sklearn.model_selection import KFold, GridSearchCV, RandomizedSearchCV\n",
    "from sklearn.model_selection import train_test_split, learning_curve\n",
    "from sklearn.metrics import classification_report, precision_score, recall_score, f1_score\n",
    "from sklearn.linear_model import LogisticRegression\n",
    "from sklearn.neighbors import KNeighborsClassifier\n",
    "from sklearn.externals.joblib import dump, load\n",
    "import catboost as catb"
   ]
  },
  {
   "cell_type": "markdown",
   "metadata": {},
   "source": [
    "Импортируем библиотеки для ноутбука"
   ]
  },
  {
   "cell_type": "code",
   "execution_count": 47,
   "metadata": {},
   "outputs": [],
   "source": [
    "import seaborn as sns\n",
    "import matplotlib.pyplot as plt\n",
    "import warnings\n",
    "warnings.simplefilter('ignore')\n",
    "%config IPCompleter.greedy=True\n",
    "%config InlineBackend.figure_format = 'png'\n",
    "%matplotlib inline\n",
    "pd.options.display.max_columns = 100\n",
    "pd.set_option('display.max_colwidth', -1)"
   ]
  },
  {
   "cell_type": "markdown",
   "metadata": {},
   "source": [
    "### Путь к директориям и файлам<a class=\"anchor\" id=\"intro_paths\"></a>"
   ]
  },
  {
   "cell_type": "markdown",
   "metadata": {},
   "source": [
    "Пути, которые будем использовать в ноутбуке"
   ]
  },
  {
   "cell_type": "code",
   "execution_count": 4,
   "metadata": {},
   "outputs": [],
   "source": [
    "ABUSERS_PATH = 'train/abusers.csv'\n",
    "LOGINS_PATH = 'train/logins.csv'\n",
    "NUCLEAR_PATH = 'train/nuclear.csv'\n",
    "PAYMENTS_PATH = 'train/payments.csv'\n",
    "PINGS_PATH = 'train/pings.csv'\n",
    "PROFILES_PATH = 'train/profiles.csv'\n",
    "REPORTS_PATH = 'train/reports.csv'\n",
    "SAMPLE_PATH = 'train/sample.csv'\n",
    "SESSIONS_PATH = 'train/sessions.csv'\n",
    "SHOP_PATH = 'train/shop.csv'"
   ]
  },
  {
   "cell_type": "markdown",
   "metadata": {},
   "source": [
    "Пути, которые будем использовать в скрипте"
   ]
  },
  {
   "cell_type": "code",
   "execution_count": 5,
   "metadata": {},
   "outputs": [
    {
     "name": "stdout",
     "output_type": "stream",
     "text": [
      "Appending to main.py\n"
     ]
    }
   ],
   "source": [
    "%%writefile -a main.py\n",
    "############################## PATHS ##############################\n",
    "ABUSERS_PATH = 'test/abusers.csv'\n",
    "LOGINS_PATH = 'test/logins.csv'\n",
    "NUCLEAR_PATH = 'test/nuclear.csv'\n",
    "PAYMENTS_PATH = 'test/payments.csv'\n",
    "PINGS_PATH = 'test/pings.csv'\n",
    "PROFILES_PATH = 'test/profiles.csv'\n",
    "REPORTS_PATH = 'test/reports.csv'\n",
    "SAMPLE_PATH = 'test/sample.csv'\n",
    "SESSIONS_PATH = 'test/sessions.csv'\n",
    "SHOP_PATH = 'test/shop.csv'\n",
    "\n",
    "\n"
   ]
  },
  {
   "cell_type": "markdown",
   "metadata": {},
   "source": [
    "### Инициализация пайплайна<a class=\"anchor\" id=\"intro_pipeline\"></a>"
   ]
  },
  {
   "cell_type": "markdown",
   "metadata": {},
   "source": [
    "Все функции с преобразованиями будем помечать аннотацией `@pipeline_step`, чтобы потом одним вызовом их всех применить на тренировочном датасете"
   ]
  },
  {
   "cell_type": "code",
   "execution_count": 6,
   "metadata": {},
   "outputs": [
    {
     "name": "stdout",
     "output_type": "stream",
     "text": [
      "Appending to main.py\n"
     ]
    }
   ],
   "source": [
    "%%writefile -a main.py\n",
    "############################## PIPELINE ##############################"
   ]
  },
  {
   "cell_type": "code",
   "execution_count": 7,
   "metadata": {},
   "outputs": [],
   "source": [
    "%%write_and_run -a main.py\n",
    "pipeline = []"
   ]
  },
  {
   "cell_type": "code",
   "execution_count": 8,
   "metadata": {},
   "outputs": [],
   "source": [
    "%%write_and_run -a main.py\n",
    "def pipeline_step(func):\n",
    "    def wrap(a):\n",
    "        pipeline.append(func)\n",
    "        return func(a)\n",
    "    return wrap"
   ]
  },
  {
   "cell_type": "code",
   "execution_count": 9,
   "metadata": {},
   "outputs": [],
   "source": [
    "%%write_and_run -a main.py\n",
    "def run_pipeline(df: pd.DataFrame) -> pd.DataFrame:\n",
    "    result = df.copy()\n",
    "    for step in pipeline:\n",
    "        result = step(result)\n",
    "    return result"
   ]
  },
  {
   "cell_type": "markdown",
   "metadata": {},
   "source": [
    "- - -\n",
    "## Составление тренировочного датасета<a class=\"anchor\" id=\"compose\"></a>"
   ]
  },
  {
   "cell_type": "markdown",
   "metadata": {},
   "source": [
    "### Подготовка данных<a class=\"anchor\" id=\"compose_prepare\"></a>"
   ]
  },
  {
   "cell_type": "code",
   "execution_count": 61,
   "metadata": {},
   "outputs": [],
   "source": [
    "%%write_and_run -a main.py\n",
    "############################## LOAD RAW ##############################\n",
    "df_abusers = pd.read_csv(ABUSERS_PATH, sep=';', na_values=['\\\\N', 'None'], encoding='utf-8')\n",
    "df_logins = pd.read_csv(LOGINS_PATH, sep=';', na_values=['\\\\N', 'None'], encoding='utf-8')\n",
    "df_nuclear = pd.read_csv(NUCLEAR_PATH, sep=';', na_values=['\\\\N', 'None'], encoding='utf-8')\n",
    "df_payments = pd.read_csv(PAYMENTS_PATH, sep=';', na_values=['\\\\N', 'None'], encoding='utf-8')\n",
    "df_pings = pd.read_csv(PINGS_PATH, sep=';', na_values=['\\\\N', 'None'], encoding='utf-8')\n",
    "df_profiles = pd.read_csv(PROFILES_PATH, sep=';', na_values=['\\\\N', 'None'], encoding='utf-8')\n",
    "df_reports = pd.read_csv(REPORTS_PATH, sep=';', na_values=['\\\\N', 'None'], encoding='utf-8')\n",
    "df_sample = pd.read_csv(SAMPLE_PATH, sep=';', na_values=['\\\\N', 'None'], encoding='utf-8')\n",
    "df_sessions = pd.read_csv(SESSIONS_PATH, sep=';', na_values=['\\\\N', 'None'], encoding='utf-8')\n",
    "df_shop = pd.read_csv(SHOP_PATH, sep=';', na_values=['\\\\N', 'None'], encoding='utf-8')"
   ]
  },
  {
   "cell_type": "code",
   "execution_count": 114,
   "metadata": {},
   "outputs": [],
   "source": [
    "%%write_and_run -a main.py\n",
    "str2xname = {\n",
    "    '2019-08-05': 'x8',\n",
    "    '2019-08-12': 'x7',\n",
    "    '2019-08-19': 'x6',\n",
    "    '2019-08-26': 'x5',\n",
    "    '2019-09-02': 'x4',\n",
    "    '2019-09-09': 'x3',\n",
    "    '2019-09-16': 'x2',\n",
    "    '2019-09-23': 'x1',\n",
    "    '2019-09-30': 'x0',\n",
    "}\n",
    "\n",
    "\n",
    "def rename_multi_index_cols(df):\n",
    "    date2str = lambda ts: str(ts).split()[0]\n",
    "    date2xname = lambda ts: str2xname[date2str(ts)]\n",
    "    col2str = lambda tup: f'{tup[0]}_{date2xname(tup[1])}'.rstrip('_')\n",
    "    df.columns = [col2str(tup) for tup in df.columns.values]\n",
    "    return df\n",
    "\n",
    "\n",
    "def rename_date_cols(df, prefix):\n",
    "    date2str = lambda ts: str(ts).split('T')[0]\n",
    "    date2xname = lambda ts: str2xname[date2str(ts)]\n",
    "    df.columns = [f'{prefix}_{date2xname(col)}' for col in df.columns.values]\n",
    "    return df"
   ]
  },
  {
   "cell_type": "code",
   "execution_count": 128,
   "metadata": {},
   "outputs": [],
   "source": [
    "%%write_and_run -a main.py\n",
    "df_to_merge = []"
   ]
  },
  {
   "cell_type": "markdown",
   "metadata": {},
   "source": [
    "**abusers**"
   ]
  },
  {
   "cell_type": "code",
   "execution_count": 190,
   "metadata": {},
   "outputs": [],
   "source": [
    "%%write_and_run -a main.py\n",
    "df_abusers_cast = df_abusers.copy()\n",
    "df_abusers_cast['log_dt'] =  pd.to_datetime(df_abusers_cast['log_dt'], format='%Y-%m-%d')\n",
    "\n",
    "df_abusers_agg = df_abusers_cast \\\n",
    "    .groupby(['user_id', pd.Grouper(key='log_dt', freq='W-MON')]) \\\n",
    "    .sum() \\\n",
    "    .reset_index() \\\n",
    "    .pivot(index='user_id', columns='log_dt', values='sess_with_abusers_amt') \\\n",
    "    .fillna(0)\n",
    "df_abusers_agg = rename_date_cols(df_abusers_agg, 'sess_with_abusers_amt')\n",
    "\n",
    "df_to_merge.append(df_abusers_agg)"
   ]
  },
  {
   "cell_type": "code",
   "execution_count": 191,
   "metadata": {},
   "outputs": [
    {
     "data": {
      "text/html": [
       "<div>\n",
       "<style scoped>\n",
       "    .dataframe tbody tr th:only-of-type {\n",
       "        vertical-align: middle;\n",
       "    }\n",
       "\n",
       "    .dataframe tbody tr th {\n",
       "        vertical-align: top;\n",
       "    }\n",
       "\n",
       "    .dataframe thead th {\n",
       "        text-align: right;\n",
       "    }\n",
       "</style>\n",
       "<table border=\"1\" class=\"dataframe\">\n",
       "  <thead>\n",
       "    <tr style=\"text-align: right;\">\n",
       "      <th></th>\n",
       "      <th>sess_with_abusers_amt_x8</th>\n",
       "      <th>sess_with_abusers_amt_x7</th>\n",
       "      <th>sess_with_abusers_amt_x6</th>\n",
       "      <th>sess_with_abusers_amt_x5</th>\n",
       "      <th>sess_with_abusers_amt_x4</th>\n",
       "      <th>sess_with_abusers_amt_x3</th>\n",
       "      <th>sess_with_abusers_amt_x2</th>\n",
       "      <th>sess_with_abusers_amt_x1</th>\n",
       "      <th>sess_with_abusers_amt_x0</th>\n",
       "    </tr>\n",
       "    <tr>\n",
       "      <th>user_id</th>\n",
       "      <th></th>\n",
       "      <th></th>\n",
       "      <th></th>\n",
       "      <th></th>\n",
       "      <th></th>\n",
       "      <th></th>\n",
       "      <th></th>\n",
       "      <th></th>\n",
       "      <th></th>\n",
       "    </tr>\n",
       "  </thead>\n",
       "  <tbody>\n",
       "    <tr>\n",
       "      <th>00002b09f70d42fb0eb23342fcdfe2130285619b70d0e8aeea4e3d6d3eebe0aa</th>\n",
       "      <td>2.0</td>\n",
       "      <td>38.0</td>\n",
       "      <td>21.0</td>\n",
       "      <td>9.0</td>\n",
       "      <td>15.0</td>\n",
       "      <td>27.0</td>\n",
       "      <td>19.0</td>\n",
       "      <td>25.0</td>\n",
       "      <td>16.0</td>\n",
       "    </tr>\n",
       "    <tr>\n",
       "      <th>00005d03d47130a93ec8694fc06e003ac41bf25a8acc0e790e703958c8117ce6</th>\n",
       "      <td>20.0</td>\n",
       "      <td>22.0</td>\n",
       "      <td>17.0</td>\n",
       "      <td>15.0</td>\n",
       "      <td>22.0</td>\n",
       "      <td>5.0</td>\n",
       "      <td>6.0</td>\n",
       "      <td>14.0</td>\n",
       "      <td>11.0</td>\n",
       "    </tr>\n",
       "    <tr>\n",
       "      <th>00005f0f4b503dcbe368d8610b2a5ba5202354a86edee41d961d362dfc4286a2</th>\n",
       "      <td>0.0</td>\n",
       "      <td>0.0</td>\n",
       "      <td>23.0</td>\n",
       "      <td>21.0</td>\n",
       "      <td>0.0</td>\n",
       "      <td>0.0</td>\n",
       "      <td>29.0</td>\n",
       "      <td>0.0</td>\n",
       "      <td>15.0</td>\n",
       "    </tr>\n",
       "  </tbody>\n",
       "</table>\n",
       "</div>"
      ],
      "text/plain": [
       "                                                                  sess_with_abusers_amt_x8  \\\n",
       "user_id                                                                                      \n",
       "00002b09f70d42fb0eb23342fcdfe2130285619b70d0e8aeea4e3d6d3eebe0aa  2.0                        \n",
       "00005d03d47130a93ec8694fc06e003ac41bf25a8acc0e790e703958c8117ce6  20.0                       \n",
       "00005f0f4b503dcbe368d8610b2a5ba5202354a86edee41d961d362dfc4286a2  0.0                        \n",
       "\n",
       "                                                                  sess_with_abusers_amt_x7  \\\n",
       "user_id                                                                                      \n",
       "00002b09f70d42fb0eb23342fcdfe2130285619b70d0e8aeea4e3d6d3eebe0aa  38.0                       \n",
       "00005d03d47130a93ec8694fc06e003ac41bf25a8acc0e790e703958c8117ce6  22.0                       \n",
       "00005f0f4b503dcbe368d8610b2a5ba5202354a86edee41d961d362dfc4286a2  0.0                        \n",
       "\n",
       "                                                                  sess_with_abusers_amt_x6  \\\n",
       "user_id                                                                                      \n",
       "00002b09f70d42fb0eb23342fcdfe2130285619b70d0e8aeea4e3d6d3eebe0aa  21.0                       \n",
       "00005d03d47130a93ec8694fc06e003ac41bf25a8acc0e790e703958c8117ce6  17.0                       \n",
       "00005f0f4b503dcbe368d8610b2a5ba5202354a86edee41d961d362dfc4286a2  23.0                       \n",
       "\n",
       "                                                                  sess_with_abusers_amt_x5  \\\n",
       "user_id                                                                                      \n",
       "00002b09f70d42fb0eb23342fcdfe2130285619b70d0e8aeea4e3d6d3eebe0aa  9.0                        \n",
       "00005d03d47130a93ec8694fc06e003ac41bf25a8acc0e790e703958c8117ce6  15.0                       \n",
       "00005f0f4b503dcbe368d8610b2a5ba5202354a86edee41d961d362dfc4286a2  21.0                       \n",
       "\n",
       "                                                                  sess_with_abusers_amt_x4  \\\n",
       "user_id                                                                                      \n",
       "00002b09f70d42fb0eb23342fcdfe2130285619b70d0e8aeea4e3d6d3eebe0aa  15.0                       \n",
       "00005d03d47130a93ec8694fc06e003ac41bf25a8acc0e790e703958c8117ce6  22.0                       \n",
       "00005f0f4b503dcbe368d8610b2a5ba5202354a86edee41d961d362dfc4286a2  0.0                        \n",
       "\n",
       "                                                                  sess_with_abusers_amt_x3  \\\n",
       "user_id                                                                                      \n",
       "00002b09f70d42fb0eb23342fcdfe2130285619b70d0e8aeea4e3d6d3eebe0aa  27.0                       \n",
       "00005d03d47130a93ec8694fc06e003ac41bf25a8acc0e790e703958c8117ce6  5.0                        \n",
       "00005f0f4b503dcbe368d8610b2a5ba5202354a86edee41d961d362dfc4286a2  0.0                        \n",
       "\n",
       "                                                                  sess_with_abusers_amt_x2  \\\n",
       "user_id                                                                                      \n",
       "00002b09f70d42fb0eb23342fcdfe2130285619b70d0e8aeea4e3d6d3eebe0aa  19.0                       \n",
       "00005d03d47130a93ec8694fc06e003ac41bf25a8acc0e790e703958c8117ce6  6.0                        \n",
       "00005f0f4b503dcbe368d8610b2a5ba5202354a86edee41d961d362dfc4286a2  29.0                       \n",
       "\n",
       "                                                                  sess_with_abusers_amt_x1  \\\n",
       "user_id                                                                                      \n",
       "00002b09f70d42fb0eb23342fcdfe2130285619b70d0e8aeea4e3d6d3eebe0aa  25.0                       \n",
       "00005d03d47130a93ec8694fc06e003ac41bf25a8acc0e790e703958c8117ce6  14.0                       \n",
       "00005f0f4b503dcbe368d8610b2a5ba5202354a86edee41d961d362dfc4286a2  0.0                        \n",
       "\n",
       "                                                                  sess_with_abusers_amt_x0  \n",
       "user_id                                                                                     \n",
       "00002b09f70d42fb0eb23342fcdfe2130285619b70d0e8aeea4e3d6d3eebe0aa  16.0                      \n",
       "00005d03d47130a93ec8694fc06e003ac41bf25a8acc0e790e703958c8117ce6  11.0                      \n",
       "00005f0f4b503dcbe368d8610b2a5ba5202354a86edee41d961d362dfc4286a2  15.0                      "
      ]
     },
     "metadata": {},
     "output_type": "display_data"
    },
    {
     "name": "stdout",
     "output_type": "stream",
     "text": [
      "<class 'pandas.core.frame.DataFrame'>\n",
      "Index: 380937 entries, 00002b09f70d42fb0eb23342fcdfe2130285619b70d0e8aeea4e3d6d3eebe0aa to ffffcdc0e8ec6761dacf730170fc93b4211cf10c828fa20cfd02b84f26cd4962\n",
      "Data columns (total 9 columns):\n",
      "sess_with_abusers_amt_x8    380937 non-null float64\n",
      "sess_with_abusers_amt_x7    380937 non-null float64\n",
      "sess_with_abusers_amt_x6    380937 non-null float64\n",
      "sess_with_abusers_amt_x5    380937 non-null float64\n",
      "sess_with_abusers_amt_x4    380937 non-null float64\n",
      "sess_with_abusers_amt_x3    380937 non-null float64\n",
      "sess_with_abusers_amt_x2    380937 non-null float64\n",
      "sess_with_abusers_amt_x1    380937 non-null float64\n",
      "sess_with_abusers_amt_x0    380937 non-null float64\n",
      "dtypes: float64(9)\n",
      "memory usage: 29.1+ MB\n"
     ]
    },
    {
     "data": {
      "text/plain": [
       "None"
      ]
     },
     "metadata": {},
     "output_type": "display_data"
    }
   ],
   "source": [
    "display(df_abusers_agg.head(3))\n",
    "display(df_abusers_agg.info(null_counts=True))"
   ]
  },
  {
   "cell_type": "markdown",
   "metadata": {},
   "source": [
    "**logins**"
   ]
  },
  {
   "cell_type": "code",
   "execution_count": 188,
   "metadata": {},
   "outputs": [],
   "source": [
    "%%write_and_run -a main.py\n",
    "df_logins_cast = df_logins.copy()\n",
    "df_logins_cast['log_dt'] =  pd.to_datetime(df_logins_cast['log_dt'], format='%Y-%m-%d')\n",
    "\n",
    "df_logins_agg = df_logins_cast \\\n",
    "    .groupby(['user_id', pd.Grouper(key='log_dt', freq='W-MON')]) \\\n",
    "    .sum() \\\n",
    "    .reset_index() \\\n",
    "    .pivot(index='user_id', columns='log_dt', values=['disconnect_amt', 'session_amt']) \\\n",
    "    .fillna(0)\n",
    "df_logins_agg = rename_multi_index_cols(df_logins_agg)\n",
    "\n",
    "df_to_merge.append(df_logins_agg)"
   ]
  },
  {
   "cell_type": "code",
   "execution_count": 189,
   "metadata": {},
   "outputs": [
    {
     "data": {
      "text/html": [
       "<div>\n",
       "<style scoped>\n",
       "    .dataframe tbody tr th:only-of-type {\n",
       "        vertical-align: middle;\n",
       "    }\n",
       "\n",
       "    .dataframe tbody tr th {\n",
       "        vertical-align: top;\n",
       "    }\n",
       "\n",
       "    .dataframe thead th {\n",
       "        text-align: right;\n",
       "    }\n",
       "</style>\n",
       "<table border=\"1\" class=\"dataframe\">\n",
       "  <thead>\n",
       "    <tr style=\"text-align: right;\">\n",
       "      <th></th>\n",
       "      <th>disconnect_amt_x8</th>\n",
       "      <th>disconnect_amt_x7</th>\n",
       "      <th>disconnect_amt_x6</th>\n",
       "      <th>disconnect_amt_x5</th>\n",
       "      <th>disconnect_amt_x4</th>\n",
       "      <th>disconnect_amt_x3</th>\n",
       "      <th>disconnect_amt_x2</th>\n",
       "      <th>disconnect_amt_x1</th>\n",
       "      <th>disconnect_amt_x0</th>\n",
       "      <th>session_amt_x8</th>\n",
       "      <th>session_amt_x7</th>\n",
       "      <th>session_amt_x6</th>\n",
       "      <th>session_amt_x5</th>\n",
       "      <th>session_amt_x4</th>\n",
       "      <th>session_amt_x3</th>\n",
       "      <th>session_amt_x2</th>\n",
       "      <th>session_amt_x1</th>\n",
       "      <th>session_amt_x0</th>\n",
       "    </tr>\n",
       "    <tr>\n",
       "      <th>user_id</th>\n",
       "      <th></th>\n",
       "      <th></th>\n",
       "      <th></th>\n",
       "      <th></th>\n",
       "      <th></th>\n",
       "      <th></th>\n",
       "      <th></th>\n",
       "      <th></th>\n",
       "      <th></th>\n",
       "      <th></th>\n",
       "      <th></th>\n",
       "      <th></th>\n",
       "      <th></th>\n",
       "      <th></th>\n",
       "      <th></th>\n",
       "      <th></th>\n",
       "      <th></th>\n",
       "      <th></th>\n",
       "    </tr>\n",
       "  </thead>\n",
       "  <tbody>\n",
       "    <tr>\n",
       "      <th>00002b09f70d42fb0eb23342fcdfe2130285619b70d0e8aeea4e3d6d3eebe0aa</th>\n",
       "      <td>0.0</td>\n",
       "      <td>3.0</td>\n",
       "      <td>2.0</td>\n",
       "      <td>1.0</td>\n",
       "      <td>4.0</td>\n",
       "      <td>3.0</td>\n",
       "      <td>3.0</td>\n",
       "      <td>4.0</td>\n",
       "      <td>3.0</td>\n",
       "      <td>3.0</td>\n",
       "      <td>6.0</td>\n",
       "      <td>7.0</td>\n",
       "      <td>4.0</td>\n",
       "      <td>2.0</td>\n",
       "      <td>3.0</td>\n",
       "      <td>4.0</td>\n",
       "      <td>7.0</td>\n",
       "      <td>4.0</td>\n",
       "    </tr>\n",
       "    <tr>\n",
       "      <th>00005d03d47130a93ec8694fc06e003ac41bf25a8acc0e790e703958c8117ce6</th>\n",
       "      <td>3.0</td>\n",
       "      <td>3.0</td>\n",
       "      <td>0.0</td>\n",
       "      <td>1.0</td>\n",
       "      <td>5.0</td>\n",
       "      <td>1.0</td>\n",
       "      <td>1.0</td>\n",
       "      <td>4.0</td>\n",
       "      <td>2.0</td>\n",
       "      <td>10.0</td>\n",
       "      <td>11.0</td>\n",
       "      <td>6.0</td>\n",
       "      <td>9.0</td>\n",
       "      <td>8.0</td>\n",
       "      <td>5.0</td>\n",
       "      <td>5.0</td>\n",
       "      <td>17.0</td>\n",
       "      <td>15.0</td>\n",
       "    </tr>\n",
       "    <tr>\n",
       "      <th>00005f0f4b503dcbe368d8610b2a5ba5202354a86edee41d961d362dfc4286a2</th>\n",
       "      <td>0.0</td>\n",
       "      <td>0.0</td>\n",
       "      <td>4.0</td>\n",
       "      <td>1.0</td>\n",
       "      <td>0.0</td>\n",
       "      <td>0.0</td>\n",
       "      <td>1.0</td>\n",
       "      <td>0.0</td>\n",
       "      <td>0.0</td>\n",
       "      <td>0.0</td>\n",
       "      <td>0.0</td>\n",
       "      <td>6.0</td>\n",
       "      <td>8.0</td>\n",
       "      <td>0.0</td>\n",
       "      <td>1.0</td>\n",
       "      <td>19.0</td>\n",
       "      <td>1.0</td>\n",
       "      <td>5.0</td>\n",
       "    </tr>\n",
       "  </tbody>\n",
       "</table>\n",
       "</div>"
      ],
      "text/plain": [
       "                                                                  disconnect_amt_x8  \\\n",
       "user_id                                                                               \n",
       "00002b09f70d42fb0eb23342fcdfe2130285619b70d0e8aeea4e3d6d3eebe0aa  0.0                 \n",
       "00005d03d47130a93ec8694fc06e003ac41bf25a8acc0e790e703958c8117ce6  3.0                 \n",
       "00005f0f4b503dcbe368d8610b2a5ba5202354a86edee41d961d362dfc4286a2  0.0                 \n",
       "\n",
       "                                                                  disconnect_amt_x7  \\\n",
       "user_id                                                                               \n",
       "00002b09f70d42fb0eb23342fcdfe2130285619b70d0e8aeea4e3d6d3eebe0aa  3.0                 \n",
       "00005d03d47130a93ec8694fc06e003ac41bf25a8acc0e790e703958c8117ce6  3.0                 \n",
       "00005f0f4b503dcbe368d8610b2a5ba5202354a86edee41d961d362dfc4286a2  0.0                 \n",
       "\n",
       "                                                                  disconnect_amt_x6  \\\n",
       "user_id                                                                               \n",
       "00002b09f70d42fb0eb23342fcdfe2130285619b70d0e8aeea4e3d6d3eebe0aa  2.0                 \n",
       "00005d03d47130a93ec8694fc06e003ac41bf25a8acc0e790e703958c8117ce6  0.0                 \n",
       "00005f0f4b503dcbe368d8610b2a5ba5202354a86edee41d961d362dfc4286a2  4.0                 \n",
       "\n",
       "                                                                  disconnect_amt_x5  \\\n",
       "user_id                                                                               \n",
       "00002b09f70d42fb0eb23342fcdfe2130285619b70d0e8aeea4e3d6d3eebe0aa  1.0                 \n",
       "00005d03d47130a93ec8694fc06e003ac41bf25a8acc0e790e703958c8117ce6  1.0                 \n",
       "00005f0f4b503dcbe368d8610b2a5ba5202354a86edee41d961d362dfc4286a2  1.0                 \n",
       "\n",
       "                                                                  disconnect_amt_x4  \\\n",
       "user_id                                                                               \n",
       "00002b09f70d42fb0eb23342fcdfe2130285619b70d0e8aeea4e3d6d3eebe0aa  4.0                 \n",
       "00005d03d47130a93ec8694fc06e003ac41bf25a8acc0e790e703958c8117ce6  5.0                 \n",
       "00005f0f4b503dcbe368d8610b2a5ba5202354a86edee41d961d362dfc4286a2  0.0                 \n",
       "\n",
       "                                                                  disconnect_amt_x3  \\\n",
       "user_id                                                                               \n",
       "00002b09f70d42fb0eb23342fcdfe2130285619b70d0e8aeea4e3d6d3eebe0aa  3.0                 \n",
       "00005d03d47130a93ec8694fc06e003ac41bf25a8acc0e790e703958c8117ce6  1.0                 \n",
       "00005f0f4b503dcbe368d8610b2a5ba5202354a86edee41d961d362dfc4286a2  0.0                 \n",
       "\n",
       "                                                                  disconnect_amt_x2  \\\n",
       "user_id                                                                               \n",
       "00002b09f70d42fb0eb23342fcdfe2130285619b70d0e8aeea4e3d6d3eebe0aa  3.0                 \n",
       "00005d03d47130a93ec8694fc06e003ac41bf25a8acc0e790e703958c8117ce6  1.0                 \n",
       "00005f0f4b503dcbe368d8610b2a5ba5202354a86edee41d961d362dfc4286a2  1.0                 \n",
       "\n",
       "                                                                  disconnect_amt_x1  \\\n",
       "user_id                                                                               \n",
       "00002b09f70d42fb0eb23342fcdfe2130285619b70d0e8aeea4e3d6d3eebe0aa  4.0                 \n",
       "00005d03d47130a93ec8694fc06e003ac41bf25a8acc0e790e703958c8117ce6  4.0                 \n",
       "00005f0f4b503dcbe368d8610b2a5ba5202354a86edee41d961d362dfc4286a2  0.0                 \n",
       "\n",
       "                                                                  disconnect_amt_x0  \\\n",
       "user_id                                                                               \n",
       "00002b09f70d42fb0eb23342fcdfe2130285619b70d0e8aeea4e3d6d3eebe0aa  3.0                 \n",
       "00005d03d47130a93ec8694fc06e003ac41bf25a8acc0e790e703958c8117ce6  2.0                 \n",
       "00005f0f4b503dcbe368d8610b2a5ba5202354a86edee41d961d362dfc4286a2  0.0                 \n",
       "\n",
       "                                                                  session_amt_x8  \\\n",
       "user_id                                                                            \n",
       "00002b09f70d42fb0eb23342fcdfe2130285619b70d0e8aeea4e3d6d3eebe0aa  3.0              \n",
       "00005d03d47130a93ec8694fc06e003ac41bf25a8acc0e790e703958c8117ce6  10.0             \n",
       "00005f0f4b503dcbe368d8610b2a5ba5202354a86edee41d961d362dfc4286a2  0.0              \n",
       "\n",
       "                                                                  session_amt_x7  \\\n",
       "user_id                                                                            \n",
       "00002b09f70d42fb0eb23342fcdfe2130285619b70d0e8aeea4e3d6d3eebe0aa  6.0              \n",
       "00005d03d47130a93ec8694fc06e003ac41bf25a8acc0e790e703958c8117ce6  11.0             \n",
       "00005f0f4b503dcbe368d8610b2a5ba5202354a86edee41d961d362dfc4286a2  0.0              \n",
       "\n",
       "                                                                  session_amt_x6  \\\n",
       "user_id                                                                            \n",
       "00002b09f70d42fb0eb23342fcdfe2130285619b70d0e8aeea4e3d6d3eebe0aa  7.0              \n",
       "00005d03d47130a93ec8694fc06e003ac41bf25a8acc0e790e703958c8117ce6  6.0              \n",
       "00005f0f4b503dcbe368d8610b2a5ba5202354a86edee41d961d362dfc4286a2  6.0              \n",
       "\n",
       "                                                                  session_amt_x5  \\\n",
       "user_id                                                                            \n",
       "00002b09f70d42fb0eb23342fcdfe2130285619b70d0e8aeea4e3d6d3eebe0aa  4.0              \n",
       "00005d03d47130a93ec8694fc06e003ac41bf25a8acc0e790e703958c8117ce6  9.0              \n",
       "00005f0f4b503dcbe368d8610b2a5ba5202354a86edee41d961d362dfc4286a2  8.0              \n",
       "\n",
       "                                                                  session_amt_x4  \\\n",
       "user_id                                                                            \n",
       "00002b09f70d42fb0eb23342fcdfe2130285619b70d0e8aeea4e3d6d3eebe0aa  2.0              \n",
       "00005d03d47130a93ec8694fc06e003ac41bf25a8acc0e790e703958c8117ce6  8.0              \n",
       "00005f0f4b503dcbe368d8610b2a5ba5202354a86edee41d961d362dfc4286a2  0.0              \n",
       "\n",
       "                                                                  session_amt_x3  \\\n",
       "user_id                                                                            \n",
       "00002b09f70d42fb0eb23342fcdfe2130285619b70d0e8aeea4e3d6d3eebe0aa  3.0              \n",
       "00005d03d47130a93ec8694fc06e003ac41bf25a8acc0e790e703958c8117ce6  5.0              \n",
       "00005f0f4b503dcbe368d8610b2a5ba5202354a86edee41d961d362dfc4286a2  1.0              \n",
       "\n",
       "                                                                  session_amt_x2  \\\n",
       "user_id                                                                            \n",
       "00002b09f70d42fb0eb23342fcdfe2130285619b70d0e8aeea4e3d6d3eebe0aa  4.0              \n",
       "00005d03d47130a93ec8694fc06e003ac41bf25a8acc0e790e703958c8117ce6  5.0              \n",
       "00005f0f4b503dcbe368d8610b2a5ba5202354a86edee41d961d362dfc4286a2  19.0             \n",
       "\n",
       "                                                                  session_amt_x1  \\\n",
       "user_id                                                                            \n",
       "00002b09f70d42fb0eb23342fcdfe2130285619b70d0e8aeea4e3d6d3eebe0aa  7.0              \n",
       "00005d03d47130a93ec8694fc06e003ac41bf25a8acc0e790e703958c8117ce6  17.0             \n",
       "00005f0f4b503dcbe368d8610b2a5ba5202354a86edee41d961d362dfc4286a2  1.0              \n",
       "\n",
       "                                                                  session_amt_x0  \n",
       "user_id                                                                           \n",
       "00002b09f70d42fb0eb23342fcdfe2130285619b70d0e8aeea4e3d6d3eebe0aa  4.0             \n",
       "00005d03d47130a93ec8694fc06e003ac41bf25a8acc0e790e703958c8117ce6  15.0            \n",
       "00005f0f4b503dcbe368d8610b2a5ba5202354a86edee41d961d362dfc4286a2  5.0             "
      ]
     },
     "metadata": {},
     "output_type": "display_data"
    },
    {
     "name": "stdout",
     "output_type": "stream",
     "text": [
      "<class 'pandas.core.frame.DataFrame'>\n",
      "Index: 403856 entries, 00002b09f70d42fb0eb23342fcdfe2130285619b70d0e8aeea4e3d6d3eebe0aa to ffffcdc0e8ec6761dacf730170fc93b4211cf10c828fa20cfd02b84f26cd4962\n",
      "Data columns (total 18 columns):\n",
      "disconnect_amt_x8    403856 non-null float64\n",
      "disconnect_amt_x7    403856 non-null float64\n",
      "disconnect_amt_x6    403856 non-null float64\n",
      "disconnect_amt_x5    403856 non-null float64\n",
      "disconnect_amt_x4    403856 non-null float64\n",
      "disconnect_amt_x3    403856 non-null float64\n",
      "disconnect_amt_x2    403856 non-null float64\n",
      "disconnect_amt_x1    403856 non-null float64\n",
      "disconnect_amt_x0    403856 non-null float64\n",
      "session_amt_x8       403856 non-null float64\n",
      "session_amt_x7       403856 non-null float64\n",
      "session_amt_x6       403856 non-null float64\n",
      "session_amt_x5       403856 non-null float64\n",
      "session_amt_x4       403856 non-null float64\n",
      "session_amt_x3       403856 non-null float64\n",
      "session_amt_x2       403856 non-null float64\n",
      "session_amt_x1       403856 non-null float64\n",
      "session_amt_x0       403856 non-null float64\n",
      "dtypes: float64(18)\n",
      "memory usage: 58.5+ MB\n"
     ]
    },
    {
     "data": {
      "text/plain": [
       "None"
      ]
     },
     "metadata": {},
     "output_type": "display_data"
    }
   ],
   "source": [
    "display(df_logins_agg.head(3))\n",
    "display(df_logins_agg.info(null_counts=True))"
   ]
  },
  {
   "cell_type": "markdown",
   "metadata": {},
   "source": [
    "**nuclear**"
   ]
  },
  {
   "cell_type": "code",
   "execution_count": 186,
   "metadata": {},
   "outputs": [],
   "source": [
    "%%write_and_run -a main.py\n",
    "def cast_nuclear(df):\n",
    "    def process(s):\n",
    "        if s == 'Core':\n",
    "            return 0\n",
    "        elif s == 'Mantle':\n",
    "            return 1\n",
    "        elif s == 'Returns':\n",
    "            return 2\n",
    "        else:\n",
    "            return 3\n",
    "\n",
    "    result = df.copy()\n",
    "    result['core_type_nm'] = df['core_type_nm'].apply(process)    \n",
    "    return result\n",
    "\n",
    "\n",
    "df_nuclear_cast = cast_nuclear(df_nuclear)\n",
    "df_nuclear_cast = df_nuclear_cast.set_index('user_id')\n",
    "\n",
    "df_to_merge.append(df_nuclear_cast)"
   ]
  },
  {
   "cell_type": "code",
   "execution_count": 187,
   "metadata": {},
   "outputs": [
    {
     "data": {
      "text/html": [
       "<div>\n",
       "<style scoped>\n",
       "    .dataframe tbody tr th:only-of-type {\n",
       "        vertical-align: middle;\n",
       "    }\n",
       "\n",
       "    .dataframe tbody tr th {\n",
       "        vertical-align: top;\n",
       "    }\n",
       "\n",
       "    .dataframe thead th {\n",
       "        text-align: right;\n",
       "    }\n",
       "</style>\n",
       "<table border=\"1\" class=\"dataframe\">\n",
       "  <thead>\n",
       "    <tr style=\"text-align: right;\">\n",
       "      <th></th>\n",
       "      <th>core_type_nm</th>\n",
       "    </tr>\n",
       "    <tr>\n",
       "      <th>user_id</th>\n",
       "      <th></th>\n",
       "    </tr>\n",
       "  </thead>\n",
       "  <tbody>\n",
       "    <tr>\n",
       "      <th>a01bf165f12cd7cc5c38a5bbed8c28060fffee64f7b1e66a6662801d3b3d9f3f</th>\n",
       "      <td>1</td>\n",
       "    </tr>\n",
       "    <tr>\n",
       "      <th>eac0a6f4b720c4b34ae41ea4f976875a5df697aedd2d224a23c6e87338ca9f62</th>\n",
       "      <td>2</td>\n",
       "    </tr>\n",
       "    <tr>\n",
       "      <th>17fc5d60c747f3fdd98f5e7a3757ce84eb87bec0c1de6129822715fe1890595f</th>\n",
       "      <td>2</td>\n",
       "    </tr>\n",
       "  </tbody>\n",
       "</table>\n",
       "</div>"
      ],
      "text/plain": [
       "                                                                  core_type_nm\n",
       "user_id                                                                       \n",
       "a01bf165f12cd7cc5c38a5bbed8c28060fffee64f7b1e66a6662801d3b3d9f3f  1           \n",
       "eac0a6f4b720c4b34ae41ea4f976875a5df697aedd2d224a23c6e87338ca9f62  2           \n",
       "17fc5d60c747f3fdd98f5e7a3757ce84eb87bec0c1de6129822715fe1890595f  2           "
      ]
     },
     "metadata": {},
     "output_type": "display_data"
    },
    {
     "name": "stdout",
     "output_type": "stream",
     "text": [
      "<class 'pandas.core.frame.DataFrame'>\n",
      "Index: 368088 entries, a01bf165f12cd7cc5c38a5bbed8c28060fffee64f7b1e66a6662801d3b3d9f3f to ff45c4ac6d5639c509babb360b1f81dba5b04e706eba782a481615ebb4963032\n",
      "Data columns (total 1 columns):\n",
      "core_type_nm    368088 non-null int64\n",
      "dtypes: int64(1)\n",
      "memory usage: 5.6+ MB\n"
     ]
    },
    {
     "data": {
      "text/plain": [
       "None"
      ]
     },
     "metadata": {},
     "output_type": "display_data"
    }
   ],
   "source": [
    "display(df_nuclear_cast.head(3))\n",
    "display(df_nuclear_cast.info(null_counts=True))"
   ]
  },
  {
   "cell_type": "markdown",
   "metadata": {},
   "source": [
    "**payments**"
   ]
  },
  {
   "cell_type": "code",
   "execution_count": 184,
   "metadata": {},
   "outputs": [],
   "source": [
    "%%write_and_run -a main.py\n",
    "df_payments_cast = df_payments.copy()\n",
    "df_payments_cast['log_dt'] =  pd.to_datetime(df_payments_cast['log_dt'], format='%Y-%m-%d')\n",
    "\n",
    "df_payments_agg = df_payments_cast \\\n",
    "    .groupby(['user_id', pd.Grouper(key='log_dt', freq='W-MON')]) \\\n",
    "    .sum() \\\n",
    "    .reset_index() \\\n",
    "    .pivot(index='user_id', columns='log_dt', values=['pay_amt', 'trans_amt']) \\\n",
    "    .fillna(0)\n",
    "df_payments_agg = rename_multi_index_cols(df_payments_agg)\n",
    "\n",
    "df_to_merge.append(df_payments_agg)"
   ]
  },
  {
   "cell_type": "code",
   "execution_count": 185,
   "metadata": {},
   "outputs": [
    {
     "data": {
      "text/html": [
       "<div>\n",
       "<style scoped>\n",
       "    .dataframe tbody tr th:only-of-type {\n",
       "        vertical-align: middle;\n",
       "    }\n",
       "\n",
       "    .dataframe tbody tr th {\n",
       "        vertical-align: top;\n",
       "    }\n",
       "\n",
       "    .dataframe thead th {\n",
       "        text-align: right;\n",
       "    }\n",
       "</style>\n",
       "<table border=\"1\" class=\"dataframe\">\n",
       "  <thead>\n",
       "    <tr style=\"text-align: right;\">\n",
       "      <th></th>\n",
       "      <th>pay_amt_x8</th>\n",
       "      <th>pay_amt_x7</th>\n",
       "      <th>pay_amt_x6</th>\n",
       "      <th>pay_amt_x5</th>\n",
       "      <th>pay_amt_x4</th>\n",
       "      <th>pay_amt_x3</th>\n",
       "      <th>pay_amt_x2</th>\n",
       "      <th>pay_amt_x1</th>\n",
       "      <th>pay_amt_x0</th>\n",
       "      <th>trans_amt_x8</th>\n",
       "      <th>trans_amt_x7</th>\n",
       "      <th>trans_amt_x6</th>\n",
       "      <th>trans_amt_x5</th>\n",
       "      <th>trans_amt_x4</th>\n",
       "      <th>trans_amt_x3</th>\n",
       "      <th>trans_amt_x2</th>\n",
       "      <th>trans_amt_x1</th>\n",
       "      <th>trans_amt_x0</th>\n",
       "    </tr>\n",
       "    <tr>\n",
       "      <th>user_id</th>\n",
       "      <th></th>\n",
       "      <th></th>\n",
       "      <th></th>\n",
       "      <th></th>\n",
       "      <th></th>\n",
       "      <th></th>\n",
       "      <th></th>\n",
       "      <th></th>\n",
       "      <th></th>\n",
       "      <th></th>\n",
       "      <th></th>\n",
       "      <th></th>\n",
       "      <th></th>\n",
       "      <th></th>\n",
       "      <th></th>\n",
       "      <th></th>\n",
       "      <th></th>\n",
       "      <th></th>\n",
       "    </tr>\n",
       "  </thead>\n",
       "  <tbody>\n",
       "    <tr>\n",
       "      <th>00005d03d47130a93ec8694fc06e003ac41bf25a8acc0e790e703958c8117ce6</th>\n",
       "      <td>0.0</td>\n",
       "      <td>2000.0</td>\n",
       "      <td>0.0</td>\n",
       "      <td>2000.0</td>\n",
       "      <td>1800.0</td>\n",
       "      <td>0.0</td>\n",
       "      <td>0.0</td>\n",
       "      <td>0.0</td>\n",
       "      <td>2000.0</td>\n",
       "      <td>0.0</td>\n",
       "      <td>1.0</td>\n",
       "      <td>0.0</td>\n",
       "      <td>1.0</td>\n",
       "      <td>2.0</td>\n",
       "      <td>0.0</td>\n",
       "      <td>0.0</td>\n",
       "      <td>0.0</td>\n",
       "      <td>1.0</td>\n",
       "    </tr>\n",
       "    <tr>\n",
       "      <th>00005f0f4b503dcbe368d8610b2a5ba5202354a86edee41d961d362dfc4286a2</th>\n",
       "      <td>0.0</td>\n",
       "      <td>0.0</td>\n",
       "      <td>1178.0</td>\n",
       "      <td>0.0</td>\n",
       "      <td>0.0</td>\n",
       "      <td>0.0</td>\n",
       "      <td>0.0</td>\n",
       "      <td>0.0</td>\n",
       "      <td>0.0</td>\n",
       "      <td>0.0</td>\n",
       "      <td>0.0</td>\n",
       "      <td>1.0</td>\n",
       "      <td>0.0</td>\n",
       "      <td>0.0</td>\n",
       "      <td>0.0</td>\n",
       "      <td>0.0</td>\n",
       "      <td>0.0</td>\n",
       "      <td>0.0</td>\n",
       "    </tr>\n",
       "    <tr>\n",
       "      <th>0000617a7b243217fac191d0ba4feb683f21a9297690e5daba60026c00b1cb39</th>\n",
       "      <td>900.0</td>\n",
       "      <td>0.0</td>\n",
       "      <td>0.0</td>\n",
       "      <td>0.0</td>\n",
       "      <td>692.0</td>\n",
       "      <td>3158.0</td>\n",
       "      <td>0.0</td>\n",
       "      <td>4056.0</td>\n",
       "      <td>644.0</td>\n",
       "      <td>1.0</td>\n",
       "      <td>0.0</td>\n",
       "      <td>0.0</td>\n",
       "      <td>0.0</td>\n",
       "      <td>4.0</td>\n",
       "      <td>5.0</td>\n",
       "      <td>0.0</td>\n",
       "      <td>4.0</td>\n",
       "      <td>2.0</td>\n",
       "    </tr>\n",
       "  </tbody>\n",
       "</table>\n",
       "</div>"
      ],
      "text/plain": [
       "                                                                  pay_amt_x8  \\\n",
       "user_id                                                                        \n",
       "00005d03d47130a93ec8694fc06e003ac41bf25a8acc0e790e703958c8117ce6  0.0          \n",
       "00005f0f4b503dcbe368d8610b2a5ba5202354a86edee41d961d362dfc4286a2  0.0          \n",
       "0000617a7b243217fac191d0ba4feb683f21a9297690e5daba60026c00b1cb39  900.0        \n",
       "\n",
       "                                                                  pay_amt_x7  \\\n",
       "user_id                                                                        \n",
       "00005d03d47130a93ec8694fc06e003ac41bf25a8acc0e790e703958c8117ce6  2000.0       \n",
       "00005f0f4b503dcbe368d8610b2a5ba5202354a86edee41d961d362dfc4286a2  0.0          \n",
       "0000617a7b243217fac191d0ba4feb683f21a9297690e5daba60026c00b1cb39  0.0          \n",
       "\n",
       "                                                                  pay_amt_x6  \\\n",
       "user_id                                                                        \n",
       "00005d03d47130a93ec8694fc06e003ac41bf25a8acc0e790e703958c8117ce6  0.0          \n",
       "00005f0f4b503dcbe368d8610b2a5ba5202354a86edee41d961d362dfc4286a2  1178.0       \n",
       "0000617a7b243217fac191d0ba4feb683f21a9297690e5daba60026c00b1cb39  0.0          \n",
       "\n",
       "                                                                  pay_amt_x5  \\\n",
       "user_id                                                                        \n",
       "00005d03d47130a93ec8694fc06e003ac41bf25a8acc0e790e703958c8117ce6  2000.0       \n",
       "00005f0f4b503dcbe368d8610b2a5ba5202354a86edee41d961d362dfc4286a2  0.0          \n",
       "0000617a7b243217fac191d0ba4feb683f21a9297690e5daba60026c00b1cb39  0.0          \n",
       "\n",
       "                                                                  pay_amt_x4  \\\n",
       "user_id                                                                        \n",
       "00005d03d47130a93ec8694fc06e003ac41bf25a8acc0e790e703958c8117ce6  1800.0       \n",
       "00005f0f4b503dcbe368d8610b2a5ba5202354a86edee41d961d362dfc4286a2  0.0          \n",
       "0000617a7b243217fac191d0ba4feb683f21a9297690e5daba60026c00b1cb39  692.0        \n",
       "\n",
       "                                                                  pay_amt_x3  \\\n",
       "user_id                                                                        \n",
       "00005d03d47130a93ec8694fc06e003ac41bf25a8acc0e790e703958c8117ce6  0.0          \n",
       "00005f0f4b503dcbe368d8610b2a5ba5202354a86edee41d961d362dfc4286a2  0.0          \n",
       "0000617a7b243217fac191d0ba4feb683f21a9297690e5daba60026c00b1cb39  3158.0       \n",
       "\n",
       "                                                                  pay_amt_x2  \\\n",
       "user_id                                                                        \n",
       "00005d03d47130a93ec8694fc06e003ac41bf25a8acc0e790e703958c8117ce6  0.0          \n",
       "00005f0f4b503dcbe368d8610b2a5ba5202354a86edee41d961d362dfc4286a2  0.0          \n",
       "0000617a7b243217fac191d0ba4feb683f21a9297690e5daba60026c00b1cb39  0.0          \n",
       "\n",
       "                                                                  pay_amt_x1  \\\n",
       "user_id                                                                        \n",
       "00005d03d47130a93ec8694fc06e003ac41bf25a8acc0e790e703958c8117ce6  0.0          \n",
       "00005f0f4b503dcbe368d8610b2a5ba5202354a86edee41d961d362dfc4286a2  0.0          \n",
       "0000617a7b243217fac191d0ba4feb683f21a9297690e5daba60026c00b1cb39  4056.0       \n",
       "\n",
       "                                                                  pay_amt_x0  \\\n",
       "user_id                                                                        \n",
       "00005d03d47130a93ec8694fc06e003ac41bf25a8acc0e790e703958c8117ce6  2000.0       \n",
       "00005f0f4b503dcbe368d8610b2a5ba5202354a86edee41d961d362dfc4286a2  0.0          \n",
       "0000617a7b243217fac191d0ba4feb683f21a9297690e5daba60026c00b1cb39  644.0        \n",
       "\n",
       "                                                                  trans_amt_x8  \\\n",
       "user_id                                                                          \n",
       "00005d03d47130a93ec8694fc06e003ac41bf25a8acc0e790e703958c8117ce6  0.0            \n",
       "00005f0f4b503dcbe368d8610b2a5ba5202354a86edee41d961d362dfc4286a2  0.0            \n",
       "0000617a7b243217fac191d0ba4feb683f21a9297690e5daba60026c00b1cb39  1.0            \n",
       "\n",
       "                                                                  trans_amt_x7  \\\n",
       "user_id                                                                          \n",
       "00005d03d47130a93ec8694fc06e003ac41bf25a8acc0e790e703958c8117ce6  1.0            \n",
       "00005f0f4b503dcbe368d8610b2a5ba5202354a86edee41d961d362dfc4286a2  0.0            \n",
       "0000617a7b243217fac191d0ba4feb683f21a9297690e5daba60026c00b1cb39  0.0            \n",
       "\n",
       "                                                                  trans_amt_x6  \\\n",
       "user_id                                                                          \n",
       "00005d03d47130a93ec8694fc06e003ac41bf25a8acc0e790e703958c8117ce6  0.0            \n",
       "00005f0f4b503dcbe368d8610b2a5ba5202354a86edee41d961d362dfc4286a2  1.0            \n",
       "0000617a7b243217fac191d0ba4feb683f21a9297690e5daba60026c00b1cb39  0.0            \n",
       "\n",
       "                                                                  trans_amt_x5  \\\n",
       "user_id                                                                          \n",
       "00005d03d47130a93ec8694fc06e003ac41bf25a8acc0e790e703958c8117ce6  1.0            \n",
       "00005f0f4b503dcbe368d8610b2a5ba5202354a86edee41d961d362dfc4286a2  0.0            \n",
       "0000617a7b243217fac191d0ba4feb683f21a9297690e5daba60026c00b1cb39  0.0            \n",
       "\n",
       "                                                                  trans_amt_x4  \\\n",
       "user_id                                                                          \n",
       "00005d03d47130a93ec8694fc06e003ac41bf25a8acc0e790e703958c8117ce6  2.0            \n",
       "00005f0f4b503dcbe368d8610b2a5ba5202354a86edee41d961d362dfc4286a2  0.0            \n",
       "0000617a7b243217fac191d0ba4feb683f21a9297690e5daba60026c00b1cb39  4.0            \n",
       "\n",
       "                                                                  trans_amt_x3  \\\n",
       "user_id                                                                          \n",
       "00005d03d47130a93ec8694fc06e003ac41bf25a8acc0e790e703958c8117ce6  0.0            \n",
       "00005f0f4b503dcbe368d8610b2a5ba5202354a86edee41d961d362dfc4286a2  0.0            \n",
       "0000617a7b243217fac191d0ba4feb683f21a9297690e5daba60026c00b1cb39  5.0            \n",
       "\n",
       "                                                                  trans_amt_x2  \\\n",
       "user_id                                                                          \n",
       "00005d03d47130a93ec8694fc06e003ac41bf25a8acc0e790e703958c8117ce6  0.0            \n",
       "00005f0f4b503dcbe368d8610b2a5ba5202354a86edee41d961d362dfc4286a2  0.0            \n",
       "0000617a7b243217fac191d0ba4feb683f21a9297690e5daba60026c00b1cb39  0.0            \n",
       "\n",
       "                                                                  trans_amt_x1  \\\n",
       "user_id                                                                          \n",
       "00005d03d47130a93ec8694fc06e003ac41bf25a8acc0e790e703958c8117ce6  0.0            \n",
       "00005f0f4b503dcbe368d8610b2a5ba5202354a86edee41d961d362dfc4286a2  0.0            \n",
       "0000617a7b243217fac191d0ba4feb683f21a9297690e5daba60026c00b1cb39  4.0            \n",
       "\n",
       "                                                                  trans_amt_x0  \n",
       "user_id                                                                         \n",
       "00005d03d47130a93ec8694fc06e003ac41bf25a8acc0e790e703958c8117ce6  1.0           \n",
       "00005f0f4b503dcbe368d8610b2a5ba5202354a86edee41d961d362dfc4286a2  0.0           \n",
       "0000617a7b243217fac191d0ba4feb683f21a9297690e5daba60026c00b1cb39  2.0           "
      ]
     },
     "metadata": {},
     "output_type": "display_data"
    },
    {
     "name": "stdout",
     "output_type": "stream",
     "text": [
      "<class 'pandas.core.frame.DataFrame'>\n",
      "Index: 211571 entries, 00005d03d47130a93ec8694fc06e003ac41bf25a8acc0e790e703958c8117ce6 to ffff62e18a714760405b2a875f4439014a52eb088ebf944ed37a8e4b7579ca3b\n",
      "Data columns (total 18 columns):\n",
      "pay_amt_x8      211571 non-null float64\n",
      "pay_amt_x7      211571 non-null float64\n",
      "pay_amt_x6      211571 non-null float64\n",
      "pay_amt_x5      211571 non-null float64\n",
      "pay_amt_x4      211571 non-null float64\n",
      "pay_amt_x3      211571 non-null float64\n",
      "pay_amt_x2      211571 non-null float64\n",
      "pay_amt_x1      211571 non-null float64\n",
      "pay_amt_x0      211571 non-null float64\n",
      "trans_amt_x8    211571 non-null float64\n",
      "trans_amt_x7    211571 non-null float64\n",
      "trans_amt_x6    211571 non-null float64\n",
      "trans_amt_x5    211571 non-null float64\n",
      "trans_amt_x4    211571 non-null float64\n",
      "trans_amt_x3    211571 non-null float64\n",
      "trans_amt_x2    211571 non-null float64\n",
      "trans_amt_x1    211571 non-null float64\n",
      "trans_amt_x0    211571 non-null float64\n",
      "dtypes: float64(18)\n",
      "memory usage: 30.7+ MB\n"
     ]
    },
    {
     "data": {
      "text/plain": [
       "None"
      ]
     },
     "metadata": {},
     "output_type": "display_data"
    }
   ],
   "source": [
    "display(df_payments_agg.head(3))\n",
    "display(df_payments_agg.info(null_counts=True))"
   ]
  },
  {
   "cell_type": "markdown",
   "metadata": {},
   "source": [
    "**ping**"
   ]
  },
  {
   "cell_type": "code",
   "execution_count": 182,
   "metadata": {},
   "outputs": [],
   "source": [
    "%%write_and_run -a main.py\n",
    "def avg_min_ping_cast(value):\n",
    "    try:\n",
    "        result = float(value)\n",
    "    except:\n",
    "        result = 999.0\n",
    "    return result\n",
    "\n",
    "\n",
    "df_pings_cast = df_pings.copy()\n",
    "df_pings_cast['log_dt'] =  pd.to_datetime(df_pings_cast['log_dt'], format='%Y-%m-%d')\n",
    "df_pings_cast['avg_min_ping'] =  df_pings_cast['avg_min_ping'].apply(avg_min_ping_cast)\n",
    "\n",
    "df_pings_agg = df_pings_cast \\\n",
    "    .groupby(['user_id', pd.Grouper(key='log_dt', freq='W-MON')]) \\\n",
    "    .median() \\\n",
    "    .reset_index() \\\n",
    "    .pivot(index='user_id', columns='log_dt', values='avg_min_ping') \\\n",
    "    .fillna(999)\n",
    "df_pings_agg = rename_date_cols(df_pings_agg, 'avg_min_ping')\n",
    "\n",
    "df_to_merge.append(df_pings_agg)"
   ]
  },
  {
   "cell_type": "code",
   "execution_count": 183,
   "metadata": {},
   "outputs": [
    {
     "data": {
      "text/html": [
       "<div>\n",
       "<style scoped>\n",
       "    .dataframe tbody tr th:only-of-type {\n",
       "        vertical-align: middle;\n",
       "    }\n",
       "\n",
       "    .dataframe tbody tr th {\n",
       "        vertical-align: top;\n",
       "    }\n",
       "\n",
       "    .dataframe thead th {\n",
       "        text-align: right;\n",
       "    }\n",
       "</style>\n",
       "<table border=\"1\" class=\"dataframe\">\n",
       "  <thead>\n",
       "    <tr style=\"text-align: right;\">\n",
       "      <th></th>\n",
       "      <th>avg_min_ping_x8</th>\n",
       "      <th>avg_min_ping_x7</th>\n",
       "      <th>avg_min_ping_x6</th>\n",
       "      <th>avg_min_ping_x5</th>\n",
       "      <th>avg_min_ping_x4</th>\n",
       "      <th>avg_min_ping_x3</th>\n",
       "      <th>avg_min_ping_x2</th>\n",
       "      <th>avg_min_ping_x1</th>\n",
       "      <th>avg_min_ping_x0</th>\n",
       "    </tr>\n",
       "    <tr>\n",
       "      <th>user_id</th>\n",
       "      <th></th>\n",
       "      <th></th>\n",
       "      <th></th>\n",
       "      <th></th>\n",
       "      <th></th>\n",
       "      <th></th>\n",
       "      <th></th>\n",
       "      <th></th>\n",
       "      <th></th>\n",
       "    </tr>\n",
       "  </thead>\n",
       "  <tbody>\n",
       "    <tr>\n",
       "      <th>00002b09f70d42fb0eb23342fcdfe2130285619b70d0e8aeea4e3d6d3eebe0aa</th>\n",
       "      <td>33.5</td>\n",
       "      <td>32.0</td>\n",
       "      <td>32.555557</td>\n",
       "      <td>36.0</td>\n",
       "      <td>32.666666</td>\n",
       "      <td>32.0</td>\n",
       "      <td>33.00</td>\n",
       "      <td>34.833333</td>\n",
       "      <td>39.5</td>\n",
       "    </tr>\n",
       "    <tr>\n",
       "      <th>00005d03d47130a93ec8694fc06e003ac41bf25a8acc0e790e703958c8117ce6</th>\n",
       "      <td>18.0</td>\n",
       "      <td>18.0</td>\n",
       "      <td>18.166667</td>\n",
       "      <td>18.0</td>\n",
       "      <td>18.100000</td>\n",
       "      <td>18.5</td>\n",
       "      <td>18.00</td>\n",
       "      <td>18.000000</td>\n",
       "      <td>18.5</td>\n",
       "    </tr>\n",
       "    <tr>\n",
       "      <th>00005f0f4b503dcbe368d8610b2a5ba5202354a86edee41d961d362dfc4286a2</th>\n",
       "      <td>999.0</td>\n",
       "      <td>16.0</td>\n",
       "      <td>13.000000</td>\n",
       "      <td>12.5</td>\n",
       "      <td>999.000000</td>\n",
       "      <td>13.0</td>\n",
       "      <td>9.75</td>\n",
       "      <td>15.000000</td>\n",
       "      <td>11.0</td>\n",
       "    </tr>\n",
       "  </tbody>\n",
       "</table>\n",
       "</div>"
      ],
      "text/plain": [
       "                                                                  avg_min_ping_x8  \\\n",
       "user_id                                                                             \n",
       "00002b09f70d42fb0eb23342fcdfe2130285619b70d0e8aeea4e3d6d3eebe0aa  33.5              \n",
       "00005d03d47130a93ec8694fc06e003ac41bf25a8acc0e790e703958c8117ce6  18.0              \n",
       "00005f0f4b503dcbe368d8610b2a5ba5202354a86edee41d961d362dfc4286a2  999.0             \n",
       "\n",
       "                                                                  avg_min_ping_x7  \\\n",
       "user_id                                                                             \n",
       "00002b09f70d42fb0eb23342fcdfe2130285619b70d0e8aeea4e3d6d3eebe0aa  32.0              \n",
       "00005d03d47130a93ec8694fc06e003ac41bf25a8acc0e790e703958c8117ce6  18.0              \n",
       "00005f0f4b503dcbe368d8610b2a5ba5202354a86edee41d961d362dfc4286a2  16.0              \n",
       "\n",
       "                                                                  avg_min_ping_x6  \\\n",
       "user_id                                                                             \n",
       "00002b09f70d42fb0eb23342fcdfe2130285619b70d0e8aeea4e3d6d3eebe0aa  32.555557         \n",
       "00005d03d47130a93ec8694fc06e003ac41bf25a8acc0e790e703958c8117ce6  18.166667         \n",
       "00005f0f4b503dcbe368d8610b2a5ba5202354a86edee41d961d362dfc4286a2  13.000000         \n",
       "\n",
       "                                                                  avg_min_ping_x5  \\\n",
       "user_id                                                                             \n",
       "00002b09f70d42fb0eb23342fcdfe2130285619b70d0e8aeea4e3d6d3eebe0aa  36.0              \n",
       "00005d03d47130a93ec8694fc06e003ac41bf25a8acc0e790e703958c8117ce6  18.0              \n",
       "00005f0f4b503dcbe368d8610b2a5ba5202354a86edee41d961d362dfc4286a2  12.5              \n",
       "\n",
       "                                                                  avg_min_ping_x4  \\\n",
       "user_id                                                                             \n",
       "00002b09f70d42fb0eb23342fcdfe2130285619b70d0e8aeea4e3d6d3eebe0aa  32.666666         \n",
       "00005d03d47130a93ec8694fc06e003ac41bf25a8acc0e790e703958c8117ce6  18.100000         \n",
       "00005f0f4b503dcbe368d8610b2a5ba5202354a86edee41d961d362dfc4286a2  999.000000        \n",
       "\n",
       "                                                                  avg_min_ping_x3  \\\n",
       "user_id                                                                             \n",
       "00002b09f70d42fb0eb23342fcdfe2130285619b70d0e8aeea4e3d6d3eebe0aa  32.0              \n",
       "00005d03d47130a93ec8694fc06e003ac41bf25a8acc0e790e703958c8117ce6  18.5              \n",
       "00005f0f4b503dcbe368d8610b2a5ba5202354a86edee41d961d362dfc4286a2  13.0              \n",
       "\n",
       "                                                                  avg_min_ping_x2  \\\n",
       "user_id                                                                             \n",
       "00002b09f70d42fb0eb23342fcdfe2130285619b70d0e8aeea4e3d6d3eebe0aa  33.00             \n",
       "00005d03d47130a93ec8694fc06e003ac41bf25a8acc0e790e703958c8117ce6  18.00             \n",
       "00005f0f4b503dcbe368d8610b2a5ba5202354a86edee41d961d362dfc4286a2  9.75              \n",
       "\n",
       "                                                                  avg_min_ping_x1  \\\n",
       "user_id                                                                             \n",
       "00002b09f70d42fb0eb23342fcdfe2130285619b70d0e8aeea4e3d6d3eebe0aa  34.833333         \n",
       "00005d03d47130a93ec8694fc06e003ac41bf25a8acc0e790e703958c8117ce6  18.000000         \n",
       "00005f0f4b503dcbe368d8610b2a5ba5202354a86edee41d961d362dfc4286a2  15.000000         \n",
       "\n",
       "                                                                  avg_min_ping_x0  \n",
       "user_id                                                                            \n",
       "00002b09f70d42fb0eb23342fcdfe2130285619b70d0e8aeea4e3d6d3eebe0aa  39.5             \n",
       "00005d03d47130a93ec8694fc06e003ac41bf25a8acc0e790e703958c8117ce6  18.5             \n",
       "00005f0f4b503dcbe368d8610b2a5ba5202354a86edee41d961d362dfc4286a2  11.0             "
      ]
     },
     "metadata": {},
     "output_type": "display_data"
    },
    {
     "name": "stdout",
     "output_type": "stream",
     "text": [
      "<class 'pandas.core.frame.DataFrame'>\n",
      "Index: 405892 entries, 00002b09f70d42fb0eb23342fcdfe2130285619b70d0e8aeea4e3d6d3eebe0aa to ffffcdc0e8ec6761dacf730170fc93b4211cf10c828fa20cfd02b84f26cd4962\n",
      "Data columns (total 9 columns):\n",
      "avg_min_ping_x8    405892 non-null float64\n",
      "avg_min_ping_x7    405892 non-null float64\n",
      "avg_min_ping_x6    405892 non-null float64\n",
      "avg_min_ping_x5    405892 non-null float64\n",
      "avg_min_ping_x4    405892 non-null float64\n",
      "avg_min_ping_x3    405892 non-null float64\n",
      "avg_min_ping_x2    405892 non-null float64\n",
      "avg_min_ping_x1    405892 non-null float64\n",
      "avg_min_ping_x0    405892 non-null float64\n",
      "dtypes: float64(9)\n",
      "memory usage: 31.0+ MB\n"
     ]
    },
    {
     "data": {
      "text/plain": [
       "None"
      ]
     },
     "metadata": {},
     "output_type": "display_data"
    }
   ],
   "source": [
    "display(df_pings_agg.head(3))\n",
    "display(df_pings_agg.info(null_counts=True))"
   ]
  },
  {
   "cell_type": "markdown",
   "metadata": {},
   "source": [
    "**profiles**"
   ]
  },
  {
   "cell_type": "code",
   "execution_count": 180,
   "metadata": {},
   "outputs": [],
   "source": [
    "%%write_and_run -a main.py\n",
    "def profiles_age_cast(value):\n",
    "    median = 24.0\n",
    "    try:\n",
    "        result = float(value)\n",
    "    except:\n",
    "        result = median\n",
    "    return result\n",
    "\n",
    "\n",
    "def profiles_gender_cast(value):\n",
    "    if value == 'M':\n",
    "        return 1\n",
    "    elif value == 'F':\n",
    "        return 0\n",
    "    else:\n",
    "        return 0.5\n",
    "    return result\n",
    "\n",
    "\n",
    "df_profiles_cast = df_profiles.copy()\n",
    "df_profiles_cast['age'] = df_profiles_cast['age'].apply(profiles_age_cast)\n",
    "df_profiles_cast['gender'] = df_profiles_cast['gender'].apply(profiles_gender_cast)\n",
    "df_profiles_cast = df_profiles_cast.set_index('user_id')\n",
    "\n",
    "df_to_merge.append(df_profiles_cast)"
   ]
  },
  {
   "cell_type": "code",
   "execution_count": 181,
   "metadata": {},
   "outputs": [
    {
     "data": {
      "text/html": [
       "<div>\n",
       "<style scoped>\n",
       "    .dataframe tbody tr th:only-of-type {\n",
       "        vertical-align: middle;\n",
       "    }\n",
       "\n",
       "    .dataframe tbody tr th {\n",
       "        vertical-align: top;\n",
       "    }\n",
       "\n",
       "    .dataframe thead th {\n",
       "        text-align: right;\n",
       "    }\n",
       "</style>\n",
       "<table border=\"1\" class=\"dataframe\">\n",
       "  <thead>\n",
       "    <tr style=\"text-align: right;\">\n",
       "      <th></th>\n",
       "      <th>age</th>\n",
       "      <th>gender</th>\n",
       "      <th>days_between_reg_fl</th>\n",
       "      <th>days_between_fl_df</th>\n",
       "      <th>has_return_date</th>\n",
       "      <th>has_phone_number</th>\n",
       "    </tr>\n",
       "    <tr>\n",
       "      <th>user_id</th>\n",
       "      <th></th>\n",
       "      <th></th>\n",
       "      <th></th>\n",
       "      <th></th>\n",
       "      <th></th>\n",
       "      <th></th>\n",
       "    </tr>\n",
       "  </thead>\n",
       "  <tbody>\n",
       "    <tr>\n",
       "      <th>e54f91bf5895d0c433fd1cd3092ab4ad94ea953845f4a847e580675515d48da0</th>\n",
       "      <td>NaN</td>\n",
       "      <td>0.5</td>\n",
       "      <td>0</td>\n",
       "      <td>30</td>\n",
       "      <td>1</td>\n",
       "      <td>1</td>\n",
       "    </tr>\n",
       "    <tr>\n",
       "      <th>f1ab2f683a3b37c9f9f6cb107629178cdcc34eaf684b6718eb030b5650b4be72</th>\n",
       "      <td>22.0</td>\n",
       "      <td>1.0</td>\n",
       "      <td>0</td>\n",
       "      <td>34</td>\n",
       "      <td>1</td>\n",
       "      <td>0</td>\n",
       "    </tr>\n",
       "    <tr>\n",
       "      <th>0dc419c3401bb042fea254ae11c4bfc5e1418f2ab63c8b05c85762ac2d14b7be</th>\n",
       "      <td>22.0</td>\n",
       "      <td>1.0</td>\n",
       "      <td>0</td>\n",
       "      <td>13</td>\n",
       "      <td>1</td>\n",
       "      <td>1</td>\n",
       "    </tr>\n",
       "  </tbody>\n",
       "</table>\n",
       "</div>"
      ],
      "text/plain": [
       "                                                                   age  \\\n",
       "user_id                                                                  \n",
       "e54f91bf5895d0c433fd1cd3092ab4ad94ea953845f4a847e580675515d48da0 NaN     \n",
       "f1ab2f683a3b37c9f9f6cb107629178cdcc34eaf684b6718eb030b5650b4be72  22.0   \n",
       "0dc419c3401bb042fea254ae11c4bfc5e1418f2ab63c8b05c85762ac2d14b7be  22.0   \n",
       "\n",
       "                                                                  gender  \\\n",
       "user_id                                                                    \n",
       "e54f91bf5895d0c433fd1cd3092ab4ad94ea953845f4a847e580675515d48da0  0.5      \n",
       "f1ab2f683a3b37c9f9f6cb107629178cdcc34eaf684b6718eb030b5650b4be72  1.0      \n",
       "0dc419c3401bb042fea254ae11c4bfc5e1418f2ab63c8b05c85762ac2d14b7be  1.0      \n",
       "\n",
       "                                                                  days_between_reg_fl  \\\n",
       "user_id                                                                                 \n",
       "e54f91bf5895d0c433fd1cd3092ab4ad94ea953845f4a847e580675515d48da0  0                     \n",
       "f1ab2f683a3b37c9f9f6cb107629178cdcc34eaf684b6718eb030b5650b4be72  0                     \n",
       "0dc419c3401bb042fea254ae11c4bfc5e1418f2ab63c8b05c85762ac2d14b7be  0                     \n",
       "\n",
       "                                                                  days_between_fl_df  \\\n",
       "user_id                                                                                \n",
       "e54f91bf5895d0c433fd1cd3092ab4ad94ea953845f4a847e580675515d48da0  30                   \n",
       "f1ab2f683a3b37c9f9f6cb107629178cdcc34eaf684b6718eb030b5650b4be72  34                   \n",
       "0dc419c3401bb042fea254ae11c4bfc5e1418f2ab63c8b05c85762ac2d14b7be  13                   \n",
       "\n",
       "                                                                  has_return_date  \\\n",
       "user_id                                                                             \n",
       "e54f91bf5895d0c433fd1cd3092ab4ad94ea953845f4a847e580675515d48da0  1                 \n",
       "f1ab2f683a3b37c9f9f6cb107629178cdcc34eaf684b6718eb030b5650b4be72  1                 \n",
       "0dc419c3401bb042fea254ae11c4bfc5e1418f2ab63c8b05c85762ac2d14b7be  1                 \n",
       "\n",
       "                                                                  has_phone_number  \n",
       "user_id                                                                             \n",
       "e54f91bf5895d0c433fd1cd3092ab4ad94ea953845f4a847e580675515d48da0  1                 \n",
       "f1ab2f683a3b37c9f9f6cb107629178cdcc34eaf684b6718eb030b5650b4be72  0                 \n",
       "0dc419c3401bb042fea254ae11c4bfc5e1418f2ab63c8b05c85762ac2d14b7be  1                 "
      ]
     },
     "metadata": {},
     "output_type": "display_data"
    },
    {
     "name": "stdout",
     "output_type": "stream",
     "text": [
      "<class 'pandas.core.frame.DataFrame'>\n",
      "Index: 469475 entries, e54f91bf5895d0c433fd1cd3092ab4ad94ea953845f4a847e580675515d48da0 to fbbae6d941b31b19705068aa2eee2a92cf67f9829cae1c5eb6c8c1899d0af031\n",
      "Data columns (total 6 columns):\n",
      "age                    390924 non-null float64\n",
      "gender                 469475 non-null float64\n",
      "days_between_reg_fl    469475 non-null int64\n",
      "days_between_fl_df     469475 non-null int64\n",
      "has_return_date        469475 non-null int64\n",
      "has_phone_number       469475 non-null int64\n",
      "dtypes: float64(2), int64(4)\n",
      "memory usage: 25.1+ MB\n"
     ]
    },
    {
     "data": {
      "text/plain": [
       "None"
      ]
     },
     "metadata": {},
     "output_type": "display_data"
    }
   ],
   "source": [
    "display(df_profiles_cast.head(3))\n",
    "display(df_profiles_cast.info())"
   ]
  },
  {
   "cell_type": "markdown",
   "metadata": {},
   "source": [
    "**reports**"
   ]
  },
  {
   "cell_type": "code",
   "execution_count": 178,
   "metadata": {},
   "outputs": [],
   "source": [
    "%%write_and_run -a main.py\n",
    "df_reports_cast = df_reports.copy()\n",
    "df_reports_cast['log_dt'] =  pd.to_datetime(df_reports_cast['log_dt'], format='%Y-%m-%d')\n",
    "\n",
    "df_reports_agg = df_reports_cast \\\n",
    "    .groupby(['user_id', pd.Grouper(key='log_dt', freq='W-MON')]) \\\n",
    "    .sum() \\\n",
    "    .reset_index() \\\n",
    "    .pivot(index='user_id', columns='log_dt', values='reports_amt') \\\n",
    "    .fillna(0)\n",
    "df_reports_agg = rename_date_cols(df_reports_agg, 'reports_amt')\n",
    "\n",
    "df_to_merge.append(df_reports_agg)"
   ]
  },
  {
   "cell_type": "code",
   "execution_count": 179,
   "metadata": {},
   "outputs": [
    {
     "data": {
      "text/html": [
       "<div>\n",
       "<style scoped>\n",
       "    .dataframe tbody tr th:only-of-type {\n",
       "        vertical-align: middle;\n",
       "    }\n",
       "\n",
       "    .dataframe tbody tr th {\n",
       "        vertical-align: top;\n",
       "    }\n",
       "\n",
       "    .dataframe thead th {\n",
       "        text-align: right;\n",
       "    }\n",
       "</style>\n",
       "<table border=\"1\" class=\"dataframe\">\n",
       "  <thead>\n",
       "    <tr style=\"text-align: right;\">\n",
       "      <th></th>\n",
       "      <th>reports_amt_x8</th>\n",
       "      <th>reports_amt_x7</th>\n",
       "      <th>reports_amt_x6</th>\n",
       "      <th>reports_amt_x5</th>\n",
       "      <th>reports_amt_x4</th>\n",
       "      <th>reports_amt_x3</th>\n",
       "      <th>reports_amt_x2</th>\n",
       "      <th>reports_amt_x1</th>\n",
       "      <th>reports_amt_x0</th>\n",
       "    </tr>\n",
       "    <tr>\n",
       "      <th>user_id</th>\n",
       "      <th></th>\n",
       "      <th></th>\n",
       "      <th></th>\n",
       "      <th></th>\n",
       "      <th></th>\n",
       "      <th></th>\n",
       "      <th></th>\n",
       "      <th></th>\n",
       "      <th></th>\n",
       "    </tr>\n",
       "  </thead>\n",
       "  <tbody>\n",
       "    <tr>\n",
       "      <th>00002b09f70d42fb0eb23342fcdfe2130285619b70d0e8aeea4e3d6d3eebe0aa</th>\n",
       "      <td>0.0</td>\n",
       "      <td>2.0</td>\n",
       "      <td>1.0</td>\n",
       "      <td>2.0</td>\n",
       "      <td>1.0</td>\n",
       "      <td>3.0</td>\n",
       "      <td>0.0</td>\n",
       "      <td>1.0</td>\n",
       "      <td>0.0</td>\n",
       "    </tr>\n",
       "    <tr>\n",
       "      <th>00005d03d47130a93ec8694fc06e003ac41bf25a8acc0e790e703958c8117ce6</th>\n",
       "      <td>0.0</td>\n",
       "      <td>2.0</td>\n",
       "      <td>0.0</td>\n",
       "      <td>0.0</td>\n",
       "      <td>0.0</td>\n",
       "      <td>0.0</td>\n",
       "      <td>0.0</td>\n",
       "      <td>0.0</td>\n",
       "      <td>0.0</td>\n",
       "    </tr>\n",
       "    <tr>\n",
       "      <th>00005f0f4b503dcbe368d8610b2a5ba5202354a86edee41d961d362dfc4286a2</th>\n",
       "      <td>0.0</td>\n",
       "      <td>0.0</td>\n",
       "      <td>2.0</td>\n",
       "      <td>2.0</td>\n",
       "      <td>0.0</td>\n",
       "      <td>0.0</td>\n",
       "      <td>5.0</td>\n",
       "      <td>0.0</td>\n",
       "      <td>0.0</td>\n",
       "    </tr>\n",
       "  </tbody>\n",
       "</table>\n",
       "</div>"
      ],
      "text/plain": [
       "                                                                  reports_amt_x8  \\\n",
       "user_id                                                                            \n",
       "00002b09f70d42fb0eb23342fcdfe2130285619b70d0e8aeea4e3d6d3eebe0aa  0.0              \n",
       "00005d03d47130a93ec8694fc06e003ac41bf25a8acc0e790e703958c8117ce6  0.0              \n",
       "00005f0f4b503dcbe368d8610b2a5ba5202354a86edee41d961d362dfc4286a2  0.0              \n",
       "\n",
       "                                                                  reports_amt_x7  \\\n",
       "user_id                                                                            \n",
       "00002b09f70d42fb0eb23342fcdfe2130285619b70d0e8aeea4e3d6d3eebe0aa  2.0              \n",
       "00005d03d47130a93ec8694fc06e003ac41bf25a8acc0e790e703958c8117ce6  2.0              \n",
       "00005f0f4b503dcbe368d8610b2a5ba5202354a86edee41d961d362dfc4286a2  0.0              \n",
       "\n",
       "                                                                  reports_amt_x6  \\\n",
       "user_id                                                                            \n",
       "00002b09f70d42fb0eb23342fcdfe2130285619b70d0e8aeea4e3d6d3eebe0aa  1.0              \n",
       "00005d03d47130a93ec8694fc06e003ac41bf25a8acc0e790e703958c8117ce6  0.0              \n",
       "00005f0f4b503dcbe368d8610b2a5ba5202354a86edee41d961d362dfc4286a2  2.0              \n",
       "\n",
       "                                                                  reports_amt_x5  \\\n",
       "user_id                                                                            \n",
       "00002b09f70d42fb0eb23342fcdfe2130285619b70d0e8aeea4e3d6d3eebe0aa  2.0              \n",
       "00005d03d47130a93ec8694fc06e003ac41bf25a8acc0e790e703958c8117ce6  0.0              \n",
       "00005f0f4b503dcbe368d8610b2a5ba5202354a86edee41d961d362dfc4286a2  2.0              \n",
       "\n",
       "                                                                  reports_amt_x4  \\\n",
       "user_id                                                                            \n",
       "00002b09f70d42fb0eb23342fcdfe2130285619b70d0e8aeea4e3d6d3eebe0aa  1.0              \n",
       "00005d03d47130a93ec8694fc06e003ac41bf25a8acc0e790e703958c8117ce6  0.0              \n",
       "00005f0f4b503dcbe368d8610b2a5ba5202354a86edee41d961d362dfc4286a2  0.0              \n",
       "\n",
       "                                                                  reports_amt_x3  \\\n",
       "user_id                                                                            \n",
       "00002b09f70d42fb0eb23342fcdfe2130285619b70d0e8aeea4e3d6d3eebe0aa  3.0              \n",
       "00005d03d47130a93ec8694fc06e003ac41bf25a8acc0e790e703958c8117ce6  0.0              \n",
       "00005f0f4b503dcbe368d8610b2a5ba5202354a86edee41d961d362dfc4286a2  0.0              \n",
       "\n",
       "                                                                  reports_amt_x2  \\\n",
       "user_id                                                                            \n",
       "00002b09f70d42fb0eb23342fcdfe2130285619b70d0e8aeea4e3d6d3eebe0aa  0.0              \n",
       "00005d03d47130a93ec8694fc06e003ac41bf25a8acc0e790e703958c8117ce6  0.0              \n",
       "00005f0f4b503dcbe368d8610b2a5ba5202354a86edee41d961d362dfc4286a2  5.0              \n",
       "\n",
       "                                                                  reports_amt_x1  \\\n",
       "user_id                                                                            \n",
       "00002b09f70d42fb0eb23342fcdfe2130285619b70d0e8aeea4e3d6d3eebe0aa  1.0              \n",
       "00005d03d47130a93ec8694fc06e003ac41bf25a8acc0e790e703958c8117ce6  0.0              \n",
       "00005f0f4b503dcbe368d8610b2a5ba5202354a86edee41d961d362dfc4286a2  0.0              \n",
       "\n",
       "                                                                  reports_amt_x0  \n",
       "user_id                                                                           \n",
       "00002b09f70d42fb0eb23342fcdfe2130285619b70d0e8aeea4e3d6d3eebe0aa  0.0             \n",
       "00005d03d47130a93ec8694fc06e003ac41bf25a8acc0e790e703958c8117ce6  0.0             \n",
       "00005f0f4b503dcbe368d8610b2a5ba5202354a86edee41d961d362dfc4286a2  0.0             "
      ]
     },
     "metadata": {},
     "output_type": "display_data"
    },
    {
     "name": "stdout",
     "output_type": "stream",
     "text": [
      "<class 'pandas.core.frame.DataFrame'>\n",
      "Index: 290200 entries, 00002b09f70d42fb0eb23342fcdfe2130285619b70d0e8aeea4e3d6d3eebe0aa to ffffcdc0e8ec6761dacf730170fc93b4211cf10c828fa20cfd02b84f26cd4962\n",
      "Data columns (total 9 columns):\n",
      "reports_amt_x8    290200 non-null float64\n",
      "reports_amt_x7    290200 non-null float64\n",
      "reports_amt_x6    290200 non-null float64\n",
      "reports_amt_x5    290200 non-null float64\n",
      "reports_amt_x4    290200 non-null float64\n",
      "reports_amt_x3    290200 non-null float64\n",
      "reports_amt_x2    290200 non-null float64\n",
      "reports_amt_x1    290200 non-null float64\n",
      "reports_amt_x0    290200 non-null float64\n",
      "dtypes: float64(9)\n",
      "memory usage: 22.1+ MB\n"
     ]
    },
    {
     "data": {
      "text/plain": [
       "None"
      ]
     },
     "metadata": {},
     "output_type": "display_data"
    }
   ],
   "source": [
    "display(df_reports_agg.head(3))\n",
    "display(df_reports_agg.info())"
   ]
  },
  {
   "cell_type": "markdown",
   "metadata": {},
   "source": [
    "**sample**"
   ]
  },
  {
   "cell_type": "code",
   "execution_count": 176,
   "metadata": {},
   "outputs": [],
   "source": [
    "%%write_and_run -a main.py\n",
    "df_sample_cast = df_sample.copy()\n",
    "df_sample_cast['login_last_dt'] = (pd.to_datetime(df_sample_cast['login_last_dt'], format='%Y-%m-%d') - pd.to_datetime('2019-09-30', format='%Y-%m-%d')) / np.timedelta64(-1, 'D')\n",
    "df_sample_cast = df_sample_cast.set_index('user_id')\n",
    "\n",
    "df_to_merge.append(df_sample_cast)"
   ]
  },
  {
   "cell_type": "code",
   "execution_count": 177,
   "metadata": {},
   "outputs": [
    {
     "data": {
      "text/html": [
       "<div>\n",
       "<style scoped>\n",
       "    .dataframe tbody tr th:only-of-type {\n",
       "        vertical-align: middle;\n",
       "    }\n",
       "\n",
       "    .dataframe tbody tr th {\n",
       "        vertical-align: top;\n",
       "    }\n",
       "\n",
       "    .dataframe thead th {\n",
       "        text-align: right;\n",
       "    }\n",
       "</style>\n",
       "<table border=\"1\" class=\"dataframe\">\n",
       "  <thead>\n",
       "    <tr style=\"text-align: right;\">\n",
       "      <th></th>\n",
       "      <th>is_churned</th>\n",
       "      <th>login_last_dt</th>\n",
       "      <th>level</th>\n",
       "      <th>donate_total</th>\n",
       "    </tr>\n",
       "    <tr>\n",
       "      <th>user_id</th>\n",
       "      <th></th>\n",
       "      <th></th>\n",
       "      <th></th>\n",
       "      <th></th>\n",
       "    </tr>\n",
       "  </thead>\n",
       "  <tbody>\n",
       "    <tr>\n",
       "      <th>1e7edd8347e3aaeedf8c494b11240851e3fa0ad231b8f89734a54213cd69a1e6</th>\n",
       "      <td>0</td>\n",
       "      <td>27.0</td>\n",
       "      <td>43</td>\n",
       "      <td>88730.0</td>\n",
       "    </tr>\n",
       "    <tr>\n",
       "      <th>f43cac5f14e06ca039b173e14c323ac0c1fd8492f0cf082804f651cfca1c6f52</th>\n",
       "      <td>0</td>\n",
       "      <td>12.0</td>\n",
       "      <td>50</td>\n",
       "      <td>44149.0</td>\n",
       "    </tr>\n",
       "    <tr>\n",
       "      <th>cc7450e0b182947998534ef137b05e07109c100aced0b6c0a5d1f253c515101f</th>\n",
       "      <td>0</td>\n",
       "      <td>8.0</td>\n",
       "      <td>37</td>\n",
       "      <td>44931.0</td>\n",
       "    </tr>\n",
       "  </tbody>\n",
       "</table>\n",
       "</div>"
      ],
      "text/plain": [
       "                                                                  is_churned  \\\n",
       "user_id                                                                        \n",
       "1e7edd8347e3aaeedf8c494b11240851e3fa0ad231b8f89734a54213cd69a1e6  0            \n",
       "f43cac5f14e06ca039b173e14c323ac0c1fd8492f0cf082804f651cfca1c6f52  0            \n",
       "cc7450e0b182947998534ef137b05e07109c100aced0b6c0a5d1f253c515101f  0            \n",
       "\n",
       "                                                                  login_last_dt  \\\n",
       "user_id                                                                           \n",
       "1e7edd8347e3aaeedf8c494b11240851e3fa0ad231b8f89734a54213cd69a1e6  27.0            \n",
       "f43cac5f14e06ca039b173e14c323ac0c1fd8492f0cf082804f651cfca1c6f52  12.0            \n",
       "cc7450e0b182947998534ef137b05e07109c100aced0b6c0a5d1f253c515101f  8.0             \n",
       "\n",
       "                                                                  level  \\\n",
       "user_id                                                                   \n",
       "1e7edd8347e3aaeedf8c494b11240851e3fa0ad231b8f89734a54213cd69a1e6  43      \n",
       "f43cac5f14e06ca039b173e14c323ac0c1fd8492f0cf082804f651cfca1c6f52  50      \n",
       "cc7450e0b182947998534ef137b05e07109c100aced0b6c0a5d1f253c515101f  37      \n",
       "\n",
       "                                                                  donate_total  \n",
       "user_id                                                                         \n",
       "1e7edd8347e3aaeedf8c494b11240851e3fa0ad231b8f89734a54213cd69a1e6  88730.0       \n",
       "f43cac5f14e06ca039b173e14c323ac0c1fd8492f0cf082804f651cfca1c6f52  44149.0       \n",
       "cc7450e0b182947998534ef137b05e07109c100aced0b6c0a5d1f253c515101f  44931.0       "
      ]
     },
     "metadata": {},
     "output_type": "display_data"
    },
    {
     "name": "stdout",
     "output_type": "stream",
     "text": [
      "<class 'pandas.core.frame.DataFrame'>\n",
      "Index: 469475 entries, 1e7edd8347e3aaeedf8c494b11240851e3fa0ad231b8f89734a54213cd69a1e6 to a967ae57ac695531c02cc57fe3790d820a8f9a93d25486e9cc9a8af3b764b639\n",
      "Data columns (total 4 columns):\n",
      "is_churned       469475 non-null int64\n",
      "login_last_dt    469475 non-null float64\n",
      "level            469475 non-null int64\n",
      "donate_total     469475 non-null float64\n",
      "dtypes: float64(2), int64(2)\n",
      "memory usage: 17.9+ MB\n"
     ]
    },
    {
     "data": {
      "text/plain": [
       "None"
      ]
     },
     "metadata": {},
     "output_type": "display_data"
    }
   ],
   "source": [
    "display(df_sample_cast.head(3))\n",
    "display(df_sample_cast.info(null_counts=True))"
   ]
  },
  {
   "cell_type": "markdown",
   "metadata": {},
   "source": [
    "**sessions**"
   ]
  },
  {
   "cell_type": "code",
   "execution_count": 170,
   "metadata": {},
   "outputs": [],
   "source": [
    "%%write_and_run -a main.py\n",
    "df_sessions_cast = df_sessions.copy()\n",
    "df_sessions_cast['log_dt'] = pd.to_datetime(df_sessions_cast['log_dt'], format='%Y-%m-%d')\n",
    "\n",
    "df_sessions_agg = df_sessions_cast \\\n",
    "    .groupby(['user_id', pd.Grouper(key='log_dt', freq='W-MON')]) \\\n",
    "    .median() \\\n",
    "    .reset_index() \\\n",
    "    .pivot(index='user_id', columns='log_dt', values=['kd', 'win_rate', 'leavings_rate', 'session_player']) \\\n",
    "    .fillna(0)\n",
    "df_sessions_agg = rename_multi_index_cols(df_sessions_agg)\n",
    "\n",
    "df_to_merge.append(df_sessions_agg)"
   ]
  },
  {
   "cell_type": "code",
   "execution_count": 171,
   "metadata": {},
   "outputs": [
    {
     "data": {
      "text/html": [
       "<div>\n",
       "<style scoped>\n",
       "    .dataframe tbody tr th:only-of-type {\n",
       "        vertical-align: middle;\n",
       "    }\n",
       "\n",
       "    .dataframe tbody tr th {\n",
       "        vertical-align: top;\n",
       "    }\n",
       "\n",
       "    .dataframe thead th {\n",
       "        text-align: right;\n",
       "    }\n",
       "</style>\n",
       "<table border=\"1\" class=\"dataframe\">\n",
       "  <thead>\n",
       "    <tr style=\"text-align: right;\">\n",
       "      <th></th>\n",
       "      <th>kd_x8</th>\n",
       "      <th>kd_x7</th>\n",
       "      <th>kd_x6</th>\n",
       "      <th>kd_x5</th>\n",
       "      <th>kd_x4</th>\n",
       "      <th>kd_x3</th>\n",
       "      <th>kd_x2</th>\n",
       "      <th>kd_x1</th>\n",
       "      <th>kd_x0</th>\n",
       "      <th>win_rate_x8</th>\n",
       "      <th>win_rate_x7</th>\n",
       "      <th>win_rate_x6</th>\n",
       "      <th>win_rate_x5</th>\n",
       "      <th>win_rate_x4</th>\n",
       "      <th>win_rate_x3</th>\n",
       "      <th>win_rate_x2</th>\n",
       "      <th>win_rate_x1</th>\n",
       "      <th>win_rate_x0</th>\n",
       "      <th>leavings_rate_x8</th>\n",
       "      <th>leavings_rate_x7</th>\n",
       "      <th>leavings_rate_x6</th>\n",
       "      <th>leavings_rate_x5</th>\n",
       "      <th>leavings_rate_x4</th>\n",
       "      <th>leavings_rate_x3</th>\n",
       "      <th>leavings_rate_x2</th>\n",
       "      <th>leavings_rate_x1</th>\n",
       "      <th>leavings_rate_x0</th>\n",
       "      <th>session_player_x8</th>\n",
       "      <th>session_player_x7</th>\n",
       "      <th>session_player_x6</th>\n",
       "      <th>session_player_x5</th>\n",
       "      <th>session_player_x4</th>\n",
       "      <th>session_player_x3</th>\n",
       "      <th>session_player_x2</th>\n",
       "      <th>session_player_x1</th>\n",
       "      <th>session_player_x0</th>\n",
       "    </tr>\n",
       "    <tr>\n",
       "      <th>user_id</th>\n",
       "      <th></th>\n",
       "      <th></th>\n",
       "      <th></th>\n",
       "      <th></th>\n",
       "      <th></th>\n",
       "      <th></th>\n",
       "      <th></th>\n",
       "      <th></th>\n",
       "      <th></th>\n",
       "      <th></th>\n",
       "      <th></th>\n",
       "      <th></th>\n",
       "      <th></th>\n",
       "      <th></th>\n",
       "      <th></th>\n",
       "      <th></th>\n",
       "      <th></th>\n",
       "      <th></th>\n",
       "      <th></th>\n",
       "      <th></th>\n",
       "      <th></th>\n",
       "      <th></th>\n",
       "      <th></th>\n",
       "      <th></th>\n",
       "      <th></th>\n",
       "      <th></th>\n",
       "      <th></th>\n",
       "      <th></th>\n",
       "      <th></th>\n",
       "      <th></th>\n",
       "      <th></th>\n",
       "      <th></th>\n",
       "      <th></th>\n",
       "      <th></th>\n",
       "      <th></th>\n",
       "      <th></th>\n",
       "    </tr>\n",
       "  </thead>\n",
       "  <tbody>\n",
       "    <tr>\n",
       "      <th>00002b09f70d42fb0eb23342fcdfe2130285619b70d0e8aeea4e3d6d3eebe0aa</th>\n",
       "      <td>12.740937</td>\n",
       "      <td>1.037805</td>\n",
       "      <td>0.869048</td>\n",
       "      <td>1.687500</td>\n",
       "      <td>1.613385</td>\n",
       "      <td>0.833333</td>\n",
       "      <td>3.959430</td>\n",
       "      <td>0.937554</td>\n",
       "      <td>6.000000</td>\n",
       "      <td>1.75</td>\n",
       "      <td>0.906250</td>\n",
       "      <td>0.750000</td>\n",
       "      <td>1.000000</td>\n",
       "      <td>2.166667</td>\n",
       "      <td>0.454545</td>\n",
       "      <td>0.800000</td>\n",
       "      <td>1.555556</td>\n",
       "      <td>1.000000</td>\n",
       "      <td>0.071429</td>\n",
       "      <td>0.020833</td>\n",
       "      <td>0.0</td>\n",
       "      <td>0.0</td>\n",
       "      <td>0.062500</td>\n",
       "      <td>0.0</td>\n",
       "      <td>0.03125</td>\n",
       "      <td>0.0</td>\n",
       "      <td>0.0</td>\n",
       "      <td>3046.0</td>\n",
       "      <td>10801.5</td>\n",
       "      <td>4061.0</td>\n",
       "      <td>4643.0</td>\n",
       "      <td>5204.0</td>\n",
       "      <td>2692.0</td>\n",
       "      <td>6817.5</td>\n",
       "      <td>5092.0</td>\n",
       "      <td>6391.0</td>\n",
       "    </tr>\n",
       "    <tr>\n",
       "      <th>00005d03d47130a93ec8694fc06e003ac41bf25a8acc0e790e703958c8117ce6</th>\n",
       "      <td>0.986799</td>\n",
       "      <td>1.031908</td>\n",
       "      <td>1.250000</td>\n",
       "      <td>0.978105</td>\n",
       "      <td>1.006594</td>\n",
       "      <td>1.147059</td>\n",
       "      <td>1.111111</td>\n",
       "      <td>1.084615</td>\n",
       "      <td>1.000000</td>\n",
       "      <td>1.00</td>\n",
       "      <td>0.857143</td>\n",
       "      <td>0.750000</td>\n",
       "      <td>1.500000</td>\n",
       "      <td>0.750000</td>\n",
       "      <td>1.000000</td>\n",
       "      <td>2.000000</td>\n",
       "      <td>1.000000</td>\n",
       "      <td>0.125000</td>\n",
       "      <td>0.000000</td>\n",
       "      <td>0.000000</td>\n",
       "      <td>0.0</td>\n",
       "      <td>0.0</td>\n",
       "      <td>0.066667</td>\n",
       "      <td>0.0</td>\n",
       "      <td>0.00000</td>\n",
       "      <td>0.0</td>\n",
       "      <td>0.0</td>\n",
       "      <td>9670.0</td>\n",
       "      <td>4837.0</td>\n",
       "      <td>3361.0</td>\n",
       "      <td>2805.0</td>\n",
       "      <td>4798.0</td>\n",
       "      <td>803.0</td>\n",
       "      <td>3304.0</td>\n",
       "      <td>3472.0</td>\n",
       "      <td>2202.5</td>\n",
       "    </tr>\n",
       "    <tr>\n",
       "      <th>00005f0f4b503dcbe368d8610b2a5ba5202354a86edee41d961d362dfc4286a2</th>\n",
       "      <td>0.000000</td>\n",
       "      <td>0.000000</td>\n",
       "      <td>0.627328</td>\n",
       "      <td>0.545076</td>\n",
       "      <td>0.000000</td>\n",
       "      <td>0.000000</td>\n",
       "      <td>0.715134</td>\n",
       "      <td>0.000000</td>\n",
       "      <td>0.424242</td>\n",
       "      <td>0.00</td>\n",
       "      <td>0.000000</td>\n",
       "      <td>0.479167</td>\n",
       "      <td>0.733333</td>\n",
       "      <td>0.000000</td>\n",
       "      <td>0.000000</td>\n",
       "      <td>0.291667</td>\n",
       "      <td>0.000000</td>\n",
       "      <td>0.111111</td>\n",
       "      <td>0.000000</td>\n",
       "      <td>0.000000</td>\n",
       "      <td>0.0</td>\n",
       "      <td>0.0</td>\n",
       "      <td>0.000000</td>\n",
       "      <td>0.0</td>\n",
       "      <td>0.00000</td>\n",
       "      <td>0.0</td>\n",
       "      <td>0.0</td>\n",
       "      <td>0.0</td>\n",
       "      <td>0.0</td>\n",
       "      <td>4843.5</td>\n",
       "      <td>3250.5</td>\n",
       "      <td>0.0</td>\n",
       "      <td>0.0</td>\n",
       "      <td>2841.5</td>\n",
       "      <td>0.0</td>\n",
       "      <td>2491.0</td>\n",
       "    </tr>\n",
       "  </tbody>\n",
       "</table>\n",
       "</div>"
      ],
      "text/plain": [
       "                                                                      kd_x8  \\\n",
       "user_id                                                                       \n",
       "00002b09f70d42fb0eb23342fcdfe2130285619b70d0e8aeea4e3d6d3eebe0aa  12.740937   \n",
       "00005d03d47130a93ec8694fc06e003ac41bf25a8acc0e790e703958c8117ce6  0.986799    \n",
       "00005f0f4b503dcbe368d8610b2a5ba5202354a86edee41d961d362dfc4286a2  0.000000    \n",
       "\n",
       "                                                                     kd_x7  \\\n",
       "user_id                                                                      \n",
       "00002b09f70d42fb0eb23342fcdfe2130285619b70d0e8aeea4e3d6d3eebe0aa  1.037805   \n",
       "00005d03d47130a93ec8694fc06e003ac41bf25a8acc0e790e703958c8117ce6  1.031908   \n",
       "00005f0f4b503dcbe368d8610b2a5ba5202354a86edee41d961d362dfc4286a2  0.000000   \n",
       "\n",
       "                                                                     kd_x6  \\\n",
       "user_id                                                                      \n",
       "00002b09f70d42fb0eb23342fcdfe2130285619b70d0e8aeea4e3d6d3eebe0aa  0.869048   \n",
       "00005d03d47130a93ec8694fc06e003ac41bf25a8acc0e790e703958c8117ce6  1.250000   \n",
       "00005f0f4b503dcbe368d8610b2a5ba5202354a86edee41d961d362dfc4286a2  0.627328   \n",
       "\n",
       "                                                                     kd_x5  \\\n",
       "user_id                                                                      \n",
       "00002b09f70d42fb0eb23342fcdfe2130285619b70d0e8aeea4e3d6d3eebe0aa  1.687500   \n",
       "00005d03d47130a93ec8694fc06e003ac41bf25a8acc0e790e703958c8117ce6  0.978105   \n",
       "00005f0f4b503dcbe368d8610b2a5ba5202354a86edee41d961d362dfc4286a2  0.545076   \n",
       "\n",
       "                                                                     kd_x4  \\\n",
       "user_id                                                                      \n",
       "00002b09f70d42fb0eb23342fcdfe2130285619b70d0e8aeea4e3d6d3eebe0aa  1.613385   \n",
       "00005d03d47130a93ec8694fc06e003ac41bf25a8acc0e790e703958c8117ce6  1.006594   \n",
       "00005f0f4b503dcbe368d8610b2a5ba5202354a86edee41d961d362dfc4286a2  0.000000   \n",
       "\n",
       "                                                                     kd_x3  \\\n",
       "user_id                                                                      \n",
       "00002b09f70d42fb0eb23342fcdfe2130285619b70d0e8aeea4e3d6d3eebe0aa  0.833333   \n",
       "00005d03d47130a93ec8694fc06e003ac41bf25a8acc0e790e703958c8117ce6  1.147059   \n",
       "00005f0f4b503dcbe368d8610b2a5ba5202354a86edee41d961d362dfc4286a2  0.000000   \n",
       "\n",
       "                                                                     kd_x2  \\\n",
       "user_id                                                                      \n",
       "00002b09f70d42fb0eb23342fcdfe2130285619b70d0e8aeea4e3d6d3eebe0aa  3.959430   \n",
       "00005d03d47130a93ec8694fc06e003ac41bf25a8acc0e790e703958c8117ce6  1.111111   \n",
       "00005f0f4b503dcbe368d8610b2a5ba5202354a86edee41d961d362dfc4286a2  0.715134   \n",
       "\n",
       "                                                                     kd_x1  \\\n",
       "user_id                                                                      \n",
       "00002b09f70d42fb0eb23342fcdfe2130285619b70d0e8aeea4e3d6d3eebe0aa  0.937554   \n",
       "00005d03d47130a93ec8694fc06e003ac41bf25a8acc0e790e703958c8117ce6  1.084615   \n",
       "00005f0f4b503dcbe368d8610b2a5ba5202354a86edee41d961d362dfc4286a2  0.000000   \n",
       "\n",
       "                                                                     kd_x0  \\\n",
       "user_id                                                                      \n",
       "00002b09f70d42fb0eb23342fcdfe2130285619b70d0e8aeea4e3d6d3eebe0aa  6.000000   \n",
       "00005d03d47130a93ec8694fc06e003ac41bf25a8acc0e790e703958c8117ce6  1.000000   \n",
       "00005f0f4b503dcbe368d8610b2a5ba5202354a86edee41d961d362dfc4286a2  0.424242   \n",
       "\n",
       "                                                                  win_rate_x8  \\\n",
       "user_id                                                                         \n",
       "00002b09f70d42fb0eb23342fcdfe2130285619b70d0e8aeea4e3d6d3eebe0aa  1.75          \n",
       "00005d03d47130a93ec8694fc06e003ac41bf25a8acc0e790e703958c8117ce6  1.00          \n",
       "00005f0f4b503dcbe368d8610b2a5ba5202354a86edee41d961d362dfc4286a2  0.00          \n",
       "\n",
       "                                                                  win_rate_x7  \\\n",
       "user_id                                                                         \n",
       "00002b09f70d42fb0eb23342fcdfe2130285619b70d0e8aeea4e3d6d3eebe0aa  0.906250      \n",
       "00005d03d47130a93ec8694fc06e003ac41bf25a8acc0e790e703958c8117ce6  0.857143      \n",
       "00005f0f4b503dcbe368d8610b2a5ba5202354a86edee41d961d362dfc4286a2  0.000000      \n",
       "\n",
       "                                                                  win_rate_x6  \\\n",
       "user_id                                                                         \n",
       "00002b09f70d42fb0eb23342fcdfe2130285619b70d0e8aeea4e3d6d3eebe0aa  0.750000      \n",
       "00005d03d47130a93ec8694fc06e003ac41bf25a8acc0e790e703958c8117ce6  0.750000      \n",
       "00005f0f4b503dcbe368d8610b2a5ba5202354a86edee41d961d362dfc4286a2  0.479167      \n",
       "\n",
       "                                                                  win_rate_x5  \\\n",
       "user_id                                                                         \n",
       "00002b09f70d42fb0eb23342fcdfe2130285619b70d0e8aeea4e3d6d3eebe0aa  1.000000      \n",
       "00005d03d47130a93ec8694fc06e003ac41bf25a8acc0e790e703958c8117ce6  1.500000      \n",
       "00005f0f4b503dcbe368d8610b2a5ba5202354a86edee41d961d362dfc4286a2  0.733333      \n",
       "\n",
       "                                                                  win_rate_x4  \\\n",
       "user_id                                                                         \n",
       "00002b09f70d42fb0eb23342fcdfe2130285619b70d0e8aeea4e3d6d3eebe0aa  2.166667      \n",
       "00005d03d47130a93ec8694fc06e003ac41bf25a8acc0e790e703958c8117ce6  0.750000      \n",
       "00005f0f4b503dcbe368d8610b2a5ba5202354a86edee41d961d362dfc4286a2  0.000000      \n",
       "\n",
       "                                                                  win_rate_x3  \\\n",
       "user_id                                                                         \n",
       "00002b09f70d42fb0eb23342fcdfe2130285619b70d0e8aeea4e3d6d3eebe0aa  0.454545      \n",
       "00005d03d47130a93ec8694fc06e003ac41bf25a8acc0e790e703958c8117ce6  1.000000      \n",
       "00005f0f4b503dcbe368d8610b2a5ba5202354a86edee41d961d362dfc4286a2  0.000000      \n",
       "\n",
       "                                                                  win_rate_x2  \\\n",
       "user_id                                                                         \n",
       "00002b09f70d42fb0eb23342fcdfe2130285619b70d0e8aeea4e3d6d3eebe0aa  0.800000      \n",
       "00005d03d47130a93ec8694fc06e003ac41bf25a8acc0e790e703958c8117ce6  2.000000      \n",
       "00005f0f4b503dcbe368d8610b2a5ba5202354a86edee41d961d362dfc4286a2  0.291667      \n",
       "\n",
       "                                                                  win_rate_x1  \\\n",
       "user_id                                                                         \n",
       "00002b09f70d42fb0eb23342fcdfe2130285619b70d0e8aeea4e3d6d3eebe0aa  1.555556      \n",
       "00005d03d47130a93ec8694fc06e003ac41bf25a8acc0e790e703958c8117ce6  1.000000      \n",
       "00005f0f4b503dcbe368d8610b2a5ba5202354a86edee41d961d362dfc4286a2  0.000000      \n",
       "\n",
       "                                                                  win_rate_x0  \\\n",
       "user_id                                                                         \n",
       "00002b09f70d42fb0eb23342fcdfe2130285619b70d0e8aeea4e3d6d3eebe0aa  1.000000      \n",
       "00005d03d47130a93ec8694fc06e003ac41bf25a8acc0e790e703958c8117ce6  0.125000      \n",
       "00005f0f4b503dcbe368d8610b2a5ba5202354a86edee41d961d362dfc4286a2  0.111111      \n",
       "\n",
       "                                                                  leavings_rate_x8  \\\n",
       "user_id                                                                              \n",
       "00002b09f70d42fb0eb23342fcdfe2130285619b70d0e8aeea4e3d6d3eebe0aa  0.071429           \n",
       "00005d03d47130a93ec8694fc06e003ac41bf25a8acc0e790e703958c8117ce6  0.000000           \n",
       "00005f0f4b503dcbe368d8610b2a5ba5202354a86edee41d961d362dfc4286a2  0.000000           \n",
       "\n",
       "                                                                  leavings_rate_x7  \\\n",
       "user_id                                                                              \n",
       "00002b09f70d42fb0eb23342fcdfe2130285619b70d0e8aeea4e3d6d3eebe0aa  0.020833           \n",
       "00005d03d47130a93ec8694fc06e003ac41bf25a8acc0e790e703958c8117ce6  0.000000           \n",
       "00005f0f4b503dcbe368d8610b2a5ba5202354a86edee41d961d362dfc4286a2  0.000000           \n",
       "\n",
       "                                                                  leavings_rate_x6  \\\n",
       "user_id                                                                              \n",
       "00002b09f70d42fb0eb23342fcdfe2130285619b70d0e8aeea4e3d6d3eebe0aa  0.0                \n",
       "00005d03d47130a93ec8694fc06e003ac41bf25a8acc0e790e703958c8117ce6  0.0                \n",
       "00005f0f4b503dcbe368d8610b2a5ba5202354a86edee41d961d362dfc4286a2  0.0                \n",
       "\n",
       "                                                                  leavings_rate_x5  \\\n",
       "user_id                                                                              \n",
       "00002b09f70d42fb0eb23342fcdfe2130285619b70d0e8aeea4e3d6d3eebe0aa  0.0                \n",
       "00005d03d47130a93ec8694fc06e003ac41bf25a8acc0e790e703958c8117ce6  0.0                \n",
       "00005f0f4b503dcbe368d8610b2a5ba5202354a86edee41d961d362dfc4286a2  0.0                \n",
       "\n",
       "                                                                  leavings_rate_x4  \\\n",
       "user_id                                                                              \n",
       "00002b09f70d42fb0eb23342fcdfe2130285619b70d0e8aeea4e3d6d3eebe0aa  0.062500           \n",
       "00005d03d47130a93ec8694fc06e003ac41bf25a8acc0e790e703958c8117ce6  0.066667           \n",
       "00005f0f4b503dcbe368d8610b2a5ba5202354a86edee41d961d362dfc4286a2  0.000000           \n",
       "\n",
       "                                                                  leavings_rate_x3  \\\n",
       "user_id                                                                              \n",
       "00002b09f70d42fb0eb23342fcdfe2130285619b70d0e8aeea4e3d6d3eebe0aa  0.0                \n",
       "00005d03d47130a93ec8694fc06e003ac41bf25a8acc0e790e703958c8117ce6  0.0                \n",
       "00005f0f4b503dcbe368d8610b2a5ba5202354a86edee41d961d362dfc4286a2  0.0                \n",
       "\n",
       "                                                                  leavings_rate_x2  \\\n",
       "user_id                                                                              \n",
       "00002b09f70d42fb0eb23342fcdfe2130285619b70d0e8aeea4e3d6d3eebe0aa  0.03125            \n",
       "00005d03d47130a93ec8694fc06e003ac41bf25a8acc0e790e703958c8117ce6  0.00000            \n",
       "00005f0f4b503dcbe368d8610b2a5ba5202354a86edee41d961d362dfc4286a2  0.00000            \n",
       "\n",
       "                                                                  leavings_rate_x1  \\\n",
       "user_id                                                                              \n",
       "00002b09f70d42fb0eb23342fcdfe2130285619b70d0e8aeea4e3d6d3eebe0aa  0.0                \n",
       "00005d03d47130a93ec8694fc06e003ac41bf25a8acc0e790e703958c8117ce6  0.0                \n",
       "00005f0f4b503dcbe368d8610b2a5ba5202354a86edee41d961d362dfc4286a2  0.0                \n",
       "\n",
       "                                                                  leavings_rate_x0  \\\n",
       "user_id                                                                              \n",
       "00002b09f70d42fb0eb23342fcdfe2130285619b70d0e8aeea4e3d6d3eebe0aa  0.0                \n",
       "00005d03d47130a93ec8694fc06e003ac41bf25a8acc0e790e703958c8117ce6  0.0                \n",
       "00005f0f4b503dcbe368d8610b2a5ba5202354a86edee41d961d362dfc4286a2  0.0                \n",
       "\n",
       "                                                                  session_player_x8  \\\n",
       "user_id                                                                               \n",
       "00002b09f70d42fb0eb23342fcdfe2130285619b70d0e8aeea4e3d6d3eebe0aa  3046.0              \n",
       "00005d03d47130a93ec8694fc06e003ac41bf25a8acc0e790e703958c8117ce6  9670.0              \n",
       "00005f0f4b503dcbe368d8610b2a5ba5202354a86edee41d961d362dfc4286a2  0.0                 \n",
       "\n",
       "                                                                  session_player_x7  \\\n",
       "user_id                                                                               \n",
       "00002b09f70d42fb0eb23342fcdfe2130285619b70d0e8aeea4e3d6d3eebe0aa  10801.5             \n",
       "00005d03d47130a93ec8694fc06e003ac41bf25a8acc0e790e703958c8117ce6  4837.0              \n",
       "00005f0f4b503dcbe368d8610b2a5ba5202354a86edee41d961d362dfc4286a2  0.0                 \n",
       "\n",
       "                                                                  session_player_x6  \\\n",
       "user_id                                                                               \n",
       "00002b09f70d42fb0eb23342fcdfe2130285619b70d0e8aeea4e3d6d3eebe0aa  4061.0              \n",
       "00005d03d47130a93ec8694fc06e003ac41bf25a8acc0e790e703958c8117ce6  3361.0              \n",
       "00005f0f4b503dcbe368d8610b2a5ba5202354a86edee41d961d362dfc4286a2  4843.5              \n",
       "\n",
       "                                                                  session_player_x5  \\\n",
       "user_id                                                                               \n",
       "00002b09f70d42fb0eb23342fcdfe2130285619b70d0e8aeea4e3d6d3eebe0aa  4643.0              \n",
       "00005d03d47130a93ec8694fc06e003ac41bf25a8acc0e790e703958c8117ce6  2805.0              \n",
       "00005f0f4b503dcbe368d8610b2a5ba5202354a86edee41d961d362dfc4286a2  3250.5              \n",
       "\n",
       "                                                                  session_player_x4  \\\n",
       "user_id                                                                               \n",
       "00002b09f70d42fb0eb23342fcdfe2130285619b70d0e8aeea4e3d6d3eebe0aa  5204.0              \n",
       "00005d03d47130a93ec8694fc06e003ac41bf25a8acc0e790e703958c8117ce6  4798.0              \n",
       "00005f0f4b503dcbe368d8610b2a5ba5202354a86edee41d961d362dfc4286a2  0.0                 \n",
       "\n",
       "                                                                  session_player_x3  \\\n",
       "user_id                                                                               \n",
       "00002b09f70d42fb0eb23342fcdfe2130285619b70d0e8aeea4e3d6d3eebe0aa  2692.0              \n",
       "00005d03d47130a93ec8694fc06e003ac41bf25a8acc0e790e703958c8117ce6  803.0               \n",
       "00005f0f4b503dcbe368d8610b2a5ba5202354a86edee41d961d362dfc4286a2  0.0                 \n",
       "\n",
       "                                                                  session_player_x2  \\\n",
       "user_id                                                                               \n",
       "00002b09f70d42fb0eb23342fcdfe2130285619b70d0e8aeea4e3d6d3eebe0aa  6817.5              \n",
       "00005d03d47130a93ec8694fc06e003ac41bf25a8acc0e790e703958c8117ce6  3304.0              \n",
       "00005f0f4b503dcbe368d8610b2a5ba5202354a86edee41d961d362dfc4286a2  2841.5              \n",
       "\n",
       "                                                                  session_player_x1  \\\n",
       "user_id                                                                               \n",
       "00002b09f70d42fb0eb23342fcdfe2130285619b70d0e8aeea4e3d6d3eebe0aa  5092.0              \n",
       "00005d03d47130a93ec8694fc06e003ac41bf25a8acc0e790e703958c8117ce6  3472.0              \n",
       "00005f0f4b503dcbe368d8610b2a5ba5202354a86edee41d961d362dfc4286a2  0.0                 \n",
       "\n",
       "                                                                  session_player_x0  \n",
       "user_id                                                                              \n",
       "00002b09f70d42fb0eb23342fcdfe2130285619b70d0e8aeea4e3d6d3eebe0aa  6391.0             \n",
       "00005d03d47130a93ec8694fc06e003ac41bf25a8acc0e790e703958c8117ce6  2202.5             \n",
       "00005f0f4b503dcbe368d8610b2a5ba5202354a86edee41d961d362dfc4286a2  2491.0             "
      ]
     },
     "metadata": {},
     "output_type": "display_data"
    },
    {
     "name": "stdout",
     "output_type": "stream",
     "text": [
      "<class 'pandas.core.frame.DataFrame'>\n",
      "Index: 395493 entries, 00002b09f70d42fb0eb23342fcdfe2130285619b70d0e8aeea4e3d6d3eebe0aa to ffffcdc0e8ec6761dacf730170fc93b4211cf10c828fa20cfd02b84f26cd4962\n",
      "Data columns (total 36 columns):\n",
      "kd_x8                395493 non-null float64\n",
      "kd_x7                395493 non-null float64\n",
      "kd_x6                395493 non-null float64\n",
      "kd_x5                395493 non-null float64\n",
      "kd_x4                395493 non-null float64\n",
      "kd_x3                395493 non-null float64\n",
      "kd_x2                395493 non-null float64\n",
      "kd_x1                395493 non-null float64\n",
      "kd_x0                395493 non-null float64\n",
      "win_rate_x8          395493 non-null float64\n",
      "win_rate_x7          395493 non-null float64\n",
      "win_rate_x6          395493 non-null float64\n",
      "win_rate_x5          395493 non-null float64\n",
      "win_rate_x4          395493 non-null float64\n",
      "win_rate_x3          395493 non-null float64\n",
      "win_rate_x2          395493 non-null float64\n",
      "win_rate_x1          395493 non-null float64\n",
      "win_rate_x0          395493 non-null float64\n",
      "leavings_rate_x8     395493 non-null float64\n",
      "leavings_rate_x7     395493 non-null float64\n",
      "leavings_rate_x6     395493 non-null float64\n",
      "leavings_rate_x5     395493 non-null float64\n",
      "leavings_rate_x4     395493 non-null float64\n",
      "leavings_rate_x3     395493 non-null float64\n",
      "leavings_rate_x2     395493 non-null float64\n",
      "leavings_rate_x1     395493 non-null float64\n",
      "leavings_rate_x0     395493 non-null float64\n",
      "session_player_x8    395493 non-null float64\n",
      "session_player_x7    395493 non-null float64\n",
      "session_player_x6    395493 non-null float64\n",
      "session_player_x5    395493 non-null float64\n",
      "session_player_x4    395493 non-null float64\n",
      "session_player_x3    395493 non-null float64\n",
      "session_player_x2    395493 non-null float64\n",
      "session_player_x1    395493 non-null float64\n",
      "session_player_x0    395493 non-null float64\n",
      "dtypes: float64(36)\n",
      "memory usage: 111.6+ MB\n"
     ]
    },
    {
     "data": {
      "text/plain": [
       "None"
      ]
     },
     "metadata": {},
     "output_type": "display_data"
    }
   ],
   "source": [
    "display(df_sessions_agg.head(3))\n",
    "display(df_sessions_agg.info(null_counts=True))"
   ]
  },
  {
   "cell_type": "markdown",
   "metadata": {},
   "source": [
    "**shop**"
   ]
  },
  {
   "cell_type": "code",
   "execution_count": 168,
   "metadata": {},
   "outputs": [],
   "source": [
    "%%write_and_run -a main.py\n",
    "df_shop_cast = df_shop.copy()\n",
    "df_shop_cast['log_dt'] = pd.to_datetime(df_shop_cast['log_dt'], format='%Y-%m-%d')\n",
    "\n",
    "df_shop_agg = df_shop_cast \\\n",
    "    .groupby(['user_id', pd.Grouper(key='log_dt', freq='W-MON')]) \\\n",
    "    .sum() \\\n",
    "    .reset_index() \\\n",
    "    .pivot(index='user_id', columns='log_dt', values=['silver_spent', 'gold_spent']) \\\n",
    "    .fillna(0)\n",
    "df_shop_agg = rename_multi_index_cols(df_shop_agg)\n",
    "\n",
    "df_to_merge.append(df_shop_agg)"
   ]
  },
  {
   "cell_type": "code",
   "execution_count": 169,
   "metadata": {},
   "outputs": [
    {
     "data": {
      "text/html": [
       "<div>\n",
       "<style scoped>\n",
       "    .dataframe tbody tr th:only-of-type {\n",
       "        vertical-align: middle;\n",
       "    }\n",
       "\n",
       "    .dataframe tbody tr th {\n",
       "        vertical-align: top;\n",
       "    }\n",
       "\n",
       "    .dataframe thead th {\n",
       "        text-align: right;\n",
       "    }\n",
       "</style>\n",
       "<table border=\"1\" class=\"dataframe\">\n",
       "  <thead>\n",
       "    <tr style=\"text-align: right;\">\n",
       "      <th></th>\n",
       "      <th>silver_spent_x8</th>\n",
       "      <th>silver_spent_x7</th>\n",
       "      <th>silver_spent_x6</th>\n",
       "      <th>silver_spent_x5</th>\n",
       "      <th>silver_spent_x4</th>\n",
       "      <th>silver_spent_x3</th>\n",
       "      <th>silver_spent_x2</th>\n",
       "      <th>silver_spent_x1</th>\n",
       "      <th>silver_spent_x0</th>\n",
       "      <th>gold_spent_x8</th>\n",
       "      <th>gold_spent_x7</th>\n",
       "      <th>gold_spent_x6</th>\n",
       "      <th>gold_spent_x5</th>\n",
       "      <th>gold_spent_x4</th>\n",
       "      <th>gold_spent_x3</th>\n",
       "      <th>gold_spent_x2</th>\n",
       "      <th>gold_spent_x1</th>\n",
       "      <th>gold_spent_x0</th>\n",
       "    </tr>\n",
       "    <tr>\n",
       "      <th>user_id</th>\n",
       "      <th></th>\n",
       "      <th></th>\n",
       "      <th></th>\n",
       "      <th></th>\n",
       "      <th></th>\n",
       "      <th></th>\n",
       "      <th></th>\n",
       "      <th></th>\n",
       "      <th></th>\n",
       "      <th></th>\n",
       "      <th></th>\n",
       "      <th></th>\n",
       "      <th></th>\n",
       "      <th></th>\n",
       "      <th></th>\n",
       "      <th></th>\n",
       "      <th></th>\n",
       "      <th></th>\n",
       "    </tr>\n",
       "  </thead>\n",
       "  <tbody>\n",
       "    <tr>\n",
       "      <th>00002b09f70d42fb0eb23342fcdfe2130285619b70d0e8aeea4e3d6d3eebe0aa</th>\n",
       "      <td>0.0</td>\n",
       "      <td>19000.0</td>\n",
       "      <td>18900.0</td>\n",
       "      <td>0.0</td>\n",
       "      <td>98000.0</td>\n",
       "      <td>0.0</td>\n",
       "      <td>0.0</td>\n",
       "      <td>41500.0</td>\n",
       "      <td>25200.0</td>\n",
       "      <td>0.0</td>\n",
       "      <td>0.0</td>\n",
       "      <td>0.0</td>\n",
       "      <td>0.0</td>\n",
       "      <td>0.0</td>\n",
       "      <td>0.0</td>\n",
       "      <td>0.0</td>\n",
       "      <td>0.0</td>\n",
       "      <td>0.0</td>\n",
       "    </tr>\n",
       "    <tr>\n",
       "      <th>00005d03d47130a93ec8694fc06e003ac41bf25a8acc0e790e703958c8117ce6</th>\n",
       "      <td>0.0</td>\n",
       "      <td>0.0</td>\n",
       "      <td>0.0</td>\n",
       "      <td>0.0</td>\n",
       "      <td>0.0</td>\n",
       "      <td>0.0</td>\n",
       "      <td>141200.0</td>\n",
       "      <td>85850.0</td>\n",
       "      <td>76850.0</td>\n",
       "      <td>0.0</td>\n",
       "      <td>4964.0</td>\n",
       "      <td>0.0</td>\n",
       "      <td>4556.0</td>\n",
       "      <td>4710.0</td>\n",
       "      <td>0.0</td>\n",
       "      <td>0.0</td>\n",
       "      <td>0.0</td>\n",
       "      <td>0.0</td>\n",
       "    </tr>\n",
       "    <tr>\n",
       "      <th>00005f0f4b503dcbe368d8610b2a5ba5202354a86edee41d961d362dfc4286a2</th>\n",
       "      <td>0.0</td>\n",
       "      <td>0.0</td>\n",
       "      <td>0.0</td>\n",
       "      <td>0.0</td>\n",
       "      <td>0.0</td>\n",
       "      <td>0.0</td>\n",
       "      <td>80000.0</td>\n",
       "      <td>0.0</td>\n",
       "      <td>0.0</td>\n",
       "      <td>0.0</td>\n",
       "      <td>0.0</td>\n",
       "      <td>360.0</td>\n",
       "      <td>0.0</td>\n",
       "      <td>0.0</td>\n",
       "      <td>0.0</td>\n",
       "      <td>0.0</td>\n",
       "      <td>0.0</td>\n",
       "      <td>24.0</td>\n",
       "    </tr>\n",
       "  </tbody>\n",
       "</table>\n",
       "</div>"
      ],
      "text/plain": [
       "                                                                  silver_spent_x8  \\\n",
       "user_id                                                                             \n",
       "00002b09f70d42fb0eb23342fcdfe2130285619b70d0e8aeea4e3d6d3eebe0aa  0.0               \n",
       "00005d03d47130a93ec8694fc06e003ac41bf25a8acc0e790e703958c8117ce6  0.0               \n",
       "00005f0f4b503dcbe368d8610b2a5ba5202354a86edee41d961d362dfc4286a2  0.0               \n",
       "\n",
       "                                                                  silver_spent_x7  \\\n",
       "user_id                                                                             \n",
       "00002b09f70d42fb0eb23342fcdfe2130285619b70d0e8aeea4e3d6d3eebe0aa  19000.0           \n",
       "00005d03d47130a93ec8694fc06e003ac41bf25a8acc0e790e703958c8117ce6  0.0               \n",
       "00005f0f4b503dcbe368d8610b2a5ba5202354a86edee41d961d362dfc4286a2  0.0               \n",
       "\n",
       "                                                                  silver_spent_x6  \\\n",
       "user_id                                                                             \n",
       "00002b09f70d42fb0eb23342fcdfe2130285619b70d0e8aeea4e3d6d3eebe0aa  18900.0           \n",
       "00005d03d47130a93ec8694fc06e003ac41bf25a8acc0e790e703958c8117ce6  0.0               \n",
       "00005f0f4b503dcbe368d8610b2a5ba5202354a86edee41d961d362dfc4286a2  0.0               \n",
       "\n",
       "                                                                  silver_spent_x5  \\\n",
       "user_id                                                                             \n",
       "00002b09f70d42fb0eb23342fcdfe2130285619b70d0e8aeea4e3d6d3eebe0aa  0.0               \n",
       "00005d03d47130a93ec8694fc06e003ac41bf25a8acc0e790e703958c8117ce6  0.0               \n",
       "00005f0f4b503dcbe368d8610b2a5ba5202354a86edee41d961d362dfc4286a2  0.0               \n",
       "\n",
       "                                                                  silver_spent_x4  \\\n",
       "user_id                                                                             \n",
       "00002b09f70d42fb0eb23342fcdfe2130285619b70d0e8aeea4e3d6d3eebe0aa  98000.0           \n",
       "00005d03d47130a93ec8694fc06e003ac41bf25a8acc0e790e703958c8117ce6  0.0               \n",
       "00005f0f4b503dcbe368d8610b2a5ba5202354a86edee41d961d362dfc4286a2  0.0               \n",
       "\n",
       "                                                                  silver_spent_x3  \\\n",
       "user_id                                                                             \n",
       "00002b09f70d42fb0eb23342fcdfe2130285619b70d0e8aeea4e3d6d3eebe0aa  0.0               \n",
       "00005d03d47130a93ec8694fc06e003ac41bf25a8acc0e790e703958c8117ce6  0.0               \n",
       "00005f0f4b503dcbe368d8610b2a5ba5202354a86edee41d961d362dfc4286a2  0.0               \n",
       "\n",
       "                                                                  silver_spent_x2  \\\n",
       "user_id                                                                             \n",
       "00002b09f70d42fb0eb23342fcdfe2130285619b70d0e8aeea4e3d6d3eebe0aa  0.0               \n",
       "00005d03d47130a93ec8694fc06e003ac41bf25a8acc0e790e703958c8117ce6  141200.0          \n",
       "00005f0f4b503dcbe368d8610b2a5ba5202354a86edee41d961d362dfc4286a2  80000.0           \n",
       "\n",
       "                                                                  silver_spent_x1  \\\n",
       "user_id                                                                             \n",
       "00002b09f70d42fb0eb23342fcdfe2130285619b70d0e8aeea4e3d6d3eebe0aa  41500.0           \n",
       "00005d03d47130a93ec8694fc06e003ac41bf25a8acc0e790e703958c8117ce6  85850.0           \n",
       "00005f0f4b503dcbe368d8610b2a5ba5202354a86edee41d961d362dfc4286a2  0.0               \n",
       "\n",
       "                                                                  silver_spent_x0  \\\n",
       "user_id                                                                             \n",
       "00002b09f70d42fb0eb23342fcdfe2130285619b70d0e8aeea4e3d6d3eebe0aa  25200.0           \n",
       "00005d03d47130a93ec8694fc06e003ac41bf25a8acc0e790e703958c8117ce6  76850.0           \n",
       "00005f0f4b503dcbe368d8610b2a5ba5202354a86edee41d961d362dfc4286a2  0.0               \n",
       "\n",
       "                                                                  gold_spent_x8  \\\n",
       "user_id                                                                           \n",
       "00002b09f70d42fb0eb23342fcdfe2130285619b70d0e8aeea4e3d6d3eebe0aa  0.0             \n",
       "00005d03d47130a93ec8694fc06e003ac41bf25a8acc0e790e703958c8117ce6  0.0             \n",
       "00005f0f4b503dcbe368d8610b2a5ba5202354a86edee41d961d362dfc4286a2  0.0             \n",
       "\n",
       "                                                                  gold_spent_x7  \\\n",
       "user_id                                                                           \n",
       "00002b09f70d42fb0eb23342fcdfe2130285619b70d0e8aeea4e3d6d3eebe0aa  0.0             \n",
       "00005d03d47130a93ec8694fc06e003ac41bf25a8acc0e790e703958c8117ce6  4964.0          \n",
       "00005f0f4b503dcbe368d8610b2a5ba5202354a86edee41d961d362dfc4286a2  0.0             \n",
       "\n",
       "                                                                  gold_spent_x6  \\\n",
       "user_id                                                                           \n",
       "00002b09f70d42fb0eb23342fcdfe2130285619b70d0e8aeea4e3d6d3eebe0aa  0.0             \n",
       "00005d03d47130a93ec8694fc06e003ac41bf25a8acc0e790e703958c8117ce6  0.0             \n",
       "00005f0f4b503dcbe368d8610b2a5ba5202354a86edee41d961d362dfc4286a2  360.0           \n",
       "\n",
       "                                                                  gold_spent_x5  \\\n",
       "user_id                                                                           \n",
       "00002b09f70d42fb0eb23342fcdfe2130285619b70d0e8aeea4e3d6d3eebe0aa  0.0             \n",
       "00005d03d47130a93ec8694fc06e003ac41bf25a8acc0e790e703958c8117ce6  4556.0          \n",
       "00005f0f4b503dcbe368d8610b2a5ba5202354a86edee41d961d362dfc4286a2  0.0             \n",
       "\n",
       "                                                                  gold_spent_x4  \\\n",
       "user_id                                                                           \n",
       "00002b09f70d42fb0eb23342fcdfe2130285619b70d0e8aeea4e3d6d3eebe0aa  0.0             \n",
       "00005d03d47130a93ec8694fc06e003ac41bf25a8acc0e790e703958c8117ce6  4710.0          \n",
       "00005f0f4b503dcbe368d8610b2a5ba5202354a86edee41d961d362dfc4286a2  0.0             \n",
       "\n",
       "                                                                  gold_spent_x3  \\\n",
       "user_id                                                                           \n",
       "00002b09f70d42fb0eb23342fcdfe2130285619b70d0e8aeea4e3d6d3eebe0aa  0.0             \n",
       "00005d03d47130a93ec8694fc06e003ac41bf25a8acc0e790e703958c8117ce6  0.0             \n",
       "00005f0f4b503dcbe368d8610b2a5ba5202354a86edee41d961d362dfc4286a2  0.0             \n",
       "\n",
       "                                                                  gold_spent_x2  \\\n",
       "user_id                                                                           \n",
       "00002b09f70d42fb0eb23342fcdfe2130285619b70d0e8aeea4e3d6d3eebe0aa  0.0             \n",
       "00005d03d47130a93ec8694fc06e003ac41bf25a8acc0e790e703958c8117ce6  0.0             \n",
       "00005f0f4b503dcbe368d8610b2a5ba5202354a86edee41d961d362dfc4286a2  0.0             \n",
       "\n",
       "                                                                  gold_spent_x1  \\\n",
       "user_id                                                                           \n",
       "00002b09f70d42fb0eb23342fcdfe2130285619b70d0e8aeea4e3d6d3eebe0aa  0.0             \n",
       "00005d03d47130a93ec8694fc06e003ac41bf25a8acc0e790e703958c8117ce6  0.0             \n",
       "00005f0f4b503dcbe368d8610b2a5ba5202354a86edee41d961d362dfc4286a2  0.0             \n",
       "\n",
       "                                                                  gold_spent_x0  \n",
       "user_id                                                                          \n",
       "00002b09f70d42fb0eb23342fcdfe2130285619b70d0e8aeea4e3d6d3eebe0aa  0.0            \n",
       "00005d03d47130a93ec8694fc06e003ac41bf25a8acc0e790e703958c8117ce6  0.0            \n",
       "00005f0f4b503dcbe368d8610b2a5ba5202354a86edee41d961d362dfc4286a2  24.0           "
      ]
     },
     "metadata": {},
     "output_type": "display_data"
    },
    {
     "name": "stdout",
     "output_type": "stream",
     "text": [
      "<class 'pandas.core.frame.DataFrame'>\n",
      "Index: 407755 entries, 00002b09f70d42fb0eb23342fcdfe2130285619b70d0e8aeea4e3d6d3eebe0aa to ffffcdc0e8ec6761dacf730170fc93b4211cf10c828fa20cfd02b84f26cd4962\n",
      "Data columns (total 18 columns):\n",
      "silver_spent_x8    407755 non-null float64\n",
      "silver_spent_x7    407755 non-null float64\n",
      "silver_spent_x6    407755 non-null float64\n",
      "silver_spent_x5    407755 non-null float64\n",
      "silver_spent_x4    407755 non-null float64\n",
      "silver_spent_x3    407755 non-null float64\n",
      "silver_spent_x2    407755 non-null float64\n",
      "silver_spent_x1    407755 non-null float64\n",
      "silver_spent_x0    407755 non-null float64\n",
      "gold_spent_x8      407755 non-null float64\n",
      "gold_spent_x7      407755 non-null float64\n",
      "gold_spent_x6      407755 non-null float64\n",
      "gold_spent_x5      407755 non-null float64\n",
      "gold_spent_x4      407755 non-null float64\n",
      "gold_spent_x3      407755 non-null float64\n",
      "gold_spent_x2      407755 non-null float64\n",
      "gold_spent_x1      407755 non-null float64\n",
      "gold_spent_x0      407755 non-null float64\n",
      "dtypes: float64(18)\n",
      "memory usage: 59.1+ MB\n"
     ]
    },
    {
     "data": {
      "text/plain": [
       "None"
      ]
     },
     "metadata": {},
     "output_type": "display_data"
    }
   ],
   "source": [
    "display(df_shop_agg.head(3))\n",
    "display(df_shop_agg.info(null_counts=True))"
   ]
  },
  {
   "cell_type": "markdown",
   "metadata": {},
   "source": [
    "### Объединение в единый датасет<a class=\"anchor\" id=\"compose_join\"></a>"
   ]
  },
  {
   "cell_type": "code",
   "execution_count": 112,
   "metadata": {},
   "outputs": [],
   "source": [
    "%%write_and_run main.py\n",
    "############################## UNIFIED DATASET ##############################\n",
    "df_train =  df_sample[['level', 'donate_total', 'is_churned']]"
   ]
  },
  {
   "cell_type": "code",
   "execution_count": 113,
   "metadata": {},
   "outputs": [
    {
     "data": {
      "text/html": [
       "<div>\n",
       "<style scoped>\n",
       "    .dataframe tbody tr th:only-of-type {\n",
       "        vertical-align: middle;\n",
       "    }\n",
       "\n",
       "    .dataframe tbody tr th {\n",
       "        vertical-align: top;\n",
       "    }\n",
       "\n",
       "    .dataframe thead th {\n",
       "        text-align: right;\n",
       "    }\n",
       "</style>\n",
       "<table border=\"1\" class=\"dataframe\">\n",
       "  <thead>\n",
       "    <tr style=\"text-align: right;\">\n",
       "      <th></th>\n",
       "      <th>level</th>\n",
       "      <th>donate_total</th>\n",
       "      <th>is_churned</th>\n",
       "    </tr>\n",
       "  </thead>\n",
       "  <tbody>\n",
       "    <tr>\n",
       "      <th>0</th>\n",
       "      <td>43</td>\n",
       "      <td>88730.0</td>\n",
       "      <td>0</td>\n",
       "    </tr>\n",
       "    <tr>\n",
       "      <th>1</th>\n",
       "      <td>50</td>\n",
       "      <td>44149.0</td>\n",
       "      <td>0</td>\n",
       "    </tr>\n",
       "    <tr>\n",
       "      <th>2</th>\n",
       "      <td>37</td>\n",
       "      <td>44931.0</td>\n",
       "      <td>0</td>\n",
       "    </tr>\n",
       "  </tbody>\n",
       "</table>\n",
       "</div>"
      ],
      "text/plain": [
       "   level  donate_total  is_churned\n",
       "0     43       88730.0           0\n",
       "1     50       44149.0           0\n",
       "2     37       44931.0           0"
      ]
     },
     "execution_count": 113,
     "metadata": {},
     "output_type": "execute_result"
    }
   ],
   "source": [
    "df_train.head(3)"
   ]
  },
  {
   "cell_type": "code",
   "execution_count": 115,
   "metadata": {},
   "outputs": [
    {
     "data": {
      "text/plain": [
       "(469475, 3)"
      ]
     },
     "execution_count": 115,
     "metadata": {},
     "output_type": "execute_result"
    }
   ],
   "source": [
    "df_train.shape"
   ]
  },
  {
   "cell_type": "code",
   "execution_count": 114,
   "metadata": {},
   "outputs": [
    {
     "name": "stdout",
     "output_type": "stream",
     "text": [
      "<class 'pandas.core.frame.DataFrame'>\n",
      "RangeIndex: 469475 entries, 0 to 469474\n",
      "Data columns (total 3 columns):\n",
      "level           469475 non-null int64\n",
      "donate_total    469475 non-null float64\n",
      "is_churned      469475 non-null int64\n",
      "dtypes: float64(1), int64(2)\n",
      "memory usage: 10.7 MB\n"
     ]
    }
   ],
   "source": [
    "df_train.info(null_counts=True)"
   ]
  },
  {
   "cell_type": "markdown",
   "metadata": {},
   "source": [
    "**Обзор целевой переменной**"
   ]
  },
  {
   "cell_type": "code",
   "execution_count": 116,
   "metadata": {},
   "outputs": [
    {
     "data": {
      "text/plain": [
       "0    455650\n",
       "1     13825\n",
       "Name: is_churned, dtype: int64"
      ]
     },
     "execution_count": 116,
     "metadata": {},
     "output_type": "execute_result"
    }
   ],
   "source": [
    "df_train['is_churned'].value_counts()"
   ]
  },
  {
   "cell_type": "markdown",
   "metadata": {},
   "source": [
    "**Обзор количественных признаков**"
   ]
  },
  {
   "cell_type": "code",
   "execution_count": 117,
   "metadata": {},
   "outputs": [
    {
     "data": {
      "text/html": [
       "<div>\n",
       "<style scoped>\n",
       "    .dataframe tbody tr th:only-of-type {\n",
       "        vertical-align: middle;\n",
       "    }\n",
       "\n",
       "    .dataframe tbody tr th {\n",
       "        vertical-align: top;\n",
       "    }\n",
       "\n",
       "    .dataframe thead th {\n",
       "        text-align: right;\n",
       "    }\n",
       "</style>\n",
       "<table border=\"1\" class=\"dataframe\">\n",
       "  <thead>\n",
       "    <tr style=\"text-align: right;\">\n",
       "      <th></th>\n",
       "      <th>level</th>\n",
       "      <th>donate_total</th>\n",
       "      <th>is_churned</th>\n",
       "    </tr>\n",
       "  </thead>\n",
       "  <tbody>\n",
       "    <tr>\n",
       "      <th>count</th>\n",
       "      <td>469475.000000</td>\n",
       "      <td>4.694750e+05</td>\n",
       "      <td>469475.000000</td>\n",
       "    </tr>\n",
       "    <tr>\n",
       "      <th>mean</th>\n",
       "      <td>26.792698</td>\n",
       "      <td>4.800206e+04</td>\n",
       "      <td>0.029448</td>\n",
       "    </tr>\n",
       "    <tr>\n",
       "      <th>std</th>\n",
       "      <td>12.680296</td>\n",
       "      <td>8.576742e+04</td>\n",
       "      <td>0.169058</td>\n",
       "    </tr>\n",
       "    <tr>\n",
       "      <th>min</th>\n",
       "      <td>10.000000</td>\n",
       "      <td>6.000000e-02</td>\n",
       "      <td>0.000000</td>\n",
       "    </tr>\n",
       "    <tr>\n",
       "      <th>25%</th>\n",
       "      <td>17.000000</td>\n",
       "      <td>6.312000e+03</td>\n",
       "      <td>0.000000</td>\n",
       "    </tr>\n",
       "    <tr>\n",
       "      <th>50%</th>\n",
       "      <td>23.000000</td>\n",
       "      <td>2.019600e+04</td>\n",
       "      <td>0.000000</td>\n",
       "    </tr>\n",
       "    <tr>\n",
       "      <th>75%</th>\n",
       "      <td>36.000000</td>\n",
       "      <td>5.543250e+04</td>\n",
       "      <td>0.000000</td>\n",
       "    </tr>\n",
       "    <tr>\n",
       "      <th>max</th>\n",
       "      <td>50.000000</td>\n",
       "      <td>4.356043e+06</td>\n",
       "      <td>1.000000</td>\n",
       "    </tr>\n",
       "  </tbody>\n",
       "</table>\n",
       "</div>"
      ],
      "text/plain": [
       "               level  donate_total     is_churned\n",
       "count  469475.000000  4.694750e+05  469475.000000\n",
       "mean       26.792698  4.800206e+04       0.029448\n",
       "std        12.680296  8.576742e+04       0.169058\n",
       "min        10.000000  6.000000e-02       0.000000\n",
       "25%        17.000000  6.312000e+03       0.000000\n",
       "50%        23.000000  2.019600e+04       0.000000\n",
       "75%        36.000000  5.543250e+04       0.000000\n",
       "max        50.000000  4.356043e+06       1.000000"
      ]
     },
     "execution_count": 117,
     "metadata": {},
     "output_type": "execute_result"
    }
   ],
   "source": [
    "df_train.describe()"
   ]
  },
  {
   "cell_type": "markdown",
   "metadata": {},
   "source": [
    "- - -\n",
    "## Препроцессинг<a class=\"anchor\" id=\"preprocess\"></a>"
   ]
  },
  {
   "cell_type": "markdown",
   "metadata": {},
   "source": [
    "### Обаботка категориальных признаков<a class=\"anchor\" id=\"preprocess_categories\"></a>"
   ]
  },
  {
   "cell_type": "code",
   "execution_count": null,
   "metadata": {},
   "outputs": [],
   "source": []
  },
  {
   "cell_type": "markdown",
   "metadata": {},
   "source": [
    "### Обработка выбросов<a class=\"anchor\" id=\"preprocess_outliers\"></a>"
   ]
  },
  {
   "cell_type": "code",
   "execution_count": 118,
   "metadata": {},
   "outputs": [
    {
     "data": {
      "text/plain": [
       "['level', 'donate_total', 'is_churned']"
      ]
     },
     "execution_count": 118,
     "metadata": {},
     "output_type": "execute_result"
    }
   ],
   "source": [
    "reg_cols = [col for col in df_train.select_dtypes(exclude='object').columns]\n",
    "reg_cols"
   ]
  },
  {
   "cell_type": "code",
   "execution_count": 119,
   "metadata": {},
   "outputs": [],
   "source": [
    "def draw_reg_col(df, col):\n",
    "    fig, (ax1, ax2) = plt.subplots(1, 2, figsize=(17, 2), dpi=75)\n",
    "    fig.suptitle(col)\n",
    "    df.hist(column=col, ax=ax1, bins=40)\n",
    "    df.boxplot(column=col, ax=ax2)\n",
    "    ax1.ticklabel_format(useOffset=False, style='plain', axis='both')\n",
    "    ax2.ticklabel_format(useOffset=False, style='plain', axis=\"y\") \n",
    "    plt.show() "
   ]
  },
  {
   "cell_type": "code",
   "execution_count": 120,
   "metadata": {},
   "outputs": [
    {
     "data": {
      "image/png": "[encoded data removed]",
      "text/plain": [
       "<Figure size 1275x150 with 2 Axes>"
      ]
     },
     "metadata": {
      "needs_background": "light"
     },
     "output_type": "display_data"
    },
    {
     "data": {
      "image/png": "[encoded data removed]",
      "text/plain": [
       "<Figure size 1275x150 with 2 Axes>"
      ]
     },
     "metadata": {
      "needs_background": "light"
     },
     "output_type": "display_data"
    },
    {
     "data": {
      "image/png": "[encoded data removed]",
      "text/plain": [
       "<Figure size 1275x150 with 2 Axes>"
      ]
     },
     "metadata": {
      "needs_background": "light"
     },
     "output_type": "display_data"
    }
   ],
   "source": [
    "for col in reg_cols:\n",
    "    draw_reg_col(df_train, col)"
   ]
  },
  {
   "cell_type": "markdown",
   "metadata": {},
   "source": [
    "### Обработка пропусков<a class=\"anchor\" id=\"preprocess_gaps\"></a>"
   ]
  },
  {
   "cell_type": "code",
   "execution_count": 126,
   "metadata": {},
   "outputs": [
    {
     "data": {
      "text/plain": [
       "level           0\n",
       "donate_total    0\n",
       "is_churned      0\n",
       "dtype: int64"
      ]
     },
     "execution_count": 126,
     "metadata": {},
     "output_type": "execute_result"
    }
   ],
   "source": [
    "len(df_train) - df_train.count()"
   ]
  },
  {
   "cell_type": "markdown",
   "metadata": {},
   "source": [
    "- - -\n",
    "## Анализ данных<a class=\"anchor\" id=\"preprocess\"></a>"
   ]
  },
  {
   "cell_type": "code",
   "execution_count": 133,
   "metadata": {},
   "outputs": [],
   "source": [
    "target_col = 'is_churned'"
   ]
  },
  {
   "cell_type": "code",
   "execution_count": 136,
   "metadata": {},
   "outputs": [],
   "source": [
    "feature_cols = [\n",
    "    'level',\n",
    "    'donate_total',\n",
    "]"
   ]
  },
  {
   "cell_type": "markdown",
   "metadata": {},
   "source": [
    "### Анализ целевой переменной<a class=\"anchor\" id=\"analysis_target\"></a>"
   ]
  },
  {
   "cell_type": "markdown",
   "metadata": {},
   "source": [
    "**Обзор распределения**"
   ]
  },
  {
   "cell_type": "code",
   "execution_count": 134,
   "metadata": {},
   "outputs": [
    {
     "data": {
      "text/plain": [
       "0    455650\n",
       "1     13825\n",
       "Name: is_churned, dtype: int64"
      ]
     },
     "execution_count": 134,
     "metadata": {},
     "output_type": "execute_result"
    }
   ],
   "source": [
    "df_train[target_col].value_counts()"
   ]
  },
  {
   "cell_type": "code",
   "execution_count": 135,
   "metadata": {},
   "outputs": [
    {
     "data": {
      "image/png": "[encoded data removed]",
      "text/plain": [
       "<Figure size 576x360 with 1 Axes>"
      ]
     },
     "metadata": {
      "needs_background": "light"
     },
     "output_type": "display_data"
    }
   ],
   "source": [
    "plt.figure(figsize=(8, 5))\n",
    "\n",
    "sns.countplot(x=target_col, data=df_train)\n",
    "\n",
    "plt.title('Target variable distribution')\n",
    "plt.show()"
   ]
  },
  {
   "cell_type": "markdown",
   "metadata": {},
   "source": [
    "**Корреляция с базовыми признаками**"
   ]
  },
  {
   "cell_type": "code",
   "execution_count": 138,
   "metadata": {},
   "outputs": [
    {
     "data": {
      "image/png": "[encoded data removed]",
      "text/plain": [
       "<Figure size 216x216 with 1 Axes>"
      ]
     },
     "metadata": {
      "needs_background": "light"
     },
     "output_type": "display_data"
    }
   ],
   "source": [
    "corr_with_target = df_train[feature_cols + [target_col]].corr().iloc[:-1, -1].sort_values(ascending=False)\n",
    "\n",
    "plt.figure(figsize=(3, 3))\n",
    "\n",
    "sns.barplot(x=corr_with_target.values, y=corr_with_target.index)\n",
    "\n",
    "plt.title('Correlation with target variable')\n",
    "plt.show()"
   ]
  },
  {
   "cell_type": "markdown",
   "metadata": {},
   "source": [
    "### Анализ признакового пространства<a class=\"anchor\" id=\"analysis_corr\"></a>"
   ]
  },
  {
   "cell_type": "markdown",
   "metadata": {},
   "source": [
    "**Матрица корреляций**"
   ]
  },
  {
   "cell_type": "code",
   "execution_count": 148,
   "metadata": {},
   "outputs": [
    {
     "data": {
      "image/png": "[encoded data removed]",
      "text/plain": [
       "<Figure size 288x288 with 2 Axes>"
      ]
     },
     "metadata": {},
     "output_type": "display_data"
    }
   ],
   "source": [
    "plt.figure(figsize=(4,4))\n",
    "\n",
    "sns.set(font_scale=1.4)\n",
    "sns.heatmap(df_train[feature_cols].corr().round(3), annot=True, linewidths=.5, cmap='coolwarm')\n",
    "\n",
    "plt.title('Correlation matrix')\n",
    "plt.show()"
   ]
  },
  {
   "cell_type": "markdown",
   "metadata": {},
   "source": [
    "- - -\n",
    "## Обучение на данных<a class=\"anchor\" id=\"ml\"></a>"
   ]
  },
  {
   "cell_type": "markdown",
   "metadata": {},
   "source": [
    "### Отбор признаков<a class=\"anchor\" id=\"ml_feature_selection\"></a>"
   ]
  },
  {
   "cell_type": "code",
   "execution_count": null,
   "metadata": {},
   "outputs": [],
   "source": []
  },
  {
   "cell_type": "markdown",
   "metadata": {},
   "source": [
    "### Нормализация<a class=\"anchor\" id=\"ml_normalize\"></a>"
   ]
  },
  {
   "cell_type": "code",
   "execution_count": 151,
   "metadata": {},
   "outputs": [
    {
     "data": {
      "text/plain": [
       "['std_scaler.bin']"
      ]
     },
     "execution_count": 151,
     "metadata": {},
     "output_type": "execute_result"
    }
   ],
   "source": [
    "scaler = StandardScaler()\n",
    "scaler.fit(df_train[feature_cols])\n",
    "dump(scaler, 'std_scaler.bin', compress=True)"
   ]
  },
  {
   "cell_type": "code",
   "execution_count": 153,
   "metadata": {},
   "outputs": [],
   "source": [
    "%%write_and_run main.py\n",
    "scaler = load('std_scaler.bin')"
   ]
  },
  {
   "cell_type": "code",
   "execution_count": 154,
   "metadata": {},
   "outputs": [],
   "source": [
    "%%write_and_run main.py\n",
    "@pipeline_step\n",
    "def prep_scale(df):\n",
    "    result = df.copy()\n",
    "    result[feature_cols] = scaler.transform(df[feature_cols])\n",
    "    return result"
   ]
  },
  {
   "cell_type": "code",
   "execution_count": 155,
   "metadata": {},
   "outputs": [],
   "source": [
    "df_scaled = prep_scale(df_train)"
   ]
  },
  {
   "cell_type": "markdown",
   "metadata": {},
   "source": [
    "### Разбиение на train и test<a class=\"anchor\" id=\"ml_split\"></a>"
   ]
  },
  {
   "cell_type": "code",
   "execution_count": 156,
   "metadata": {},
   "outputs": [],
   "source": [
    "X = df_scaled[feature_cols]\n",
    "y = df_scaled[target_col]\n",
    "\n",
    "X_train, X_test, y_train, y_test = train_test_split(X, y, shuffle=True, test_size=0.25, random_state=42)"
   ]
  },
  {
   "cell_type": "markdown",
   "metadata": {},
   "source": [
    "### Балансировка классов<a class=\"anchor\" id=\"ml_balancing\"></a>"
   ]
  },
  {
   "cell_type": "code",
   "execution_count": 157,
   "metadata": {},
   "outputs": [],
   "source": [
    "def balance_df_by_target(df, target_name):\n",
    "    target_counts = df[target_name].value_counts()\n",
    "\n",
    "    major_class_name = target_counts.argmax()\n",
    "    minor_class_name = target_counts.argmin()\n",
    "\n",
    "    disbalance_coeff = int(target_counts[major_class_name] / target_counts[minor_class_name]) - 1\n",
    "\n",
    "    for i in range(disbalance_coeff):\n",
    "        sample = df[df[target_name] == minor_class_name].sample(target_counts[minor_class_name])\n",
    "        df = df.append(sample, ignore_index=True)\n",
    "\n",
    "    return df.sample(frac=1) "
   ]
  },
  {
   "cell_type": "code",
   "execution_count": 158,
   "metadata": {},
   "outputs": [
    {
     "data": {
      "text/plain": [
       "0    341822\n",
       "1    339372\n",
       "Name: is_churned, dtype: int64"
      ]
     },
     "execution_count": 158,
     "metadata": {},
     "output_type": "execute_result"
    }
   ],
   "source": [
    "df_for_balancing = pd.concat([X_train, y_train], axis=1)\n",
    "df_balanced = balance_df_by_target(df_for_balancing, target_col)\n",
    "\n",
    "df_balanced[target_col].value_counts()"
   ]
  },
  {
   "cell_type": "code",
   "execution_count": 159,
   "metadata": {},
   "outputs": [],
   "source": [
    "X_train = df_balanced.drop(columns=target_col)\n",
    "y_train = df_balanced[target_col]"
   ]
  },
  {
   "cell_type": "markdown",
   "metadata": {},
   "source": [
    "### Подбор моделей<a class=\"anchor\" id=\"ml_model_selection\"></a>"
   ]
  },
  {
   "cell_type": "code",
   "execution_count": 160,
   "metadata": {},
   "outputs": [],
   "source": [
    "def get_classification_report(y_train_true, y_train_pred, y_test_true, y_test_pred):\n",
    "    print('TRAIN\\n\\n' + classification_report(y_train_true, y_train_pred))\n",
    "    print('TEST\\n\\n' + classification_report(y_test_true, y_test_pred))\n",
    "    print('CONFUSION MATRIX\\n')\n",
    "    print(pd.crosstab(y_test_true, y_test_pred))"
   ]
  },
  {
   "cell_type": "markdown",
   "metadata": {},
   "source": [
    "**Логистическая регрессия**"
   ]
  },
  {
   "cell_type": "code",
   "execution_count": 161,
   "metadata": {},
   "outputs": [
    {
     "name": "stdout",
     "output_type": "stream",
     "text": [
      "TRAIN\n",
      "\n",
      "              precision    recall  f1-score   support\n",
      "\n",
      "           0       0.64      0.50      0.56    341822\n",
      "           1       0.59      0.72      0.65    339372\n",
      "\n",
      "    accuracy                           0.61    681194\n",
      "   macro avg       0.62      0.61      0.60    681194\n",
      "weighted avg       0.62      0.61      0.60    681194\n",
      "\n",
      "TEST\n",
      "\n",
      "              precision    recall  f1-score   support\n",
      "\n",
      "           0       0.98      0.50      0.66    113828\n",
      "           1       0.04      0.72      0.08      3541\n",
      "\n",
      "    accuracy                           0.51    117369\n",
      "   macro avg       0.51      0.61      0.37    117369\n",
      "weighted avg       0.95      0.51      0.64    117369\n",
      "\n",
      "CONFUSION MATRIX\n",
      "\n",
      "col_0           0      1\n",
      "is_churned              \n",
      "0           56822  57006\n",
      "1             998   2543\n"
     ]
    }
   ],
   "source": [
    "model_lr = LogisticRegression()\n",
    "model_lr.fit(X_train, y_train)\n",
    "\n",
    "y_train_pred = model_lr.predict(X_train)\n",
    "y_test_pred = model_lr.predict(X_test)\n",
    "\n",
    "get_classification_report(y_train, y_train_pred, y_test, y_test_pred)"
   ]
  },
  {
   "cell_type": "markdown",
   "metadata": {},
   "source": [
    "**k-ближайших соседей**"
   ]
  },
  {
   "cell_type": "code",
   "execution_count": 162,
   "metadata": {},
   "outputs": [
    {
     "name": "stdout",
     "output_type": "stream",
     "text": [
      "TRAIN\n",
      "\n",
      "              precision    recall  f1-score   support\n",
      "\n",
      "           0       0.99      0.92      0.95    341822\n",
      "           1       0.93      0.99      0.96    339372\n",
      "\n",
      "    accuracy                           0.96    681194\n",
      "   macro avg       0.96      0.96      0.96    681194\n",
      "weighted avg       0.96      0.96      0.96    681194\n",
      "\n",
      "TEST\n",
      "\n",
      "              precision    recall  f1-score   support\n",
      "\n",
      "           0       0.97      0.90      0.93    113828\n",
      "           1       0.04      0.14      0.06      3541\n",
      "\n",
      "    accuracy                           0.87    117369\n",
      "   macro avg       0.51      0.52      0.50    117369\n",
      "weighted avg       0.94      0.87      0.91    117369\n",
      "\n",
      "CONFUSION MATRIX\n",
      "\n",
      "col_0            0      1\n",
      "is_churned               \n",
      "0           102093  11735\n",
      "1             3044    497\n"
     ]
    }
   ],
   "source": [
    "model_knn = KNeighborsClassifier()\n",
    "model_knn.fit(X_train, y_train)\n",
    "\n",
    "y_train_pred = model_knn.predict(X_train)\n",
    "y_test_pred = model_knn.predict(X_test)\n",
    "\n",
    "get_classification_report(y_train, y_train_pred, y_test, y_test_pred)"
   ]
  },
  {
   "cell_type": "markdown",
   "metadata": {},
   "source": [
    "**CatBoost**"
   ]
  },
  {
   "cell_type": "code",
   "execution_count": 163,
   "metadata": {},
   "outputs": [
    {
     "name": "stdout",
     "output_type": "stream",
     "text": [
      "TRAIN\n",
      "\n",
      "              precision    recall  f1-score   support\n",
      "\n",
      "           0       0.72      0.58      0.64    341822\n",
      "           1       0.65      0.77      0.70    339372\n",
      "\n",
      "    accuracy                           0.68    681194\n",
      "   macro avg       0.68      0.68      0.67    681194\n",
      "weighted avg       0.68      0.68      0.67    681194\n",
      "\n",
      "TEST\n",
      "\n",
      "              precision    recall  f1-score   support\n",
      "\n",
      "           0       0.98      0.57      0.72    113828\n",
      "           1       0.04      0.60      0.08      3541\n",
      "\n",
      "    accuracy                           0.58    117369\n",
      "   macro avg       0.51      0.59      0.40    117369\n",
      "weighted avg       0.95      0.58      0.70    117369\n",
      "\n",
      "CONFUSION MATRIX\n",
      "\n",
      "col_0           0      1\n",
      "is_churned              \n",
      "0           65429  48399\n",
      "1            1402   2139\n"
     ]
    }
   ],
   "source": [
    "model_catb = catb.CatBoostClassifier(silent=True, random_state=42)\n",
    "model_catb.fit(X_train, y_train)\n",
    "\n",
    "y_train_pred = model_catb.predict(X_train)\n",
    "y_test_pred = model_catb.predict(X_test)\n",
    "\n",
    "get_classification_report(y_train, y_train_pred, y_test, y_test_pred)"
   ]
  },
  {
   "cell_type": "markdown",
   "metadata": {},
   "source": [
    "### Подбор гиперпараметров<a class=\"anchor\" id=\"ml_hyper\"></a>"
   ]
  },
  {
   "cell_type": "code",
   "execution_count": 164,
   "metadata": {},
   "outputs": [],
   "source": [
    "model_catb = catb.CatBoostClassifier(silent=True, random_state=42)"
   ]
  },
  {
   "cell_type": "code",
   "execution_count": 165,
   "metadata": {},
   "outputs": [],
   "source": [
    "params = {'n_estimators':[100, 250, 500], \n",
    "          'max_depth':[5, 10, 15, 20],\n",
    "          'learning_rate':[0.001, 0.01, 0.05, 0.1]}"
   ]
  },
  {
   "cell_type": "code",
   "execution_count": 166,
   "metadata": {},
   "outputs": [],
   "source": [
    "cv=KFold(n_splits=3, random_state=42, shuffle=True)"
   ]
  },
  {
   "cell_type": "code",
   "execution_count": 167,
   "metadata": {},
   "outputs": [
    {
     "name": "stdout",
     "output_type": "stream",
     "text": [
      "CPU times: user 13min 7s, sys: 5min 49s, total: 18min 56s\n",
      "Wall time: 38min 33s\n"
     ]
    },
    {
     "data": {
      "text/plain": [
       "RandomizedSearchCV(cv=KFold(n_splits=3, random_state=42, shuffle=True),\n",
       "                   error_score=nan,\n",
       "                   estimator=<catboost.core.CatBoostClassifier object at 0x1ad86ee410>,\n",
       "                   iid='deprecated', n_iter=10, n_jobs=-1,\n",
       "                   param_distributions={'learning_rate': [0.001, 0.01, 0.05,\n",
       "                                                          0.1],\n",
       "                                        'max_depth': [5, 10, 15, 20],\n",
       "                                        'n_estimators': [100, 250, 500]},\n",
       "                   pre_dispatch='2*n_jobs', random_state=None, refit=True,\n",
       "                   return_train_score=False, scoring='f1', verbose=0)"
      ]
     },
     "execution_count": 167,
     "metadata": {},
     "output_type": "execute_result"
    }
   ],
   "source": [
    "%%time\n",
    "\n",
    "rs = RandomizedSearchCV(model_catb, params, scoring='f1', cv=cv, n_jobs=-1)\n",
    "rs.fit(X_train, y_train)"
   ]
  },
  {
   "cell_type": "code",
   "execution_count": 168,
   "metadata": {},
   "outputs": [
    {
     "data": {
      "text/plain": [
       "{'n_estimators': 500, 'max_depth': 15, 'learning_rate': 0.05}"
      ]
     },
     "execution_count": 168,
     "metadata": {},
     "output_type": "execute_result"
    }
   ],
   "source": [
    "rs.best_params_"
   ]
  },
  {
   "cell_type": "code",
   "execution_count": 169,
   "metadata": {},
   "outputs": [
    {
     "data": {
      "text/plain": [
       "0.6944673540580463"
      ]
     },
     "execution_count": 169,
     "metadata": {},
     "output_type": "execute_result"
    }
   ],
   "source": [
    "rs.best_score_"
   ]
  },
  {
   "cell_type": "markdown",
   "metadata": {},
   "source": [
    "**Выбор наилучшей модели**"
   ]
  },
  {
   "cell_type": "code",
   "execution_count": 172,
   "metadata": {},
   "outputs": [
    {
     "name": "stdout",
     "output_type": "stream",
     "text": [
      "TRAIN\n",
      "\n",
      "              precision    recall  f1-score   support\n",
      "\n",
      "           0       0.72      0.58      0.64    341822\n",
      "           1       0.64      0.77      0.70    339372\n",
      "\n",
      "    accuracy                           0.67    681194\n",
      "   macro avg       0.68      0.67      0.67    681194\n",
      "weighted avg       0.68      0.67      0.67    681194\n",
      "\n",
      "TEST\n",
      "\n",
      "              precision    recall  f1-score   support\n",
      "\n",
      "           0       0.98      0.57      0.72    113828\n",
      "           1       0.04      0.62      0.08      3541\n",
      "\n",
      "    accuracy                           0.57    117369\n",
      "   macro avg       0.51      0.59      0.40    117369\n",
      "weighted avg       0.95      0.57      0.70    117369\n",
      "\n",
      "CONFUSION MATRIX\n",
      "\n",
      "col_0           0      1\n",
      "is_churned              \n",
      "0           65243  48585\n",
      "1            1360   2181\n",
      "CPU times: user 12min 50s, sys: 6min 15s, total: 19min 6s\n",
      "Wall time: 13min 33s\n"
     ]
    }
   ],
   "source": [
    "%%time\n",
    "\n",
    "final_model = catb.CatBoostClassifier(\n",
    "    n_estimators=500,\n",
    "    max_depth=15,\n",
    "    learning_rate=0.05,\n",
    "    silent=True, \n",
    "    random_state=42,\n",
    ")\n",
    "final_model.fit(X_train, y_train)\n",
    "\n",
    "y_train_pred = final_model.predict(X_train)\n",
    "y_test_pred = final_model.predict(X_test)\n",
    "\n",
    "get_classification_report(y_train, y_train_pred, y_test, y_test_pred)"
   ]
  },
  {
   "cell_type": "markdown",
   "metadata": {},
   "source": [
    "### Проверка качества, борьба с переобучением<a class=\"anchor\" id=\"ml_overfittig\"></a>"
   ]
  },
  {
   "cell_type": "code",
   "execution_count": null,
   "metadata": {},
   "outputs": [],
   "source": []
  },
  {
   "cell_type": "markdown",
   "metadata": {},
   "source": [
    "### Сохранение модели<a class=\"anchor\" id=\"ml_persist\"></a>"
   ]
  },
  {
   "cell_type": "code",
   "execution_count": null,
   "metadata": {},
   "outputs": [],
   "source": []
  },
  {
   "cell_type": "markdown",
   "metadata": {},
   "source": [
    "- - -\n",
    "## Экспорт результатов<a class=\"anchor\" id=\"export\"></a>"
   ]
  },
  {
   "cell_type": "code",
   "execution_count": null,
   "metadata": {},
   "outputs": [],
   "source": []
  },
  {
   "cell_type": "markdown",
   "metadata": {},
   "source": [
    "- - -\n",
    "## Интерпретация результатов<a class=\"anchor\" id=\"interpretation\"></a>"
   ]
  },
  {
   "cell_type": "code",
   "execution_count": null,
   "metadata": {},
   "outputs": [],
   "source": []
  }
 ],
 "metadata": {
  "kernelspec": {
   "display_name": "Python 3",
   "language": "python",
   "name": "python3"
  },
  "language_info": {
   "codemirror_mode": {
    "name": "ipython",
    "version": 3
   },
   "file_extension": ".py",
   "mimetype": "text/x-python",
   "name": "python",
   "nbconvert_exporter": "python",
   "pygments_lexer": "ipython3",
   "version": "3.7.6"
  }
 },
 "nbformat": 4,
 "nbformat_minor": 4
}
