{
 "cells": [
  {
   "cell_type": "markdown",
   "metadata": {},
   "source": [
    "# Системы машинного обучения в Production\n",
    "## Урок 2<br>Загрузка данных и построение обучающей выборки.<br>Анализ и предобработка датасета. Балансировка классов"
   ]
  },
  {
   "cell_type": "markdown",
   "metadata": {},
   "source": [
    "### Задание 1\n",
    "\n",
    "Напишите функцию, которая возвращает сумму двух вещественных аргументов $a$ и $b$, а к ней декоратор, который делает так, чтобы возвращаемое значение функцией было по модулю $5$.\n",
    "\n",
    "**Решение**"
   ]
  },
  {
   "cell_type": "code",
   "execution_count": 1,
   "metadata": {},
   "outputs": [],
   "source": [
    "def mod5(func):\n",
    "    def wrap(a, b):\n",
    "        return func(a, b) % 5\n",
    "    return wrap"
   ]
  },
  {
   "cell_type": "code",
   "execution_count": 2,
   "metadata": {},
   "outputs": [],
   "source": [
    "@mod5\n",
    "def sum_func(a: float, b: float) -> float:\n",
    "    return a + b"
   ]
  },
  {
   "cell_type": "code",
   "execution_count": 3,
   "metadata": {},
   "outputs": [
    {
     "name": "stdout",
     "output_type": "stream",
     "text": [
      "(5 + 1) mod 5 = 1\n",
      "(5 + 2) mod 5 = 2\n",
      "(5 + 3) mod 5 = 3\n",
      "(5 + 4) mod 5 = 4\n",
      "(5 + 5) mod 5 = 0\n"
     ]
    }
   ],
   "source": [
    "for i in range(1, 6):\n",
    "    print(f'(5 + {i}) mod 5 =', sum_func(5, i))"
   ]
  },
  {
   "cell_type": "markdown",
   "metadata": {},
   "source": [
    "### Задание 2\n",
    "\n",
    "Попробуйте описать своими словами основные отличия SMOTE от ADASYN, ознакомившись с документацией к ним.\n",
    "\n",
    "**Решение**"
   ]
  },
  {
   "cell_type": "markdown",
   "metadata": {},
   "source": [
    "Недавно мне пришла рассылка из Medium с хорошей статьёй по этой <a href='https://medium.com/coinmonks/smote-and-adasyn-handling-imbalanced-data-set-34f5223e167'>теме</a>.\n",
    "\n",
    "_SMOTE_ находит центр кластера класса, предназначенного для оверсемплинга, строит линии к ближайшим соседям и добавляет точек вдоль этих линий.\n",
    "\n",
    "_ADASYN_ является улучшенным алгоритмом SMOTE. Основное отличие заключается в том, что к новым точкам добавляется небольшой шум, что делает их более реалистичными."
   ]
  }
 ],
 "metadata": {
  "kernelspec": {
   "display_name": "Python 3",
   "language": "python",
   "name": "python3"
  },
  "language_info": {
   "codemirror_mode": {
    "name": "ipython",
    "version": 3
   },
   "file_extension": ".py",
   "mimetype": "text/x-python",
   "name": "python",
   "nbconvert_exporter": "python",
   "pygments_lexer": "ipython3",
   "version": "3.7.6"
  }
 },
 "nbformat": 4,
 "nbformat_minor": 4
}
