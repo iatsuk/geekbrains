{
 "cells": [
  {
   "cell_type": "markdown",
   "metadata": {},
   "source": [
    "# Урок 2. Парсинг HTML. BeautifulSoup\n",
    "## Домашнее задание"
   ]
  },
  {
   "cell_type": "markdown",
   "metadata": {},
   "source": [
    "### Установка зависимостей"
   ]
  },
  {
   "cell_type": "code",
   "execution_count": 24,
   "metadata": {},
   "outputs": [
    {
     "name": "stdout",
     "output_type": "stream",
     "text": [
      "Requirement already satisfied: beautifulsoup4 in /Users/a.iatsuk/anaconda3/lib/python3.7/site-packages (4.8.1)\n",
      "Requirement already satisfied: lxml in /Users/a.iatsuk/anaconda3/lib/python3.7/site-packages (4.4.2)\n",
      "Requirement already satisfied: soupsieve>=1.2 in /Users/a.iatsuk/anaconda3/lib/python3.7/site-packages (from beautifulsoup4) (1.9.3)\n"
     ]
    }
   ],
   "source": [
    "!~/anaconda3/bin/pip install beautifulsoup4 lxml"
   ]
  },
  {
   "cell_type": "markdown",
   "metadata": {},
   "source": [
    "### Описание классов"
   ]
  },
  {
   "cell_type": "code",
   "execution_count": 23,
   "metadata": {},
   "outputs": [],
   "source": [
    "import time\n",
    "import requests\n",
    "import pandas as pd\n",
    "from bs4 import BeautifulSoup as bs"
   ]
  },
  {
   "cell_type": "markdown",
   "metadata": {},
   "source": [
    "Так как dict() является нехешируемой структурой, то выделим свой data класс и явно объявим ожидаемые поля:"
   ]
  },
  {
   "cell_type": "code",
   "execution_count": 24,
   "metadata": {},
   "outputs": [],
   "source": [
    "class RecipeData:\n",
    "    \"\"\"Data class representing recipe\n",
    "    \"\"\"\n",
    "    \n",
    "    def __init__(self, **kwargs):\n",
    "        self.name: str = kwargs.get('name')\n",
    "        self.ingredients: set = kwargs.get('ingredients')\n",
    "        self.url: str = kwargs.get('url')\n",
    "        self.views: int = kwargs.get('views')\n",
    "        self.comments: int = kwargs.get('comments')\n",
    "        self.likes: int = kwargs.get('likes')\n",
    "        self.category: int = kwargs.get('category')\n",
    "            \n",
    "    def __hash__(self) -> int:\n",
    "        return hash(frozenset(self.__dict__.items()))\n",
    "         \n",
    "    def __eq__(self, other):\n",
    "        return (\n",
    "            self.__class__ == other.__class__ and\n",
    "            self.__dict__ == other.__dict__\n",
    "        )\n",
    "        \n",
    "    def __repr__(self) -> str:\n",
    "        return f'{self.__class__.__name__}{self.__dict__}'"
   ]
  },
  {
   "cell_type": "markdown",
   "metadata": {},
   "source": [
    "Реализация скраппера для povarenok.ru. \n",
    "\n",
    "Одна из особенностей сайта заключается в том, что пагинатор создаётся js-скриптом. Выход за пределы максимальной страницы возвразает последнюю. Т.е. если всего страниц 45, то переход на 46, 47 и т.д. страницы возвращает результат 45. Поэтому мы храним в `self._last_recipes` результаты последней обработанной страницы и сравниваем её с вновь полученной. Если результаты одинаковы, то считаем, что распарсили всю категорию.\n",
    "\n",
    "На вход можно передавать блюда какой кухни мы хотим получить: `it, fr, ch, jp, ru, ua`. Также передаётся `crawl_delay`, чтобы не нагружать сайт.\n",
    "\n",
    "Архитектура скраппера сделана в виде итератора, который отдаёт элементы по-одному и бесшовно парсит страницы по мере необходимости."
   ]
  },
  {
   "cell_type": "code",
   "execution_count": 72,
   "metadata": {},
   "outputs": [],
   "source": [
    "class PovarenokScrapper:\n",
    "    \n",
    "    def __init__(self, category: str, crawl_delay: int = 1):\n",
    "        self._host: str = 'https://www.povarenok.ru/recipes'\n",
    "        self._category: str = {\n",
    "            'it': 'kitchen/56',\n",
    "            'fr': 'kitchen/64',\n",
    "            'ch': 'kitchen/73',\n",
    "            'jp': 'kitchen/79',\n",
    "            'ru': 'kitchen/101',\n",
    "            'ua': 'kitchen/104',\n",
    "        }[category]\n",
    "        self._crawl_delay: int = crawl_delay\n",
    "        self._current_page_num: int = 0\n",
    "        self._last_recipes: set = set()\n",
    "        self._data_to_return: set = set()\n",
    "\n",
    "    def __iter__(self) -> iter:\n",
    "        return self\n",
    "\n",
    "    def __next__(self):\n",
    "        if len(self._data_to_return) == 0:\n",
    "            page = self._next_page()\n",
    "            recipes = self._extract_recipes(page)\n",
    "            if self._last_recipes != recipes:\n",
    "                self._last_recipes = recipes\n",
    "                self._data_to_return = self._last_recipes.copy()\n",
    "                time.sleep(self._crawl_delay)\n",
    "                return self.__next__()\n",
    "            else:\n",
    "                raise StopIteration\n",
    "        else:\n",
    "            return self._data_to_return.pop()\n",
    "\n",
    "    def __repr__(self) -> str:\n",
    "        return '{clazz}({sep}host={host},{sep}category={category},{sep}crawl_delay={crawl_delay},\\n)'.format(\n",
    "            sep='\\n\\t',\n",
    "            clazz=self.__class__.__name__,\n",
    "            host=self._host,\n",
    "            category=self._category,\n",
    "            crawl_delay=self._crawl_delay,\n",
    "        )\n",
    "\n",
    "    def _get_page(self, page_num: int) -> bs:\n",
    "        url = f'{self._host}/{self._category}/~{page_num}/'\n",
    "        content = requests.get(url).text\n",
    "        parsed = bs(content, 'html.parser')\n",
    "        return parsed\n",
    "    \n",
    "    def _next_page(self) -> bs:\n",
    "        if self._current_page_num is None:\n",
    "            self._current_page_num = 0\n",
    "        self._current_page_num += 1\n",
    "        return self._get_page(self._current_page_num)\n",
    "    \n",
    "    def _extract_recipes(self, page: bs) -> set:\n",
    "        recipes = set()\n",
    "        for article in page.find_all('article'):\n",
    "            name = article.select_one('article > h2').get_text().strip()\n",
    "            url = article.select_one('article > h2 > a')['href']\n",
    "            ingr = ','.join(map(lambda span: span.get_text().strip().lower(), article.select('div.ingr_fast span')))\n",
    "            views = article.select_one('ul.icons-wrap .i-views').get_text()\n",
    "            comm = article.select_one('ul.icons-wrap .i-comments').get_text()\n",
    "            likes = article.select_one('ul.icons-wrap .i-likes').get_text()\n",
    "            category = ' > '.join(map(lambda s: s.get_text().replace('  ', ' '), article.select('div.article-breadcrumbs > p > span')))\n",
    "            recipe = RecipeData(name=name, url=url, ingredients=ingr, views=views, comments=comm, likes=likes, category=category)\n",
    "            recipes.add(recipe)\n",
    "        return recipes\n",
    "    \n",
    "    def reset(self):\n",
    "        self._current_page_num = 0\n",
    "        self._last_recipes = set()"
   ]
  },
  {
   "cell_type": "markdown",
   "metadata": {},
   "source": [
    "### Практика\n",
    "Создадим скраппер китайских блюд с `crawl_delay=1` по умолчанию."
   ]
  },
  {
   "cell_type": "code",
   "execution_count": 73,
   "metadata": {},
   "outputs": [
    {
     "data": {
      "text/plain": [
       "PovarenokScrapper(\n",
       "\thost=https://www.povarenok.ru/recipes,\n",
       "\tcategory=kitchen/73,\n",
       "\tcrawl_delay=1,\n",
       ")"
      ]
     },
     "execution_count": 73,
     "metadata": {},
     "output_type": "execute_result"
    }
   ],
   "source": [
    "scrapper = PovarenokScrapper('ch')\n",
    "scrapper"
   ]
  },
  {
   "cell_type": "markdown",
   "metadata": {},
   "source": [
    "Получим все рецепты и приведём их к формату списка со словарями, чтобы импортировать в pandas."
   ]
  },
  {
   "cell_type": "code",
   "execution_count": 74,
   "metadata": {},
   "outputs": [],
   "source": [
    "recipes = [vars(recipe) for recipe in scrapper]"
   ]
  },
  {
   "cell_type": "code",
   "execution_count": 75,
   "metadata": {},
   "outputs": [
    {
     "name": "stdout",
     "output_type": "stream",
     "text": [
      "<class 'pandas.core.frame.DataFrame'>\n",
      "RangeIndex: 673 entries, 0 to 672\n",
      "Data columns (total 7 columns):\n",
      "name           673 non-null object\n",
      "ingredients    673 non-null object\n",
      "url            673 non-null object\n",
      "views          673 non-null object\n",
      "comments       673 non-null object\n",
      "likes          673 non-null object\n",
      "category       673 non-null object\n",
      "dtypes: object(7)\n",
      "memory usage: 36.9+ KB\n"
     ]
    }
   ],
   "source": [
    "df = pd.DataFrame(recipes)\n",
    "df.info()"
   ]
  },
  {
   "cell_type": "code",
   "execution_count": 76,
   "metadata": {},
   "outputs": [
    {
     "data": {
      "text/html": [
       "<div>\n",
       "<style scoped>\n",
       "    .dataframe tbody tr th:only-of-type {\n",
       "        vertical-align: middle;\n",
       "    }\n",
       "\n",
       "    .dataframe tbody tr th {\n",
       "        vertical-align: top;\n",
       "    }\n",
       "\n",
       "    .dataframe thead th {\n",
       "        text-align: right;\n",
       "    }\n",
       "</style>\n",
       "<table border=\"1\" class=\"dataframe\">\n",
       "  <thead>\n",
       "    <tr style=\"text-align: right;\">\n",
       "      <th></th>\n",
       "      <th>name</th>\n",
       "      <th>ingredients</th>\n",
       "      <th>url</th>\n",
       "      <th>views</th>\n",
       "      <th>comments</th>\n",
       "      <th>likes</th>\n",
       "      <th>category</th>\n",
       "    </tr>\n",
       "  </thead>\n",
       "  <tbody>\n",
       "    <tr>\n",
       "      <th>0</th>\n",
       "      <td>Огурцы с говядиной по-китайски</td>\n",
       "      <td>говядина,огурец,лук белый,чеснок,перец болгарс...</td>\n",
       "      <td>https://www.povarenok.ru/recipes/show/89982/</td>\n",
       "      <td>240617</td>\n",
       "      <td>148</td>\n",
       "      <td>2582</td>\n",
       "      <td>Закуски &gt; Закуски из мяса</td>\n",
       "    </tr>\n",
       "    <tr>\n",
       "      <th>1</th>\n",
       "      <td>Лепешки с зеленым луком</td>\n",
       "      <td>мука пшеничная,вода,соль,масло кунжутное,лук з...</td>\n",
       "      <td>https://www.povarenok.ru/recipes/show/101337/</td>\n",
       "      <td>69781</td>\n",
       "      <td>224</td>\n",
       "      <td>3051</td>\n",
       "      <td>Выпечка &gt; Изделия из теста &gt; Лепешки</td>\n",
       "    </tr>\n",
       "  </tbody>\n",
       "</table>\n",
       "</div>"
      ],
      "text/plain": [
       "                             name  \\\n",
       "0  Огурцы с говядиной по-китайски   \n",
       "1         Лепешки с зеленым луком   \n",
       "\n",
       "                                         ingredients  \\\n",
       "0  говядина,огурец,лук белый,чеснок,перец болгарс...   \n",
       "1  мука пшеничная,вода,соль,масло кунжутное,лук з...   \n",
       "\n",
       "                                             url   views comments likes  \\\n",
       "0   https://www.povarenok.ru/recipes/show/89982/  240617      148  2582   \n",
       "1  https://www.povarenok.ru/recipes/show/101337/   69781      224  3051   \n",
       "\n",
       "                               category  \n",
       "0             Закуски > Закуски из мяса  \n",
       "1  Выпечка > Изделия из теста > Лепешки  "
      ]
     },
     "execution_count": 76,
     "metadata": {},
     "output_type": "execute_result"
    }
   ],
   "source": [
    "df.head(2)"
   ]
  },
  {
   "cell_type": "markdown",
   "metadata": {},
   "source": [
    "Чтобы получить больше практической пользы, построим обратный индекс из ингридиентов и поищем блюда, которые мы можем сделать из карпа."
   ]
  },
  {
   "cell_type": "code",
   "execution_count": 77,
   "metadata": {},
   "outputs": [
    {
     "data": {
      "text/plain": [
       "'сок, карп, мука миндальная, глутамат натрия, горчица, кориандр, перец душистый, жидкий дым, крахмал кукурузный, кунжут, чечевица, перец болгарский, рис коричневый, лук зеленый, баклажан, крахмал, масло  растительное, кетчуп, паста арахисовая, соус, тилапия, перец  черный, взбитые сливки, паприка  сладкая, чай черный, мисо-паста, кола, сыр голландский, пиво темное, тунец, ассорти овощное, сырок плавленый, дайкон, кумин, бобы, соевые проростки, вишня, батон, сельдерей корневой, разрыхлитель теста,...'"
      ]
     },
     "execution_count": 77,
     "metadata": {},
     "output_type": "execute_result"
    }
   ],
   "source": [
    "ingridients_per_recipe = list(map(lambda dic: dic['ingredients'].split(','), recipes))\n",
    "all_ingridients = set([item for sublist in ingridients_per_recipe for item in sublist])\n",
    "', '.join(all_ingridients)[:500] + '...'"
   ]
  },
  {
   "cell_type": "code",
   "execution_count": 79,
   "metadata": {},
   "outputs": [],
   "source": [
    "reverted_index = dict([(i, []) for i in all_ingridients])\n",
    "for recipe in recipes:\n",
    "    ingridients = set(recipe['ingredients'].split(','))\n",
    "    for ingridient in ingridients:\n",
    "        reverted_index[ingridient].append(recipe['name'])"
   ]
  },
  {
   "cell_type": "code",
   "execution_count": 80,
   "metadata": {},
   "outputs": [
    {
     "data": {
      "text/plain": [
       "['Карп \"Белка\"',\n",
       " 'Карп в кисло-сладком соусе',\n",
       " 'Карп \"Хризантема\" под соусом',\n",
       " 'Фаршированный карп в азиатском стиле',\n",
       " 'Запеченый карп в азиатском стиле',\n",
       " 'Карп \"Белка\"',\n",
       " 'Карп в кисло-сладком соусе',\n",
       " 'Рыба по-сычуаньски в остром соусе']"
      ]
     },
     "execution_count": 80,
     "metadata": {},
     "output_type": "execute_result"
    }
   ],
   "source": [
    "reverted_index['карп']"
   ]
  }
 ],
 "metadata": {
  "kernelspec": {
   "display_name": "Python 3",
   "language": "python",
   "name": "python3"
  },
  "language_info": {
   "codemirror_mode": {
    "name": "ipython",
    "version": 3
   },
   "file_extension": ".py",
   "mimetype": "text/x-python",
   "name": "python",
   "nbconvert_exporter": "python",
   "pygments_lexer": "ipython3",
   "version": "3.7.5"
  }
 },
 "nbformat": 4,
 "nbformat_minor": 4
}
