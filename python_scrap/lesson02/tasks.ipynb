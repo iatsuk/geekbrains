{
 "cells": [
  {
   "cell_type": "code",
   "execution_count": 24,
   "metadata": {},
   "outputs": [
    {
     "name": "stdout",
     "output_type": "stream",
     "text": [
      "Requirement already satisfied: beautifulsoup4 in /Users/a.iatsuk/anaconda3/lib/python3.7/site-packages (4.8.1)\n",
      "Requirement already satisfied: lxml in /Users/a.iatsuk/anaconda3/lib/python3.7/site-packages (4.4.2)\n",
      "Requirement already satisfied: soupsieve>=1.2 in /Users/a.iatsuk/anaconda3/lib/python3.7/site-packages (from beautifulsoup4) (1.9.3)\n"
     ]
    }
   ],
   "source": [
    "!~/anaconda3/bin/pip install beautifulsoup4 lxml"
   ]
  },
  {
   "cell_type": "code",
   "execution_count": 95,
   "metadata": {},
   "outputs": [],
   "source": [
    "import time\n",
    "import requests\n",
    "from bs4 import BeautifulSoup as bs"
   ]
  },
  {
   "cell_type": "code",
   "execution_count": 96,
   "metadata": {},
   "outputs": [],
   "source": [
    "class RecipeData:\n",
    "    \"\"\"Data class representing recipe\n",
    "    \"\"\"\n",
    "    \n",
    "    def __init__(self, **kwargs):\n",
    "        self.name: str = kwargs.get('name')\n",
    "        self.ingredients: set = kwargs.get('ingredients')\n",
    "        self.url: str = kwargs.get('url')\n",
    "        self.views: int = kwargs.get('views')\n",
    "        self.comments: int = kwargs.get('comments')\n",
    "        self.likes: int = kwargs.get('likes')\n",
    "        self.category: int = kwargs.get('category')\n",
    "            \n",
    "    def __hash__(self) -> int:\n",
    "        return hash(frozenset(self.__dict__.items()))\n",
    "         \n",
    "    def __eq__(self, other):\n",
    "        return (\n",
    "            self.__class__ == other.__class__ and\n",
    "            self.__dict__ == other.__dict__\n",
    "        )\n",
    "        \n",
    "    def __repr__(self) -> str:\n",
    "        return f'{self.__class__.__name__}{self.__dict__}'"
   ]
  },
  {
   "cell_type": "code",
   "execution_count": 103,
   "metadata": {},
   "outputs": [],
   "source": [
    "class PovarenokScrapper:\n",
    "    \n",
    "    def __init__(self, category: str, crawl_delay: int = 1):\n",
    "        self._host: str = 'https://www.povarenok.ru/recipes'\n",
    "        self._category: str = {\n",
    "            'it': 'kitchen/56',\n",
    "            'fr': 'kitchen/64',\n",
    "            'ch': 'kitchen/73',\n",
    "            'jp': 'kitchen/79',\n",
    "            'ru': 'kitchen/101',\n",
    "            'ua': 'kitchen/104',\n",
    "        }[category]\n",
    "        self._crawl_delay: int = crawl_delay\n",
    "        self._current_page_num: int = 0\n",
    "        self._last_recipes: set = set()\n",
    "        self._data_to_return: set = set()\n",
    "\n",
    "    def __iter__(self) -> iter:\n",
    "        return self\n",
    "\n",
    "    def __next__(self):\n",
    "        if len(self._data_to_return) == 0:\n",
    "            page = self._next_page()\n",
    "            recipes = self._extract_recipes(page)\n",
    "            if self._last_recipes != recipes:\n",
    "                self._last_recipes = recipes\n",
    "                self._data_to_return = self._last_recipes.copy()\n",
    "                time.sleep(self._crawl_delay)\n",
    "                return self.__next__()\n",
    "            else:\n",
    "                raise StopIteration\n",
    "        else:\n",
    "            return self._data_to_return.pop()\n",
    "\n",
    "    def __repr__(self) -> str:\n",
    "        return '{clazz}({sep}host={host},{sep}category={category},{sep}crawl_delay={crawl_delay},\\n)'.format(\n",
    "            sep='\\n\\t',\n",
    "            clazz=self.__class__.__name__,\n",
    "            host=self._host,\n",
    "            category=self._category,\n",
    "            crawl_delay=self._crawl_delay,\n",
    "        )\n",
    "\n",
    "    def _get_page(self, page_num: int) -> bs:\n",
    "        url = f'{self._host}/{self._category}/~{page_num}/'\n",
    "        content = requests.get(url).text\n",
    "        parsed = bs(content, 'html.parser')\n",
    "        return parsed\n",
    "    \n",
    "    def _next_page(self) -> bs:\n",
    "        if self._current_page_num is None:\n",
    "            self._current_page_num = 0\n",
    "        self._current_page_num += 1\n",
    "        return self._get_page(self._current_page_num)\n",
    "    \n",
    "    def _extract_recipes(self, page: bs) -> set:\n",
    "        recipes = set()\n",
    "        for article in page.find_all('article'):\n",
    "            name = article.select_one('article > h2').get_text().strip()\n",
    "            url = article.select_one('article > h2 > a')['href']\n",
    "            ingr = article.select_one('div.ingr_fast').get_text().strip().lower()\n",
    "            views = article.select_one('ul.icons-wrap .i-views').get_text()\n",
    "            comm = article.select_one('ul.icons-wrap .i-comments').get_text()\n",
    "            likes = article.select_one('ul.icons-wrap .i-likes').get_text()\n",
    "            category = ' > '.join(map(lambda s: s.get_text().replace('  ', ' '), article.select('div.article-breadcrumbs > p > span')))\n",
    "            recipe = RecipeData(name=name, url=url, ingredients=ingr, views=views, comments=comm, likes=likes, category=category)\n",
    "            recipes.add(recipe)\n",
    "        return recipes\n",
    "    \n",
    "    def reset(self):\n",
    "        self._current_page_num = 0\n",
    "        self._last_recipes = set()"
   ]
  },
  {
   "cell_type": "code",
   "execution_count": 104,
   "metadata": {},
   "outputs": [
    {
     "data": {
      "text/plain": [
       "PovarenokScrapper(\n",
       "\thost=https://www.povarenok.ru/recipes,\n",
       "\tcategory=kitchen/73,\n",
       "\tcrawl_delay=1,\n",
       ")"
      ]
     },
     "execution_count": 104,
     "metadata": {},
     "output_type": "execute_result"
    }
   ],
   "source": [
    "scrapper = PovarenokScrapper('ch')\n",
    "scrapper"
   ]
  },
  {
   "cell_type": "code",
   "execution_count": null,
   "metadata": {},
   "outputs": [],
   "source": []
  }
 ],
 "metadata": {
  "kernelspec": {
   "display_name": "Python 3",
   "language": "python",
   "name": "python3"
  },
  "language_info": {
   "codemirror_mode": {
    "name": "ipython",
    "version": 3
   },
   "file_extension": ".py",
   "mimetype": "text/x-python",
   "name": "python",
   "nbconvert_exporter": "python",
   "pygments_lexer": "ipython3",
   "version": "3.7.5"
  }
 },
 "nbformat": 4,
 "nbformat_minor": 4
}
