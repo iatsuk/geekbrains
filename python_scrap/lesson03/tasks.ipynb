{
 "cells": [
  {
   "cell_type": "markdown",
   "metadata": {},
   "source": [
    "# Методы сбора и обработки данных из сети Интернет\n",
    "## Урок 3. MongoDB, SQLAlchemy\n",
    "### Задание\n",
    "1. Развернуть у себя на компьютере/виртуальной машине/хостинге MongoDB и реализовать функцию, записывающую собранные данные в созданную БД\n",
    "2. Написать функцию, которая производит поиск и выводит на экран рецепты с перечисленными ингридиентами\n",
    "3. *Написать функцию, которая будет добавлять в вашу базу данных только новые рецепты с сайта. Доработать функцию, которая будет обновлять старые."
   ]
  },
  {
   "cell_type": "markdown",
   "metadata": {},
   "source": [
    "### Запуск MongoDB"
   ]
  },
  {
   "cell_type": "code",
   "execution_count": 3,
   "metadata": {},
   "outputs": [
    {
     "name": "stdout",
     "output_type": "stream",
     "text": [
      "Unable to find image 'mongo:latest' locally\n",
      "latest: Pulling from library/mongo\n",
      "\n",
      "\u001b[1Ba4a261c9: Pulling fs layer \n",
      "\u001b[1B20cdee96: Pulling fs layer \n",
      "\u001b[1B60e1d0de: Pulling fs layer \n",
      "\u001b[1B7668deea: Pulling fs layer \n",
      "\u001b[1B87a82b4c: Pulling fs layer \n",
      "\u001b[1B139e0836: Pulling fs layer \n",
      "\u001b[1B9c8680b4: Pulling fs layer \n",
      "\u001b[1Bdf30d947: Pulling fs layer \n",
      "\u001b[1B5ef3d2ce: Pulling fs layer \n",
      "\u001b[1B54ed6b43: Pulling fs layer \n",
      "\u001b[1Be535ddb8: Pulling fs layer \n",
      "\u001b[1Bdad81b2a: Pulling fs layer \n",
      "\u001b[1BDigest: sha256:7a1406bfc05547b33a3b7b112eda6346f42ea93ee06b74d30c4c47dfeca0d5f2\u001b[2K\u001b[13A\u001b[2K\u001b[13A\u001b[2K\u001b[10A\u001b[2K\u001b[13A\u001b[2K\u001b[13A\u001b[2K\u001b[13A\u001b[2K\u001b[13A\u001b[2K\u001b[13A\u001b[2K\u001b[13A\u001b[2K\u001b[13A\u001b[2K\u001b[13A\u001b[2K\u001b[7A\u001b[2K\u001b[13A\u001b[2K\u001b[7A\u001b[2K\u001b[8A\u001b[2K\u001b[13A\u001b[2K\u001b[8A\u001b[2K\u001b[7A\u001b[2K\u001b[8A\u001b[2K\u001b[13A\u001b[2K\u001b[8A\u001b[2K\u001b[13A\u001b[2K\u001b[8A\u001b[2K\u001b[7A\u001b[2K\u001b[8A\u001b[2K\u001b[7A\u001b[2K\u001b[8A\u001b[2K\u001b[8A\u001b[2K\u001b[7A\u001b[2K\u001b[13A\u001b[2K\u001b[13A\u001b[2K\u001b[8A\u001b[2K\u001b[13A\u001b[2K\u001b[8A\u001b[2K\u001b[13A\u001b[2K\u001b[7A\u001b[2K\u001b[8A\u001b[2K\u001b[7A\u001b[2K\u001b[8A\u001b[2K\u001b[7A\u001b[2K\u001b[13A\u001b[2K\u001b[7A\u001b[2K\u001b[13A\u001b[2K\u001b[7A\u001b[2K\u001b[13A\u001b[2K\u001b[7A\u001b[2K\u001b[8A\u001b[2K\u001b[7A\u001b[2K\u001b[8A\u001b[2K\u001b[13A\u001b[2K\u001b[13A\u001b[2K\u001b[7A\u001b[2K\u001b[13A\u001b[2K\u001b[7A\u001b[2K\u001b[13A\u001b[2K\u001b[7A\u001b[2K\u001b[7A\u001b[2K\u001b[7A\u001b[2K\u001b[13A\u001b[2K\u001b[7A\u001b[2K\u001b[13A\u001b[2K\u001b[7A\u001b[2K\u001b[13A\u001b[2K\u001b[13A\u001b[2K\u001b[7A\u001b[2K\u001b[13A\u001b[2K\u001b[13A\u001b[2K\u001b[6A\u001b[2K\u001b[13A\u001b[2K\u001b[7A\u001b[2K\u001b[13A\u001b[2K\u001b[7A\u001b[2K\u001b[13A\u001b[2K\u001b[7A\u001b[2K\u001b[7A\u001b[2K\u001b[7A\u001b[2K\u001b[5A\u001b[2K\u001b[5A\u001b[2K\u001b[7A\u001b[2K\u001b[13A\u001b[2K\u001b[12A\u001b[2K\u001b[4A\u001b[2K\u001b[12A\u001b[2K\u001b[11A\u001b[2K\u001b[10A\u001b[2K\u001b[9A\u001b[2K\u001b[8A\u001b[2K\u001b[8A\u001b[2K\u001b[8A\u001b[2K\u001b[7A\u001b[2K\u001b[1A\u001b[2K\u001b[7A\u001b[2K\u001b[7A\u001b[2K\u001b[6A\u001b[2K\u001b[5A\u001b[2K\u001b[3A\u001b[2K\u001b[4A\u001b[2K\u001b[3A\u001b[2K\u001b[3A\u001b[2K\u001b[3A\u001b[2K\u001b[3A\u001b[2K\u001b[3A\u001b[2K\u001b[3A\u001b[2K\u001b[3A\u001b[2K\u001b[3A\u001b[2K\u001b[3A\u001b[2K\u001b[3A\u001b[2K\u001b[3A\u001b[2K\u001b[3A\u001b[2K\u001b[3A\u001b[2K\u001b[3A\u001b[2K\u001b[3A\u001b[2K\u001b[3A\u001b[2K\u001b[3A\u001b[2K\u001b[3A\u001b[2K\u001b[3A\u001b[2K\u001b[3A\u001b[2K\u001b[3A\u001b[2K\u001b[3A\u001b[2K\u001b[3A\u001b[2K\u001b[3A\u001b[2K\u001b[3A\u001b[2K\u001b[3A\u001b[2K\u001b[3A\u001b[2K\u001b[3A\u001b[2K\u001b[3A\u001b[2K\u001b[3A\u001b[2K\u001b[3A\u001b[2K\u001b[3A\u001b[2K\u001b[3A\u001b[2K\u001b[3A\u001b[2K\u001b[3A\u001b[2K\u001b[3A\u001b[2K\u001b[3A\u001b[2K\u001b[3A\u001b[2K\u001b[3A\u001b[2K\u001b[3A\u001b[2K\u001b[3A\u001b[2K\u001b[3A\u001b[2K\u001b[3A\u001b[2K\u001b[3A\u001b[2K\u001b[3A\u001b[2K\u001b[3A\u001b[2K\u001b[3A\u001b[2K\u001b[3A\u001b[2K\u001b[3A\u001b[2K\u001b[3A\u001b[2K\u001b[3A\u001b[2K\u001b[3A\u001b[2K\u001b[3A\u001b[2K\u001b[3A\u001b[2K\u001b[3A\u001b[2K\u001b[3A\u001b[2K\u001b[3A\u001b[2K\u001b[3A\u001b[2K\u001b[3A\u001b[2K\u001b[3A\u001b[2K\u001b[3A\u001b[2K\u001b[3A\u001b[2K\u001b[3A\u001b[2K\u001b[3A\u001b[2K\u001b[3A\u001b[2K\u001b[3A\u001b[2K\u001b[3A\u001b[2K\u001b[3A\u001b[2K\u001b[3A\u001b[2K\u001b[3A\u001b[2K\u001b[3A\u001b[2K\u001b[3A\u001b[2K\u001b[3A\u001b[2K\u001b[3A\u001b[2K\u001b[3A\u001b[2K\u001b[3A\u001b[2K\u001b[3A\u001b[2K\u001b[3A\u001b[2K\u001b[3A\u001b[2K\u001b[3A\u001b[2K\u001b[3A\u001b[2K\u001b[3A\u001b[2K\u001b[3A\u001b[2K\u001b[3A\u001b[2K\u001b[3A\u001b[2K\u001b[3A\u001b[2K\u001b[3A\u001b[2K\u001b[3A\u001b[2K\u001b[3A\u001b[2K\u001b[3A\u001b[2K\u001b[3A\u001b[2K\u001b[3A\u001b[2K\u001b[3A\u001b[2K\u001b[3A\u001b[2K\u001b[3A\u001b[2K\u001b[3A\u001b[2K\u001b[3A\u001b[2K\u001b[3A\u001b[2K\u001b[3A\u001b[2K\u001b[3A\u001b[2K\u001b[3A\u001b[2K\u001b[3A\u001b[2K\u001b[3A\u001b[2K\u001b[3A\u001b[2K\u001b[3A\u001b[2K\u001b[3A\u001b[2K\u001b[3A\u001b[2K\u001b[3A\u001b[2K\u001b[3A\u001b[2K\u001b[3A\u001b[2K\u001b[3A\u001b[2K\u001b[3A\u001b[2K\u001b[3A\u001b[2K\u001b[3A\u001b[2K\u001b[3A\u001b[2K\u001b[3A\u001b[2K\u001b[3A\u001b[2K\u001b[3A\u001b[2K\u001b[3A\u001b[2K\u001b[3A\u001b[2K\u001b[3A\u001b[2K\u001b[3A\u001b[2K\u001b[3A\u001b[2K\u001b[3A\u001b[2K\u001b[3A\u001b[2K\u001b[3A\u001b[2K\u001b[3A\u001b[2K\u001b[3A\u001b[2K\u001b[3A\u001b[2K\u001b[3A\u001b[2K\u001b[3A\u001b[2K\u001b[3A\u001b[2K\u001b[3A\u001b[2K\u001b[3A\u001b[2K\u001b[3A\u001b[2K\u001b[3A\u001b[2K\u001b[3A\u001b[2K\u001b[3A\u001b[2K\u001b[3A\u001b[2K\u001b[3A\u001b[2K\u001b[3A\u001b[2K\u001b[3A\u001b[2K\u001b[3A\u001b[2K\u001b[3A\u001b[2K\u001b[3A\u001b[2K\u001b[3A\u001b[2K\u001b[3A\u001b[2K\u001b[3A\u001b[2K\u001b[3A\u001b[2K\u001b[3A\u001b[2K\u001b[3A\u001b[2K\u001b[3A\u001b[2K\u001b[3A\u001b[2K\u001b[3A\u001b[2K\u001b[3A\u001b[2K\u001b[3A\u001b[2K\u001b[3A\u001b[2K\u001b[3A\u001b[2K\u001b[3A\u001b[2K\u001b[3A\u001b[2K\u001b[3A\u001b[2K\u001b[3A\u001b[2K\u001b[3A\u001b[2K\u001b[3A\u001b[2K\u001b[3A\u001b[2K\u001b[3A\u001b[2K\u001b[3A\u001b[2K\u001b[3A\u001b[2K\u001b[3A\u001b[2K\u001b[3A\u001b[2K\u001b[3A\u001b[2K\u001b[3A\u001b[2K\u001b[3A\u001b[2K\u001b[3A\u001b[2K\u001b[3A\u001b[2K\u001b[3A\u001b[2K\u001b[3A\u001b[2K\u001b[3A\u001b[2K\u001b[3A\u001b[2K\u001b[3A\u001b[2K\u001b[3A\u001b[2K\u001b[3A\u001b[2K\u001b[3A\u001b[2K\u001b[3A\u001b[2K\u001b[3A\u001b[2K\u001b[3A\u001b[2K\u001b[3A\u001b[2K\u001b[3A\u001b[2K\u001b[2A\u001b[2K\u001b[1A\u001b[2K\n",
      "Status: Downloaded newer image for mongo:latest\n",
      "66157a453790f1e9f0276ddde46449834a73faef86e520af05107bed0181ece7\n"
     ]
    }
   ],
   "source": [
    "!docker run -d -p 27017:27017 --name scrapy_mongo mongo"
   ]
  },
  {
   "cell_type": "code",
   "execution_count": 7,
   "metadata": {},
   "outputs": [
    {
     "name": "stdout",
     "output_type": "stream",
     "text": [
      "scrapy_mongo\n"
     ]
    }
   ],
   "source": [
    "!docker start scrapy_mongo"
   ]
  },
  {
   "cell_type": "code",
   "execution_count": 6,
   "metadata": {},
   "outputs": [
    {
     "name": "stdout",
     "output_type": "stream",
     "text": [
      "scrapy_mongo\n"
     ]
    }
   ],
   "source": [
    "!docker stop scrapy_mongo"
   ]
  },
  {
   "cell_type": "markdown",
   "metadata": {},
   "source": [
    "### Секция импорта"
   ]
  },
  {
   "cell_type": "code",
   "execution_count": 67,
   "metadata": {},
   "outputs": [],
   "source": [
    "from pymongo import MongoClient\n",
    "import time\n",
    "import requests\n",
    "import pandas as pd\n",
    "from bs4 import BeautifulSoup as bs\n",
    "from pprint import pprint"
   ]
  },
  {
   "cell_type": "markdown",
   "metadata": {},
   "source": [
    "### Скрапперы"
   ]
  },
  {
   "cell_type": "markdown",
   "metadata": {},
   "source": [
    "Базовый класс:"
   ]
  },
  {
   "cell_type": "code",
   "execution_count": 27,
   "metadata": {},
   "outputs": [],
   "source": [
    "class BaseScrapper:\n",
    "\n",
    "    def __init__(self, category: str, init_page_num: int = 0, crawl_delay: int = 1):\n",
    "        self._host: str = ''\n",
    "        self._category: str = category\n",
    "        self._crawl_delay: int = crawl_delay\n",
    "        self._current_page_num: int = init_page_num\n",
    "        self._last_recipes_urls: set = set()\n",
    "        self._data_to_return: set = set()\n",
    "\n",
    "    def __iter__(self) -> iter:\n",
    "        return self\n",
    "\n",
    "    def __next__(self):\n",
    "        if len(self._data_to_return) == 0:\n",
    "            page = self._next_page()\n",
    "            recipes = self._extract_recipes(page)\n",
    "            recipes_urls = set([recipe['url'] for recipe in recipes])\n",
    "            if self._last_recipes_urls != recipes_urls:\n",
    "                self._last_recipes_urls = recipes_urls\n",
    "                self._data_to_return = recipes\n",
    "                time.sleep(self._crawl_delay)\n",
    "                return self.__next__()\n",
    "            else:\n",
    "                raise StopIteration\n",
    "        else:\n",
    "            return self._data_to_return.pop()\n",
    "\n",
    "    def _next_page(self) -> bs:\n",
    "        self._current_page_num += 1\n",
    "        return self._get_page(self._current_page_num)\n",
    "\n",
    "    def _get_page(self, page_num: int) -> bs:\n",
    "        pass\n",
    "\n",
    "    def _extract_recipes(self, page: bs) -> set:\n",
    "        pass\n",
    "\n",
    "    def reset(self):\n",
    "        self._current_page_num = 0\n",
    "        self._last_recipes = set()\n",
    "\n",
    "    def __repr__(self) -> str:\n",
    "        return '{clazz}({sep}host={host},{sep}category={category},{sep}crawl_delay={crawl_delay},\\n)'.format(\n",
    "            sep='\\n\\t',\n",
    "            clazz=self.__class__.__name__,\n",
    "            host=self._host,\n",
    "            category=self._category,\n",
    "            crawl_delay=self._crawl_delay,\n",
    "        )"
   ]
  },
  {
   "cell_type": "markdown",
   "metadata": {},
   "source": [
    "Скраппер сайта povarenok.ru:"
   ]
  },
  {
   "cell_type": "code",
   "execution_count": 83,
   "metadata": {},
   "outputs": [],
   "source": [
    "class PovarenokScrapper(BaseScrapper):\n",
    "\n",
    "    def __init__(self, category: str, init_page_num: int = 0, crawl_delay: int = 1):\n",
    "        super().__init__(category, init_page_num, crawl_delay)\n",
    "        self._host: str = 'https://www.povarenok.ru/recipes'\n",
    "        self._category: str = {\n",
    "            'ch': 'kitchen/73',\n",
    "            'fr': 'kitchen/64',\n",
    "            'it': 'kitchen/56',\n",
    "            'jp': 'kitchen/79',\n",
    "            'ru': 'kitchen/101',\n",
    "            'ua': 'kitchen/104',\n",
    "        }[category]\n",
    "\n",
    "    def _get_page(self, page_num: int) -> bs:\n",
    "        url = f'{self._host}/{self._category}/~{page_num}/?sort=date_create&order=desc'\n",
    "        content = requests.get(url).text\n",
    "        parsed = bs(content, 'lxml')\n",
    "        return parsed\n",
    "\n",
    "    def _extract_recipes(self, page: bs) -> list:\n",
    "        return [self._extract_recipe(article) for article in page.find_all('article')]\n",
    "\n",
    "    def _extract_recipe(self, article: bs) -> dict:\n",
    "        return {\n",
    "            'raw': str(article), 'name': article.select_one('article > h2').get_text().strip(),\n",
    "            'url': article.select_one('article > h2 > a')['href'], \n",
    "            'ingr': list(map(lambda span: span.get_text().strip().lower(), article.select('div.ingr_fast span'))),\n",
    "            'views': article.select_one('ul.icons-wrap .i-views').get_text(),\n",
    "            'comm': article.select_one('ul.icons-wrap .i-comments').get_text(),\n",
    "            'likes': article.select_one('ul.icons-wrap .i-likes').get_text(), 'category': self._category\n",
    "        }"
   ]
  },
  {
   "cell_type": "markdown",
   "metadata": {},
   "source": [
    "Скраппер сайта russianfood.com:"
   ]
  },
  {
   "cell_type": "code",
   "execution_count": 84,
   "metadata": {},
   "outputs": [],
   "source": [
    "class RussianFoodScrapper(BaseScrapper):\n",
    "\n",
    "    def __init__(self, category: str, init_page_num: int = 0, crawl_delay: int = 1):\n",
    "        super().__init__(category, init_page_num, crawl_delay)\n",
    "        self._host: str = 'https://www.russianfood.com'\n",
    "        self._category: str = {\n",
    "            'ch': 'bytype/?fid=132',\n",
    "            'fr': 'bytype/?fid=102',\n",
    "            'it': 'bytype/?fid=110',\n",
    "            'jp': 'bytype/?fid=154',\n",
    "            'ru': 'bytype/?fid=103',\n",
    "            'ua': 'bytype/?fid=104',\n",
    "        }[category]\n",
    "\n",
    "    def _get_page(self, page_num: int) -> bs:\n",
    "        url = f'{self._host}/recipes/{self._category}&sort=id&page={page_num}/'\n",
    "        content = requests.get(url).text\n",
    "        parsed = bs(content, 'lxml')\n",
    "        return parsed\n",
    "\n",
    "    def _extract_recipes(self, page: bs) -> list:\n",
    "        return [self._extract_recipe(article) for article in page.select('div.recipe_list_new > div.recipe_l')]\n",
    "\n",
    "    def _extract_recipe(self, article: bs) -> dict:\n",
    "        return {\n",
    "            'raw': str(article),\n",
    "            'name': article.select_one('div.recipe_l > div.title_o > div.title').get_text().strip(),\n",
    "            'url': self._host + article.select_one('div.recipe_l > div.title_o > div.title > a')['href'],\n",
    "            'ingr': article.select_one('div.recipe_l > div.announce_o > div.announce > div.ingr_str').get_text().strip().lower().split(','),\n",
    "            'category': self._category\n",
    "        }"
   ]
  },
  {
   "cell_type": "markdown",
   "metadata": {},
   "source": [
    "### Добавление данных"
   ]
  },
  {
   "cell_type": "code",
   "execution_count": 63,
   "metadata": {},
   "outputs": [],
   "source": [
    "mongo = MongoClient('localhost', 27017)\n",
    "food_db = mongo['food_db']"
   ]
  },
  {
   "cell_type": "code",
   "execution_count": 85,
   "metadata": {},
   "outputs": [],
   "source": [
    "def fill_via_scrapper(recipes, collection):\n",
    "    for recipe in recipes:\n",
    "        if collection.find_one({'_id': recipe['url']}):\n",
    "            break\n",
    "        else:\n",
    "            new_recipe = {'_id': recipe['url']}\n",
    "            new_recipe.update(recipe)\n",
    "            collection.insert_one(new_recipe)"
   ]
  },
  {
   "cell_type": "code",
   "execution_count": 88,
   "metadata": {},
   "outputs": [],
   "source": [
    "fill_via_scrapper(PovarenokScrapper('ch'), food_db.recipes)"
   ]
  },
  {
   "cell_type": "code",
   "execution_count": 118,
   "metadata": {},
   "outputs": [],
   "source": [
    "fill_via_scrapper(RussianFoodScrapper('ch'), food_db.recipes)"
   ]
  },
  {
   "cell_type": "markdown",
   "metadata": {},
   "source": [
    "### Вывод данных"
   ]
  },
  {
   "cell_type": "code",
   "execution_count": 120,
   "metadata": {},
   "outputs": [],
   "source": [
    "def get_data(ingr: str, collection):\n",
    "    for recipe in collection.find({'ingr': ingr}, {'name': 1, 'ingr': 1, 'url': 1}):\n",
    "        print(recipe['name'])\n",
    "        print('url:', recipe['url'])\n",
    "        pprint(recipe['ingr'])\n",
    "        print()"
   ]
  },
  {
   "cell_type": "code",
   "execution_count": 121,
   "metadata": {},
   "outputs": [
    {
     "name": "stdout",
     "output_type": "stream",
     "text": [
      "Запеченый карп в азиатском стиле\n",
      "url: https://www.povarenok.ru/recipes/show/137852/\n",
      "['карп',\n",
      " 'перец красный жгучий',\n",
      " 'имбирь',\n",
      " 'масло растительное',\n",
      " 'кунжут',\n",
      " 'соус',\n",
      " 'уксус',\n",
      " 'лук зеленый',\n",
      " 'сахар коричневый']\n",
      "\n",
      "Карп \"Белка\"\n",
      "url: https://www.povarenok.ru/recipes/show/120244/\n",
      "['карп',\n",
      " 'крахмал',\n",
      " 'сок лимонный',\n",
      " 'масло растительное',\n",
      " 'бульон',\n",
      " 'сахар коричневый',\n",
      " 'томатная паста',\n",
      " 'уксус',\n",
      " 'вино белое сухое',\n",
      " 'соль',\n",
      " 'чеснок',\n",
      " 'имбирь',\n",
      " 'перец чили',\n",
      " 'вода']\n",
      "\n",
      "Фаршированный карп в азиатском стиле\n",
      "url: https://www.povarenok.ru/recipes/show/97487/\n",
      "['карп',\n",
      " 'перец болгарский',\n",
      " 'лук красный',\n",
      " 'баклажан',\n",
      " 'имбирь',\n",
      " 'лимон',\n",
      " 'бадьян',\n",
      " 'сахар',\n",
      " 'соевый соус',\n",
      " 'крахмал кукурузный',\n",
      " 'уксус',\n",
      " 'масло растительное',\n",
      " 'вода',\n",
      " 'рис']\n",
      "\n",
      "Карп в кисло-сладком соусе\n",
      "url: https://www.povarenok.ru/recipes/show/67758/\n",
      "['карп',\n",
      " 'яйцо куриное',\n",
      " 'крошка хлебная',\n",
      " 'крахмал кукурузный',\n",
      " 'соль',\n",
      " 'вода',\n",
      " 'уксус',\n",
      " 'сахар',\n",
      " 'томатная паста',\n",
      " 'соевый соус',\n",
      " 'вино белое сухое']\n",
      "\n",
      "Карп \"Хризантема\" под соусом\n",
      "url: https://www.povarenok.ru/recipes/show/63754/\n",
      "['карп',\n",
      " 'сельдерей черешковый',\n",
      " 'перец болгарский',\n",
      " 'морковь',\n",
      " 'ананас',\n",
      " 'томатная паста',\n",
      " 'уксус',\n",
      " 'перец чили',\n",
      " 'масло растительное',\n",
      " 'крахмал кукурузный']\n",
      "\n",
      "Рыба по-сычуаньски в остром соусе\n",
      "url: https://www.povarenok.ru/recipes/show/58489/\n",
      "['карп',\n",
      " 'соевый соус',\n",
      " 'чеснок',\n",
      " 'вино рисовое',\n",
      " 'имбирь',\n",
      " 'соус',\n",
      " 'уксус',\n",
      " 'томатная паста',\n",
      " 'кинза']\n",
      "\n",
      "Карп \"Белка\"\n",
      "url: https://www.povarenok.ru/recipes/show/35223/\n",
      "['карп',\n",
      " 'томатная паста',\n",
      " 'уксус',\n",
      " 'сахар',\n",
      " 'имбирь',\n",
      " 'лук-порей',\n",
      " 'перец чили',\n",
      " 'орехи кедровые',\n",
      " 'крахмал кукурузный',\n",
      " 'масло растительное',\n",
      " 'масло кунжутное',\n",
      " 'соль']\n",
      "\n",
      "Карп в кисло-сладком соусе\n",
      "url: https://www.povarenok.ru/recipes/show/18868/\n",
      "['карп',\n",
      " 'томатная паста',\n",
      " 'вино белое сухое',\n",
      " 'соль',\n",
      " 'чеснок',\n",
      " 'имбирь',\n",
      " 'перец кайен',\n",
      " 'сахар',\n",
      " 'крахмал',\n",
      " 'масло растительное']\n",
      "\n",
      "Карп, фаршированный овощами\n",
      "url: https://www.russianfood.com/recipes/recipe.php?rid=93120\n",
      "['карп',\n",
      " ' перец сладкий',\n",
      " ' перец красный',\n",
      " ' лук красный',\n",
      " ' баклажан',\n",
      " ' корень имбиря',\n",
      " ' бадьян',\n",
      " ' соус соевый',\n",
      " ' сахар',\n",
      " ' крахмал кукурузный',\n",
      " ' уксус',\n",
      " ' масло растительное',\n",
      " ' соль...']\n",
      "\n",
      "Карп в кисло-сладком соусе\n",
      "url: https://www.russianfood.com/recipes/recipe.php?rid=93489\n",
      "['карп',\n",
      " ' лук красный',\n",
      " ' лук-порей',\n",
      " ' морковь',\n",
      " ' вешенки',\n",
      " ' горошек зелёный',\n",
      " ' чеснок',\n",
      " ' корень имбиря',\n",
      " ' вино рисовое',\n",
      " ' вино белое сухое',\n",
      " ' яйца',\n",
      " ' крахмал кукурузный',\n",
      " ' соль...']\n",
      "\n",
      "Паровая рыба с соусом «Пять ив»\n",
      "url: https://www.russianfood.com/recipes/recipe.php?rid=101871\n",
      "['карп',\n",
      " ' корень имбиря',\n",
      " ' лук зелёный',\n",
      " ' соль',\n",
      " ' маринад',\n",
      " ' вода',\n",
      " ' уксус винный',\n",
      " ' сахар',\n",
      " ' мука кукурузная',\n",
      " ' соус соевый',\n",
      " ' вино рисовое',\n",
      " ' херес',\n",
      " ' перец зеленый',\n",
      " ' морковь',\n",
      " ' помидоры']\n",
      "\n",
      "Карп жареный по-пекински\n",
      "url: https://www.russianfood.com/recipes/recipe.php?rid=93017\n",
      "['карп',\n",
      " ' масло растительное',\n",
      " ' луковицы',\n",
      " ' чеснок',\n",
      " ' соус соевый',\n",
      " ' мука пшеничная',\n",
      " ' сахар',\n",
      " ' крахмал',\n",
      " ' уксус 3%',\n",
      " ' вино десертное',\n",
      " ' перец красный молотый',\n",
      " ' соль',\n",
      " ' глютамат натрия']\n",
      "\n",
      "Карп фаршированный по-кантонски\n",
      "url: https://www.russianfood.com/recipes/recipe.php?rid=93021\n",
      "['карп',\n",
      " ' грибы свежие',\n",
      " ' креветки отварные очищенные',\n",
      " ' корейка свиная',\n",
      " ' сало свиное',\n",
      " ' масло растительное',\n",
      " ' бульон мясной',\n",
      " ' соус соевый',\n",
      " ' крахмал',\n",
      " ' соль',\n",
      " ' глютамат натрия']\n",
      "\n"
     ]
    }
   ],
   "source": [
    "get_data('карп', food_db.recipes)"
   ]
  },
  {
   "cell_type": "code",
   "execution_count": null,
   "metadata": {},
   "outputs": [],
   "source": []
  }
 ],
 "metadata": {
  "kernelspec": {
   "display_name": "Python 3",
   "language": "python",
   "name": "python3"
  },
  "language_info": {
   "codemirror_mode": {
    "name": "ipython",
    "version": 3
   },
   "file_extension": ".py",
   "mimetype": "text/x-python",
   "name": "python",
   "nbconvert_exporter": "python",
   "pygments_lexer": "ipython3",
   "version": "3.7.5"
  }
 },
 "nbformat": 4,
 "nbformat_minor": 4
}
