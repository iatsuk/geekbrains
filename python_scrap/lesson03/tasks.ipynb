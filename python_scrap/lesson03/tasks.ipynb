{
 "cells": [
  {
   "cell_type": "markdown",
   "metadata": {},
   "source": [
    "# Методы сбора и обработки данных из сети Интернет\n",
    "## Урок 3. MongoDB, SQLAlchemy\n",
    "### Задание\n",
    "1. Развернуть у себя на компьютере/виртуальной машине/хостинге MongoDB и реализовать функцию, записывающую собранные данные в созданную БД\n",
    "2. Написать функцию, которая производит поиск и выводит на экран рецепты с перечисленными ингридиентами\n",
    "3. *Написать функцию, которая будет добавлять в вашу базу данных только новые рецепты с сайта. Доработать функцию, которая будет обновлять старые."
   ]
  },
  {
   "cell_type": "markdown",
   "metadata": {},
   "source": [
    "### Запуск MongoDB"
   ]
  },
  {
   "cell_type": "code",
   "execution_count": 3,
   "metadata": {},
   "outputs": [
    {
     "name": "stdout",
     "output_type": "stream",
     "text": [
      "Unable to find image 'mongo:latest' locally\n",
      "latest: Pulling from library/mongo\n",
      "\n",
      "\u001b[1Ba4a261c9: Pulling fs layer \n",
      "\u001b[1B20cdee96: Pulling fs layer \n",
      "\u001b[1B60e1d0de: Pulling fs layer \n",
      "\u001b[1B7668deea: Pulling fs layer \n",
      "\u001b[1B87a82b4c: Pulling fs layer \n",
      "\u001b[1B139e0836: Pulling fs layer \n",
      "\u001b[1B9c8680b4: Pulling fs layer \n",
      "\u001b[1Bdf30d947: Pulling fs layer \n",
      "\u001b[1B5ef3d2ce: Pulling fs layer \n",
      "\u001b[1B54ed6b43: Pulling fs layer \n",
      "\u001b[1Be535ddb8: Pulling fs layer \n",
      "\u001b[1Bdad81b2a: Pulling fs layer \n",
      "\u001b[1BDigest: sha256:7a1406bfc05547b33a3b7b112eda6346f42ea93ee06b74d30c4c47dfeca0d5f2\u001b[2K\u001b[13A\u001b[2K\u001b[13A\u001b[2K\u001b[10A\u001b[2K\u001b[13A\u001b[2K\u001b[13A\u001b[2K\u001b[13A\u001b[2K\u001b[13A\u001b[2K\u001b[13A\u001b[2K\u001b[13A\u001b[2K\u001b[13A\u001b[2K\u001b[13A\u001b[2K\u001b[7A\u001b[2K\u001b[13A\u001b[2K\u001b[7A\u001b[2K\u001b[8A\u001b[2K\u001b[13A\u001b[2K\u001b[8A\u001b[2K\u001b[7A\u001b[2K\u001b[8A\u001b[2K\u001b[13A\u001b[2K\u001b[8A\u001b[2K\u001b[13A\u001b[2K\u001b[8A\u001b[2K\u001b[7A\u001b[2K\u001b[8A\u001b[2K\u001b[7A\u001b[2K\u001b[8A\u001b[2K\u001b[8A\u001b[2K\u001b[7A\u001b[2K\u001b[13A\u001b[2K\u001b[13A\u001b[2K\u001b[8A\u001b[2K\u001b[13A\u001b[2K\u001b[8A\u001b[2K\u001b[13A\u001b[2K\u001b[7A\u001b[2K\u001b[8A\u001b[2K\u001b[7A\u001b[2K\u001b[8A\u001b[2K\u001b[7A\u001b[2K\u001b[13A\u001b[2K\u001b[7A\u001b[2K\u001b[13A\u001b[2K\u001b[7A\u001b[2K\u001b[13A\u001b[2K\u001b[7A\u001b[2K\u001b[8A\u001b[2K\u001b[7A\u001b[2K\u001b[8A\u001b[2K\u001b[13A\u001b[2K\u001b[13A\u001b[2K\u001b[7A\u001b[2K\u001b[13A\u001b[2K\u001b[7A\u001b[2K\u001b[13A\u001b[2K\u001b[7A\u001b[2K\u001b[7A\u001b[2K\u001b[7A\u001b[2K\u001b[13A\u001b[2K\u001b[7A\u001b[2K\u001b[13A\u001b[2K\u001b[7A\u001b[2K\u001b[13A\u001b[2K\u001b[13A\u001b[2K\u001b[7A\u001b[2K\u001b[13A\u001b[2K\u001b[13A\u001b[2K\u001b[6A\u001b[2K\u001b[13A\u001b[2K\u001b[7A\u001b[2K\u001b[13A\u001b[2K\u001b[7A\u001b[2K\u001b[13A\u001b[2K\u001b[7A\u001b[2K\u001b[7A\u001b[2K\u001b[7A\u001b[2K\u001b[5A\u001b[2K\u001b[5A\u001b[2K\u001b[7A\u001b[2K\u001b[13A\u001b[2K\u001b[12A\u001b[2K\u001b[4A\u001b[2K\u001b[12A\u001b[2K\u001b[11A\u001b[2K\u001b[10A\u001b[2K\u001b[9A\u001b[2K\u001b[8A\u001b[2K\u001b[8A\u001b[2K\u001b[8A\u001b[2K\u001b[7A\u001b[2K\u001b[1A\u001b[2K\u001b[7A\u001b[2K\u001b[7A\u001b[2K\u001b[6A\u001b[2K\u001b[5A\u001b[2K\u001b[3A\u001b[2K\u001b[4A\u001b[2K\u001b[3A\u001b[2K\u001b[3A\u001b[2K\u001b[3A\u001b[2K\u001b[3A\u001b[2K\u001b[3A\u001b[2K\u001b[3A\u001b[2K\u001b[3A\u001b[2K\u001b[3A\u001b[2K\u001b[3A\u001b[2K\u001b[3A\u001b[2K\u001b[3A\u001b[2K\u001b[3A\u001b[2K\u001b[3A\u001b[2K\u001b[3A\u001b[2K\u001b[3A\u001b[2K\u001b[3A\u001b[2K\u001b[3A\u001b[2K\u001b[3A\u001b[2K\u001b[3A\u001b[2K\u001b[3A\u001b[2K\u001b[3A\u001b[2K\u001b[3A\u001b[2K\u001b[3A\u001b[2K\u001b[3A\u001b[2K\u001b[3A\u001b[2K\u001b[3A\u001b[2K\u001b[3A\u001b[2K\u001b[3A\u001b[2K\u001b[3A\u001b[2K\u001b[3A\u001b[2K\u001b[3A\u001b[2K\u001b[3A\u001b[2K\u001b[3A\u001b[2K\u001b[3A\u001b[2K\u001b[3A\u001b[2K\u001b[3A\u001b[2K\u001b[3A\u001b[2K\u001b[3A\u001b[2K\u001b[3A\u001b[2K\u001b[3A\u001b[2K\u001b[3A\u001b[2K\u001b[3A\u001b[2K\u001b[3A\u001b[2K\u001b[3A\u001b[2K\u001b[3A\u001b[2K\u001b[3A\u001b[2K\u001b[3A\u001b[2K\u001b[3A\u001b[2K\u001b[3A\u001b[2K\u001b[3A\u001b[2K\u001b[3A\u001b[2K\u001b[3A\u001b[2K\u001b[3A\u001b[2K\u001b[3A\u001b[2K\u001b[3A\u001b[2K\u001b[3A\u001b[2K\u001b[3A\u001b[2K\u001b[3A\u001b[2K\u001b[3A\u001b[2K\u001b[3A\u001b[2K\u001b[3A\u001b[2K\u001b[3A\u001b[2K\u001b[3A\u001b[2K\u001b[3A\u001b[2K\u001b[3A\u001b[2K\u001b[3A\u001b[2K\u001b[3A\u001b[2K\u001b[3A\u001b[2K\u001b[3A\u001b[2K\u001b[3A\u001b[2K\u001b[3A\u001b[2K\u001b[3A\u001b[2K\u001b[3A\u001b[2K\u001b[3A\u001b[2K\u001b[3A\u001b[2K\u001b[3A\u001b[2K\u001b[3A\u001b[2K\u001b[3A\u001b[2K\u001b[3A\u001b[2K\u001b[3A\u001b[2K\u001b[3A\u001b[2K\u001b[3A\u001b[2K\u001b[3A\u001b[2K\u001b[3A\u001b[2K\u001b[3A\u001b[2K\u001b[3A\u001b[2K\u001b[3A\u001b[2K\u001b[3A\u001b[2K\u001b[3A\u001b[2K\u001b[3A\u001b[2K\u001b[3A\u001b[2K\u001b[3A\u001b[2K\u001b[3A\u001b[2K\u001b[3A\u001b[2K\u001b[3A\u001b[2K\u001b[3A\u001b[2K\u001b[3A\u001b[2K\u001b[3A\u001b[2K\u001b[3A\u001b[2K\u001b[3A\u001b[2K\u001b[3A\u001b[2K\u001b[3A\u001b[2K\u001b[3A\u001b[2K\u001b[3A\u001b[2K\u001b[3A\u001b[2K\u001b[3A\u001b[2K\u001b[3A\u001b[2K\u001b[3A\u001b[2K\u001b[3A\u001b[2K\u001b[3A\u001b[2K\u001b[3A\u001b[2K\u001b[3A\u001b[2K\u001b[3A\u001b[2K\u001b[3A\u001b[2K\u001b[3A\u001b[2K\u001b[3A\u001b[2K\u001b[3A\u001b[2K\u001b[3A\u001b[2K\u001b[3A\u001b[2K\u001b[3A\u001b[2K\u001b[3A\u001b[2K\u001b[3A\u001b[2K\u001b[3A\u001b[2K\u001b[3A\u001b[2K\u001b[3A\u001b[2K\u001b[3A\u001b[2K\u001b[3A\u001b[2K\u001b[3A\u001b[2K\u001b[3A\u001b[2K\u001b[3A\u001b[2K\u001b[3A\u001b[2K\u001b[3A\u001b[2K\u001b[3A\u001b[2K\u001b[3A\u001b[2K\u001b[3A\u001b[2K\u001b[3A\u001b[2K\u001b[3A\u001b[2K\u001b[3A\u001b[2K\u001b[3A\u001b[2K\u001b[3A\u001b[2K\u001b[3A\u001b[2K\u001b[3A\u001b[2K\u001b[3A\u001b[2K\u001b[3A\u001b[2K\u001b[3A\u001b[2K\u001b[3A\u001b[2K\u001b[3A\u001b[2K\u001b[3A\u001b[2K\u001b[3A\u001b[2K\u001b[3A\u001b[2K\u001b[3A\u001b[2K\u001b[3A\u001b[2K\u001b[3A\u001b[2K\u001b[3A\u001b[2K\u001b[3A\u001b[2K\u001b[3A\u001b[2K\u001b[3A\u001b[2K\u001b[3A\u001b[2K\u001b[3A\u001b[2K\u001b[3A\u001b[2K\u001b[3A\u001b[2K\u001b[3A\u001b[2K\u001b[3A\u001b[2K\u001b[3A\u001b[2K\u001b[3A\u001b[2K\u001b[3A\u001b[2K\u001b[3A\u001b[2K\u001b[3A\u001b[2K\u001b[3A\u001b[2K\u001b[3A\u001b[2K\u001b[3A\u001b[2K\u001b[3A\u001b[2K\u001b[3A\u001b[2K\u001b[3A\u001b[2K\u001b[3A\u001b[2K\u001b[3A\u001b[2K\u001b[3A\u001b[2K\u001b[3A\u001b[2K\u001b[3A\u001b[2K\u001b[3A\u001b[2K\u001b[3A\u001b[2K\u001b[3A\u001b[2K\u001b[3A\u001b[2K\u001b[3A\u001b[2K\u001b[3A\u001b[2K\u001b[3A\u001b[2K\u001b[3A\u001b[2K\u001b[3A\u001b[2K\u001b[2A\u001b[2K\u001b[1A\u001b[2K\n",
      "Status: Downloaded newer image for mongo:latest\n",
      "66157a453790f1e9f0276ddde46449834a73faef86e520af05107bed0181ece7\n"
     ]
    }
   ],
   "source": [
    "!docker run -d -p 27017:27017 --name scrapy_mongo mongo"
   ]
  },
  {
   "cell_type": "code",
   "execution_count": 7,
   "metadata": {},
   "outputs": [
    {
     "name": "stdout",
     "output_type": "stream",
     "text": [
      "scrapy_mongo\n"
     ]
    }
   ],
   "source": [
    "!docker start scrapy_mongo"
   ]
  },
  {
   "cell_type": "code",
   "execution_count": 6,
   "metadata": {},
   "outputs": [
    {
     "name": "stdout",
     "output_type": "stream",
     "text": [
      "scrapy_mongo\n"
     ]
    }
   ],
   "source": [
    "!docker stop scrapy_mongo"
   ]
  },
  {
   "cell_type": "markdown",
   "metadata": {},
   "source": [
    "### Секция импорта"
   ]
  },
  {
   "cell_type": "code",
   "execution_count": 20,
   "metadata": {},
   "outputs": [],
   "source": [
    "from pymongo import MongoClient\n",
    "import time\n",
    "import requests\n",
    "import pandas as pd\n",
    "from bs4 import BeautifulSoup as bs"
   ]
  },
  {
   "cell_type": "markdown",
   "metadata": {},
   "source": [
    "### Работа с БД"
   ]
  },
  {
   "cell_type": "code",
   "execution_count": 9,
   "metadata": {},
   "outputs": [],
   "source": [
    "client = MongoClient('localhost', 27017)\n",
    "db = client['users_db_224']"
   ]
  },
  {
   "cell_type": "code",
   "execution_count": 14,
   "metadata": {},
   "outputs": [
    {
     "data": {
      "text/plain": [
       "<pymongo.results.InsertOneResult at 0x10adbbfa0>"
      ]
     },
     "execution_count": 14,
     "metadata": {},
     "output_type": "execute_result"
    }
   ],
   "source": [
    "users = db.users\n",
    "users.insert_one({'author':'Test_author2'})"
   ]
  },
  {
   "cell_type": "code",
   "execution_count": 18,
   "metadata": {},
   "outputs": [
    {
     "data": {
      "text/plain": [
       "<pymongo.results.DeleteResult at 0x10adc4910>"
      ]
     },
     "execution_count": 18,
     "metadata": {},
     "output_type": "execute_result"
    }
   ],
   "source": [
    "users.delete_many({})"
   ]
  },
  {
   "cell_type": "code",
   "execution_count": 17,
   "metadata": {},
   "outputs": [
    {
     "data": {
      "text/plain": [
       "[]"
      ]
     },
     "execution_count": 17,
     "metadata": {},
     "output_type": "execute_result"
    }
   ],
   "source": [
    "[print(x) for x in users.find()]"
   ]
  },
  {
   "cell_type": "markdown",
   "metadata": {},
   "source": [
    "### Скраппер"
   ]
  },
  {
   "cell_type": "code",
   "execution_count": 21,
   "metadata": {},
   "outputs": [],
   "source": [
    "class BaseScrapper:\n",
    "\n",
    "    def __init__(self, category: str, init_page_num: int = 0, crawl_delay: int = 1):\n",
    "        self._host: str = 'https://www.povarenok.ru/recipes'\n",
    "        self._category: str = category\n",
    "        self._crawl_delay: int = crawl_delay\n",
    "        self._current_page_num: int = init_page_num\n",
    "        self._last_recipes_urls: set = set()\n",
    "        self._data_to_return: set = set()\n",
    "\n",
    "    def __iter__(self) -> iter:\n",
    "        return self\n",
    "\n",
    "    def __next__(self):\n",
    "        if len(self._data_to_return) == 0:\n",
    "            page = self._next_page()\n",
    "            recipes = self._extract_recipes(page)\n",
    "            recipes_urls = set([recipe['url'] for recipe in recipes])\n",
    "            if self._last_recipes_urls != recipes_urls:\n",
    "                self._last_recipes_urls = recipes_urls\n",
    "                self._data_to_return = recipes\n",
    "                time.sleep(self._crawl_delay)\n",
    "                return self.__next__()\n",
    "            else:\n",
    "                raise StopIteration\n",
    "        else:\n",
    "            return self._data_to_return.pop()\n",
    "\n",
    "    def _next_page(self) -> bs:\n",
    "        self._current_page_num += 1\n",
    "        return self._get_page(self._current_page_num)\n",
    "\n",
    "    def _get_page(self, page_num: int) -> bs:\n",
    "        pass\n",
    "\n",
    "    def _extract_recipes(self, page: bs) -> set:\n",
    "        pass\n",
    "\n",
    "    def reset(self):\n",
    "        self._current_page_num = 0\n",
    "        self._last_recipes = set()\n",
    "\n",
    "    def __repr__(self) -> str:\n",
    "        return '{clazz}({sep}host={host},{sep}category={category},{sep}crawl_delay={crawl_delay},\\n)'.format(\n",
    "            sep='\\n\\t',\n",
    "            clazz=self.__class__.__name__,\n",
    "            host=self._host,\n",
    "            category=self._category,\n",
    "            crawl_delay=self._crawl_delay,\n",
    "        )"
   ]
  },
  {
   "cell_type": "code",
   "execution_count": null,
   "metadata": {},
   "outputs": [],
   "source": [
    "class PovarenokScrapper(BaseScrapper):\n",
    "\n",
    "    def __init__(self, category: str, crawl_delay: int = 1):\n",
    "        super().__init__(category, crawl_delay)\n",
    "        self._host: str = 'https://www.povarenok.ru/recipes'\n",
    "        self._category: str = {\n",
    "            'ch': 'kitchen/73',\n",
    "            'fr': 'kitchen/64',\n",
    "            'it': 'kitchen/56',\n",
    "            'jp': 'kitchen/79',\n",
    "            'ru': 'kitchen/101',\n",
    "            'ua': 'kitchen/104',\n",
    "        }[category]\n",
    "\n",
    "    def _get_page(self, page_num: int) -> bs:\n",
    "        url = f'{self._host}/{self._category}/~{page_num}/'\n",
    "        content = requests.get(url).text\n",
    "        parsed = bs(content, 'lxml')\n",
    "        return parsed\n",
    "\n",
    "    def _extract_recipes(self, page: bs) -> set:\n",
    "        return set([self._extract_recipe(article) for article in page.find_all('article')])\n",
    "\n",
    "    def _extract_recipe(article: bs) -> dict:\n",
    "        recipe = {}\n",
    "        recipe['raw'] = str(article)\n",
    "        recipe['name'] = article.select_one('article > h2').get_text().strip()\n",
    "        recipe['url'] = article.select_one('article > h2 > a')['href']\n",
    "        recipe['ingr'] = ','.join(map(lambda span: span.get_text().strip().lower(), article.select('div.ingr_fast span')))\n",
    "        recipe['views'] = article.select_one('ul.icons-wrap .i-views').get_text()\n",
    "        recipe['comm'] = article.select_one('ul.icons-wrap .i-comments').get_text()\n",
    "        recipe['likes'] = article.select_one('ul.icons-wrap .i-likes').get_text()\n",
    "        recipe['category'] = self._category\n",
    "        return recipe"
   ]
  },
  {
   "cell_type": "code",
   "execution_count": null,
   "metadata": {},
   "outputs": [],
   "source": [
    "class RussianFoodScrapper(BaseScrapper):\n",
    "\n",
    "    def __init__(self, category: str, crawl_delay: int = 1):\n",
    "        super().__init__(category, crawl_delay)\n",
    "        self._host: str = 'https://www.russianfood.com/recipes/'\n",
    "        self._category: str = {\n",
    "            'ch': 'bytype/?fid=132',\n",
    "            'fr': 'bytype/?fid=102',\n",
    "            'it': 'bytype/?fid=110',\n",
    "            'jp': 'bytype/?fid=154',\n",
    "            'ru': 'bytype/?fid=103',\n",
    "            'ua': 'bytype/?fid=104',\n",
    "        }[category]\n",
    "\n",
    "    def _get_page(self, page_num: int) -> bs:\n",
    "        url = f'{self._host}/{self._category}/~{page_num}/'\n",
    "        content = requests.get(url).text\n",
    "        parsed = bs(content, 'lxml')\n",
    "        return parsed\n",
    "\n",
    "    def _extract_recipes(self, page: bs) -> set:\n",
    "        return set([self._extract_recipe(article) for article in page.find_all('article')])\n",
    "\n",
    "    def _extract_recipe(article: bs) -> dict:\n",
    "        recipe = {}\n",
    "        recipe['raw'] = str(article)\n",
    "        recipe['name'] = article.select_one('article > h2').get_text().strip()\n",
    "        recipe['url'] = article.select_one('article > h2 > a')['href']\n",
    "        recipe['ingr'] = ','.join(map(lambda span: span.get_text().strip().lower(), article.select('div.ingr_fast span')))\n",
    "        recipe['views'] = article.select_one('ul.icons-wrap .i-views').get_text()\n",
    "        recipe['comm'] = article.select_one('ul.icons-wrap .i-comments').get_text()\n",
    "        recipe['likes'] = article.select_one('ul.icons-wrap .i-likes').get_text()\n",
    "        recipe['category'] = self._category\n",
    "        return recipe"
   ]
  }
 ],
 "metadata": {
  "kernelspec": {
   "display_name": "Python 3",
   "language": "python",
   "name": "python3"
  },
  "language_info": {
   "codemirror_mode": {
    "name": "ipython",
    "version": 3
   },
   "file_extension": ".py",
   "mimetype": "text/x-python",
   "name": "python",
   "nbconvert_exporter": "python",
   "pygments_lexer": "ipython3",
   "version": "3.7.5"
  }
 },
 "nbformat": 4,
 "nbformat_minor": 4
}
