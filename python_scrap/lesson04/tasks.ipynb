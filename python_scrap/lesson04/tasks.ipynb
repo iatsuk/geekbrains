{
 "cells": [
  {
   "cell_type": "markdown",
   "metadata": {},
   "source": [
    "# Методы сбора и обработки данных из сети интернет\n",
    "## Урок 4. Парсинг HTML. XPath\n",
    "### Задание\n",
    "1. Написать приложение, которое собирает основные новости с сайтов mail.ru, lenta.ru, yandex.news.\n",
    "2. Для парсинга использовать xpath. Структура данных должна содержать: \n",
    "    * название источника,\n",
    "    * наименование новости,\n",
    "    * ссылку на новость,\n",
    "    * дата публикации.\n",
    "3. Сложить все новости в БД."
   ]
  },
  {
   "cell_type": "markdown",
   "metadata": {},
   "source": [
    "### Запуск MongoDB"
   ]
  },
  {
   "cell_type": "code",
   "execution_count": 1,
   "metadata": {},
   "outputs": [
    {
     "name": "stdout",
     "output_type": "stream",
     "text": [
      "scrapy_mongo\n"
     ]
    }
   ],
   "source": [
    "!docker start scrapy_mongo"
   ]
  },
  {
   "cell_type": "markdown",
   "metadata": {},
   "source": [
    "### Скрапперы"
   ]
  },
  {
   "cell_type": "code",
   "execution_count": 2,
   "metadata": {},
   "outputs": [
    {
     "data": {
      "text/plain": [
       "'ru_RU.UTF-8'"
      ]
     },
     "execution_count": 2,
     "metadata": {},
     "output_type": "execute_result"
    }
   ],
   "source": [
    "import requests\n",
    "from fake_useragent import UserAgent\n",
    "from lxml import html, etree\n",
    "from datetime import datetime\n",
    "import unicodedata\n",
    "import locale\n",
    "\n",
    "locale.setlocale(locale.LC_TIME, 'ru_RU.UTF-8')"
   ]
  },
  {
   "cell_type": "markdown",
   "metadata": {},
   "source": [
    "Базовый класс:"
   ]
  },
  {
   "cell_type": "code",
   "execution_count": 19,
   "metadata": {},
   "outputs": [],
   "source": [
    "class BaseScrapper:\n",
    "\n",
    "    def __init__(self, host: str, user_agent: str = UserAgent().random):\n",
    "        self._host: str = host\n",
    "        self._user_agent = user_agent\n",
    "        self._data_to_return: list = None\n",
    "        self._current_pos: int = -1\n",
    "\n",
    "    def __iter__(self) -> iter:\n",
    "        return self\n",
    "\n",
    "    def __next__(self):\n",
    "        if self._data_to_return is None:\n",
    "            self._data_to_return = self._fetch_data()\n",
    "        self._current_pos += 1\n",
    "        if self._current_pos >= len(self._data_to_return):\n",
    "            raise StopIteration\n",
    "        return self._data_to_return[self._current_pos]\n",
    "        \n",
    "    def _fetch_data(self) -> set:\n",
    "        page = self._get_page()\n",
    "        data = self._extract_data(page)\n",
    "        return data\n",
    "\n",
    "    def _get_page(self) -> html.HtmlElement:\n",
    "        headers = {'User-Agent': self._user_agent,}\n",
    "        content = requests.get(self._host, headers=headers).text\n",
    "        parsed = html.fromstring(content)\n",
    "        return parsed\n",
    "\n",
    "    def _extract_data(self, parsed: html.HtmlElement) -> list:\n",
    "        result = []\n",
    "        articles = self._get_articles(parsed)\n",
    "        for article in articles:\n",
    "            try:\n",
    "                result.append(self._extract_data_elem(article))\n",
    "            except Exception as e:\n",
    "                print('Article:', etree.tostring(article))\n",
    "                raise e\n",
    "        return result\n",
    "    \n",
    "    def _get_articles(self, parsed: html.HtmlElement) -> list:\n",
    "        raise NotImplementedError\n",
    "    \n",
    "    def _extract_data_elem(self, article: html.HtmlElement) -> dict:\n",
    "        raise NotImplementedError\n",
    "    \n",
    "    def __repr__(self) -> str:\n",
    "        return '{clazz}({sep}host={host},{sep}fetched={fetched},\\n)'.format(\n",
    "            sep='\\n\\t',\n",
    "            clazz=self.__class__.__name__,\n",
    "            host=self._host,\n",
    "            fetched=(self._data_to_return is not None),\n",
    "        )"
   ]
  },
  {
   "cell_type": "markdown",
   "metadata": {},
   "source": [
    "Скраппер mail.ru:"
   ]
  },
  {
   "cell_type": "code",
   "execution_count": 20,
   "metadata": {},
   "outputs": [],
   "source": [
    "class MailRuScrapper(BaseScrapper):\n",
    "\n",
    "    def __init__(self):\n",
    "        super().__init__(host='https://news.mail.ru')\n",
    "\n",
    "    def _get_articles(self, parsed: html.HtmlElement) -> list:\n",
    "        return parsed.xpath('//div[contains(@class,\"newsitem_height\")]')\n",
    "\n",
    "    def _extract_data_elem(self, article: html.HtmlElement) -> dict:\n",
    "        return {\n",
    "            'raw': etree.tostring(article),\n",
    "            'url': self._host + article.xpath('.//span[@class=\"cell\"]/a[@class=\"newsitem__title link-holder\"]/@href')[0], \n",
    "            'header': unicodedata.normalize('NFKD', article.xpath('.//span[@class=\"newsitem__title-inner\"]/text()')[0]),\n",
    "            'date': datetime.strptime(article.xpath('.//div[@class=\"newsitem__params\"]/span[contains(@class,\"js-ago\")]/@datetime')[0], '%Y-%m-%dT%H:%M:%S%z'),\n",
    "            'source': unicodedata.normalize('NFKD', article.xpath('.//div[@class=\"newsitem__params\"]/span[@class=\"newsitem__param\"]/text()')[0]),\n",
    "        }"
   ]
  },
  {
   "cell_type": "markdown",
   "metadata": {},
   "source": [
    "Скраппер lenta.ru:"
   ]
  },
  {
   "cell_type": "code",
   "execution_count": 22,
   "metadata": {},
   "outputs": [],
   "source": [
    "class LentaRuScrapper(BaseScrapper):\n",
    "\n",
    "    def __init__(self):\n",
    "        super().__init__(host='https://lenta.ru')\n",
    "\n",
    "    def _get_articles(self, parsed: html.HtmlElement) -> list:\n",
    "        return parsed.xpath('//div[contains(@class,\"span\")]/div[@class=\"item\"]/a[contains(@href,\"/news/\")]')\n",
    "\n",
    "    def _extract_data_elem(self, article: html.HtmlElement) -> dict:\n",
    "        return {\n",
    "            'raw': etree.tostring(article),\n",
    "            'url': self._host + article.xpath('./@href')[0], \n",
    "            'header': unicodedata.normalize('NFKD', article.xpath('./text()')[0]),\n",
    "            'date': datetime.strptime(article.xpath('./time/@datetime')[0], ' %H:%M, %d %B %Y'),\n",
    "            'source': 'Lenta.ru',\n",
    "        }"
   ]
  },
  {
   "cell_type": "markdown",
   "metadata": {},
   "source": [
    "Скраппер yandex.news:"
   ]
  },
  {
   "cell_type": "code",
   "execution_count": 23,
   "metadata": {},
   "outputs": [],
   "source": [
    "class YandexNewsScrapper(BaseScrapper):\n",
    "\n",
    "    def __init__(self):\n",
    "        super().__init__(host='https://news.yandex.ru')\n",
    "\n",
    "    def _get_articles(self, parsed: html.HtmlElement) -> list:\n",
    "        return parsed.xpath('//div[@class=\"page-content__cell\"]//table[contains(@class,\"stories-set\")]//td')\n",
    "\n",
    "    def _extract_data_elem(self, article: html.HtmlElement) -> dict:\n",
    "        return {\n",
    "            'raw': etree.tostring(article),\n",
    "            'url': self._host + article.xpath('.//h2[@class=\"story__title\"]/a/@href')[0], \n",
    "            'header': unicodedata.normalize('NFKD', article.xpath('.//h2[@class=\"story__title\"]/a/text()')[0]),\n",
    "            'date': self.__parse_date(article),\n",
    "            'source': ' '.join(article.xpath('.//div[@class=\"story__date\"]/text()')[0].split()[0:-1]),\n",
    "        }\n",
    "    \n",
    "    def __parse_date(self, article: html.HtmlElement) -> datetime:\n",
    "        str_time = article.xpath('.//div[@class=\"story__date\"]/text()')[0].split()[-1]\n",
    "        parsed_time = datetime.strptime(str_time, '%H:%M')\n",
    "        return datetime.now().replace(hour=parsed_time.hour, minute=parsed_time.minute, second=0, microsecond=0)"
   ]
  },
  {
   "cell_type": "markdown",
   "metadata": {},
   "source": [
    "### Сбор данных"
   ]
  },
  {
   "cell_type": "code",
   "execution_count": 8,
   "metadata": {},
   "outputs": [],
   "source": [
    "from pymongo import MongoClient"
   ]
  },
  {
   "cell_type": "code",
   "execution_count": 9,
   "metadata": {},
   "outputs": [],
   "source": [
    "mongo = MongoClient('localhost', 27017)\n",
    "db = mongo['news_db']"
   ]
  },
  {
   "cell_type": "code",
   "execution_count": 24,
   "metadata": {},
   "outputs": [],
   "source": [
    "def fill_via_scrapper(data, collection):\n",
    "    for row in data:\n",
    "        if collection.update_one({'_id': row['url']}, {'$set': row}, upsert=True).matched_count != 0:\n",
    "            break"
   ]
  },
  {
   "cell_type": "code",
   "execution_count": 25,
   "metadata": {},
   "outputs": [],
   "source": [
    "fill_via_scrapper(MailRuScrapper(), db.news)\n",
    "fill_via_scrapper(LentaRuScrapper(), db.news)\n",
    "fill_via_scrapper(YandexNewsScrapper(), db.news)"
   ]
  },
  {
   "cell_type": "markdown",
   "metadata": {},
   "source": [
    "### Вывод данных"
   ]
  },
  {
   "cell_type": "code",
   "execution_count": 50,
   "metadata": {},
   "outputs": [],
   "source": [
    "import pandas as pd\n",
    "import matplotlib.pyplot as plt\n",
    "pd.options.display.max_colwidth = -1\n",
    "%config InlineBackend.figure_format = 'jpeg'\n",
    "%matplotlib inline"
   ]
  },
  {
   "cell_type": "markdown",
   "metadata": {},
   "source": [
    "Выведем 5 самых последних новостей:"
   ]
  },
  {
   "cell_type": "code",
   "execution_count": 53,
   "metadata": {},
   "outputs": [],
   "source": [
    "df = pd.DataFrame([x for x in db.news.find({}, {'_id': 0, 'raw': 0})])"
   ]
  },
  {
   "cell_type": "code",
   "execution_count": 54,
   "metadata": {},
   "outputs": [
    {
     "data": {
      "text/html": [
       "<div>\n",
       "<style scoped>\n",
       "    .dataframe tbody tr th:only-of-type {\n",
       "        vertical-align: middle;\n",
       "    }\n",
       "\n",
       "    .dataframe tbody tr th {\n",
       "        vertical-align: top;\n",
       "    }\n",
       "\n",
       "    .dataframe thead th {\n",
       "        text-align: right;\n",
       "    }\n",
       "</style>\n",
       "<table border=\"1\" class=\"dataframe\">\n",
       "  <thead>\n",
       "    <tr style=\"text-align: right;\">\n",
       "      <th></th>\n",
       "      <th>date</th>\n",
       "      <th>header</th>\n",
       "      <th>source</th>\n",
       "      <th>url</th>\n",
       "    </tr>\n",
       "  </thead>\n",
       "  <tbody>\n",
       "    <tr>\n",
       "      <th>31</th>\n",
       "      <td>2020-01-05 23:59:00</td>\n",
       "      <td>Зариф назвал Помпео «высокомерным клоуном»</td>\n",
       "      <td>Газета.Ru</td>\n",
       "      <td>https://news.yandex.ru/news/story/Zarif_nazval_Pompeo_vysokomernym_klounom--4a0b5da2bfd9cfd50f92ecd748b2d57d?lr=10716&amp;lang=ru&amp;stid=MUjED2BPx0drbbqqWaqt&amp;persistent_id=83904047&amp;rubric=politics&amp;from=index</td>\n",
       "    </tr>\n",
       "    <tr>\n",
       "      <th>54</th>\n",
       "      <td>2020-01-05 23:58:00</td>\n",
       "      <td>Модель обвинила Никаса Сафронова в изнасиловании и отправилась в СИЗО</td>\n",
       "      <td>Lenta.ru</td>\n",
       "      <td>https://news.yandex.ru/news/story/Model_obvinila_Nikasa_Safronova_v_iznasilovanii_i_otpravilas_v_SIZO--87c5b63bc8b2dd36f01a204c5015006c?lr=10716&amp;lang=ru&amp;stid=0A7msPB2Jy5tzYIDr_3R&amp;persistent_id=83887732&amp;rubric=incident&amp;from=index</td>\n",
       "    </tr>\n",
       "    <tr>\n",
       "      <th>33</th>\n",
       "      <td>2020-01-05 23:57:00</td>\n",
       "      <td>В США у стен Белого дома прошла демонстрация против войны с Ираном</td>\n",
       "      <td>REGNUM</td>\n",
       "      <td>https://news.yandex.ru/news/story/V_SSHA_u_sten_Belogo_doma_proshla_demonstraciya_protiv_vojny_s_Iranom--3007ed185137d497fed46df88d765e54?lr=10716&amp;lang=ru&amp;stid=1XO3pNqkWFMFra6An_Xg&amp;persistent_id=83907080&amp;rubric=politics&amp;from=index</td>\n",
       "    </tr>\n",
       "    <tr>\n",
       "      <th>18</th>\n",
       "      <td>2020-01-05 23:55:00</td>\n",
       "      <td>Синоптики предрекли новые погодные аномалии по всей России</td>\n",
       "      <td>Lenta.ru</td>\n",
       "      <td>https://news.yandex.ru/news/story/Sinoptiki_predrekli_novye_pogodnye_anomalii_po_vsej_Rossii--c93e4a7721dc23ebd3be7f2e0ff4890f?lr=10716&amp;lang=ru&amp;stid=ZDsFQ4joMA9lfWiqQ2ek&amp;persistent_id=83877129&amp;rubric=index&amp;from=index</td>\n",
       "    </tr>\n",
       "    <tr>\n",
       "      <th>24</th>\n",
       "      <td>2020-01-05 23:55:00</td>\n",
       "      <td>Нападением под Парижем занялась антитеррористическая прокуратура</td>\n",
       "      <td>РИА Новости</td>\n",
       "      <td>https://news.yandex.ru/news/story/Napadeniem_pod_Parizhem_zanyalas_antiterroristicheskaya_prokuratura--05cc73fde1f8e5c0b8a5b09dcba5368c?lr=10716&amp;lang=ru&amp;stid=lFd2ZWQHA17A&amp;persistent_id=83908907&amp;rubric=personal_feed&amp;from=index</td>\n",
       "    </tr>\n",
       "  </tbody>\n",
       "</table>\n",
       "</div>"
      ],
      "text/plain": [
       "                  date  \\\n",
       "31 2020-01-05 23:59:00   \n",
       "54 2020-01-05 23:58:00   \n",
       "33 2020-01-05 23:57:00   \n",
       "18 2020-01-05 23:55:00   \n",
       "24 2020-01-05 23:55:00   \n",
       "\n",
       "                                                                   header  \\\n",
       "31  Зариф назвал Помпео «высокомерным клоуном»                              \n",
       "54  Модель обвинила Никаса Сафронова в изнасиловании и отправилась в СИЗО   \n",
       "33  В США у стен Белого дома прошла демонстрация против войны с Ираном     \n",
       "18  Синоптики предрекли новые погодные аномалии по всей России             \n",
       "24  Нападением под Парижем занялась антитеррористическая прокуратура        \n",
       "\n",
       "         source  \\\n",
       "31  Газета.Ru     \n",
       "54  Lenta.ru      \n",
       "33  REGNUM        \n",
       "18  Lenta.ru      \n",
       "24  РИА Новости   \n",
       "\n",
       "                                                                                                                                                                                                                                       url  \n",
       "31  https://news.yandex.ru/news/story/Zarif_nazval_Pompeo_vysokomernym_klounom--4a0b5da2bfd9cfd50f92ecd748b2d57d?lr=10716&lang=ru&stid=MUjED2BPx0drbbqqWaqt&persistent_id=83904047&rubric=politics&from=index                               \n",
       "54  https://news.yandex.ru/news/story/Model_obvinila_Nikasa_Safronova_v_iznasilovanii_i_otpravilas_v_SIZO--87c5b63bc8b2dd36f01a204c5015006c?lr=10716&lang=ru&stid=0A7msPB2Jy5tzYIDr_3R&persistent_id=83887732&rubric=incident&from=index    \n",
       "33  https://news.yandex.ru/news/story/V_SSHA_u_sten_Belogo_doma_proshla_demonstraciya_protiv_vojny_s_Iranom--3007ed185137d497fed46df88d765e54?lr=10716&lang=ru&stid=1XO3pNqkWFMFra6An_Xg&persistent_id=83907080&rubric=politics&from=index  \n",
       "18  https://news.yandex.ru/news/story/Sinoptiki_predrekli_novye_pogodnye_anomalii_po_vsej_Rossii--c93e4a7721dc23ebd3be7f2e0ff4890f?lr=10716&lang=ru&stid=ZDsFQ4joMA9lfWiqQ2ek&persistent_id=83877129&rubric=index&from=index                \n",
       "24  https://news.yandex.ru/news/story/Napadeniem_pod_Parizhem_zanyalas_antiterroristicheskaya_prokuratura--05cc73fde1f8e5c0b8a5b09dcba5368c?lr=10716&lang=ru&stid=lFd2ZWQHA17A&persistent_id=83908907&rubric=personal_feed&from=index       "
      ]
     },
     "execution_count": 54,
     "metadata": {},
     "output_type": "execute_result"
    }
   ],
   "source": [
    "df.sort_values('date', ascending=False).head(5)"
   ]
  },
  {
   "cell_type": "markdown",
   "metadata": {},
   "source": [
    "Найдём самые цитируемые новостные агенства:"
   ]
  },
  {
   "cell_type": "code",
   "execution_count": 79,
   "metadata": {},
   "outputs": [],
   "source": [
    "source_df = df.groupby('source')['url'].count().sort_values(ascending=False)"
   ]
  },
  {
   "cell_type": "code",
   "execution_count": 94,
   "metadata": {},
   "outputs": [],
   "source": [
    "source_top10 = source_df[:9].append(pd.Series(data={'Другие': source_df[9:].sum()}))"
   ]
  },
  {
   "cell_type": "code",
   "execution_count": 99,
   "metadata": {},
   "outputs": [
    {
     "data": {
      "image/jpeg": "[encoded data removed]",
      "text/plain": [
       "<Figure size 432x288 with 1 Axes>"
      ]
     },
     "metadata": {},
     "output_type": "display_data"
    }
   ],
   "source": [
    "# The slices will be ordered and plotted counter-clockwise.\n",
    "patches, texts = plt.pie(source_top10.values, startangle=90)\n",
    "plt.legend(patches, source_top10.index, loc=\"best\")\n",
    "# Set aspect ratio to be equal so that pie is drawn as a circle.\n",
    "plt.axis('equal')\n",
    "plt.tight_layout()\n",
    "plt.show()"
   ]
  },
  {
   "cell_type": "markdown",
   "metadata": {},
   "source": [
    "### Завершение MongoDB"
   ]
  },
  {
   "cell_type": "code",
   "execution_count": 100,
   "metadata": {},
   "outputs": [
    {
     "name": "stdout",
     "output_type": "stream",
     "text": [
      "scrapy_mongo\n"
     ]
    }
   ],
   "source": [
    "!docker stop scrapy_mongo"
   ]
  }
 ],
 "metadata": {
  "kernelspec": {
   "display_name": "Python 3",
   "language": "python",
   "name": "python3"
  },
  "language_info": {
   "codemirror_mode": {
    "name": "ipython",
    "version": 3
   },
   "file_extension": ".py",
   "mimetype": "text/x-python",
   "name": "python",
   "nbconvert_exporter": "python",
   "pygments_lexer": "ipython3",
   "version": "3.7.5"
  }
 },
 "nbformat": 4,
 "nbformat_minor": 4
}
