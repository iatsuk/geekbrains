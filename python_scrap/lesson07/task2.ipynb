{
 "cells": [
  {
   "cell_type": "markdown",
   "metadata": {},
   "source": [
    "# Задание\n",
    "Написать программу, которая собирает «Хиты продаж» с сайта техники mvideo и складывает данные в БД.\n",
    "\n",
    "Магазины можно выбрать свои.\n",
    "\n",
    "Главный критерий выбора: динамически загружаемые товары."
   ]
  },
  {
   "cell_type": "markdown",
   "metadata": {},
   "source": [
    "# Решение"
   ]
  },
  {
   "cell_type": "markdown",
   "metadata": {},
   "source": [
    "## Парсинг"
   ]
  },
  {
   "cell_type": "markdown",
   "metadata": {},
   "source": [
    "Блок импорта"
   ]
  },
  {
   "cell_type": "code",
   "execution_count": 74,
   "metadata": {},
   "outputs": [],
   "source": [
    "from selenium import webdriver\n",
    "from selenium.webdriver.support.ui import WebDriverWait\n",
    "from selenium.webdriver.support import expected_conditions as EC\n",
    "from selenium.webdriver.common.keys import Keys\n",
    "from selenium.webdriver.common.by import By\n",
    "from pymongo import MongoClient\n",
    "import json"
   ]
  },
  {
   "cell_type": "markdown",
   "metadata": {},
   "source": [
    "headless режим поддерживается только в chrome, но сохраню на всякий случай"
   ]
  },
  {
   "cell_type": "code",
   "execution_count": 3,
   "metadata": {},
   "outputs": [],
   "source": [
    "# from selenium.webdriver.chrome.options import Options\n",
    "# options = Options()\n",
    "# options.add_argument('--headless')"
   ]
  },
  {
   "cell_type": "markdown",
   "metadata": {},
   "source": [
    "инициализация драйвера и установка размера окна, т.к. нужных элементов при меньшем размере нет. в консоли предварительно нужно ввести следующие команды:\n",
    "```safaridriver --enable\n",
    "safaridriver --port 0```"
   ]
  },
  {
   "cell_type": "code",
   "execution_count": 56,
   "metadata": {},
   "outputs": [],
   "source": [
    "driver = webdriver.Safari()\n",
    "driver.set_window_size(1500, 620)"
   ]
  },
  {
   "cell_type": "markdown",
   "metadata": {},
   "source": [
    "открываем mvideo.ru"
   ]
  },
  {
   "cell_type": "code",
   "execution_count": 57,
   "metadata": {},
   "outputs": [],
   "source": [
    "driver.get('https://www.mvideo.ru')"
   ]
  },
  {
   "cell_type": "markdown",
   "metadata": {},
   "source": [
    "прокрутим карусель до последнего окна, чтобы все элементы гарантированно подгрузились. `hits_last_btn.click()` почему-то не работает."
   ]
  },
  {
   "cell_type": "code",
   "execution_count": 59,
   "metadata": {},
   "outputs": [],
   "source": [
    "hits_div = driver.find_elements_by_css_selector('div.sel-hits-block')[0]\n",
    "hits_last_btn = hits_div.find_elements_by_css_selector('div.carousel-paging > a')[-1]\n",
    "driver.execute_script(\"arguments[0].click();\", hits_last_btn)"
   ]
  },
  {
   "cell_type": "markdown",
   "metadata": {},
   "source": [
    "парсим элементы"
   ]
  },
  {
   "cell_type": "code",
   "execution_count": 73,
   "metadata": {},
   "outputs": [
    {
     "name": "stdout",
     "output_type": "stream",
     "text": [
      "Всего: 20\n",
      "Пример:\n",
      " ('https://www.mvideo.ru/products/naushniki-bluetooth-qub-qtwe1-black-50125744', {'productPriceLocal': '2990.00', 'productId': '50125744', 'productName': 'Наушники Bluetooth QUB QTWE1 Black', 'productCategoryId': 'cat2_cis_0000000728', 'productCategoryName': 'Наушники', 'productVendorName': 'QUB', 'productGroupId': 'cat1_cis_0000000155', 'Location': 'block5260655', 'eventPosition': 17})\n"
     ]
    }
   ],
   "source": [
    "goods = hits_div.find_elements_by_css_selector('ul.accessories-product-list > li div.c-product-tile-picture__holder > a[data-product-info]')\n",
    "json_raw = [e.get_attribute('data-product-info') for e in goods]\n",
    "json_parsed = [json.loads(e) for e in json_raw]\n",
    "urls = [e.get_attribute('href') for e in goods]\n",
    "total = list(zip(urls, json_parsed))\n",
    "print('Всего:', len(total))\n",
    "print('Пример:\\n', total[0])"
   ]
  },
  {
   "cell_type": "markdown",
   "metadata": {},
   "source": [
    "## Сохраняем результаты"
   ]
  },
  {
   "cell_type": "markdown",
   "metadata": {},
   "source": [
    "стартуем образ с mongodb"
   ]
  },
  {
   "cell_type": "code",
   "execution_count": 78,
   "metadata": {},
   "outputs": [
    {
     "name": "stdout",
     "output_type": "stream",
     "text": [
      "scrapy_mongo\n"
     ]
    }
   ],
   "source": [
    "!docker start scrapy_mongo"
   ]
  },
  {
   "cell_type": "markdown",
   "metadata": {},
   "source": [
    "записываем результат в бд"
   ]
  },
  {
   "cell_type": "code",
   "execution_count": 79,
   "metadata": {},
   "outputs": [],
   "source": [
    "client = MongoClient('localhost', 27017)\n",
    "db = client.selenium\n",
    "collection = db['mvideo']\n",
    "for product in total:\n",
    "    collection.update_one({'_id': product[0]}, {'$set': product[1]}, upsert=True)"
   ]
  },
  {
   "cell_type": "markdown",
   "metadata": {},
   "source": [
    "## Завершаем работу"
   ]
  },
  {
   "cell_type": "markdown",
   "metadata": {},
   "source": [
    "останавливаем mongodb"
   ]
  },
  {
   "cell_type": "code",
   "execution_count": 80,
   "metadata": {},
   "outputs": [
    {
     "name": "stdout",
     "output_type": "stream",
     "text": [
      "scrapy_mongo\n"
     ]
    }
   ],
   "source": [
    "!docker stop scrapy_mongo"
   ]
  },
  {
   "cell_type": "markdown",
   "metadata": {},
   "source": [
    "завершаем работу драйвера selenium"
   ]
  },
  {
   "cell_type": "code",
   "execution_count": 81,
   "metadata": {},
   "outputs": [],
   "source": [
    "driver.quit()"
   ]
  }
 ],
 "metadata": {
  "kernelspec": {
   "display_name": "Python 3",
   "language": "python",
   "name": "python3"
  },
  "language_info": {
   "codemirror_mode": {
    "name": "ipython",
    "version": 3
   },
   "file_extension": ".py",
   "mimetype": "text/x-python",
   "name": "python",
   "nbconvert_exporter": "python",
   "pygments_lexer": "ipython3",
   "version": "3.7.6"
  }
 },
 "nbformat": 4,
 "nbformat_minor": 4
}
