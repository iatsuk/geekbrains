{
 "cells": [
  {
   "cell_type": "markdown",
   "metadata": {},
   "source": [
    "# Алгоритмы анализа данных\n",
    "## Урок 2. Масштабирование признаков. L1- и L2-регуляризация. Стохастический градиентный спуск"
   ]
  },
  {
   "cell_type": "code",
   "execution_count": 61,
   "metadata": {},
   "outputs": [],
   "source": [
    "import numpy as np\n",
    "import matplotlib.pyplot as plt\n",
    "%matplotlib inline\n",
    "np.set_printoptions(suppress=True)"
   ]
  },
  {
   "cell_type": "markdown",
   "metadata": {},
   "source": [
    "К признаку стажа добавим признаки: средняя стоимость занятия, квалификация репетитора"
   ]
  },
  {
   "cell_type": "code",
   "execution_count": 2,
   "metadata": {},
   "outputs": [
    {
     "data": {
      "text/plain": [
       "array([[   1,    1,    1,    1,    1,    1,    1,    1,    1,    1],\n",
       "       [   1,    1,    2,    1,    3,    0,    5,   10,    1,    2],\n",
       "       [ 500,  700,  750,  600, 1450,  800, 1500, 2000,  450, 1000],\n",
       "       [   1,    1,    2,    1,    2,    1,    3,    3,    1,    2]])"
      ]
     },
     "execution_count": 2,
     "metadata": {},
     "output_type": "execute_result"
    }
   ],
   "source": [
    "X = np.array([[1, 1, 1, 1, 1, 1, 1, 1, 1, 1],\n",
    "              [1, 1, 2, 1, 3, 0, 5, 10, 1, 2],\n",
    "              [500, 700, 750, 600, 1450, 800, 1500, 2000, 450, 1000],\n",
    "              [1, 1, 2, 1, 2, 1, 3, 3, 1, 2]])\n",
    "X"
   ]
  },
  {
   "cell_type": "code",
   "execution_count": 3,
   "metadata": {},
   "outputs": [
    {
     "data": {
      "text/plain": [
       "[45, 55, 50, 59, 65, 35, 75, 80, 50, 60]"
      ]
     },
     "execution_count": 3,
     "metadata": {},
     "output_type": "execute_result"
    }
   ],
   "source": [
    "y = [45, 55, 50, 59, 65, 35, 75, 80, 50, 60]\n",
    "y"
   ]
  },
  {
   "cell_type": "markdown",
   "metadata": {},
   "source": [
    "**Нормализация [0, 1]**"
   ]
  },
  {
   "cell_type": "code",
   "execution_count": 30,
   "metadata": {},
   "outputs": [
    {
     "data": {
      "text/plain": [
       "array([[1.        , 1.        , 1.        , 1.        , 1.        ,\n",
       "        1.        , 1.        , 1.        , 1.        , 1.        ],\n",
       "       [0.1       , 0.1       , 0.2       , 0.1       , 0.3       ,\n",
       "        0.        , 0.5       , 1.        , 0.1       , 0.2       ],\n",
       "       [0.03225806, 0.16129032, 0.19354839, 0.09677419, 0.64516129,\n",
       "        0.22580645, 0.67741935, 1.        , 0.        , 0.35483871],\n",
       "       [0.        , 0.        , 0.5       , 0.        , 0.5       ,\n",
       "        0.        , 1.        , 1.        , 0.        , 0.5       ]])"
      ]
     },
     "execution_count": 30,
     "metadata": {},
     "output_type": "execute_result"
    }
   ],
   "source": [
    "X_norm = X.copy().astype(np.float64)\n",
    "for i in range(1, X_norm.shape[0]):\n",
    "    X_norm[i] = (X_norm[i] - X_norm[i].min()) / (X_norm[i].max() - X_norm[i].min())\n",
    "X_norm"
   ]
  },
  {
   "cell_type": "markdown",
   "metadata": {},
   "source": [
    "**Стандартизация**"
   ]
  },
  {
   "cell_type": "code",
   "execution_count": 27,
   "metadata": {},
   "outputs": [
    {
     "data": {
      "text/plain": [
       "array([[ 1.        ,  1.        ,  1.        ,  1.        ,  1.        ,\n",
       "         1.        ,  1.        ,  1.        ,  1.        ,  1.        ],\n",
       "       [-0.57142857, -0.57142857, -0.21428571, -0.57142857,  0.14285714,\n",
       "        -0.92857143,  0.85714286,  2.64285714, -0.57142857, -0.21428571],\n",
       "       [-0.97958969, -0.56713087, -0.46401617, -0.77336028,  0.97958969,\n",
       "        -0.36090146,  1.08270439,  2.11385144, -1.08270439,  0.05155735],\n",
       "       [-0.89625816, -0.89625816,  0.38411064, -0.89625816,  0.38411064,\n",
       "        -0.89625816,  1.66447944,  1.66447944, -0.89625816,  0.38411064]])"
      ]
     },
     "execution_count": 27,
     "metadata": {},
     "output_type": "execute_result"
    }
   ],
   "source": [
    "X_st = X.copy().astype(np.float64)\n",
    "for i in range(1, X_norm.shape[0]):\n",
    "    X_st[i] = (X_st[i] - X_st[i].mean()) / X_st[i].std()\n",
    "X_st"
   ]
  },
  {
   "cell_type": "markdown",
   "metadata": {},
   "source": [
    "Функция расчета средней квадратичной ошибки"
   ]
  },
  {
   "cell_type": "code",
   "execution_count": 33,
   "metadata": {},
   "outputs": [],
   "source": [
    "def calc_mse(y, y_pred):\n",
    "    err = np.mean((y - y_pred)**2)\n",
    "    return err"
   ]
  },
  {
   "cell_type": "markdown",
   "metadata": {},
   "source": [
    "### Задание 1\n",
    "\n",
    "Постройте график зависимости весов всех признаков от lambda в L2-регуляризации (на данных из урока).\n",
    "\n",
    "**Решение**"
   ]
  },
  {
   "cell_type": "code",
   "execution_count": 165,
   "metadata": {},
   "outputs": [],
   "source": [
    "def eval_model_reg2(X, y, iterations, alpha=1e-4, lambda_=1e-8):\n",
    "    np.random.seed(42)\n",
    "    W = np.random.randn(X.shape[0])\n",
    "    n = X.shape[1]\n",
    "    for i in range(1, iterations+1):\n",
    "        y_pred = np.dot(W, X)\n",
    "        err = calc_mse(y, y_pred)\n",
    "        W -= alpha * (1/n * 2 * np.dot((y_pred - y), X.T) + lambda_ * W) \n",
    "    return W"
   ]
  },
  {
   "cell_type": "code",
   "execution_count": 174,
   "metadata": {},
   "outputs": [
    {
     "data": {
      "text/plain": [
       "[0.0001, 0.001, 0.01, 0.1, 1, 10, 100]"
      ]
     },
     "execution_count": 174,
     "metadata": {},
     "output_type": "execute_result"
    }
   ],
   "source": [
    "lambdas = [10**x for x in range(-4, 3)]\n",
    "lambdas"
   ]
  },
  {
   "cell_type": "code",
   "execution_count": 175,
   "metadata": {},
   "outputs": [
    {
     "data": {
      "text/plain": [
       "[array([57.39713005,  5.765859  ,  1.85689028,  4.03893236]),\n",
       " array([57.37131425,  5.75982044,  1.86287557,  4.03701148]),\n",
       " array([57.11442777,  5.70075336,  1.92095868,  4.01831082]),\n",
       " array([54.66666663,  5.2195531 ,  2.35823112,  3.87056803]),\n",
       " array([38.26666667,  3.66557047,  2.94352908,  3.25219166]),\n",
       " array([9.56666667, 1.42530532, 1.35226504, 1.37037873]),\n",
       " array([1.1254902 , 0.20774643, 0.20104868, 0.2018609 ])]"
      ]
     },
     "execution_count": 175,
     "metadata": {},
     "output_type": "execute_result"
    }
   ],
   "source": [
    "W_by_lambda = [eval_model_reg2(X_st, y, iterations=1000, alpha=1e-2, lambda_=lambda_) for lambda_ in lambdas]\n",
    "W_by_lambda"
   ]
  },
  {
   "cell_type": "code",
   "execution_count": 176,
   "metadata": {},
   "outputs": [],
   "source": [
    "W_obs = dict()\n",
    "for i in range(4):\n",
    "    W_obs[i] = [W_by_lambda[obs][i] for obs in range(len(lambdas))]"
   ]
  },
  {
   "cell_type": "code",
   "execution_count": 181,
   "metadata": {},
   "outputs": [
    {
     "data": {
      "image/png": "[encoded data removed]",
      "text/plain": [
       "<Figure size 432x288 with 1 Axes>"
      ]
     },
     "metadata": {
      "needs_background": "light"
     },
     "output_type": "display_data"
    }
   ],
   "source": [
    "plt.xscale('log')\n",
    "plt.grid()\n",
    "for i in range(4):\n",
    "    plt.plot(lambdas, W_obs[i], 'o-')\n",
    "plt.xlabel(\"lambda\")\n",
    "plt.ylabel(\"weight\")\n",
    "plt.legend([f'{i} feature' for i in range(1, 5)])\n",
    "plt.show()"
   ]
  },
  {
   "cell_type": "markdown",
   "metadata": {},
   "source": [
    "### Задание 2\n",
    "\n",
    "Можно ли к одному и тому же признаку применить сразу и нормализацию, и стандартизацию?\n",
    "\n",
    "**Решение**"
   ]
  },
  {
   "cell_type": "markdown",
   "metadata": {},
   "source": [
    "Нет. Нормализация и стандартизация масштабируют и смещают признаки. В случае нормализации они расположены в промежутке [0, 1], а в случае стандартизации медиана признаков находится в 0."
   ]
  },
  {
   "cell_type": "markdown",
   "metadata": {},
   "source": [
    "### Задание 3$^{*}$ \n",
    "\n",
    "Напишите функцию наподобие eval_model_reg2, но для применения L1-регуляризации.\n",
    "\n",
    "**Решение**"
   ]
  },
  {
   "cell_type": "code",
   "execution_count": 57,
   "metadata": {},
   "outputs": [],
   "source": [
    "def eval_model_reg1(X, y, iterations, alpha=1e-4, lambda_=1e-8):\n",
    "    np.random.seed(42)\n",
    "    W = np.random.randn(X.shape[0])\n",
    "    n = X.shape[1]\n",
    "    for i in range(1, iterations+1):\n",
    "        y_pred = np.dot(W, X)\n",
    "        err = calc_mse(y, y_pred)\n",
    "        W -= alpha * (1/n * 2 * np.dot((y_pred - y), X.T) + lambda_ * np.sign(W)) \n",
    "        if i % (iterations / 10) == 0:\n",
    "            print(i, W, err)\n",
    "    return W"
   ]
  },
  {
   "cell_type": "code",
   "execution_count": 58,
   "metadata": {},
   "outputs": [
    {
     "name": "stdout",
     "output_type": "stream",
     "text": [
      "50 [36.67751681  3.2003345   3.49163732  4.39413385] 488.56499800973626\n",
      "100 [49.85346813  3.66666421  3.48289126  4.46267261] 100.15399586441188\n",
      "150 [54.65175011  3.93617551  3.32275429  4.38530488] 48.51001691485962\n",
      "200 [56.39913893  4.16739559  3.16666683  4.31346253] 41.522025065540426\n",
      "250 [57.03548495  4.37261526  3.02265248  4.25379546] 40.483933253856215\n",
      "300 [57.26722288  4.55528163  2.89026296  4.20486994] 40.25690199911283\n",
      "350 [57.35161481  4.71800342  2.76862373  4.16504577] 40.15489487461795\n",
      "400 [57.38234779  4.8630547   2.65689646  4.1328962 ] 40.08337665284533\n",
      "450 [57.39353981  4.99243912  2.55430217  4.10720081] 40.02701037112608\n",
      "500 [57.3976156   5.1079242   2.46011903  4.08691798] 39.981549269279725\n"
     ]
    },
    {
     "data": {
      "text/plain": [
       "array([57.3976156 ,  5.1079242 ,  2.46011903,  4.08691798])"
      ]
     },
     "execution_count": 58,
     "metadata": {},
     "output_type": "execute_result"
    }
   ],
   "source": [
    "eval_model_reg1(X_st, y, iterations=500, alpha=1e-2, lambda_=1e-4)"
   ]
  }
 ],
 "metadata": {
  "kernelspec": {
   "display_name": "Python 3",
   "language": "python",
   "name": "python3"
  },
  "language_info": {
   "codemirror_mode": {
    "name": "ipython",
    "version": 3
   },
   "file_extension": ".py",
   "mimetype": "text/x-python",
   "name": "python",
   "nbconvert_exporter": "python",
   "pygments_lexer": "ipython3",
   "version": "3.7.6"
  }
 },
 "nbformat": 4,
 "nbformat_minor": 4
}
