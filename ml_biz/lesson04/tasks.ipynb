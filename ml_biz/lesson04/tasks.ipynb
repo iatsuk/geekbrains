{
 "cells": [
  {
   "cell_type": "markdown",
   "metadata": {},
   "source": [
    "# Машинное обучение в бизнесе\n",
    "## Урок 4. Построение и оценка модели"
   ]
  },
  {
   "cell_type": "code",
   "execution_count": 10,
   "metadata": {},
   "outputs": [],
   "source": [
    "import warnings\n",
    "\n",
    "import matplotlib.pyplot as plt\n",
    "import numpy as np\n",
    "import pandas as pd\n",
    "import statsmodels.api as sm\n",
    "from sklearn.ensemble import GradientBoostingRegressor\n",
    "from sklearn.metrics import (\n",
    "    mean_absolute_error,\n",
    "    mean_squared_error,\n",
    "    median_absolute_error,\n",
    "    r2_score,\n",
    ")\n",
    "from statsmodels.tsa.arima_model import ARIMA\n",
    "\n",
    "%matplotlib inline\n",
    "warnings.filterwarnings(\"ignore\")"
   ]
  },
  {
   "cell_type": "code",
   "execution_count": 4,
   "metadata": {},
   "outputs": [],
   "source": [
    "def exponential_smoothing(series, alpha):\n",
    "    result = [series[0]]  # first value is same as series\n",
    "    for n in range(1, len(series)):\n",
    "        result.append(alpha * series[n] + (1 - alpha) * result[n - 1])\n",
    "    return result"
   ]
  },
  {
   "cell_type": "code",
   "execution_count": 14,
   "metadata": {},
   "outputs": [],
   "source": [
    "def fit_model(data, h, column=\"PJME_MW\", split_date=\"2017-01-01\", print_metrics=True):\n",
    "    data_exp = exponential_smoothing(data[column], 0.05)\n",
    "    df = pd.DataFrame(data_exp, index=data.index)\n",
    "    # добавили историю на глубину 3 измерения от текущего (р=3)\n",
    "    df[\"t\"] = 0\n",
    "    df.iloc[1:, 1] = df.iloc[:-1, 0].values\n",
    "    df[\"t1\"] = 0\n",
    "    df.iloc[2:, 2] = df.iloc[:-2, 0].values\n",
    "    df[\"t2\"] = 0\n",
    "    df.iloc[3:, 3] = df.iloc[:-3, 0].values\n",
    "    df.fillna(0)\n",
    "    # добавили сглаживание (3 вида - просто для коллекции)\n",
    "    df[\"exp_0_01\"] = exponential_smoothing(df[0], 0.01)\n",
    "    df[\"exp_0_03\"] = exponential_smoothing(df[0], 0.03)\n",
    "    df[\"exp_0_08\"] = exponential_smoothing(df[0], 0.08)\n",
    "    # добавим разности - 1-й порядок\n",
    "    df[\"diff1\"] = 0\n",
    "    df[\"diff1\"].iloc[1:] = df.iloc[1:, 0].values - df.iloc[:-1, 0].values\n",
    "    # разобьем данные на train и test выборки\n",
    "    train = df.loc[df.index <= split_date].copy()\n",
    "    test = df.loc[df.index > split_date].copy()\n",
    "    # добавим данные шага h в данные\n",
    "    X_train = train.iloc[:-h, :]\n",
    "    y_train = train[df.columns[0]].values[h:]\n",
    "    X_test = test.iloc[:-h, :]\n",
    "    y_test = test[df.columns[0]].values[h:]\n",
    "    # обучим модель\n",
    "    model_gb = GradientBoostingRegressor(max_depth=15, random_state=0, n_estimators=100)\n",
    "    model_gb.fit(X_train, y_train)\n",
    "    y_pred = model_gb.predict(X_test)\n",
    "    # метрики модели\n",
    "    if print_metrics:\n",
    "        print(f\"Для h={h}:\")\n",
    "        print(\"mean_absolute_error =\", mean_absolute_error(y_test, y_pred))\n",
    "        print(\"mean_squared_error =\", mean_squared_error(y_test, y_pred))\n",
    "        print(\"median_absolute_error =\", median_absolute_error(y_test, y_pred))\n",
    "        print(\"r2 =\", r2_score(y_test, y_pred))\n",
    "    mean_absolute_percentage_error = np.mean(np.abs((y_test - y_pred) / y_test)) * 100\n",
    "    return mean_absolute_percentage_error"
   ]
  },
  {
   "cell_type": "markdown",
   "metadata": {},
   "source": [
    "### Задание 1\n",
    "\n",
    "Прочитайте базу my_PJME_MW.csv и сделайте ее перерасчет (ресемплинг) в представление по неделям.\n",
    "\n",
    "***Решение***"
   ]
  },
  {
   "cell_type": "code",
   "execution_count": 2,
   "metadata": {},
   "outputs": [
    {
     "data": {
      "text/html": [
       "<div>\n",
       "<style scoped>\n",
       "    .dataframe tbody tr th:only-of-type {\n",
       "        vertical-align: middle;\n",
       "    }\n",
       "\n",
       "    .dataframe tbody tr th {\n",
       "        vertical-align: top;\n",
       "    }\n",
       "\n",
       "    .dataframe thead th {\n",
       "        text-align: right;\n",
       "    }\n",
       "</style>\n",
       "<table border=\"1\" class=\"dataframe\">\n",
       "  <thead>\n",
       "    <tr style=\"text-align: right;\">\n",
       "      <th></th>\n",
       "      <th>Time</th>\n",
       "      <th>PJME_MW</th>\n",
       "      <th>year</th>\n",
       "      <th>month</th>\n",
       "      <th>dayofmonth</th>\n",
       "      <th>quarter</th>\n",
       "      <th>dayofyear</th>\n",
       "      <th>weekofyear</th>\n",
       "      <th>dayofweek</th>\n",
       "      <th>hour</th>\n",
       "      <th>is_holiday</th>\n",
       "      <th>is_prev_holiday</th>\n",
       "      <th>is_next_holiday</th>\n",
       "    </tr>\n",
       "    <tr>\n",
       "      <th>Date</th>\n",
       "      <th></th>\n",
       "      <th></th>\n",
       "      <th></th>\n",
       "      <th></th>\n",
       "      <th></th>\n",
       "      <th></th>\n",
       "      <th></th>\n",
       "      <th></th>\n",
       "      <th></th>\n",
       "      <th></th>\n",
       "      <th></th>\n",
       "      <th></th>\n",
       "      <th></th>\n",
       "    </tr>\n",
       "  </thead>\n",
       "  <tbody>\n",
       "    <tr>\n",
       "      <th>2002-01-01</th>\n",
       "      <td>01:00:00</td>\n",
       "      <td>30393.0</td>\n",
       "      <td>2002</td>\n",
       "      <td>1</td>\n",
       "      <td>1</td>\n",
       "      <td>1</td>\n",
       "      <td>1</td>\n",
       "      <td>1</td>\n",
       "      <td>1</td>\n",
       "      <td>1</td>\n",
       "      <td>1</td>\n",
       "      <td>0</td>\n",
       "      <td>0</td>\n",
       "    </tr>\n",
       "    <tr>\n",
       "      <th>2002-01-01</th>\n",
       "      <td>02:00:00</td>\n",
       "      <td>29265.0</td>\n",
       "      <td>2002</td>\n",
       "      <td>1</td>\n",
       "      <td>1</td>\n",
       "      <td>1</td>\n",
       "      <td>1</td>\n",
       "      <td>1</td>\n",
       "      <td>1</td>\n",
       "      <td>2</td>\n",
       "      <td>1</td>\n",
       "      <td>0</td>\n",
       "      <td>0</td>\n",
       "    </tr>\n",
       "    <tr>\n",
       "      <th>2002-01-01</th>\n",
       "      <td>03:00:00</td>\n",
       "      <td>28357.0</td>\n",
       "      <td>2002</td>\n",
       "      <td>1</td>\n",
       "      <td>1</td>\n",
       "      <td>1</td>\n",
       "      <td>1</td>\n",
       "      <td>1</td>\n",
       "      <td>1</td>\n",
       "      <td>3</td>\n",
       "      <td>1</td>\n",
       "      <td>0</td>\n",
       "      <td>0</td>\n",
       "    </tr>\n",
       "  </tbody>\n",
       "</table>\n",
       "</div>"
      ],
      "text/plain": [
       "                Time  PJME_MW  year  month  dayofmonth  quarter  dayofyear  \\\n",
       "Date                                                                         \n",
       "2002-01-01  01:00:00  30393.0  2002      1           1        1          1   \n",
       "2002-01-01  02:00:00  29265.0  2002      1           1        1          1   \n",
       "2002-01-01  03:00:00  28357.0  2002      1           1        1          1   \n",
       "\n",
       "            weekofyear  dayofweek  hour  is_holiday  is_prev_holiday  \\\n",
       "Date                                                                   \n",
       "2002-01-01           1          1     1           1                0   \n",
       "2002-01-01           1          1     2           1                0   \n",
       "2002-01-01           1          1     3           1                0   \n",
       "\n",
       "            is_next_holiday  \n",
       "Date                         \n",
       "2002-01-01                0  \n",
       "2002-01-01                0  \n",
       "2002-01-01                0  "
      ]
     },
     "execution_count": 2,
     "metadata": {},
     "output_type": "execute_result"
    }
   ],
   "source": [
    "data = pd.read_csv(\n",
    "    \"../lesson02/my_PJME_MW.csv\", index_col=[0], parse_dates=[0]\n",
    ").sort_index()\n",
    "data.head(3)"
   ]
  },
  {
   "cell_type": "code",
   "execution_count": 3,
   "metadata": {},
   "outputs": [
    {
     "data": {
      "text/html": [
       "<div>\n",
       "<style scoped>\n",
       "    .dataframe tbody tr th:only-of-type {\n",
       "        vertical-align: middle;\n",
       "    }\n",
       "\n",
       "    .dataframe tbody tr th {\n",
       "        vertical-align: top;\n",
       "    }\n",
       "\n",
       "    .dataframe thead th {\n",
       "        text-align: right;\n",
       "    }\n",
       "</style>\n",
       "<table border=\"1\" class=\"dataframe\">\n",
       "  <thead>\n",
       "    <tr style=\"text-align: right;\">\n",
       "      <th></th>\n",
       "      <th>PJME_MW</th>\n",
       "      <th>year</th>\n",
       "      <th>month</th>\n",
       "      <th>quarter</th>\n",
       "      <th>weekofyear</th>\n",
       "    </tr>\n",
       "    <tr>\n",
       "      <th>Date</th>\n",
       "      <th></th>\n",
       "      <th></th>\n",
       "      <th></th>\n",
       "      <th></th>\n",
       "      <th></th>\n",
       "    </tr>\n",
       "  </thead>\n",
       "  <tbody>\n",
       "    <tr>\n",
       "      <th>2002-01-06</th>\n",
       "      <td>32392.160839</td>\n",
       "      <td>2002.0</td>\n",
       "      <td>1.0</td>\n",
       "      <td>1.0</td>\n",
       "      <td>1.0</td>\n",
       "    </tr>\n",
       "    <tr>\n",
       "      <th>2002-01-13</th>\n",
       "      <td>31487.386905</td>\n",
       "      <td>2002.0</td>\n",
       "      <td>1.0</td>\n",
       "      <td>1.0</td>\n",
       "      <td>2.0</td>\n",
       "    </tr>\n",
       "    <tr>\n",
       "      <th>2002-01-20</th>\n",
       "      <td>31452.880952</td>\n",
       "      <td>2002.0</td>\n",
       "      <td>1.0</td>\n",
       "      <td>1.0</td>\n",
       "      <td>3.0</td>\n",
       "    </tr>\n",
       "  </tbody>\n",
       "</table>\n",
       "</div>"
      ],
      "text/plain": [
       "                 PJME_MW    year  month  quarter  weekofyear\n",
       "Date                                                        \n",
       "2002-01-06  32392.160839  2002.0    1.0      1.0         1.0\n",
       "2002-01-13  31487.386905  2002.0    1.0      1.0         2.0\n",
       "2002-01-20  31452.880952  2002.0    1.0      1.0         3.0"
      ]
     },
     "execution_count": 3,
     "metadata": {},
     "output_type": "execute_result"
    }
   ],
   "source": [
    "data_w = (\n",
    "    data[[\"PJME_MW\", \"year\", \"month\", \"quarter\", \"weekofyear\"]]\n",
    "    .resample(\"W\")\n",
    "    .mean()\n",
    "    .sort_index()\n",
    ")\n",
    "data_w.head(3)"
   ]
  },
  {
   "cell_type": "markdown",
   "metadata": {},
   "source": [
    "### Задание 2\n",
    "\n",
    "Постройте модель предсказания $4$ точки от текущей ($h = 4$), используя результаты автокорреляционного анализа из предшествующих уроков.\n",
    "\n",
    "***Решение***"
   ]
  },
  {
   "cell_type": "code",
   "execution_count": 12,
   "metadata": {},
   "outputs": [
    {
     "name": "stdout",
     "output_type": "stream",
     "text": [
      "Для h=4:\n",
      "mean_absolute_error = 646.681923040656\n",
      "mean_squared_error = 624875.1475675061\n",
      "median_absolute_error = 591.7135439290323\n",
      "r2 = -0.33173862291625\n"
     ]
    },
    {
     "data": {
      "text/plain": [
       "2.0898507128795982"
      ]
     },
     "execution_count": 12,
     "metadata": {},
     "output_type": "execute_result"
    }
   ],
   "source": [
    "fit_model(data_w, h=4)"
   ]
  },
  {
   "cell_type": "markdown",
   "metadata": {},
   "source": [
    "### Задание 3\n",
    "\n",
    "Постройте модель предсказания $1$ точки от текущей ($h = 1$), используя результаты автокорреляционного анализа из предшествующих уроков.\n",
    "\n",
    "***Решение***"
   ]
  },
  {
   "cell_type": "code",
   "execution_count": 13,
   "metadata": {},
   "outputs": [
    {
     "name": "stdout",
     "output_type": "stream",
     "text": [
      "Для h=1:\n",
      "mean_absolute_error = 176.01360415740172\n",
      "mean_squared_error = 50366.43531408598\n",
      "median_absolute_error = 136.7051288638031\n",
      "r2 = 0.8901950951934486\n"
     ]
    },
    {
     "data": {
      "text/plain": [
       "0.5694573430653127"
      ]
     },
     "execution_count": 13,
     "metadata": {},
     "output_type": "execute_result"
    }
   ],
   "source": [
    "fit_model(data_w, h=1)"
   ]
  },
  {
   "cell_type": "markdown",
   "metadata": {},
   "source": [
    "### Задание 4\n",
    "\n",
    "Примените авторекурсию и сравните результат в $4$ точке путем прямого моделирования и путем рекурсивного моделирования на длине выборки из $4$ точек.\n",
    "\n",
    "***Решение***"
   ]
  },
  {
   "cell_type": "markdown",
   "metadata": {},
   "source": [
    "не понял что такое рекурсивное моделирование"
   ]
  },
  {
   "cell_type": "markdown",
   "metadata": {},
   "source": [
    "### Задание 5\n",
    "\n",
    "Оцените рост ошибки прогнозирования рекурсивной модели в интервалах от $1$ до $10$, от $10$ до $20$, от $20$ до $30$, ..., от $90$ до $100$ точках (используйте осреднение по десяткам точек).\n",
    "\n",
    "***Решение***"
   ]
  },
  {
   "cell_type": "code",
   "execution_count": 26,
   "metadata": {},
   "outputs": [],
   "source": [
    "mape = [(h, fit_model(data_w, h, print_metrics=False)) for h in range(1, 81)]"
   ]
  },
  {
   "cell_type": "code",
   "execution_count": 27,
   "metadata": {},
   "outputs": [
    {
     "data": {
      "text/html": [
       "<div>\n",
       "<style scoped>\n",
       "    .dataframe tbody tr th:only-of-type {\n",
       "        vertical-align: middle;\n",
       "    }\n",
       "\n",
       "    .dataframe tbody tr th {\n",
       "        vertical-align: top;\n",
       "    }\n",
       "\n",
       "    .dataframe thead th {\n",
       "        text-align: right;\n",
       "    }\n",
       "</style>\n",
       "<table border=\"1\" class=\"dataframe\">\n",
       "  <thead>\n",
       "    <tr style=\"text-align: right;\">\n",
       "      <th></th>\n",
       "      <th>h</th>\n",
       "      <th>mape</th>\n",
       "    </tr>\n",
       "  </thead>\n",
       "  <tbody>\n",
       "    <tr>\n",
       "      <th>0</th>\n",
       "      <td>5.5</td>\n",
       "      <td>2.168733</td>\n",
       "    </tr>\n",
       "    <tr>\n",
       "      <th>1</th>\n",
       "      <td>15.5</td>\n",
       "      <td>2.582116</td>\n",
       "    </tr>\n",
       "    <tr>\n",
       "      <th>2</th>\n",
       "      <td>25.5</td>\n",
       "      <td>3.534908</td>\n",
       "    </tr>\n",
       "    <tr>\n",
       "      <th>3</th>\n",
       "      <td>35.5</td>\n",
       "      <td>2.314931</td>\n",
       "    </tr>\n",
       "    <tr>\n",
       "      <th>4</th>\n",
       "      <td>45.5</td>\n",
       "      <td>1.922825</td>\n",
       "    </tr>\n",
       "    <tr>\n",
       "      <th>5</th>\n",
       "      <td>55.5</td>\n",
       "      <td>2.322174</td>\n",
       "    </tr>\n",
       "    <tr>\n",
       "      <th>6</th>\n",
       "      <td>65.5</td>\n",
       "      <td>2.970433</td>\n",
       "    </tr>\n",
       "    <tr>\n",
       "      <th>7</th>\n",
       "      <td>75.5</td>\n",
       "      <td>2.105908</td>\n",
       "    </tr>\n",
       "  </tbody>\n",
       "</table>\n",
       "</div>"
      ],
      "text/plain": [
       "      h      mape\n",
       "0   5.5  2.168733\n",
       "1  15.5  2.582116\n",
       "2  25.5  3.534908\n",
       "3  35.5  2.314931\n",
       "4  45.5  1.922825\n",
       "5  55.5  2.322174\n",
       "6  65.5  2.970433\n",
       "7  75.5  2.105908"
      ]
     },
     "execution_count": 27,
     "metadata": {},
     "output_type": "execute_result"
    }
   ],
   "source": [
    "mape_df = pd.DataFrame(mape, columns=[\"h\", \"mape\"])\n",
    "mape_df.groupby(np.arange(len(mape_df.index)) // 10).mean()"
   ]
  },
  {
   "cell_type": "code",
   "execution_count": 30,
   "metadata": {},
   "outputs": [
    {
     "data": {
      "image/png": "[encoded data removed]",
      "text/plain": [
       "<Figure size 432x288 with 1 Axes>"
      ]
     },
     "metadata": {
      "needs_background": "light"
     },
     "output_type": "display_data"
    }
   ],
   "source": [
    "plt.plot(mape_df.h, mape_df.mape)\n",
    "plt.xlabel(\"h\")\n",
    "plt.ylabel(\"mean absolute percentage error, %\")\n",
    "plt.show()"
   ]
  },
  {
   "cell_type": "markdown",
   "metadata": {},
   "source": [
    "### Задание 6\n",
    "\n",
    "Сделайте вывод о том, как изменилось поведение ошибки предсказания ряда.\n",
    "\n",
    "***Решение***"
   ]
  },
  {
   "cell_type": "markdown",
   "metadata": {},
   "source": [
    "Похоже, что что-то пошло не так"
   ]
  }
 ],
 "metadata": {
  "kernelspec": {
   "display_name": "Python 3",
   "language": "python",
   "name": "python3"
  },
  "language_info": {
   "codemirror_mode": {
    "name": "ipython",
    "version": 3
   },
   "file_extension": ".py",
   "mimetype": "text/x-python",
   "name": "python",
   "nbconvert_exporter": "python",
   "pygments_lexer": "ipython3",
   "version": "3.7.6"
  }
 },
 "nbformat": 4,
 "nbformat_minor": 4
}
